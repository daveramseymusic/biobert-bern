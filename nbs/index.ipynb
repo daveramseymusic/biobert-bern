{
 "cells": [
  {
   "cell_type": "code",
   "execution_count": null,
   "metadata": {},
   "outputs": [],
   "source": [
    "#| hide\n",
    "# import pandas as pd\n",
    "from biobert_bern.biobertApi import *"
   ]
  },
  {
   "cell_type": "markdown",
   "metadata": {},
   "source": [
    "# Intro biobert-bern\n",
    "\n",
    "\n",
    "> Use bioBERT via BERN to label biomedical terms in docs"
   ]
  },
  {
   "cell_type": "markdown",
   "metadata": {},
   "source": [
    "This file will become your README and also the index of your documentation."
   ]
  },
  {
   "cell_type": "markdown",
   "metadata": {},
   "source": [
    "## Install"
   ]
  },
  {
   "cell_type": "markdown",
   "metadata": {},
   "source": [
    "```sh\n",
    "pip install biobert_bern\n",
    "```"
   ]
  },
  {
   "cell_type": "markdown",
   "metadata": {},
   "source": [
    "## How to use"
   ]
  },
  {
   "cell_type": "markdown",
   "metadata": {},
   "source": [
    "Grab  functions from biobertApi notebook to use the BERN2 api that automatically labels biomedical words located in the block of text that you send it"
   ]
  },
  {
   "cell_type": "markdown",
   "metadata": {},
   "source": [
    "# [Found My Fitness Example](https://daveramseymusic.github.io/biobert-bern/found_my_fitness_biobert_bern.html)\n",
    ">Here we'll try using elements from the biobertApi module to label biomedical terms in the comments section of a Found My Fitness youtube video that looks like this :\n",
    "><a href=\"http://www.youtube.com/watch?feature=player_embedded&v=g4QqJoox8tc\n",
    "\" target=\"_blank\"><img src=\"http://img.youtube.com/vi/g4QqJoox8tc/0.jpg\" \n",
    "alt=\"IMAGE Youtube Vid\" width=\"240\" height=\"180\" border=\"10\" /></a>\n",
    ">>>![alt text](fmf_biobert_bern.png \"Found My Fitness Youtube Video\")"
   ]
  },
  {
   "cell_type": "code",
   "execution_count": null,
   "metadata": {},
   "outputs": [],
   "source": []
  }
 ],
 "metadata": {
  "kernelspec": {
   "display_name": "Python 3",
   "language": "python",
   "name": "python3"
  }
 },
 "nbformat": 4,
 "nbformat_minor": 4
}
