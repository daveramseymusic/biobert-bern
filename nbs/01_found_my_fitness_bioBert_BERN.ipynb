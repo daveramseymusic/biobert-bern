{
 "cells": [
  {
   "cell_type": "code",
   "execution_count": null,
   "id": "2d162388",
   "metadata": {},
   "outputs": [],
   "source": [
    "#| default_exp fmf_biobert"
   ]
  },
  {
   "cell_type": "markdown",
   "id": "866d284d",
   "metadata": {},
   "source": [
    "# Found My Fitness Example\n",
    ">\"Here we'll try using elements from the biobertApi module to label biomedical terms in the comments section of a Found My Fitness Youtube video\""
   ]
  },
  {
   "cell_type": "code",
   "execution_count": null,
   "id": "265ef6d2",
   "metadata": {},
   "outputs": [
    {
     "name": "stdout",
     "output_type": "stream",
     "text": [
      "Less than 5k characters. Only 1 block necessary.\n"
     ]
    }
   ],
   "source": [
    "#|hide\n",
    "from biobert_bern.biobertApi import *"
   ]
  },
  {
   "cell_type": "code",
   "execution_count": null,
   "id": "2bb78320",
   "metadata": {},
   "outputs": [],
   "source": [
    "# !pip install pathlib"
   ]
  },
  {
   "cell_type": "code",
   "execution_count": null,
   "id": "1b32be43",
   "metadata": {},
   "outputs": [],
   "source": [
    "import requests\n",
    "import re\n",
    "import pandas as pd\n",
    "from nbdev.showdoc import *\n",
    "import fastai\n",
    "from pathlib import *\n",
    "import numpy as np     \n",
    "import seaborn as sns\n",
    "import matplotlib.pyplot as plt"
   ]
  },
  {
   "cell_type": "code",
   "execution_count": null,
   "id": "9250aca5",
   "metadata": {},
   "outputs": [
    {
     "name": "stdout",
     "output_type": "stream",
     "text": [
      "001_get_youtube_comments_fmf.ipynb\r\n",
      "\u001b[34m__pycache__\u001b[m\u001b[m/\r\n",
      "\u001b[34mbiobert-bern\u001b[m\u001b[m/\r\n",
      "found_my_fitness_UCWF8SqJVNlx-ctXbLswcTcA_48_vid_infos.csv\r\n",
      "found_my_fitness_UCWF8SqJVNlx-ctXbLswcTcA_youtube_comments_and_vid_info_173rows.csv\r\n",
      "found_my_fitness_UCWF8SqJVNlx-ctXbLswcTcA_youtube_comments_only_122rows.csv\r\n",
      "found_my_fitness_UCWF8SqJVNlx-ctXbLswcTcA_youtube_comments_only_125rows.csv\r\n",
      "youtube_api.py\r\n"
     ]
    }
   ],
   "source": [
    "ls ../.."
   ]
  },
  {
   "cell_type": "code",
   "execution_count": null,
   "id": "a2c5f916",
   "metadata": {},
   "outputs": [],
   "source": [
    "path = Path('../..') # save path\n",
    "comment_csv= 'found_my_fitness_UCWF8SqJVNlx-ctXbLswcTcA_youtube_comments_and_vid_info_173rows.csv'\n",
    "coms = pd.read_csv(path/comment_csv) #load csv\n",
    "coms.rename(columns = {'comment': 'comments'},inplace=True) # rename comment to comments"
   ]
  },
  {
   "cell_type": "markdown",
   "id": "2ccb6eed",
   "metadata": {},
   "source": [
    "## Now start splitting off all the cumsums <5000 and stack them back together."
   ]
  },
  {
   "cell_type": "markdown",
   "id": "3f4eb400",
   "metadata": {},
   "source": [
    "### Create Section Labels"
   ]
  },
  {
   "cell_type": "code",
   "execution_count": null,
   "id": "dde0c74b",
   "metadata": {},
   "outputs": [
    {
     "data": {
      "text/plain": [
       "Index(['vid_id', 'vid_channel_id', 'vid_deets', 'vid_response', 'title',\n",
       "       'publishedAt', 'tcomment_id', 'tcresponse', 'textDisplay',\n",
       "       'textOriginal', 'totalReplyCount', 'rep_comment', 'reply_id',\n",
       "       'comments', 'authorChannelId'],\n",
       "      dtype='object')"
      ]
     },
     "execution_count": null,
     "metadata": {},
     "output_type": "execute_result"
    }
   ],
   "source": [
    "coms.columns"
   ]
  },
  {
   "cell_type": "code",
   "execution_count": null,
   "id": "ff503318",
   "metadata": {},
   "outputs": [],
   "source": [
    "coms = create_com_with_idx(coms)"
   ]
  },
  {
   "cell_type": "code",
   "execution_count": null,
   "id": "43afe1e5",
   "metadata": {},
   "outputs": [
    {
     "data": {
      "text/html": [
       "<div>\n",
       "<style scoped>\n",
       "    .dataframe tbody tr th:only-of-type {\n",
       "        vertical-align: middle;\n",
       "    }\n",
       "\n",
       "    .dataframe tbody tr th {\n",
       "        vertical-align: top;\n",
       "    }\n",
       "\n",
       "    .dataframe thead th {\n",
       "        text-align: right;\n",
       "    }\n",
       "</style>\n",
       "<table border=\"1\" class=\"dataframe\">\n",
       "  <thead>\n",
       "    <tr style=\"text-align: right;\">\n",
       "      <th></th>\n",
       "      <th>idx</th>\n",
       "      <th>vid_id</th>\n",
       "      <th>vid_channel_id</th>\n",
       "      <th>vid_deets</th>\n",
       "      <th>vid_response</th>\n",
       "      <th>title</th>\n",
       "      <th>publishedAt</th>\n",
       "      <th>tcomment_id</th>\n",
       "      <th>tcresponse</th>\n",
       "      <th>textDisplay</th>\n",
       "      <th>textOriginal</th>\n",
       "      <th>totalReplyCount</th>\n",
       "      <th>rep_comment</th>\n",
       "      <th>reply_id</th>\n",
       "      <th>comments</th>\n",
       "      <th>authorChannelId</th>\n",
       "      <th>comidx</th>\n",
       "    </tr>\n",
       "  </thead>\n",
       "  <tbody>\n",
       "    <tr>\n",
       "      <th>0</th>\n",
       "      <td>0</td>\n",
       "      <td>g4QqJoox8tc</td>\n",
       "      <td>NaN</td>\n",
       "      <td>NaN</td>\n",
       "      <td>NaN</td>\n",
       "      <td>NaN</td>\n",
       "      <td>2022-11-02T04:01:53Z</td>\n",
       "      <td>UgxjeEkhSU4lZAfy5J14AaABAg</td>\n",
       "      <td>{'kind': 'youtube#commentThread', 'etag': '5l5...</td>\n",
       "      <td>If exercise and/or the interaction with alcoho...</td>\n",
       "      <td>If exercise and/or the interaction with alcoho...</td>\n",
       "      <td>2.0</td>\n",
       "      <td>NaN</td>\n",
       "      <td>NaN</td>\n",
       "      <td>If exercise and/or the interaction with alcoho...</td>\n",
       "      <td>UCWF8SqJVNlx-ctXbLswcTcA</td>\n",
       "      <td>0:: if exercise and/or the interaction with al...</td>\n",
       "    </tr>\n",
       "    <tr>\n",
       "      <th>1</th>\n",
       "      <td>1</td>\n",
       "      <td>g4QqJoox8tc</td>\n",
       "      <td>NaN</td>\n",
       "      <td>NaN</td>\n",
       "      <td>NaN</td>\n",
       "      <td>NaN</td>\n",
       "      <td>2022-11-03T02:49:39Z</td>\n",
       "      <td>NaN</td>\n",
       "      <td>{'kind': 'youtube#comment', 'etag': 'hEBHEVqvA...</td>\n",
       "      <td>Hi Rhonda, could this mean that \"one time\" phs...</td>\n",
       "      <td>Hi Rhonda, could this mean that \"one time\" phs...</td>\n",
       "      <td>NaN</td>\n",
       "      <td>{'kind': 'youtube#comment', 'etag': 'hEBHEVqvA...</td>\n",
       "      <td>UgxjeEkhSU4lZAfy5J14AaABAg.9huxBdOoPGS9hxOiXW0kVn</td>\n",
       "      <td>Hi Rhonda, could this mean that \"one time\" phs...</td>\n",
       "      <td>UCtL4cnTx7UwPGOLbCocrF0g</td>\n",
       "      <td>1:: hi rhonda, could this mean that \"one time\"...</td>\n",
       "    </tr>\n",
       "    <tr>\n",
       "      <th>2</th>\n",
       "      <td>2</td>\n",
       "      <td>g4QqJoox8tc</td>\n",
       "      <td>NaN</td>\n",
       "      <td>NaN</td>\n",
       "      <td>NaN</td>\n",
       "      <td>NaN</td>\n",
       "      <td>2022-11-02T16:05:21Z</td>\n",
       "      <td>NaN</td>\n",
       "      <td>{'kind': 'youtube#comment', 'etag': 'mbdNzSWMA...</td>\n",
       "      <td>It’s a great series! Highly suggest 💪👏💓</td>\n",
       "      <td>It’s a great series! Highly suggest 💪👏💓</td>\n",
       "      <td>NaN</td>\n",
       "      <td>{'kind': 'youtube#comment', 'etag': 'mbdNzSWMA...</td>\n",
       "      <td>UgxjeEkhSU4lZAfy5J14AaABAg.9huxBdOoPGS9hwEzTXy2dh</td>\n",
       "      <td>It’s a great series! Highly suggest 💪👏💓</td>\n",
       "      <td>UC2JUD0EsoV1qMyvH9V0rVcg</td>\n",
       "      <td>2:: it’s a great series! highly suggest 💪👏💓 ::</td>\n",
       "    </tr>\n",
       "    <tr>\n",
       "      <th>3</th>\n",
       "      <td>3</td>\n",
       "      <td>g4QqJoox8tc</td>\n",
       "      <td>NaN</td>\n",
       "      <td>NaN</td>\n",
       "      <td>NaN</td>\n",
       "      <td>NaN</td>\n",
       "      <td>2022-11-22T12:17:04Z</td>\n",
       "      <td>UgwWzgdaQ0ys5JQLNvh4AaABAg</td>\n",
       "      <td>{'kind': 'youtube#commentThread', 'etag': 'S5s...</td>\n",
       "      <td>Not easy if you play hockey</td>\n",
       "      <td>Not easy if you play hockey</td>\n",
       "      <td>0.0</td>\n",
       "      <td>NaN</td>\n",
       "      <td>NaN</td>\n",
       "      <td>Not easy if you play hockey</td>\n",
       "      <td>UCvowjPWd-qWpvWwn8YsxSlw</td>\n",
       "      <td>3:: not easy if you play hockey ::</td>\n",
       "    </tr>\n",
       "    <tr>\n",
       "      <th>4</th>\n",
       "      <td>4</td>\n",
       "      <td>g4QqJoox8tc</td>\n",
       "      <td>NaN</td>\n",
       "      <td>NaN</td>\n",
       "      <td>NaN</td>\n",
       "      <td>NaN</td>\n",
       "      <td>2022-11-20T16:47:10Z</td>\n",
       "      <td>Ugzslcv1AH0HuZIzmUF4AaABAg</td>\n",
       "      <td>{'kind': 'youtube#commentThread', 'etag': 'Zrt...</td>\n",
       "      <td>Thank you for presenting this information.  \\n...</td>\n",
       "      <td>Thank you for presenting this information.  \\n...</td>\n",
       "      <td>0.0</td>\n",
       "      <td>NaN</td>\n",
       "      <td>NaN</td>\n",
       "      <td>Thank you for presenting this information.  \\n...</td>\n",
       "      <td>UCqzDbk4tnSBHeNfXApGJVcQ</td>\n",
       "      <td>4:: thank you for presenting this information....</td>\n",
       "    </tr>\n",
       "    <tr>\n",
       "      <th>...</th>\n",
       "      <td>...</td>\n",
       "      <td>...</td>\n",
       "      <td>...</td>\n",
       "      <td>...</td>\n",
       "      <td>...</td>\n",
       "      <td>...</td>\n",
       "      <td>...</td>\n",
       "      <td>...</td>\n",
       "      <td>...</td>\n",
       "      <td>...</td>\n",
       "      <td>...</td>\n",
       "      <td>...</td>\n",
       "      <td>...</td>\n",
       "      <td>...</td>\n",
       "      <td>...</td>\n",
       "      <td>...</td>\n",
       "      <td>...</td>\n",
       "    </tr>\n",
       "    <tr>\n",
       "      <th>120</th>\n",
       "      <td>120</td>\n",
       "      <td>g4QqJoox8tc</td>\n",
       "      <td>NaN</td>\n",
       "      <td>NaN</td>\n",
       "      <td>NaN</td>\n",
       "      <td>NaN</td>\n",
       "      <td>2022-11-02T03:21:53Z</td>\n",
       "      <td>Ugy2ZO2t370rDO-eWoZ4AaABAg</td>\n",
       "      <td>{'kind': 'youtube#commentThread', 'etag': '4vV...</td>\n",
       "      <td>How to combat increased food intake after quit...</td>\n",
       "      <td>How to combat increased food intake after quit...</td>\n",
       "      <td>3.0</td>\n",
       "      <td>NaN</td>\n",
       "      <td>NaN</td>\n",
       "      <td>How to combat increased food intake after quit...</td>\n",
       "      <td>UCqLo8354p57n7em4FBgra0A</td>\n",
       "      <td>120:: how to combat increased food intake afte...</td>\n",
       "    </tr>\n",
       "    <tr>\n",
       "      <th>121</th>\n",
       "      <td>121</td>\n",
       "      <td>g4QqJoox8tc</td>\n",
       "      <td>NaN</td>\n",
       "      <td>NaN</td>\n",
       "      <td>NaN</td>\n",
       "      <td>NaN</td>\n",
       "      <td>2022-11-02T15:43:40Z</td>\n",
       "      <td>NaN</td>\n",
       "      <td>{'kind': 'youtube#comment', 'etag': 'GB9aSyxEx...</td>\n",
       "      <td>It's brutal. Get the garbage food out of your ...</td>\n",
       "      <td>It's brutal. Get the garbage food out of your ...</td>\n",
       "      <td>NaN</td>\n",
       "      <td>{'kind': 'youtube#comment', 'etag': 'GB9aSyxEx...</td>\n",
       "      <td>Ugy2ZO2t370rDO-eWoZ4AaABAg.9husbe2WJcN9hwCVh8KBNj</td>\n",
       "      <td>It's brutal. Get the garbage food out of your ...</td>\n",
       "      <td>UCvFzteVz88GX0DZzmY5dwJg</td>\n",
       "      <td>121:: it's brutal. get the garbage food out of...</td>\n",
       "    </tr>\n",
       "    <tr>\n",
       "      <th>122</th>\n",
       "      <td>122</td>\n",
       "      <td>g4QqJoox8tc</td>\n",
       "      <td>NaN</td>\n",
       "      <td>NaN</td>\n",
       "      <td>NaN</td>\n",
       "      <td>NaN</td>\n",
       "      <td>2022-11-02T14:04:02Z</td>\n",
       "      <td>NaN</td>\n",
       "      <td>{'kind': 'youtube#comment', 'etag': 'bs6xBMC7h...</td>\n",
       "      <td>go animal based</td>\n",
       "      <td>go animal based</td>\n",
       "      <td>NaN</td>\n",
       "      <td>{'kind': 'youtube#comment', 'etag': 'bs6xBMC7h...</td>\n",
       "      <td>Ugy2ZO2t370rDO-eWoZ4AaABAg.9husbe2WJcN9hw15tjmPLT</td>\n",
       "      <td>go animal based</td>\n",
       "      <td>UCFy57PLyfM5f67mZqflf1uw</td>\n",
       "      <td>122:: go animal based ::</td>\n",
       "    </tr>\n",
       "    <tr>\n",
       "      <th>123</th>\n",
       "      <td>123</td>\n",
       "      <td>g4QqJoox8tc</td>\n",
       "      <td>NaN</td>\n",
       "      <td>NaN</td>\n",
       "      <td>NaN</td>\n",
       "      <td>NaN</td>\n",
       "      <td>2022-11-02T11:20:13Z</td>\n",
       "      <td>NaN</td>\n",
       "      <td>{'kind': 'youtube#comment', 'etag': 'yd5KSzb3_...</td>\n",
       "      <td>... and they said it gives you the munchies.</td>\n",
       "      <td>... and they said it gives you the munchies.</td>\n",
       "      <td>NaN</td>\n",
       "      <td>{'kind': 'youtube#comment', 'etag': 'yd5KSzb3_...</td>\n",
       "      <td>Ugy2ZO2t370rDO-eWoZ4AaABAg.9husbe2WJcN9hvjM9rBbfr</td>\n",
       "      <td>... and they said it gives you the munchies.</td>\n",
       "      <td>UCiKwxLKyahZ2INq3VljI4DQ</td>\n",
       "      <td>123:: ... and they said it gives you the munch...</td>\n",
       "    </tr>\n",
       "    <tr>\n",
       "      <th>124</th>\n",
       "      <td>124</td>\n",
       "      <td>g4QqJoox8tc</td>\n",
       "      <td>NaN</td>\n",
       "      <td>NaN</td>\n",
       "      <td>NaN</td>\n",
       "      <td>NaN</td>\n",
       "      <td>2022-11-02T03:07:55Z</td>\n",
       "      <td>Ugx3lPLxH7NyOIZxzEl4AaABAg</td>\n",
       "      <td>{'kind': 'youtube#commentThread', 'etag': 'Gzv...</td>\n",
       "      <td>My first thought was Rich Roll</td>\n",
       "      <td>My first thought was Rich Roll</td>\n",
       "      <td>0.0</td>\n",
       "      <td>NaN</td>\n",
       "      <td>NaN</td>\n",
       "      <td>My first thought was Rich Roll</td>\n",
       "      <td>UC_-vIy5tSDQWnAV0xM2B53w</td>\n",
       "      <td>124:: my first thought was rich roll ::</td>\n",
       "    </tr>\n",
       "  </tbody>\n",
       "</table>\n",
       "<p>125 rows × 17 columns</p>\n",
       "</div>"
      ],
      "text/plain": [
       "     idx       vid_id  vid_channel_id  vid_deets  vid_response  title  \\\n",
       "0      0  g4QqJoox8tc             NaN        NaN           NaN    NaN   \n",
       "1      1  g4QqJoox8tc             NaN        NaN           NaN    NaN   \n",
       "2      2  g4QqJoox8tc             NaN        NaN           NaN    NaN   \n",
       "3      3  g4QqJoox8tc             NaN        NaN           NaN    NaN   \n",
       "4      4  g4QqJoox8tc             NaN        NaN           NaN    NaN   \n",
       "..   ...          ...             ...        ...           ...    ...   \n",
       "120  120  g4QqJoox8tc             NaN        NaN           NaN    NaN   \n",
       "121  121  g4QqJoox8tc             NaN        NaN           NaN    NaN   \n",
       "122  122  g4QqJoox8tc             NaN        NaN           NaN    NaN   \n",
       "123  123  g4QqJoox8tc             NaN        NaN           NaN    NaN   \n",
       "124  124  g4QqJoox8tc             NaN        NaN           NaN    NaN   \n",
       "\n",
       "              publishedAt                 tcomment_id  \\\n",
       "0    2022-11-02T04:01:53Z  UgxjeEkhSU4lZAfy5J14AaABAg   \n",
       "1    2022-11-03T02:49:39Z                         NaN   \n",
       "2    2022-11-02T16:05:21Z                         NaN   \n",
       "3    2022-11-22T12:17:04Z  UgwWzgdaQ0ys5JQLNvh4AaABAg   \n",
       "4    2022-11-20T16:47:10Z  Ugzslcv1AH0HuZIzmUF4AaABAg   \n",
       "..                    ...                         ...   \n",
       "120  2022-11-02T03:21:53Z  Ugy2ZO2t370rDO-eWoZ4AaABAg   \n",
       "121  2022-11-02T15:43:40Z                         NaN   \n",
       "122  2022-11-02T14:04:02Z                         NaN   \n",
       "123  2022-11-02T11:20:13Z                         NaN   \n",
       "124  2022-11-02T03:07:55Z  Ugx3lPLxH7NyOIZxzEl4AaABAg   \n",
       "\n",
       "                                            tcresponse  \\\n",
       "0    {'kind': 'youtube#commentThread', 'etag': '5l5...   \n",
       "1    {'kind': 'youtube#comment', 'etag': 'hEBHEVqvA...   \n",
       "2    {'kind': 'youtube#comment', 'etag': 'mbdNzSWMA...   \n",
       "3    {'kind': 'youtube#commentThread', 'etag': 'S5s...   \n",
       "4    {'kind': 'youtube#commentThread', 'etag': 'Zrt...   \n",
       "..                                                 ...   \n",
       "120  {'kind': 'youtube#commentThread', 'etag': '4vV...   \n",
       "121  {'kind': 'youtube#comment', 'etag': 'GB9aSyxEx...   \n",
       "122  {'kind': 'youtube#comment', 'etag': 'bs6xBMC7h...   \n",
       "123  {'kind': 'youtube#comment', 'etag': 'yd5KSzb3_...   \n",
       "124  {'kind': 'youtube#commentThread', 'etag': 'Gzv...   \n",
       "\n",
       "                                           textDisplay  \\\n",
       "0    If exercise and/or the interaction with alcoho...   \n",
       "1    Hi Rhonda, could this mean that \"one time\" phs...   \n",
       "2              It’s a great series! Highly suggest 💪👏💓   \n",
       "3                          Not easy if you play hockey   \n",
       "4    Thank you for presenting this information.  \\n...   \n",
       "..                                                 ...   \n",
       "120  How to combat increased food intake after quit...   \n",
       "121  It's brutal. Get the garbage food out of your ...   \n",
       "122                                    go animal based   \n",
       "123       ... and they said it gives you the munchies.   \n",
       "124                     My first thought was Rich Roll   \n",
       "\n",
       "                                          textOriginal  totalReplyCount  \\\n",
       "0    If exercise and/or the interaction with alcoho...              2.0   \n",
       "1    Hi Rhonda, could this mean that \"one time\" phs...              NaN   \n",
       "2              It’s a great series! Highly suggest 💪👏💓              NaN   \n",
       "3                          Not easy if you play hockey              0.0   \n",
       "4    Thank you for presenting this information.  \\n...              0.0   \n",
       "..                                                 ...              ...   \n",
       "120  How to combat increased food intake after quit...              3.0   \n",
       "121  It's brutal. Get the garbage food out of your ...              NaN   \n",
       "122                                    go animal based              NaN   \n",
       "123       ... and they said it gives you the munchies.              NaN   \n",
       "124                     My first thought was Rich Roll              0.0   \n",
       "\n",
       "                                           rep_comment  \\\n",
       "0                                                  NaN   \n",
       "1    {'kind': 'youtube#comment', 'etag': 'hEBHEVqvA...   \n",
       "2    {'kind': 'youtube#comment', 'etag': 'mbdNzSWMA...   \n",
       "3                                                  NaN   \n",
       "4                                                  NaN   \n",
       "..                                                 ...   \n",
       "120                                                NaN   \n",
       "121  {'kind': 'youtube#comment', 'etag': 'GB9aSyxEx...   \n",
       "122  {'kind': 'youtube#comment', 'etag': 'bs6xBMC7h...   \n",
       "123  {'kind': 'youtube#comment', 'etag': 'yd5KSzb3_...   \n",
       "124                                                NaN   \n",
       "\n",
       "                                              reply_id  \\\n",
       "0                                                  NaN   \n",
       "1    UgxjeEkhSU4lZAfy5J14AaABAg.9huxBdOoPGS9hxOiXW0kVn   \n",
       "2    UgxjeEkhSU4lZAfy5J14AaABAg.9huxBdOoPGS9hwEzTXy2dh   \n",
       "3                                                  NaN   \n",
       "4                                                  NaN   \n",
       "..                                                 ...   \n",
       "120                                                NaN   \n",
       "121  Ugy2ZO2t370rDO-eWoZ4AaABAg.9husbe2WJcN9hwCVh8KBNj   \n",
       "122  Ugy2ZO2t370rDO-eWoZ4AaABAg.9husbe2WJcN9hw15tjmPLT   \n",
       "123  Ugy2ZO2t370rDO-eWoZ4AaABAg.9husbe2WJcN9hvjM9rBbfr   \n",
       "124                                                NaN   \n",
       "\n",
       "                                              comments  \\\n",
       "0    If exercise and/or the interaction with alcoho...   \n",
       "1    Hi Rhonda, could this mean that \"one time\" phs...   \n",
       "2              It’s a great series! Highly suggest 💪👏💓   \n",
       "3                          Not easy if you play hockey   \n",
       "4    Thank you for presenting this information.  \\n...   \n",
       "..                                                 ...   \n",
       "120  How to combat increased food intake after quit...   \n",
       "121  It's brutal. Get the garbage food out of your ...   \n",
       "122                                    go animal based   \n",
       "123       ... and they said it gives you the munchies.   \n",
       "124                     My first thought was Rich Roll   \n",
       "\n",
       "              authorChannelId  \\\n",
       "0    UCWF8SqJVNlx-ctXbLswcTcA   \n",
       "1    UCtL4cnTx7UwPGOLbCocrF0g   \n",
       "2    UC2JUD0EsoV1qMyvH9V0rVcg   \n",
       "3    UCvowjPWd-qWpvWwn8YsxSlw   \n",
       "4    UCqzDbk4tnSBHeNfXApGJVcQ   \n",
       "..                        ...   \n",
       "120  UCqLo8354p57n7em4FBgra0A   \n",
       "121  UCvFzteVz88GX0DZzmY5dwJg   \n",
       "122  UCFy57PLyfM5f67mZqflf1uw   \n",
       "123  UCiKwxLKyahZ2INq3VljI4DQ   \n",
       "124  UC_-vIy5tSDQWnAV0xM2B53w   \n",
       "\n",
       "                                                comidx  \n",
       "0    0:: if exercise and/or the interaction with al...  \n",
       "1    1:: hi rhonda, could this mean that \"one time\"...  \n",
       "2       2:: it’s a great series! highly suggest 💪👏💓 ::  \n",
       "3                   3:: not easy if you play hockey ::  \n",
       "4    4:: thank you for presenting this information....  \n",
       "..                                                 ...  \n",
       "120  120:: how to combat increased food intake afte...  \n",
       "121  121:: it's brutal. get the garbage food out of...  \n",
       "122                           122:: go animal based ::  \n",
       "123  123:: ... and they said it gives you the munch...  \n",
       "124            124:: my first thought was rich roll ::  \n",
       "\n",
       "[125 rows x 17 columns]"
      ]
     },
     "execution_count": null,
     "metadata": {},
     "output_type": "execute_result"
    }
   ],
   "source": [
    "coms"
   ]
  },
  {
   "cell_type": "markdown",
   "id": "7ede0187",
   "metadata": {},
   "source": [
    "# Create Text Block\n",
    "> Here we'll put all the text together"
   ]
  },
  {
   "cell_type": "markdown",
   "id": "441c07dd",
   "metadata": {},
   "source": [
    "## First create a single big text_block"
   ]
  },
  {
   "cell_type": "code",
   "execution_count": null,
   "id": "633b9d14",
   "metadata": {},
   "outputs": [
    {
     "name": "stderr",
     "output_type": "stream",
     "text": [
      "/Users/davidramsey/Documents/coding/youtube_scraping/foundmf/biobert-bern/biobert_bern/biobertApi.py:54: SettingWithCopyWarning: \n",
      "A value is trying to be set on a copy of a slice from a DataFrame.\n",
      "Try using .loc[row_indexer,col_indexer] = value instead\n",
      "\n",
      "See the caveats in the documentation: https://pandas.pydata.org/pandas-docs/stable/user_guide/indexing.html#returning-a-view-versus-a-copy\n",
      "  dffk['section'] = counter\n",
      "/Users/davidramsey/Documents/coding/youtube_scraping/foundmf/biobert-bern/biobert_bern/biobertApi.py:58: SettingWithCopyWarning: \n",
      "A value is trying to be set on a copy of a slice from a DataFrame.\n",
      "Try using .loc[row_indexer,col_indexer] = value instead\n",
      "\n",
      "See the caveats in the documentation: https://pandas.pydata.org/pandas-docs/stable/user_guide/indexing.html#returning-a-view-versus-a-copy\n",
      "  df['cumTxtLen'] = df.textLen.cumsum()\n"
     ]
    }
   ],
   "source": [
    "# text_block = create_text_block(df=coms);# text_block\n",
    "blocks = create_all_text_blocks(df=coms)"
   ]
  },
  {
   "cell_type": "code",
   "execution_count": null,
   "id": "0ea0752c",
   "metadata": {},
   "outputs": [
    {
     "name": "stdout",
     "output_type": "stream",
     "text": [
      "0:: if exercise and/or the interaction with alcoho\n",
      "\n",
      "30:: you’ve literally changed my life, girl. and i\n",
      "\n",
      "... \n",
      "\n",
      "80:: as a recovering alcoholic, damn sign me up fo\n",
      "\n",
      "102:: i have to force myself, both to do exercise \n",
      "\n"
     ]
    }
   ],
   "source": [
    "for o in blocks[:2]: print(o[:50]);print()\n",
    "print('... ');print();\n",
    "for o in blocks[-2:]: print(o[:50]); print()"
   ]
  },
  {
   "cell_type": "markdown",
   "id": "0a476c84",
   "metadata": {},
   "source": [
    "### Get Comment Spans"
   ]
  },
  {
   "cell_type": "code",
   "execution_count": null,
   "id": "7081e3b1",
   "metadata": {},
   "outputs": [],
   "source": [
    "# dfi = get_comment_spans_textblock(text_block); dfi.tail(3)"
   ]
  },
  {
   "cell_type": "code",
   "execution_count": null,
   "id": "8272f672",
   "metadata": {},
   "outputs": [],
   "source": [
    "# # Send it all to Bern2\n",
    "# output = query_plain(text=text_block);  "
   ]
  },
  {
   "cell_type": "markdown",
   "id": "2facc485",
   "metadata": {},
   "source": [
    "## Query BERN one block at a time"
   ]
  },
  {
   "cell_type": "code",
   "execution_count": null,
   "id": "ca82bdf4",
   "metadata": {},
   "outputs": [
    {
     "name": "stdout",
     "output_type": "stream",
     "text": [
      "4908\n",
      "3233\n",
      "4853\n",
      "3668\n",
      "4867\n",
      "3183\n"
     ]
    },
    {
     "data": {
      "text/html": [
       "<div>\n",
       "<style scoped>\n",
       "    .dataframe tbody tr th:only-of-type {\n",
       "        vertical-align: middle;\n",
       "    }\n",
       "\n",
       "    .dataframe tbody tr th {\n",
       "        vertical-align: top;\n",
       "    }\n",
       "\n",
       "    .dataframe thead th {\n",
       "        text-align: right;\n",
       "    }\n",
       "</style>\n",
       "<table border=\"1\" class=\"dataframe\">\n",
       "  <thead>\n",
       "    <tr style=\"text-align: right;\">\n",
       "      <th></th>\n",
       "      <th>block</th>\n",
       "      <th>out</th>\n",
       "    </tr>\n",
       "  </thead>\n",
       "  <tbody>\n",
       "    <tr>\n",
       "      <th>4</th>\n",
       "      <td>80:: as a recovering alcoholic, damn sign me u...</td>\n",
       "      <td>{'annotations': [{'id': ['mesh:D000437', 'mim:...</td>\n",
       "    </tr>\n",
       "    <tr>\n",
       "      <th>5</th>\n",
       "      <td>102:: i have to force myself, both to do exerc...</td>\n",
       "      <td>{'annotations': [{'id': ['CHEBI:16236'], 'is_n...</td>\n",
       "    </tr>\n",
       "  </tbody>\n",
       "</table>\n",
       "</div>"
      ],
      "text/plain": [
       "                                               block  \\\n",
       "4  80:: as a recovering alcoholic, damn sign me u...   \n",
       "5  102:: i have to force myself, both to do exerc...   \n",
       "\n",
       "                                                 out  \n",
       "4  {'annotations': [{'id': ['mesh:D000437', 'mim:...  \n",
       "5  {'annotations': [{'id': ['CHEBI:16236'], 'is_n...  "
      ]
     },
     "execution_count": null,
     "metadata": {},
     "output_type": "execute_result"
    }
   ],
   "source": [
    "dfo = pd.DataFrame()\n",
    "for o in blocks:\n",
    "    print(len(o))\n",
    "    out = query_plain(text=o)\n",
    "    dfo = dfo.append({'block':o, 'out':out},ignore_index=True)\n",
    "dfo.tail(2)"
   ]
  },
  {
   "cell_type": "markdown",
   "id": "28402116",
   "metadata": {},
   "source": [
    "# DfO = df"
   ]
  },
  {
   "cell_type": "code",
   "execution_count": null,
   "id": "711a0b41",
   "metadata": {},
   "outputs": [],
   "source": [
    "# df = dfo\n",
    "# dfo = df"
   ]
  },
  {
   "cell_type": "code",
   "execution_count": null,
   "id": "d05a01b6",
   "metadata": {},
   "outputs": [],
   "source": [
    "def merge_annotations_with_textblock_idx(dfa,#daframe containing 'span' column with the text locations of each \n",
    "                                         dfi):\n",
    "    # create str_end col as type str\n",
    "    dfa.span = dfa.span.astype(str)\n",
    "    dfa ['str_end'] = dfa.span.str.replace(r\".*'end': (\\d+)}\",r\"\\1\",regex=True)\n",
    "    dfa.str_end = dfa.str_end.astype(int)  # make str end as type str\n",
    "\n",
    "    #add dfi_idx col\n",
    "    dfi.reset_index(inplace=True)\n",
    "    dfi.rename(columns={'index':'dfi_bloc_idx'},inplace=True)\n",
    "    dfi.dfi_bloc_idx = dfi.dfi_bloc_idx.astype(int)\n",
    "    # create com_idx pulling it from the text via regex\n",
    "    dfi['comidx'] = dfi.text.replace(r\"((\\d+)?::.*)\",r\"\\2\",regex=True)\n",
    "    dfi.comidx = dfi.comidx.astype(int)\n",
    "    print(type(dfi.comidx[0]))\n",
    "    dfi.comidx = dfi.comidx.astype(int)\n",
    "\n",
    "    for o,m in zip(dfi.index,dfi.span):  #add dfi_idx col to dfa \n",
    "        x,y = m #open span tuple\n",
    "        #write conditions for specific df rows\n",
    "        conds = (dfa.str_end > x) & (dfa.str_end < y)\n",
    "        dfa['dfi_bloc_idx'] = ''\n",
    "        dfa.loc[conds,'dfi_bloc_idx'] = o #save the index of the dfi span that fits to dfa\n",
    "        dfa.dfi_bloc_idx = dfa.dfi_bloc_idx.astype(str)\n",
    "    # dfa.merge(dfi, left_on='dfi_idx',right_index=True)\n",
    "    df = dfa.merge(dfi, left_on='dfi_bloc_idx',right_on='dfi_bloc_idx');\n",
    "    \n",
    "    return df"
   ]
  },
  {
   "cell_type": "markdown",
   "id": "e86c955c",
   "metadata": {},
   "source": [
    "# Concat All Text Blocks into a nice labeled df"
   ]
  },
  {
   "cell_type": "code",
   "execution_count": null,
   "id": "da500ce2",
   "metadata": {},
   "outputs": [],
   "source": [
    "def dfi_dfa_prep(dfa,dfi):\n",
    "    '''Prepares dfi and dfa to both have dfi_bloc_idx'''\n",
    "    dfi.reset_index(drop=True,inplace=True)\n",
    "    dfi['dfi_bloc_idx'] = dfi.index\n",
    "    # dfi.rename(columns={'index':'dfi_bloc_idx'},inplace=True)\n",
    "    dfi.dfi_bloc_idx = dfi.dfi_bloc_idx.astype(int)\n",
    "    # create com_idx pulling it from the text via regex\n",
    "    dfi['comidx'] = dfi.text.replace(r\"((\\d+)?::.*)\",r\"\\2\",regex=True)\n",
    "    dfi.comidx = dfi.comidx.astype(int)\n",
    "\n",
    "    # create str_end col as type str\n",
    "    dfa.span = dfa.span.astype(str)\n",
    "    dfa ['str_end'] = dfa.span.str.replace(r\".*'end': (\\d+)}\",r\"\\1\",regex=True)\n",
    "    dfa.str_end = dfa.str_end.astype(int)  # make str end as type str\n",
    "    dfa['dfi_bloc_idx'] = ''\n",
    "    return dfa,dfi"
   ]
  },
  {
   "cell_type": "code",
   "execution_count": null,
   "id": "9b1a31e3",
   "metadata": {},
   "outputs": [],
   "source": [
    "def merge_annotations_with_dfi_bloc_idx(dfa,#daframe containing 'span' column with the text locations of each \n",
    "                                         dfi):\n",
    "    '''Merges dfa with dfi so that all 'mentions' and 'obj' have a comidx(comemnt index) and a dfi_bloc_idx(dfi textbock index). This way we can track how different people have comented on each biomedical word('mention')'''\n",
    "    #prep dfi and dfa\n",
    "    dfa,dfi = dfi_dfa_prep(dfa,dfi)\n",
    "    \n",
    "    #add dfi_bloc_idx col\n",
    "    for o,m in zip(dfi.index,dfi.span):  #add dfi_idx col to dfa \n",
    "        x,y = m #open span tuple\n",
    "        #write conditions for specific df rows\n",
    "        conds = (dfa.str_end > x) & (dfa.str_end <= y)\n",
    "        dfa.loc[conds,'dfi_bloc_idx'] = o #save the index of the dfi span that fits to dfa\n",
    "\n",
    "    dfa.dfi_bloc_idx = dfa.dfi_bloc_idx.astype(int) #make column np.64\n",
    "    # merge it all\n",
    "\n",
    "    df = dfa.merge(dfi, left_on='dfi_bloc_idx',right_on='dfi_bloc_idx')\n",
    "    return df"
   ]
  },
  {
   "cell_type": "markdown",
   "id": "fadf2985",
   "metadata": {},
   "source": [
    "### Merge all annotation onto one df"
   ]
  },
  {
   "cell_type": "code",
   "execution_count": null,
   "id": "48b7a5a7",
   "metadata": {},
   "outputs": [],
   "source": [
    "df = pd.DataFrame()\n",
    "for o in dfo.index:\n",
    "    dfa  =pd.DataFrame(dfo.out[o]['annotations'])\n",
    "    dfi = get_comment_spans_textblock(dfo.block[o])\n",
    "    dfmerg = merge_annotations_with_dfi_bloc_idx(dfa,dfi)\n",
    "    df = pd.concat([df,dfmerg])\n",
    "df = df.reset_index(drop=True)"
   ]
  },
  {
   "cell_type": "markdown",
   "id": "21df7acc",
   "metadata": {},
   "source": [
    "#### Merge authorChannelId's onto df with annotations"
   ]
  },
  {
   "cell_type": "code",
   "execution_count": null,
   "id": "66f7f115",
   "metadata": {},
   "outputs": [],
   "source": [
    "df_authorId = coms[['idx','authorChannelId']] #simplify coms\n",
    "df_authorId = df_authorId.rename(columns={'idx':'comidx'}) #rename idx to match\n",
    "df_authorId.comidx = df_authorId.comidx.astype(int) #make comidx integer\n",
    "\n",
    "df = df.merge(df_authorId,how='left') #left merge author Id's onto main df"
   ]
  },
  {
   "cell_type": "code",
   "execution_count": null,
   "id": "b1df2f66",
   "metadata": {},
   "outputs": [],
   "source": [
    "def plot_bio_terms(x,y,xlabel):\n",
    "    # Set the width and height of the figure\n",
    "    plt.figure(figsize=(8,6))\n",
    "    ax = sns.barplot(x, y)\n",
    "    #title\n",
    "    ax.set_title(f'Biomedical Terms in Comments')\n",
    "    # Add label for  axis\n",
    "    ax.set(xlabel=xlabel)\n",
    "    plt.show()"
   ]
  },
  {
   "cell_type": "code",
   "execution_count": null,
   "id": "36d56c26",
   "metadata": {},
   "outputs": [],
   "source": [
    "def group_bio_words_author_count(df,word_col, mention_min=2):\n",
    "    dfwords = df\n",
    "    dfwords = df.groupby([word_col,'obj']).authorChannelId.nunique().reset_index().sort_values('authorChannelId',ascending=False)\n",
    "    dfwords = dfwords.loc[dfwords.authorChannelId >=mention_min]\n",
    "    dfwords.reset_index(drop=True,inplace=True)\n",
    "    return dfwords"
   ]
  },
  {
   "cell_type": "code",
   "execution_count": null,
   "id": "ebb2d444",
   "metadata": {},
   "outputs": [],
   "source": [
    "def group_bio_words_com_count(df,word_col, mention_min=2):\n",
    "    dfwords = df\n",
    "    dfwords = df.groupby([word_col,'obj']).comidx.nunique().reset_index().sort_values('comidx',ascending=False)\n",
    "    dfwords = dfwords.loc[dfwords.comidx >=mention_min]\n",
    "    dfwords.reset_index(drop=True,inplace=True)\n",
    "    return dfwords"
   ]
  },
  {
   "cell_type": "code",
   "execution_count": null,
   "id": "36e79c15",
   "metadata": {},
   "outputs": [
    {
     "data": {
      "text/html": [
       "<div>\n",
       "<style scoped>\n",
       "    .dataframe tbody tr th:only-of-type {\n",
       "        vertical-align: middle;\n",
       "    }\n",
       "\n",
       "    .dataframe tbody tr th {\n",
       "        vertical-align: top;\n",
       "    }\n",
       "\n",
       "    .dataframe thead th {\n",
       "        text-align: right;\n",
       "    }\n",
       "</style>\n",
       "<table border=\"1\" class=\"dataframe\">\n",
       "  <thead>\n",
       "    <tr style=\"text-align: right;\">\n",
       "      <th></th>\n",
       "      <th>bio_term</th>\n",
       "      <th>obj</th>\n",
       "      <th>authorChannelId</th>\n",
       "    </tr>\n",
       "  </thead>\n",
       "  <tbody>\n",
       "    <tr>\n",
       "      <th>0</th>\n",
       "      <td>alcohol (drug)</td>\n",
       "      <td>drug</td>\n",
       "      <td>17</td>\n",
       "    </tr>\n",
       "    <tr>\n",
       "      <th>1</th>\n",
       "      <td>fgf21 (gene)</td>\n",
       "      <td>gene</td>\n",
       "      <td>9</td>\n",
       "    </tr>\n",
       "    <tr>\n",
       "      <th>2</th>\n",
       "      <td>alcoholism (disease)</td>\n",
       "      <td>disease</td>\n",
       "      <td>8</td>\n",
       "    </tr>\n",
       "    <tr>\n",
       "      <th>3</th>\n",
       "      <td>humans (species)</td>\n",
       "      <td>species</td>\n",
       "      <td>7</td>\n",
       "    </tr>\n",
       "    <tr>\n",
       "      <th>4</th>\n",
       "      <td>naltrexone (drug)</td>\n",
       "      <td>drug</td>\n",
       "      <td>2</td>\n",
       "    </tr>\n",
       "    <tr>\n",
       "      <th>5</th>\n",
       "      <td>cancer (disease)</td>\n",
       "      <td>disease</td>\n",
       "      <td>2</td>\n",
       "    </tr>\n",
       "  </tbody>\n",
       "</table>\n",
       "</div>"
      ],
      "text/plain": [
       "               bio_term      obj  authorChannelId\n",
       "0        alcohol (drug)     drug               17\n",
       "1          fgf21 (gene)     gene                9\n",
       "2  alcoholism (disease)  disease                8\n",
       "3      humans (species)  species                7\n",
       "4     naltrexone (drug)     drug                2\n",
       "5      cancer (disease)  disease                2"
      ]
     },
     "execution_count": null,
     "metadata": {},
     "output_type": "execute_result"
    }
   ],
   "source": [
    "#create a grouping of words mentioned\n",
    "dfwords = group_bio_words(df, 'bio_term',mention_min=2); dfwords"
   ]
  },
  {
   "cell_type": "markdown",
   "id": "19836d9d",
   "metadata": {},
   "source": [
    "# use some regex to simplify some names"
   ]
  },
  {
   "cell_type": "code",
   "execution_count": null,
   "id": "f150792a",
   "metadata": {},
   "outputs": [],
   "source": [
    "df['bio_term'] = df.mention.str.replace(r'alcoholi.*',r'alcoholism',regex=True)\n",
    "df['bio_term'] = df.bio_term.str.replace(r'alcohol.*disorder',r'alcoholism',regex=True)\n",
    "df['bio_term'] = df.bio_term.str.replace(r'fg.*21',r'fgf21',regex=True)\n",
    "df['bio_term'] = df.bio_term.str.replace('people','humans',regex=False)"
   ]
  },
  {
   "cell_type": "markdown",
   "id": "575c2a1d",
   "metadata": {},
   "source": [
    "create bio_term column that contains both 'mention' and 'obj' columns for bar graph clarity"
   ]
  },
  {
   "cell_type": "code",
   "execution_count": null,
   "id": "5506bc4e",
   "metadata": {},
   "outputs": [],
   "source": [
    "df['bio_term'] = df.bio_term +' ('+df.obj +')'"
   ]
  },
  {
   "cell_type": "markdown",
   "id": "0e2d126a",
   "metadata": {},
   "source": [
    "# Graph the Bio Terms"
   ]
  },
  {
   "cell_type": "markdown",
   "id": "5407bfbb",
   "metadata": {},
   "source": [
    "## Unique Users Who Mention a Term"
   ]
  },
  {
   "cell_type": "code",
   "execution_count": null,
   "id": "93a9a615",
   "metadata": {},
   "outputs": [
    {
     "name": "stderr",
     "output_type": "stream",
     "text": [
      "/opt/anaconda3/lib/python3.7/site-packages/seaborn/_decorators.py:43: FutureWarning: Pass the following variables as keyword args: x, y. From version 0.12, the only valid positional argument will be `data`, and passing other arguments without an explicit keyword will result in an error or misinterpretation.\n",
      "  FutureWarning\n"
     ]
    },
    {
     "data": {
      "image/png": "[encoded data removed]",
      "text/plain": [
       "<Figure size 576x432 with 1 Axes>"
      ]
     },
     "metadata": {
      "needs_background": "light"
     },
     "output_type": "display_data"
    },
    {
     "data": {
      "text/html": [
       "<div>\n",
       "<style scoped>\n",
       "    .dataframe tbody tr th:only-of-type {\n",
       "        vertical-align: middle;\n",
       "    }\n",
       "\n",
       "    .dataframe tbody tr th {\n",
       "        vertical-align: top;\n",
       "    }\n",
       "\n",
       "    .dataframe thead th {\n",
       "        text-align: right;\n",
       "    }\n",
       "</style>\n",
       "<table border=\"1\" class=\"dataframe\">\n",
       "  <thead>\n",
       "    <tr style=\"text-align: right;\">\n",
       "      <th></th>\n",
       "      <th>bio_term</th>\n",
       "      <th>obj</th>\n",
       "      <th>comidx</th>\n",
       "    </tr>\n",
       "  </thead>\n",
       "  <tbody>\n",
       "    <tr>\n",
       "      <th>0</th>\n",
       "      <td>alcohol (drug)</td>\n",
       "      <td>drug</td>\n",
       "      <td>18</td>\n",
       "    </tr>\n",
       "    <tr>\n",
       "      <th>1</th>\n",
       "      <td>fgf21 (gene)</td>\n",
       "      <td>gene</td>\n",
       "      <td>9</td>\n",
       "    </tr>\n",
       "    <tr>\n",
       "      <th>2</th>\n",
       "      <td>alcoholism (disease)</td>\n",
       "      <td>disease</td>\n",
       "      <td>8</td>\n",
       "    </tr>\n",
       "    <tr>\n",
       "      <th>3</th>\n",
       "      <td>humans (species)</td>\n",
       "      <td>species</td>\n",
       "      <td>7</td>\n",
       "    </tr>\n",
       "    <tr>\n",
       "      <th>4</th>\n",
       "      <td>naltrexone (drug)</td>\n",
       "      <td>drug</td>\n",
       "      <td>2</td>\n",
       "    </tr>\n",
       "    <tr>\n",
       "      <th>5</th>\n",
       "      <td>cancer (disease)</td>\n",
       "      <td>disease</td>\n",
       "      <td>2</td>\n",
       "    </tr>\n",
       "  </tbody>\n",
       "</table>\n",
       "</div>"
      ],
      "text/plain": [
       "               bio_term      obj  comidx\n",
       "0        alcohol (drug)     drug      18\n",
       "1          fgf21 (gene)     gene       9\n",
       "2  alcoholism (disease)  disease       8\n",
       "3      humans (species)  species       7\n",
       "4     naltrexone (drug)     drug       2\n",
       "5      cancer (disease)  disease       2"
      ]
     },
     "execution_count": null,
     "metadata": {},
     "output_type": "execute_result"
    }
   ],
   "source": [
    "dfwords = group_bio_words_com_count(df, 'bio_term',mention_min=2)\n",
    "plot_bio_terms(x=dfwords.comidx ,y=dfwords.bio_term, xlabel='Total Comments Using a Term')\n",
    "dfwords"
   ]
  },
  {
   "cell_type": "markdown",
   "id": "1f09d7b5",
   "metadata": {},
   "source": [
    "# Unique Comments that mention a term"
   ]
  },
  {
   "cell_type": "code",
   "execution_count": null,
   "id": "edd9b03d",
   "metadata": {},
   "outputs": [
    {
     "name": "stderr",
     "output_type": "stream",
     "text": [
      "/opt/anaconda3/lib/python3.7/site-packages/seaborn/_decorators.py:43: FutureWarning: Pass the following variables as keyword args: x, y. From version 0.12, the only valid positional argument will be `data`, and passing other arguments without an explicit keyword will result in an error or misinterpretation.\n",
      "  FutureWarning\n"
     ]
    },
    {
     "data": {
      "image/png": "[encoded data removed]",
      "text/plain": [
       "<Figure size 576x432 with 1 Axes>"
      ]
     },
     "metadata": {
      "needs_background": "light"
     },
     "output_type": "display_data"
    },
    {
     "data": {
      "text/html": [
       "<div>\n",
       "<style scoped>\n",
       "    .dataframe tbody tr th:only-of-type {\n",
       "        vertical-align: middle;\n",
       "    }\n",
       "\n",
       "    .dataframe tbody tr th {\n",
       "        vertical-align: top;\n",
       "    }\n",
       "\n",
       "    .dataframe thead th {\n",
       "        text-align: right;\n",
       "    }\n",
       "</style>\n",
       "<table border=\"1\" class=\"dataframe\">\n",
       "  <thead>\n",
       "    <tr style=\"text-align: right;\">\n",
       "      <th></th>\n",
       "      <th>bio_term</th>\n",
       "      <th>obj</th>\n",
       "      <th>authorChannelId</th>\n",
       "    </tr>\n",
       "  </thead>\n",
       "  <tbody>\n",
       "    <tr>\n",
       "      <th>0</th>\n",
       "      <td>alcohol (drug)</td>\n",
       "      <td>drug</td>\n",
       "      <td>17</td>\n",
       "    </tr>\n",
       "    <tr>\n",
       "      <th>1</th>\n",
       "      <td>fgf21 (gene)</td>\n",
       "      <td>gene</td>\n",
       "      <td>9</td>\n",
       "    </tr>\n",
       "    <tr>\n",
       "      <th>2</th>\n",
       "      <td>alcoholism (disease)</td>\n",
       "      <td>disease</td>\n",
       "      <td>8</td>\n",
       "    </tr>\n",
       "    <tr>\n",
       "      <th>3</th>\n",
       "      <td>humans (species)</td>\n",
       "      <td>species</td>\n",
       "      <td>7</td>\n",
       "    </tr>\n",
       "    <tr>\n",
       "      <th>4</th>\n",
       "      <td>naltrexone (drug)</td>\n",
       "      <td>drug</td>\n",
       "      <td>2</td>\n",
       "    </tr>\n",
       "    <tr>\n",
       "      <th>5</th>\n",
       "      <td>cancer (disease)</td>\n",
       "      <td>disease</td>\n",
       "      <td>2</td>\n",
       "    </tr>\n",
       "  </tbody>\n",
       "</table>\n",
       "</div>"
      ],
      "text/plain": [
       "               bio_term      obj  authorChannelId\n",
       "0        alcohol (drug)     drug               17\n",
       "1          fgf21 (gene)     gene                9\n",
       "2  alcoholism (disease)  disease                8\n",
       "3      humans (species)  species                7\n",
       "4     naltrexone (drug)     drug                2\n",
       "5      cancer (disease)  disease                2"
      ]
     },
     "execution_count": null,
     "metadata": {},
     "output_type": "execute_result"
    }
   ],
   "source": [
    "dfwords = group_bio_words_author_count(df, 'bio_term',mention_min=2)\n",
    "plot_bio_terms(x=dfwords.authorChannelId ,y=dfwords.bio_term, xlabel='Unique Users Who Mentioned Term')\n",
    "dfwords"
   ]
  }
 ],
 "metadata": {
  "kernelspec": {
   "display_name": "Python 3",
   "language": "python",
   "name": "python3"
  }
 },
 "nbformat": 4,
 "nbformat_minor": 5
}
