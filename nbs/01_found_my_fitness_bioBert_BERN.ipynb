{
 "cells": [
  {
   "cell_type": "code",
   "execution_count": null,
   "id": "2d162388",
   "metadata": {},
   "outputs": [],
   "source": [
    "#| default_exp fmf_biobert"
   ]
  },
  {
   "cell_type": "markdown",
   "id": "866d284d",
   "metadata": {},
   "source": [
    "# Found My Fitness Example\n",
    ">\"Here we'll try using elements from the biobertApi module to label biomedical terms in the comments section of a Found My Fitness Youtube video\""
   ]
  },
  {
   "cell_type": "code",
   "execution_count": null,
   "id": "265ef6d2",
   "metadata": {},
   "outputs": [
    {
     "ename": "ModuleNotFoundError",
     "evalue": "No module named 'biobert_bern'",
     "output_type": "error",
     "traceback": [
      "\u001b[0;31m---------------------------------------------------------------------------\u001b[0m",
      "\u001b[0;31mModuleNotFoundError\u001b[0m                       Traceback (most recent call last)",
      "\u001b[0;32m/tmp/ipykernel_1919/1756339172.py\u001b[0m in \u001b[0;36m<module>\u001b[0;34m\u001b[0m\n\u001b[1;32m      1\u001b[0m \u001b[0;31m#|hide\u001b[0m\u001b[0;34m\u001b[0m\u001b[0;34m\u001b[0m\u001b[0;34m\u001b[0m\u001b[0m\n\u001b[1;32m      2\u001b[0m \u001b[0;31m# import biobert-bern\u001b[0m\u001b[0;34m\u001b[0m\u001b[0;34m\u001b[0m\u001b[0;34m\u001b[0m\u001b[0m\n\u001b[0;32m----> 3\u001b[0;31m \u001b[0;32mfrom\u001b[0m \u001b[0mbiobert_bern\u001b[0m\u001b[0;34m.\u001b[0m\u001b[0mbiobertApi\u001b[0m \u001b[0;32mimport\u001b[0m \u001b[0;34m*\u001b[0m\u001b[0;34m\u001b[0m\u001b[0;34m\u001b[0m\u001b[0m\n\u001b[0m",
      "\u001b[0;31mModuleNotFoundError\u001b[0m: No module named 'biobert_bern'"
     ]
    }
   ],
   "source": [
    "#|hide\n",
    "# import biobert-bern \n",
    "from biobert_bern.biobertApi import *"
   ]
  },
  {
   "cell_type": "code",
   "execution_count": null,
   "id": "2bb78320",
   "metadata": {},
   "outputs": [],
   "source": [
    "!pip install pathlib"
   ]
  },
  {
   "cell_type": "code",
   "execution_count": null,
   "id": "1b32be43",
   "metadata": {},
   "outputs": [],
   "source": [
    "import requests\n",
    "import re\n",
    "import pandas as pd\n",
    "from nbdev.showdoc import *\n",
    "import fastai\n",
    "from pathlib import *"
   ]
  },
  {
   "cell_type": "code",
   "execution_count": null,
   "id": "e3d9bec9",
   "metadata": {},
   "outputs": [],
   "source": []
  },
  {
   "cell_type": "code",
   "execution_count": null,
   "id": "a2c5f916",
   "metadata": {},
   "outputs": [],
   "source": [
    "path = Path('../..')\n",
    "comment_csv= 'found_my_fitness_UCWF8SqJVNlx-ctXbLswcTcA_youtube_comments_only_122rows.csv'"
   ]
  },
  {
   "cell_type": "code",
   "execution_count": null,
   "id": "130386d7",
   "metadata": {},
   "outputs": [],
   "source": [
    "\n",
    "coms = pd.read_csv(path/comment_csv)"
   ]
  },
  {
   "cell_type": "code",
   "execution_count": null,
   "id": "3900cc62",
   "metadata": {},
   "outputs": [],
   "source": [
    "coms.rename(columns = {'comment': 'comments'},inplace=True)"
   ]
  },
  {
   "cell_type": "markdown",
   "id": "7ede0187",
   "metadata": {},
   "source": [
    "# Create Text Block\n",
    "> Here we'll put all the text together"
   ]
  },
  {
   "cell_type": "code",
   "execution_count": null,
   "id": "633b9d14",
   "metadata": {},
   "outputs": [],
   "source": [
    "text_block = create_text_block(coms); text_block"
   ]
  },
  {
   "cell_type": "markdown",
   "id": "0a476c84",
   "metadata": {},
   "source": [
    "# Get Comment Spans"
   ]
  },
  {
   "cell_type": "code",
   "execution_count": null,
   "id": "7081e3b1",
   "metadata": {},
   "outputs": [],
   "source": [
    "# dfi = get_comment_spans_textblock(text_block); dfi"
   ]
  },
  {
   "cell_type": "code",
   "execution_count": null,
   "id": "872dac1c",
   "metadata": {},
   "outputs": [],
   "source": [
    "coms"
   ]
  },
  {
   "cell_type": "code",
   "execution_count": null,
   "id": "8278b0c7",
   "metadata": {},
   "outputs": [],
   "source": []
  }
 ],
 "metadata": {
  "kernelspec": {
   "display_name": "Python 3 (ipykernel)",
   "language": "python",
   "name": "python3"
  }
 },
 "nbformat": 4,
 "nbformat_minor": 5
}
