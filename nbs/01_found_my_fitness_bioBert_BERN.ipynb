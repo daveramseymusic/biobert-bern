{
 "cells": [
  {
   "cell_type": "code",
   "execution_count": 22,
   "id": "2d162388",
   "metadata": {},
   "outputs": [],
   "source": [
    "#| default_exp fmf_biobert"
   ]
  },
  {
   "cell_type": "markdown",
   "id": "866d284d",
   "metadata": {},
   "source": [
    "# Found My Fitness Example\n",
    ">\"Here we'll try using elements from the biobertApi module to label biomedical terms in the comments section of a Found My Fitness Youtube video\""
   ]
  },
  {
   "cell_type": "code",
   "execution_count": 33,
   "id": "265ef6d2",
   "metadata": {},
   "outputs": [],
   "source": [
    "#|hide\n",
    "# import biobert-bern \n",
    "from biobert_bern.biobertApi import *"
   ]
  },
  {
   "cell_type": "code",
   "execution_count": 24,
   "id": "2bb78320",
   "metadata": {},
   "outputs": [],
   "source": [
    "# !pip install pathlib"
   ]
  },
  {
   "cell_type": "code",
   "execution_count": 25,
   "id": "1b32be43",
   "metadata": {},
   "outputs": [],
   "source": [
    "import requests\n",
    "import re\n",
    "import pandas as pd\n",
    "from nbdev.showdoc import *\n",
    "import fastai\n",
    "from pathlib import *\n",
    "import numpy as np     "
   ]
  },
  {
   "cell_type": "code",
   "execution_count": 35,
   "id": "a2c5f916",
   "metadata": {},
   "outputs": [],
   "source": [
    "path = Path('../..')\n",
    "comment_csv= 'found_my_fitness_UCWF8SqJVNlx-ctXbLswcTcA_youtube_comments_only_122rows.csv'"
   ]
  },
  {
   "cell_type": "code",
   "execution_count": 36,
   "id": "130386d7",
   "metadata": {},
   "outputs": [],
   "source": [
    "coms = pd.read_csv(path/comment_csv)"
   ]
  },
  {
   "cell_type": "code",
   "execution_count": 37,
   "id": "3900cc62",
   "metadata": {},
   "outputs": [],
   "source": [
    "coms.rename(columns = {'comment': 'comments'},inplace=True)"
   ]
  },
  {
   "cell_type": "code",
   "execution_count": 38,
   "id": "f184e738",
   "metadata": {},
   "outputs": [
    {
     "data": {
      "text/html": [
       "<div>\n",
       "<style scoped>\n",
       "    .dataframe tbody tr th:only-of-type {\n",
       "        vertical-align: middle;\n",
       "    }\n",
       "\n",
       "    .dataframe tbody tr th {\n",
       "        vertical-align: top;\n",
       "    }\n",
       "\n",
       "    .dataframe thead th {\n",
       "        text-align: right;\n",
       "    }\n",
       "</style>\n",
       "<table border=\"1\" class=\"dataframe\">\n",
       "  <thead>\n",
       "    <tr style=\"text-align: right;\">\n",
       "      <th></th>\n",
       "      <th>vid_id</th>\n",
       "      <th>vid_channel_id</th>\n",
       "      <th>vid_deets</th>\n",
       "      <th>vid_response</th>\n",
       "      <th>title</th>\n",
       "      <th>publishedAt</th>\n",
       "      <th>tcomment_id</th>\n",
       "      <th>tcresponse</th>\n",
       "      <th>textDisplay</th>\n",
       "      <th>textOriginal</th>\n",
       "      <th>totalReplyCount</th>\n",
       "      <th>rep_comment</th>\n",
       "      <th>reply_id</th>\n",
       "      <th>comments</th>\n",
       "    </tr>\n",
       "  </thead>\n",
       "  <tbody>\n",
       "    <tr>\n",
       "      <th>117</th>\n",
       "      <td>g4QqJoox8tc</td>\n",
       "      <td>NaN</td>\n",
       "      <td>NaN</td>\n",
       "      <td>NaN</td>\n",
       "      <td>NaN</td>\n",
       "      <td>2022-11-02T03:21:53Z</td>\n",
       "      <td>Ugy2ZO2t370rDO-eWoZ4AaABAg</td>\n",
       "      <td>{'kind': 'youtube#commentThread', 'etag': '4vV...</td>\n",
       "      <td>How to combat increased food intake after quit...</td>\n",
       "      <td>How to combat increased food intake after quit...</td>\n",
       "      <td>3.0</td>\n",
       "      <td>NaN</td>\n",
       "      <td>NaN</td>\n",
       "      <td>How to combat increased food intake after quit...</td>\n",
       "    </tr>\n",
       "    <tr>\n",
       "      <th>118</th>\n",
       "      <td>g4QqJoox8tc</td>\n",
       "      <td>NaN</td>\n",
       "      <td>NaN</td>\n",
       "      <td>NaN</td>\n",
       "      <td>NaN</td>\n",
       "      <td>2022-11-02T15:43:40Z</td>\n",
       "      <td>NaN</td>\n",
       "      <td>{'kind': 'youtube#comment', 'etag': 'GB9aSyxEx...</td>\n",
       "      <td>It's brutal. Get the garbage food out of your ...</td>\n",
       "      <td>It's brutal. Get the garbage food out of your ...</td>\n",
       "      <td>NaN</td>\n",
       "      <td>{'kind': 'youtube#comment', 'etag': 'GB9aSyxEx...</td>\n",
       "      <td>Ugy2ZO2t370rDO-eWoZ4AaABAg.9husbe2WJcN9hwCVh8KBNj</td>\n",
       "      <td>It's brutal. Get the garbage food out of your ...</td>\n",
       "    </tr>\n",
       "    <tr>\n",
       "      <th>119</th>\n",
       "      <td>g4QqJoox8tc</td>\n",
       "      <td>NaN</td>\n",
       "      <td>NaN</td>\n",
       "      <td>NaN</td>\n",
       "      <td>NaN</td>\n",
       "      <td>2022-11-02T14:04:02Z</td>\n",
       "      <td>NaN</td>\n",
       "      <td>{'kind': 'youtube#comment', 'etag': 'bs6xBMC7h...</td>\n",
       "      <td>go animal based</td>\n",
       "      <td>go animal based</td>\n",
       "      <td>NaN</td>\n",
       "      <td>{'kind': 'youtube#comment', 'etag': 'bs6xBMC7h...</td>\n",
       "      <td>Ugy2ZO2t370rDO-eWoZ4AaABAg.9husbe2WJcN9hw15tjmPLT</td>\n",
       "      <td>go animal based</td>\n",
       "    </tr>\n",
       "    <tr>\n",
       "      <th>120</th>\n",
       "      <td>g4QqJoox8tc</td>\n",
       "      <td>NaN</td>\n",
       "      <td>NaN</td>\n",
       "      <td>NaN</td>\n",
       "      <td>NaN</td>\n",
       "      <td>2022-11-02T11:20:13Z</td>\n",
       "      <td>NaN</td>\n",
       "      <td>{'kind': 'youtube#comment', 'etag': 'yd5KSzb3_...</td>\n",
       "      <td>... and they said it gives you the munchies.</td>\n",
       "      <td>... and they said it gives you the munchies.</td>\n",
       "      <td>NaN</td>\n",
       "      <td>{'kind': 'youtube#comment', 'etag': 'yd5KSzb3_...</td>\n",
       "      <td>Ugy2ZO2t370rDO-eWoZ4AaABAg.9husbe2WJcN9hvjM9rBbfr</td>\n",
       "      <td>... and they said it gives you the munchies.</td>\n",
       "    </tr>\n",
       "    <tr>\n",
       "      <th>121</th>\n",
       "      <td>g4QqJoox8tc</td>\n",
       "      <td>NaN</td>\n",
       "      <td>NaN</td>\n",
       "      <td>NaN</td>\n",
       "      <td>NaN</td>\n",
       "      <td>2022-11-02T03:07:55Z</td>\n",
       "      <td>Ugx3lPLxH7NyOIZxzEl4AaABAg</td>\n",
       "      <td>{'kind': 'youtube#commentThread', 'etag': 'Gzv...</td>\n",
       "      <td>My first thought was Rich Roll</td>\n",
       "      <td>My first thought was Rich Roll</td>\n",
       "      <td>0.0</td>\n",
       "      <td>NaN</td>\n",
       "      <td>NaN</td>\n",
       "      <td>My first thought was Rich Roll</td>\n",
       "    </tr>\n",
       "  </tbody>\n",
       "</table>\n",
       "</div>"
      ],
      "text/plain": [
       "          vid_id  vid_channel_id  vid_deets  vid_response  title  \\\n",
       "117  g4QqJoox8tc             NaN        NaN           NaN    NaN   \n",
       "118  g4QqJoox8tc             NaN        NaN           NaN    NaN   \n",
       "119  g4QqJoox8tc             NaN        NaN           NaN    NaN   \n",
       "120  g4QqJoox8tc             NaN        NaN           NaN    NaN   \n",
       "121  g4QqJoox8tc             NaN        NaN           NaN    NaN   \n",
       "\n",
       "              publishedAt                 tcomment_id  \\\n",
       "117  2022-11-02T03:21:53Z  Ugy2ZO2t370rDO-eWoZ4AaABAg   \n",
       "118  2022-11-02T15:43:40Z                         NaN   \n",
       "119  2022-11-02T14:04:02Z                         NaN   \n",
       "120  2022-11-02T11:20:13Z                         NaN   \n",
       "121  2022-11-02T03:07:55Z  Ugx3lPLxH7NyOIZxzEl4AaABAg   \n",
       "\n",
       "                                            tcresponse  \\\n",
       "117  {'kind': 'youtube#commentThread', 'etag': '4vV...   \n",
       "118  {'kind': 'youtube#comment', 'etag': 'GB9aSyxEx...   \n",
       "119  {'kind': 'youtube#comment', 'etag': 'bs6xBMC7h...   \n",
       "120  {'kind': 'youtube#comment', 'etag': 'yd5KSzb3_...   \n",
       "121  {'kind': 'youtube#commentThread', 'etag': 'Gzv...   \n",
       "\n",
       "                                           textDisplay  \\\n",
       "117  How to combat increased food intake after quit...   \n",
       "118  It's brutal. Get the garbage food out of your ...   \n",
       "119                                    go animal based   \n",
       "120       ... and they said it gives you the munchies.   \n",
       "121                     My first thought was Rich Roll   \n",
       "\n",
       "                                          textOriginal  totalReplyCount  \\\n",
       "117  How to combat increased food intake after quit...              3.0   \n",
       "118  It's brutal. Get the garbage food out of your ...              NaN   \n",
       "119                                    go animal based              NaN   \n",
       "120       ... and they said it gives you the munchies.              NaN   \n",
       "121                     My first thought was Rich Roll              0.0   \n",
       "\n",
       "                                           rep_comment  \\\n",
       "117                                                NaN   \n",
       "118  {'kind': 'youtube#comment', 'etag': 'GB9aSyxEx...   \n",
       "119  {'kind': 'youtube#comment', 'etag': 'bs6xBMC7h...   \n",
       "120  {'kind': 'youtube#comment', 'etag': 'yd5KSzb3_...   \n",
       "121                                                NaN   \n",
       "\n",
       "                                              reply_id  \\\n",
       "117                                                NaN   \n",
       "118  Ugy2ZO2t370rDO-eWoZ4AaABAg.9husbe2WJcN9hwCVh8KBNj   \n",
       "119  Ugy2ZO2t370rDO-eWoZ4AaABAg.9husbe2WJcN9hw15tjmPLT   \n",
       "120  Ugy2ZO2t370rDO-eWoZ4AaABAg.9husbe2WJcN9hvjM9rBbfr   \n",
       "121                                                NaN   \n",
       "\n",
       "                                              comments  \n",
       "117  How to combat increased food intake after quit...  \n",
       "118  It's brutal. Get the garbage food out of your ...  \n",
       "119                                    go animal based  \n",
       "120       ... and they said it gives you the munchies.  \n",
       "121                     My first thought was Rich Roll  "
      ]
     },
     "execution_count": 38,
     "metadata": {},
     "output_type": "execute_result"
    }
   ],
   "source": [
    "coms.tail()"
   ]
  },
  {
   "cell_type": "markdown",
   "id": "7ede0187",
   "metadata": {},
   "source": [
    "# Create Text Block\n",
    "> Here we'll put all the text together"
   ]
  },
  {
   "cell_type": "code",
   "execution_count": 39,
   "id": "86261de2",
   "metadata": {},
   "outputs": [],
   "source": [
    "# coms = coms[['textDisplay']]\n",
    "# coms.rename(columns={'textDisplay':'comments'},inplace=True)"
   ]
  },
  {
   "cell_type": "code",
   "execution_count": 40,
   "id": "633b9d14",
   "metadata": {},
   "outputs": [
    {
     "name": "stdout",
     "output_type": "stream",
     "text": [
      "0:: If exercise and/or the interaction with alcohol behaviors has really piqued your interest, make sure to check out my recent \"Sober October\" post series found on my Instagram: https://www.instagram.com/foundmyfitness Support the show as a premium member: https://www.foundmyfitness.com/crowdsponsor\\n\\nThanks for watching! ::\n",
      "0:: if exercise and/or the interaction with alcohol behaviors has really piqued your interest, make sure to check out my recent \"sober october\" post series found on my instagram: https://www.instagram.com/foundmyfitness support the show as a premium member: https://www.foundmyfitness.com/crowdsponsor\\n\\nthanks for watching! ::\n"
     ]
    }
   ],
   "source": [
    "text_block = create_text_block(df=coms);# text_block"
   ]
  },
  {
   "cell_type": "code",
   "execution_count": 41,
   "id": "d178451b",
   "metadata": {},
   "outputs": [
    {
     "data": {
      "text/plain": [
       "'0:: if exercise and/or the interaction with alcohol behaviors has really piqued your interest, make sure to check out my recent \"sober october\" post series found on my instagram: https://www.instagram.com/foundmyfitness support the show as a premium member: https://www.foundmyfitness.com/crowdsponsor\\\\n\\\\nthanks for watching! :: 1:: hi rhonda, could this mean that \"one time\" phsychedelic treatments with e.g.: ayahuasca or psylocybin that show significant reduction in alcohol intake in patients cou'"
      ]
     },
     "execution_count": 41,
     "metadata": {},
     "output_type": "execute_result"
    }
   ],
   "source": [
    "text_block[:500]"
   ]
  },
  {
   "cell_type": "markdown",
   "id": "0a476c84",
   "metadata": {},
   "source": [
    "### Get Comment Spans"
   ]
  },
  {
   "cell_type": "code",
   "execution_count": null,
   "id": "7081e3b1",
   "metadata": {},
   "outputs": [],
   "source": [
    "# dfi = get_comment_spans_textblock(text_block); dfi.tail(3)"
   ]
  },
  {
   "cell_type": "code",
   "execution_count": null,
   "id": "f7ad2b6c",
   "metadata": {},
   "outputs": [],
   "source": [
    "len(text_block)"
   ]
  },
  {
   "cell_type": "code",
   "execution_count": null,
   "id": "5f2810db",
   "metadata": {},
   "outputs": [],
   "source": [
    "range(len(text_block))"
   ]
  },
  {
   "cell_type": "code",
   "execution_count": null,
   "id": "68278949",
   "metadata": {},
   "outputs": [],
   "source": [
    "for i in range(5000, len(text_block), 5000):\n",
    "    quotient = i / 5000\n",
    "    print(f\"{i} divided by 5000 is {int(quotient)}.\")\n",
    "    "
   ]
  },
  {
   "cell_type": "markdown",
   "id": "7c3a018b",
   "metadata": {},
   "source": [
    "### Create Section Labels"
   ]
  },
  {
   "cell_type": "code",
   "execution_count": 14,
   "id": "5b5eb32d",
   "metadata": {},
   "outputs": [],
   "source": [
    "coms['textLen'] = coms.comments.apply(lambda row: len(row))\n",
    "coms['cumTxtLen'] = coms.textLen.cumsum()\n",
    "coms['section'] = np.ceil(coms.cumTxtLen/5000) # round all values up \n",
    "coms.section = coms.section.astype(int)"
   ]
  },
  {
   "cell_type": "code",
   "execution_count": 15,
   "id": "e14fd995",
   "metadata": {},
   "outputs": [
    {
     "name": "stdout",
     "output_type": "stream",
     "text": [
      "1\n",
      "0:: If exercise and/or the interaction with alcohol behaviors has really piqued your interest, make sure to check out my recent \"Sober October\" post series found on my Instagram: https://www.instagram.com/foundmyfitness Support the show as a premium member: https://www.foundmyfitness.com/crowdsponsor\n",
      "\n",
      "Thanks for watching! ::\n",
      "0:: if exercise and/or the interaction with alcohol behaviors has really piqued your interest, make sure to check out my recent \"sober october\" post series found on my instagram: https://www.instagram.com/foundmyfitness support the show as a premium member: https://www.foundmyfitness.com/crowdsponsor\n",
      "\n",
      "thanks for watching! ::\n",
      "2\n",
      "28:: That's hilarious. My alcoholic triathlete brother in law didn't get this memo. He ran 7 minute miles at 57 and was a massive alcoholic. He did his last iron man at 62. My addict late husband exercised all day long, surfed (a sport which is fraught with addiction and majorly challenging) and lifted weights. Tell the Marines who line the AA meetings in Quantico. I got kicked out of a full contact karate studio where I worked out every night like crazy, for maintenance drinking. This just shows you still don't understand. Read the doctor's opinion in the big book. He worked with drunks - alcoholism is different from drug addiction - for 40 years. Some biopsycho phenomenon occurs when two people work together. #36yearssober ::\n",
      "28:: that's hilarious. my alcoholic triathlete brother in law didn't get this memo. he ran 7 minute miles at 57 and was a massive alcoholic. he did his last iron man at 62. my addict late husband exercised all day long, surfed ,a sport which is fraught with addiction and majorly challenging, and lifted weights. tell the marines who line the aa meetings in quantico. i got kicked out of a full contact karate studio where i worked out every night like crazy, for maintenance drinking. this just shows you still don't understand. read the doctor's opinion in the big book. he worked with drunks - alcoholism is different from drug addiction - for 40 years. some biopsycho phenomenon occurs when two people work together. #36yearssober ::\n",
      "3\n",
      "45:: I LOVE this format (new to me maybe, just discovered it today)! It fits in with the level of unfamiliar jargon that I can personally absorb in one sitting. I have waded through some of your longer format videos with guests but I must admit I've rarely watched them all the way through. The impression I got from those was they were more than likely aimed at medical professionals. In this new format, the information flow is clear, salient points delineated and I like the \"Science Proof\" (as opposed to \"Social Proof\") of the study documentation being shown at left, as discussed. I appreciate the information that you share Dr. Patrick! ::\n",
      "45:: i love this format ,new to me maybe, just discovered it today,! it fits in with the level of unfamiliar jargon that i can personally absorb in one sitting. i have waded through some of your longer format videos with guests but i must admit i've rarely watched them all the way through. the impression i got from those was they were more than likely aimed at medical professionals. in this new format, the information flow is clear, salient points delineated and i like the \"science proof\" ,as opposed to \"social proof\", of the study documentation being shown at left, as discussed. i appreciate the information that you share dr. patrick! ::\n",
      "4\n",
      "71:: Per Chauncey W's message (see below).  Exercise has been an important adjunct in my Recovery of these past 10+ years.  It alone does not treat the disease but it is very helpful as an adjunct. Swapping addictions does not address the underlying psycho-emotional reasons for the addiction; all the same, a healthy one is preferred to a destructive one. \n",
      "\n",
      "Thanks Rhonda.  Keep up the Great Work! ::\n",
      "71:: per chauncey w's message ,see below,.  exercise has been an important adjunct in my recovery of these past 10+ years.  it alone does not treat the disease but it is very helpful as an adjunct. swapping addictions does not address the underlying psycho-emotional reasons for the addiction; all the same, a healthy one is preferred to a destructive one. \n",
      "\n",
      "thanks rhonda.  keep up the great work! ::\n",
      "5\n",
      "95:: The next time you have low level anxiety and are craving a drink go for a 5k run instead. The run has to be intense enough to break a sweat with your heart pounding etc.. Craving neutralized, it works. I did this for years before I quit drinking altogether. ::\n",
      "95:: the next time you have low level anxiety and are craving a drink go for a 5k run instead. the run has to be intense enough to break a sweat with your heart pounding etc.. craving neutralized, it works. i did this for years before i quit drinking altogether. ::\n"
     ]
    }
   ],
   "source": [
    "blocks = pd.DataFrame()\n",
    "for o in range(1,int(coms.section.max()+1)):\n",
    "    print(o)\n",
    "    df = coms.loc[coms.section == o]\n",
    "#     print(df.head(1))\n",
    "    df = df[['comments']]\n",
    "    text_block = create_text_block(df);# text_block    \n",
    "    \n",
    "    blocks = blocks.append({'text_block':text_block,'section':o},ignore_index=True)"
   ]
  },
  {
   "cell_type": "code",
   "execution_count": null,
   "id": "c5388a90",
   "metadata": {},
   "outputs": [],
   "source": [
    "df"
   ]
  },
  {
   "cell_type": "code",
   "execution_count": null,
   "id": "a7bcc870",
   "metadata": {},
   "outputs": [],
   "source": [
    "blocks.text_block[0]"
   ]
  },
  {
   "cell_type": "code",
   "execution_count": null,
   "id": "3201984d",
   "metadata": {},
   "outputs": [],
   "source": [
    "blocks.text_block[0]"
   ]
  },
  {
   "cell_type": "code",
   "execution_count": null,
   "id": "5e7d9fcf",
   "metadata": {},
   "outputs": [],
   "source": [
    "blocks[0][0][0]"
   ]
  },
  {
   "cell_type": "code",
   "execution_count": null,
   "id": "bdd5858e",
   "metadata": {},
   "outputs": [],
   "source": [
    "totalLen = 0\n",
    "for row in dfit.iterrows():\n",
    "    totalLen = totalLen + len(b[0])\n",
    "    print(b[0])\n",
    "    print()\n",
    "    print(len(b[0]))\n",
    "    print(totalLen)\n",
    "    \n",
    "    \n",
    "    "
   ]
  },
  {
   "cell_type": "code",
   "execution_count": null,
   "id": "769a0919",
   "metadata": {},
   "outputs": [],
   "source": []
  },
  {
   "cell_type": "code",
   "execution_count": null,
   "id": "8645b8e9",
   "metadata": {},
   "outputs": [],
   "source": [
    "i = 0\n",
    "for index, row in df.iterrows():\n",
    "    if i>len(df.col):\n",
    "        break\n",
    "    else:\n",
    "        f = open( str(i) + '.txt', 'w', encoding='utf-8')\n",
    "        f.write(row[0])\n",
    "        f.close()\n",
    "        i+=1\n"
   ]
  },
  {
   "cell_type": "code",
   "execution_count": null,
   "id": "8272f672",
   "metadata": {},
   "outputs": [],
   "source": [
    "# Send it all to Bern2\n",
    "output = query_plain(text=text_block);  "
   ]
  },
  {
   "cell_type": "code",
   "execution_count": null,
   "id": "d517b823",
   "metadata": {},
   "outputs": [],
   "source": [
    "output"
   ]
  },
  {
   "cell_type": "markdown",
   "id": "2facc485",
   "metadata": {},
   "source": [
    "## Try by comment"
   ]
  },
  {
   "cell_type": "code",
   "execution_count": null,
   "id": "b9acbd81",
   "metadata": {},
   "outputs": [],
   "source": [
    "coms.comments"
   ]
  },
  {
   "cell_type": "code",
   "execution_count": null,
   "id": "ca82bdf4",
   "metadata": {},
   "outputs": [],
   "source": [
    "df = pd.DataFrame()\n",
    "for o in coms.comments[:1]:\n",
    "    out = query_plain(text=o)\n",
    "    df = df.append({'out':out},ignore_index=True)\n",
    "df.tail()"
   ]
  },
  {
   "cell_type": "code",
   "execution_count": null,
   "id": "28431e99",
   "metadata": {},
   "outputs": [],
   "source": [
    "df2 = pd.DataFrame()\n",
    "for p,o in zip(df.index, df.out):\n",
    "    dft = pd.DataFrame(o['annotations'])\n",
    "    dft['comidx'] = p\n",
    "    df2 = df2.append(dft)\n",
    "df2\n",
    "    "
   ]
  },
  {
   "cell_type": "code",
   "execution_count": null,
   "id": "ed47c90c",
   "metadata": {},
   "outputs": [],
   "source": [
    "pd.DataFrame(df['annotations'])"
   ]
  },
  {
   "cell_type": "code",
   "execution_count": null,
   "id": "05276ed3",
   "metadata": {},
   "outputs": [],
   "source": []
  }
 ],
 "metadata": {
  "kernelspec": {
   "display_name": "Python 3 (ipykernel)",
   "language": "python",
   "name": "python3"
  },
  "language_info": {
   "codemirror_mode": {
    "name": "ipython",
    "version": 3
   },
   "file_extension": ".py",
   "mimetype": "text/x-python",
   "name": "python",
   "nbconvert_exporter": "python",
   "pygments_lexer": "ipython3",
   "version": "3.7.11"
  }
 },
 "nbformat": 4,
 "nbformat_minor": 5
}
