{
 "cells": [
  {
   "cell_type": "code",
   "execution_count": 1,
   "id": "2d162388",
   "metadata": {},
   "outputs": [],
   "source": [
    "#| default_exp fmf_biobert"
   ]
  },
  {
   "cell_type": "markdown",
   "id": "866d284d",
   "metadata": {},
   "source": [
    "# Found My Fitness Example\n",
    ">\"Here we'll try using elements from the biobertApi module to label biomedical terms in the comments section of a Found My Fitness Youtube video\""
   ]
  },
  {
   "cell_type": "code",
   "execution_count": 2,
   "id": "265ef6d2",
   "metadata": {},
   "outputs": [
    {
     "ename": "ModuleNotFoundError",
     "evalue": "No module named 'biobert_bern'",
     "output_type": "error",
     "traceback": [
      "\u001b[0;31m---------------------------------------------------------------------------\u001b[0m",
      "\u001b[0;31mModuleNotFoundError\u001b[0m                       Traceback (most recent call last)",
      "\u001b[0;32m/tmp/ipykernel_45/1756339172.py\u001b[0m in \u001b[0;36m<module>\u001b[0;34m\u001b[0m\n\u001b[1;32m      1\u001b[0m \u001b[0;31m#|hide\u001b[0m\u001b[0;34m\u001b[0m\u001b[0;34m\u001b[0m\u001b[0;34m\u001b[0m\u001b[0m\n\u001b[1;32m      2\u001b[0m \u001b[0;31m# import biobert-bern\u001b[0m\u001b[0;34m\u001b[0m\u001b[0;34m\u001b[0m\u001b[0;34m\u001b[0m\u001b[0m\n\u001b[0;32m----> 3\u001b[0;31m \u001b[0;32mfrom\u001b[0m \u001b[0mbiobert_bern\u001b[0m\u001b[0;34m.\u001b[0m\u001b[0mbiobertApi\u001b[0m \u001b[0;32mimport\u001b[0m \u001b[0;34m*\u001b[0m\u001b[0;34m\u001b[0m\u001b[0;34m\u001b[0m\u001b[0m\n\u001b[0m",
      "\u001b[0;31mModuleNotFoundError\u001b[0m: No module named 'biobert_bern'"
     ]
    }
   ],
   "source": [
    "#|hide\n",
    "# import biobert-bern \n",
    "from biobert_bern.biobertApi import *"
   ]
  },
  {
   "cell_type": "code",
   "execution_count": null,
   "id": "2bb78320",
   "metadata": {},
   "outputs": [],
   "source": [
    "# !pip install pathlib"
   ]
  },
  {
   "cell_type": "code",
   "execution_count": null,
   "id": "1b32be43",
   "metadata": {},
   "outputs": [],
   "source": [
    "import requests\n",
    "import re\n",
    "import pandas as pd\n",
    "from nbdev.showdoc import *\n",
    "import fastai\n",
    "from pathlib import *\n",
    "import numpy as np     "
   ]
  },
  {
   "cell_type": "code",
   "execution_count": null,
   "id": "a2c5f916",
   "metadata": {},
   "outputs": [],
   "source": [
    "path = Path('../..')\n",
    "comment_csv= 'found_my_fitness_UCWF8SqJVNlx-ctXbLswcTcA_youtube_comments_only_122rows.csv'"
   ]
  },
  {
   "cell_type": "code",
   "execution_count": null,
   "id": "130386d7",
   "metadata": {},
   "outputs": [],
   "source": [
    "coms = pd.read_csv(path/comment_csv)"
   ]
  },
  {
   "cell_type": "code",
   "execution_count": null,
   "id": "3900cc62",
   "metadata": {},
   "outputs": [],
   "source": [
    "coms.rename(columns = {'comment': 'comments'},inplace=True)"
   ]
  },
  {
   "cell_type": "code",
   "execution_count": null,
   "id": "f184e738",
   "metadata": {},
   "outputs": [],
   "source": [
    "coms.tail()"
   ]
  },
  {
   "cell_type": "markdown",
   "id": "7ede0187",
   "metadata": {},
   "source": [
    "# Create Text Block\n",
    "> Here we'll put all the text together"
   ]
  },
  {
   "cell_type": "code",
   "execution_count": null,
   "id": "86261de2",
   "metadata": {},
   "outputs": [],
   "source": [
    "# coms = coms[['textDisplay']]\n",
    "# coms.rename(columns={'textDisplay':'comments'},inplace=True)"
   ]
  },
  {
   "cell_type": "code",
   "execution_count": null,
   "id": "633b9d14",
   "metadata": {},
   "outputs": [],
   "source": [
    "text_block = create_text_block(df=coms);# text_block"
   ]
  },
  {
   "cell_type": "code",
   "execution_count": null,
   "id": "d178451b",
   "metadata": {},
   "outputs": [],
   "source": [
    "text_block[:500]"
   ]
  },
  {
   "cell_type": "markdown",
   "id": "0a476c84",
   "metadata": {},
   "source": [
    "### Get Comment Spans"
   ]
  },
  {
   "cell_type": "code",
   "execution_count": null,
   "id": "7081e3b1",
   "metadata": {},
   "outputs": [],
   "source": [
    "# dfi = get_comment_spans_textblock(text_block); dfi.tail(3)"
   ]
  },
  {
   "cell_type": "code",
   "execution_count": null,
   "id": "f7ad2b6c",
   "metadata": {},
   "outputs": [],
   "source": [
    "len(text_block)"
   ]
  },
  {
   "cell_type": "markdown",
   "id": "7c3a018b",
   "metadata": {},
   "source": [
    "### Create Section Labels"
   ]
  },
  {
   "cell_type": "code",
   "execution_count": null,
   "id": "5b5eb32d",
   "metadata": {},
   "outputs": [],
   "source": [
    "coms['textLen'] = coms.comidx.apply(lambda row: len(row))\n",
    "coms['cumTxtLen'] = coms.textLen.cumsum()\n",
    "# coms['section'] = np.ceil(coms.cumTxtLen/5000) # round all values up \n",
    "# coms.section = coms.section.astype(int)"
   ]
  },
  {
   "cell_type": "code",
   "execution_count": null,
   "id": "d1b53fcd",
   "metadata": {
    "scrolled": true
   },
   "outputs": [],
   "source": [
    "coms"
   ]
  },
  {
   "cell_type": "code",
   "execution_count": null,
   "id": "1d5af5aa",
   "metadata": {},
   "outputs": [],
   "source": [
    "c2=coms"
   ]
  },
  {
   "cell_type": "code",
   "execution_count": null,
   "id": "e3632139",
   "metadata": {
    "scrolled": true
   },
   "outputs": [],
   "source": [
    "c3 = c2[c2.cumTxtLen >5000]\n",
    "c2 = c2[c2.cumTxtLen <5000]\n",
    "c2['section'] = 1\n",
    "c3['cumTxtLen'] = c3.textLen.cumsum()\n",
    "c3 = c3[c3.cumTxtLen <5000]\n",
    "c3['section'] = 2"
   ]
  },
  {
   "cell_type": "markdown",
   "id": "7fcce4c8",
   "metadata": {},
   "source": [
    "## Now start splitting off all the cumsums <5000 and stack them back together."
   ]
  },
  {
   "cell_type": "code",
   "execution_count": null,
   "id": "a26516ad",
   "metadata": {},
   "outputs": [],
   "source": [
    "c2"
   ]
  },
  {
   "cell_type": "code",
   "execution_count": null,
   "id": "8ea7cd82",
   "metadata": {},
   "outputs": [],
   "source": [
    "c3"
   ]
  },
  {
   "cell_type": "code",
   "execution_count": 71,
   "id": "892f7997",
   "metadata": {},
   "outputs": [],
   "source": [
    "### coms['cumTxtLen'] = coms.textLen.cumsum()"
   ]
  },
  {
   "cell_type": "code",
   "execution_count": 45,
   "id": "a7bcc870",
   "metadata": {},
   "outputs": [
    {
     "name": "stdout",
     "output_type": "stream",
     "text": [
      "4811\n",
      "5352\n",
      "5250\n",
      "5368\n",
      "3691\n"
     ]
    }
   ],
   "source": [
    "for o in blocks.text_block:\n",
    "    print(len(o))"
   ]
  },
  {
   "cell_type": "code",
   "execution_count": null,
   "id": "8272f672",
   "metadata": {},
   "outputs": [],
   "source": [
    "# # Send it all to Bern2\n",
    "# output = query_plain(text=text_block);  "
   ]
  },
  {
   "cell_type": "markdown",
   "id": "2facc485",
   "metadata": {},
   "source": [
    "## Try by comment"
   ]
  },
  {
   "cell_type": "code",
   "execution_count": 35,
   "id": "ca82bdf4",
   "metadata": {},
   "outputs": [
    {
     "name": "stdout",
     "output_type": "stream",
     "text": [
      "4811\n",
      "5352\n"
     ]
    }
   ],
   "source": [
    "df = pd.DataFrame()\n",
    "for o in blocks.text_block[:2]:\n",
    "    print( len(o))\n",
    "#     out = query_plain(text=o)\n",
    "#     df = df.append({'out':out},ignore_index=True)\n",
    "# df.tail()"
   ]
  },
  {
   "cell_type": "code",
   "execution_count": 33,
   "id": "913f4230",
   "metadata": {},
   "outputs": [
    {
     "data": {
      "text/plain": [
       "[{'id': ['CHEBI:16236'],\n",
       "  'is_neural_normalized': False,\n",
       "  'mention': 'alcohol',\n",
       "  'obj': 'drug',\n",
       "  'prob': 0.9939329028129578,\n",
       "  'span': {'begin': 44, 'end': 51}},\n",
       " {'id': ['CUI-less'],\n",
       "  'is_neural_normalized': False,\n",
       "  'mention': 'rhonda',\n",
       "  'obj': 'species',\n",
       "  'prob': 0.3655291199684143,\n",
       "  'span': {'begin': 333, 'end': 339}},\n",
       " {'id': ['CUI-less'],\n",
       "  'is_neural_normalized': False,\n",
       "  'mention': 'ayahuasca',\n",
       "  'obj': 'species',\n",
       "  'prob': 0.6412533521652222,\n",
       "  'span': {'begin': 408, 'end': 417}},\n",
       " {'id': ['CHEBI:8614'],\n",
       "  'is_neural_normalized': False,\n",
       "  'mention': 'psylocybin',\n",
       "  'obj': 'drug',\n",
       "  'prob': 0.9987693428993225,\n",
       "  'span': {'begin': 421, 'end': 431}},\n",
       " {'id': ['CHEBI:16236'],\n",
       "  'is_neural_normalized': False,\n",
       "  'mention': 'alcohol',\n",
       "  'obj': 'drug',\n",
       "  'prob': 0.7819486260414124,\n",
       "  'span': {'begin': 467, 'end': 474}},\n",
       " {'id': ['NCBITaxon:9606'],\n",
       "  'is_neural_normalized': False,\n",
       "  'mention': 'patients',\n",
       "  'obj': 'species',\n",
       "  'prob': 0.9936095476150513,\n",
       "  'span': {'begin': 485, 'end': 493}},\n",
       " {'id': ['NCBIGene:26291'],\n",
       "  'is_neural_normalized': False,\n",
       "  'mention': 'fgf21',\n",
       "  'obj': 'gene',\n",
       "  'prob': 0.987090528011322,\n",
       "  'span': {'begin': 527, 'end': 532}},\n",
       " {'id': ['NCBIGene:26291'],\n",
       "  'is_neural_normalized': False,\n",
       "  'mention': 'fgf21',\n",
       "  'obj': 'gene',\n",
       "  'prob': 0.997523844242096,\n",
       "  'span': {'begin': 693, 'end': 698}},\n",
       " {'id': ['NCBIGene:26291'],\n",
       "  'is_neural_normalized': False,\n",
       "  'mention': 'fgf21',\n",
       "  'obj': 'gene',\n",
       "  'prob': 0.9791011810302734,\n",
       "  'span': {'begin': 816, 'end': 821}},\n",
       " {'id': ['CHEBI:16236'],\n",
       "  'is_neural_normalized': False,\n",
       "  'mention': 'alcohol',\n",
       "  'obj': 'drug',\n",
       "  'prob': 0.997047483921051,\n",
       "  'span': {'begin': 851, 'end': 858}},\n",
       " {'id': ['CHEBI:16236'],\n",
       "  'is_neural_normalized': False,\n",
       "  'mention': 'alcohol',\n",
       "  'obj': 'drug',\n",
       "  'prob': 0.9991783499717712,\n",
       "  'span': {'begin': 904, 'end': 911}},\n",
       " {'id': ['NCBITaxon:9606'],\n",
       "  'is_neural_normalized': False,\n",
       "  'mention': 'participants',\n",
       "  'obj': 'species',\n",
       "  'prob': 0.9617589712142944,\n",
       "  'span': {'begin': 1218, 'end': 1230}},\n",
       " {'id': ['CHEBI:16236'],\n",
       "  'is_neural_normalized': False,\n",
       "  'mention': 'alcohol',\n",
       "  'obj': 'drug',\n",
       "  'prob': 0.9730572700500488,\n",
       "  'span': {'begin': 1802, 'end': 1809}},\n",
       " {'id': ['CHEBI:15927'],\n",
       "  'is_neural_normalized': False,\n",
       "  'mention': 'nicotinamide riboside',\n",
       "  'obj': 'drug',\n",
       "  'prob': 0.9992363452911377,\n",
       "  'span': {'begin': 1836, 'end': 1857}},\n",
       " {'id': ['mesh:D009369'],\n",
       "  'is_neural_normalized': False,\n",
       "  'mention': 'cancer',\n",
       "  'obj': 'disease',\n",
       "  'prob': 0.9999864101409912,\n",
       "  'span': {'begin': 1937, 'end': 1943}},\n",
       " {'id': ['NCBITaxon:9031'],\n",
       "  'is_neural_normalized': False,\n",
       "  'mention': 'chick',\n",
       "  'obj': 'species',\n",
       "  'prob': 0.7930113673210144,\n",
       "  'span': {'begin': 3056, 'end': 3061}},\n",
       " {'id': ['NCBIGene:26291'],\n",
       "  'is_neural_normalized': False,\n",
       "  'mention': 'fgf-21',\n",
       "  'obj': 'gene',\n",
       "  'prob': 0.9928784370422363,\n",
       "  'span': {'begin': 3320, 'end': 3326}},\n",
       " {'id': ['mesh:D010842'],\n",
       "  'is_neural_normalized': True,\n",
       "  'mention': 'alcohol craving',\n",
       "  'obj': 'disease',\n",
       "  'prob': 0.6095597743988037,\n",
       "  'span': {'begin': 3653, 'end': 3668}},\n",
       " {'id': ['CHEBI:16236'],\n",
       "  'is_neural_normalized': False,\n",
       "  'mention': 'alcohol',\n",
       "  'obj': 'drug',\n",
       "  'prob': 0.991496205329895,\n",
       "  'span': {'begin': 3653, 'end': 3660}},\n",
       " {'id': ['CUI-less'],\n",
       "  'is_neural_normalized': False,\n",
       "  'mention': 'fgf',\n",
       "  'obj': 'DNA',\n",
       "  'prob': 0.6026065349578857,\n",
       "  'span': {'begin': 4072, 'end': 4075}},\n",
       " {'id': ['NCBIGene:26291'],\n",
       "  'is_neural_normalized': False,\n",
       "  'mention': 'fgf-21',\n",
       "  'obj': 'gene',\n",
       "  'prob': 0.9917986989021301,\n",
       "  'span': {'begin': 4072, 'end': 4078}},\n",
       " {'id': ['NCBIGene:26291'],\n",
       "  'is_neural_normalized': False,\n",
       "  'mention': 'fgf21',\n",
       "  'obj': 'gene',\n",
       "  'prob': 0.9831632971763611,\n",
       "  'span': {'begin': 4218, 'end': 4223}},\n",
       " {'id': ['NCBIGene:26291'],\n",
       "  'is_neural_normalized': False,\n",
       "  'mention': 'fgf21',\n",
       "  'obj': 'gene',\n",
       "  'prob': 0.9933666586875916,\n",
       "  'span': {'begin': 4349, 'end': 4354}},\n",
       " {'id': ['mesh:D000437', 'mim:103780'],\n",
       "  'is_neural_normalized': False,\n",
       "  'mention': 'alcohol abuse disorder',\n",
       "  'obj': 'disease',\n",
       "  'prob': 0.9989554286003113,\n",
       "  'span': {'begin': 4359, 'end': 4381}},\n",
       " {'id': ['CHEBI:16236'],\n",
       "  'is_neural_normalized': False,\n",
       "  'mention': 'alcohol',\n",
       "  'obj': 'drug',\n",
       "  'prob': 0.9076305031776428,\n",
       "  'span': {'begin': 4359, 'end': 4366}}]"
      ]
     },
     "execution_count": 33,
     "metadata": {},
     "output_type": "execute_result"
    }
   ],
   "source": [
    "df.out[0]['annotations']"
   ]
  },
  {
   "cell_type": "code",
   "execution_count": 26,
   "id": "28431e99",
   "metadata": {},
   "outputs": [
    {
     "data": {
      "text/html": [
       "<div>\n",
       "<style scoped>\n",
       "    .dataframe tbody tr th:only-of-type {\n",
       "        vertical-align: middle;\n",
       "    }\n",
       "\n",
       "    .dataframe tbody tr th {\n",
       "        vertical-align: top;\n",
       "    }\n",
       "\n",
       "    .dataframe thead th {\n",
       "        text-align: right;\n",
       "    }\n",
       "</style>\n",
       "<table border=\"1\" class=\"dataframe\">\n",
       "  <thead>\n",
       "    <tr style=\"text-align: right;\">\n",
       "      <th></th>\n",
       "      <th>comidx</th>\n",
       "    </tr>\n",
       "  </thead>\n",
       "  <tbody>\n",
       "  </tbody>\n",
       "</table>\n",
       "</div>"
      ],
      "text/plain": [
       "Empty DataFrame\n",
       "Columns: [comidx]\n",
       "Index: []"
      ]
     },
     "execution_count": 26,
     "metadata": {},
     "output_type": "execute_result"
    }
   ],
   "source": [
    "df2 = pd.DataFrame()\n",
    "for p,o in zip(df.index, df.out):    \n",
    "    dft = pd.DataFrame(o['annotations'])\n",
    "    dft['comidx'] = p\n",
    "    df2 = df2.append(dft)\n",
    "df2"
   ]
  },
  {
   "cell_type": "code",
   "execution_count": 25,
   "id": "aa3bc075",
   "metadata": {},
   "outputs": [
    {
     "data": {
      "text/html": [
       "<div>\n",
       "<style scoped>\n",
       "    .dataframe tbody tr th:only-of-type {\n",
       "        vertical-align: middle;\n",
       "    }\n",
       "\n",
       "    .dataframe tbody tr th {\n",
       "        vertical-align: top;\n",
       "    }\n",
       "\n",
       "    .dataframe thead th {\n",
       "        text-align: right;\n",
       "    }\n",
       "</style>\n",
       "<table border=\"1\" class=\"dataframe\">\n",
       "  <thead>\n",
       "    <tr style=\"text-align: right;\">\n",
       "      <th></th>\n",
       "      <th>comidx</th>\n",
       "    </tr>\n",
       "  </thead>\n",
       "  <tbody>\n",
       "  </tbody>\n",
       "</table>\n",
       "</div>"
      ],
      "text/plain": [
       "Empty DataFrame\n",
       "Columns: [comidx]\n",
       "Index: []"
      ]
     },
     "execution_count": 25,
     "metadata": {},
     "output_type": "execute_result"
    }
   ],
   "source": [
    "df2"
   ]
  },
  {
   "cell_type": "code",
   "execution_count": 24,
   "id": "ed47c90c",
   "metadata": {},
   "outputs": [
    {
     "ename": "KeyError",
     "evalue": "'annotations'",
     "output_type": "error",
     "traceback": [
      "\u001b[0;31m---------------------------------------------------------------------------\u001b[0m",
      "\u001b[0;31mKeyError\u001b[0m                                  Traceback (most recent call last)",
      "\u001b[0;32m/opt/conda/lib/python3.7/site-packages/pandas/core/indexes/base.py\u001b[0m in \u001b[0;36mget_loc\u001b[0;34m(self, key, method, tolerance)\u001b[0m\n\u001b[1;32m   3360\u001b[0m             \u001b[0;32mtry\u001b[0m\u001b[0;34m:\u001b[0m\u001b[0;34m\u001b[0m\u001b[0;34m\u001b[0m\u001b[0m\n\u001b[0;32m-> 3361\u001b[0;31m                 \u001b[0;32mreturn\u001b[0m \u001b[0mself\u001b[0m\u001b[0;34m.\u001b[0m\u001b[0m_engine\u001b[0m\u001b[0;34m.\u001b[0m\u001b[0mget_loc\u001b[0m\u001b[0;34m(\u001b[0m\u001b[0mcasted_key\u001b[0m\u001b[0;34m)\u001b[0m\u001b[0;34m\u001b[0m\u001b[0;34m\u001b[0m\u001b[0m\n\u001b[0m\u001b[1;32m   3362\u001b[0m             \u001b[0;32mexcept\u001b[0m \u001b[0mKeyError\u001b[0m \u001b[0;32mas\u001b[0m \u001b[0merr\u001b[0m\u001b[0;34m:\u001b[0m\u001b[0;34m\u001b[0m\u001b[0;34m\u001b[0m\u001b[0m\n",
      "\u001b[0;32m/opt/conda/lib/python3.7/site-packages/pandas/_libs/index.pyx\u001b[0m in \u001b[0;36mpandas._libs.index.IndexEngine.get_loc\u001b[0;34m()\u001b[0m\n",
      "\u001b[0;32m/opt/conda/lib/python3.7/site-packages/pandas/_libs/index.pyx\u001b[0m in \u001b[0;36mpandas._libs.index.IndexEngine.get_loc\u001b[0;34m()\u001b[0m\n",
      "\u001b[0;32mpandas/_libs/hashtable_class_helper.pxi\u001b[0m in \u001b[0;36mpandas._libs.hashtable.PyObjectHashTable.get_item\u001b[0;34m()\u001b[0m\n",
      "\u001b[0;32mpandas/_libs/hashtable_class_helper.pxi\u001b[0m in \u001b[0;36mpandas._libs.hashtable.PyObjectHashTable.get_item\u001b[0;34m()\u001b[0m\n",
      "\u001b[0;31mKeyError\u001b[0m: 'annotations'",
      "\nThe above exception was the direct cause of the following exception:\n",
      "\u001b[0;31mKeyError\u001b[0m                                  Traceback (most recent call last)",
      "\u001b[0;32m/tmp/ipykernel_91/1295860583.py\u001b[0m in \u001b[0;36m<module>\u001b[0;34m\u001b[0m\n\u001b[0;32m----> 1\u001b[0;31m \u001b[0mpd\u001b[0m\u001b[0;34m.\u001b[0m\u001b[0mDataFrame\u001b[0m\u001b[0;34m(\u001b[0m\u001b[0mdf\u001b[0m\u001b[0;34m[\u001b[0m\u001b[0;34m'annotations'\u001b[0m\u001b[0;34m]\u001b[0m\u001b[0;34m)\u001b[0m\u001b[0;34m\u001b[0m\u001b[0;34m\u001b[0m\u001b[0m\n\u001b[0m",
      "\u001b[0;32m/opt/conda/lib/python3.7/site-packages/pandas/core/frame.py\u001b[0m in \u001b[0;36m__getitem__\u001b[0;34m(self, key)\u001b[0m\n\u001b[1;32m   3456\u001b[0m             \u001b[0;32mif\u001b[0m \u001b[0mself\u001b[0m\u001b[0;34m.\u001b[0m\u001b[0mcolumns\u001b[0m\u001b[0;34m.\u001b[0m\u001b[0mnlevels\u001b[0m \u001b[0;34m>\u001b[0m \u001b[0;36m1\u001b[0m\u001b[0;34m:\u001b[0m\u001b[0;34m\u001b[0m\u001b[0;34m\u001b[0m\u001b[0m\n\u001b[1;32m   3457\u001b[0m                 \u001b[0;32mreturn\u001b[0m \u001b[0mself\u001b[0m\u001b[0;34m.\u001b[0m\u001b[0m_getitem_multilevel\u001b[0m\u001b[0;34m(\u001b[0m\u001b[0mkey\u001b[0m\u001b[0;34m)\u001b[0m\u001b[0;34m\u001b[0m\u001b[0;34m\u001b[0m\u001b[0m\n\u001b[0;32m-> 3458\u001b[0;31m             \u001b[0mindexer\u001b[0m \u001b[0;34m=\u001b[0m \u001b[0mself\u001b[0m\u001b[0;34m.\u001b[0m\u001b[0mcolumns\u001b[0m\u001b[0;34m.\u001b[0m\u001b[0mget_loc\u001b[0m\u001b[0;34m(\u001b[0m\u001b[0mkey\u001b[0m\u001b[0;34m)\u001b[0m\u001b[0;34m\u001b[0m\u001b[0;34m\u001b[0m\u001b[0m\n\u001b[0m\u001b[1;32m   3459\u001b[0m             \u001b[0;32mif\u001b[0m \u001b[0mis_integer\u001b[0m\u001b[0;34m(\u001b[0m\u001b[0mindexer\u001b[0m\u001b[0;34m)\u001b[0m\u001b[0;34m:\u001b[0m\u001b[0;34m\u001b[0m\u001b[0;34m\u001b[0m\u001b[0m\n\u001b[1;32m   3460\u001b[0m                 \u001b[0mindexer\u001b[0m \u001b[0;34m=\u001b[0m \u001b[0;34m[\u001b[0m\u001b[0mindexer\u001b[0m\u001b[0;34m]\u001b[0m\u001b[0;34m\u001b[0m\u001b[0;34m\u001b[0m\u001b[0m\n",
      "\u001b[0;32m/opt/conda/lib/python3.7/site-packages/pandas/core/indexes/base.py\u001b[0m in \u001b[0;36mget_loc\u001b[0;34m(self, key, method, tolerance)\u001b[0m\n\u001b[1;32m   3361\u001b[0m                 \u001b[0;32mreturn\u001b[0m \u001b[0mself\u001b[0m\u001b[0;34m.\u001b[0m\u001b[0m_engine\u001b[0m\u001b[0;34m.\u001b[0m\u001b[0mget_loc\u001b[0m\u001b[0;34m(\u001b[0m\u001b[0mcasted_key\u001b[0m\u001b[0;34m)\u001b[0m\u001b[0;34m\u001b[0m\u001b[0;34m\u001b[0m\u001b[0m\n\u001b[1;32m   3362\u001b[0m             \u001b[0;32mexcept\u001b[0m \u001b[0mKeyError\u001b[0m \u001b[0;32mas\u001b[0m \u001b[0merr\u001b[0m\u001b[0;34m:\u001b[0m\u001b[0;34m\u001b[0m\u001b[0;34m\u001b[0m\u001b[0m\n\u001b[0;32m-> 3363\u001b[0;31m                 \u001b[0;32mraise\u001b[0m \u001b[0mKeyError\u001b[0m\u001b[0;34m(\u001b[0m\u001b[0mkey\u001b[0m\u001b[0;34m)\u001b[0m \u001b[0;32mfrom\u001b[0m \u001b[0merr\u001b[0m\u001b[0;34m\u001b[0m\u001b[0;34m\u001b[0m\u001b[0m\n\u001b[0m\u001b[1;32m   3364\u001b[0m \u001b[0;34m\u001b[0m\u001b[0m\n\u001b[1;32m   3365\u001b[0m         \u001b[0;32mif\u001b[0m \u001b[0mis_scalar\u001b[0m\u001b[0;34m(\u001b[0m\u001b[0mkey\u001b[0m\u001b[0;34m)\u001b[0m \u001b[0;32mand\u001b[0m \u001b[0misna\u001b[0m\u001b[0;34m(\u001b[0m\u001b[0mkey\u001b[0m\u001b[0;34m)\u001b[0m \u001b[0;32mand\u001b[0m \u001b[0;32mnot\u001b[0m \u001b[0mself\u001b[0m\u001b[0;34m.\u001b[0m\u001b[0mhasnans\u001b[0m\u001b[0;34m:\u001b[0m\u001b[0;34m\u001b[0m\u001b[0;34m\u001b[0m\u001b[0m\n",
      "\u001b[0;31mKeyError\u001b[0m: 'annotations'"
     ]
    }
   ],
   "source": [
    "pd.DataFrame(df['annotations'])"
   ]
  },
  {
   "cell_type": "code",
   "execution_count": null,
   "id": "05276ed3",
   "metadata": {},
   "outputs": [],
   "source": []
  }
 ],
 "metadata": {
  "kernelspec": {
   "display_name": "Python 3 (ipykernel)",
   "language": "python",
   "name": "python3"
  },
  "language_info": {
   "codemirror_mode": {
    "name": "ipython",
    "version": 3
   },
   "file_extension": ".py",
   "mimetype": "text/x-python",
   "name": "python",
   "nbconvert_exporter": "python",
   "pygments_lexer": "ipython3",
   "version": "3.7.11"
  }
 },
 "nbformat": 4,
 "nbformat_minor": 5
}
