{
 "cells": [
  {
   "cell_type": "markdown",
   "id": "87f7b651",
   "metadata": {},
   "source": [
    "# Found My Fitness Example"
   ]
  },
  {
   "cell_type": "code",
   "execution_count": null,
   "id": "2d162388",
   "metadata": {},
   "outputs": [],
   "source": [
    "#| default_exp fmf_biobert"
   ]
  },
  {
   "cell_type": "markdown",
   "id": "83bc5b70",
   "metadata": {},
   "source": [
    "Here we'll try using elements from the biobertApi module to label biomedical terms in the comments section of a Found My Fitness youtube video that looks like this :\n",
    "\n",
    ">#### Import all functions from [PyPi](https://pypi.org/project/biobert-bern/0.0.1/) by typing into your terminal: \n",
    "pip install biobert-bern\n",
    "\n",
    "><a href=\"http://www.youtube.com/watch?feature=player_embedded&v=g4QqJoox8tc\n",
    "\" target=\"_blank\"><img src=\"http://img.youtube.com/vi/g4QqJoox8tc/0.jpg\" \n",
    "alt=\"IMAGE Youtube Vid\" width=\"240\" height=\"180\" border=\"10\" /></a>\n",
    ">>>![alt text](fmf_biobert_bern.png \"Found My Fitness Youtube Video\")"
   ]
  },
  {
   "cell_type": "markdown",
   "id": "82438181",
   "metadata": {},
   "source": [
    "## Load Libraries and Data\n",
    "> First we'll load all libraries we'll need and the YouTube comments for labeling"
   ]
  },
  {
   "cell_type": "code",
   "execution_count": null,
   "id": "30085352",
   "metadata": {},
   "outputs": [
    {
     "name": "stdout",
     "output_type": "stream",
     "text": [
      "Less than 5k characters. Only 1 block necessary.\n"
     ]
    }
   ],
   "source": [
    "from biobert_bern.biobertApi import *  #this grabs all functions from biobertApi .py file"
   ]
  },
  {
   "cell_type": "code",
   "execution_count": null,
   "id": "1b32be43",
   "metadata": {},
   "outputs": [],
   "source": [
    "import requests\n",
    "import re\n",
    "import pandas as pd\n",
    "from nbdev.showdoc import *\n",
    "import fastai\n",
    "from pathlib import *\n",
    "import numpy as np     \n",
    "import seaborn as sns\n",
    "import matplotlib.pyplot as plt"
   ]
  },
  {
   "cell_type": "code",
   "execution_count": null,
   "id": "a2c5f916",
   "metadata": {},
   "outputs": [],
   "source": [
    "path = Path('./text_sample') # save path\n",
    "comment_csv= 'found_my_fitness_UCWF8SqJVNlx-ctXbLswcTcA_youtube_comments_only_121rows.csv'\n",
    "coms = pd.read_csv(path/comment_csv) #load csv\n",
    "coms.rename(columns = {'comment': 'comments'},inplace=True) # rename comment to comments"
   ]
  },
  {
   "cell_type": "markdown",
   "id": "2ccb6eed",
   "metadata": {},
   "source": [
    "## Now start splitting off all the cumsums <5000 and stack them back together.\n",
    "> The BERN api will only let us send text that is less thatn 5k characters at a time so we'll block the comments together in groups that are less than 5k each"
   ]
  },
  {
   "cell_type": "markdown",
   "id": "3f4eb400",
   "metadata": {},
   "source": [
    "### Create Section Labels"
   ]
  },
  {
   "cell_type": "code",
   "execution_count": null,
   "id": "ff503318",
   "metadata": {},
   "outputs": [
    {
     "data": {
      "text/html": [
       "<div>\n",
       "<style scoped>\n",
       "    .dataframe tbody tr th:only-of-type {\n",
       "        vertical-align: middle;\n",
       "    }\n",
       "\n",
       "    .dataframe tbody tr th {\n",
       "        vertical-align: top;\n",
       "    }\n",
       "\n",
       "    .dataframe thead th {\n",
       "        text-align: right;\n",
       "    }\n",
       "</style>\n",
       "<table border=\"1\" class=\"dataframe\">\n",
       "  <thead>\n",
       "    <tr style=\"text-align: right;\">\n",
       "      <th></th>\n",
       "      <th>idx</th>\n",
       "      <th>vid_id</th>\n",
       "      <th>vid_channel_id</th>\n",
       "      <th>vid_deets</th>\n",
       "      <th>vid_response</th>\n",
       "      <th>title</th>\n",
       "      <th>publishedAt</th>\n",
       "      <th>tcomment_id</th>\n",
       "      <th>tcresponse</th>\n",
       "      <th>textDisplay</th>\n",
       "      <th>textOriginal</th>\n",
       "      <th>totalReplyCount</th>\n",
       "      <th>rep_comment</th>\n",
       "      <th>reply_id</th>\n",
       "      <th>comments</th>\n",
       "      <th>authorChannelId</th>\n",
       "      <th>com_id</th>\n",
       "      <th>comidx</th>\n",
       "    </tr>\n",
       "  </thead>\n",
       "  <tbody>\n",
       "    <tr>\n",
       "      <th>119</th>\n",
       "      <td>119</td>\n",
       "      <td>g4QqJoox8tc</td>\n",
       "      <td>NaN</td>\n",
       "      <td>NaN</td>\n",
       "      <td>NaN</td>\n",
       "      <td>NaN</td>\n",
       "      <td>2022-11-02T11:20:13Z</td>\n",
       "      <td>NaN</td>\n",
       "      <td>{'kind': 'youtube#comment', 'etag': 'yd5KSzb3_...</td>\n",
       "      <td>... and they said it gives you the munchies.</td>\n",
       "      <td>... and they said it gives you the munchies.</td>\n",
       "      <td>NaN</td>\n",
       "      <td>{'kind': 'youtube#comment', 'etag': 'yd5KSzb3_...</td>\n",
       "      <td>Ugy2ZO2t370rDO-eWoZ4AaABAg.9husbe2WJcN9hvjM9rBbfr</td>\n",
       "      <td>... and they said it gives you the munchies.</td>\n",
       "      <td>UCiKwxLKyahZ2INq3VljI4DQ</td>\n",
       "      <td>Ugy2ZO2t370rDO-eWoZ4AaABAg.9husbe2WJcN9hvjM9rBbfr</td>\n",
       "      <td>119:: ... and they said it gives you the munch...</td>\n",
       "    </tr>\n",
       "    <tr>\n",
       "      <th>120</th>\n",
       "      <td>120</td>\n",
       "      <td>g4QqJoox8tc</td>\n",
       "      <td>NaN</td>\n",
       "      <td>NaN</td>\n",
       "      <td>NaN</td>\n",
       "      <td>NaN</td>\n",
       "      <td>2022-11-02T03:07:55Z</td>\n",
       "      <td>Ugx3lPLxH7NyOIZxzEl4AaABAg</td>\n",
       "      <td>{'kind': 'youtube#commentThread', 'etag': 'Gzv...</td>\n",
       "      <td>My first thought was Rich Roll</td>\n",
       "      <td>My first thought was Rich Roll</td>\n",
       "      <td>0.0</td>\n",
       "      <td>NaN</td>\n",
       "      <td>NaN</td>\n",
       "      <td>My first thought was Rich Roll</td>\n",
       "      <td>UC_-vIy5tSDQWnAV0xM2B53w</td>\n",
       "      <td>Ugx3lPLxH7NyOIZxzEl4AaABAg</td>\n",
       "      <td>120:: my first thought was rich roll ::</td>\n",
       "    </tr>\n",
       "  </tbody>\n",
       "</table>\n",
       "</div>"
      ],
      "text/plain": [
       "     idx       vid_id  vid_channel_id  vid_deets  vid_response  title  \\\n",
       "119  119  g4QqJoox8tc             NaN        NaN           NaN    NaN   \n",
       "120  120  g4QqJoox8tc             NaN        NaN           NaN    NaN   \n",
       "\n",
       "              publishedAt                 tcomment_id  \\\n",
       "119  2022-11-02T11:20:13Z                         NaN   \n",
       "120  2022-11-02T03:07:55Z  Ugx3lPLxH7NyOIZxzEl4AaABAg   \n",
       "\n",
       "                                            tcresponse  \\\n",
       "119  {'kind': 'youtube#comment', 'etag': 'yd5KSzb3_...   \n",
       "120  {'kind': 'youtube#commentThread', 'etag': 'Gzv...   \n",
       "\n",
       "                                      textDisplay  \\\n",
       "119  ... and they said it gives you the munchies.   \n",
       "120                My first thought was Rich Roll   \n",
       "\n",
       "                                     textOriginal  totalReplyCount  \\\n",
       "119  ... and they said it gives you the munchies.              NaN   \n",
       "120                My first thought was Rich Roll              0.0   \n",
       "\n",
       "                                           rep_comment  \\\n",
       "119  {'kind': 'youtube#comment', 'etag': 'yd5KSzb3_...   \n",
       "120                                                NaN   \n",
       "\n",
       "                                              reply_id  \\\n",
       "119  Ugy2ZO2t370rDO-eWoZ4AaABAg.9husbe2WJcN9hvjM9rBbfr   \n",
       "120                                                NaN   \n",
       "\n",
       "                                         comments           authorChannelId  \\\n",
       "119  ... and they said it gives you the munchies.  UCiKwxLKyahZ2INq3VljI4DQ   \n",
       "120                My first thought was Rich Roll  UC_-vIy5tSDQWnAV0xM2B53w   \n",
       "\n",
       "                                                com_id  \\\n",
       "119  Ugy2ZO2t370rDO-eWoZ4AaABAg.9husbe2WJcN9hvjM9rBbfr   \n",
       "120                         Ugx3lPLxH7NyOIZxzEl4AaABAg   \n",
       "\n",
       "                                                comidx  \n",
       "119  119:: ... and they said it gives you the munch...  \n",
       "120            120:: my first thought was rich roll ::  "
      ]
     },
     "execution_count": null,
     "metadata": {},
     "output_type": "execute_result"
    }
   ],
   "source": [
    "coms = create_com_with_idx(coms); coms.tail(2)"
   ]
  },
  {
   "cell_type": "markdown",
   "id": "7ede0187",
   "metadata": {},
   "source": [
    "## Create Text Blocks\n",
    "> Here we'll put all the text together into blocks of 5,000 characters or less.  5k characters is the API limit on the BERN biobert labeler model."
   ]
  },
  {
   "cell_type": "code",
   "execution_count": null,
   "id": "633b9d14",
   "metadata": {},
   "outputs": [],
   "source": [
    "%%capture\n",
    "blocks = create_all_text_blocks(df=coms)"
   ]
  },
  {
   "cell_type": "markdown",
   "id": "d7ee090f",
   "metadata": {},
   "source": [
    "### Check the top and bottom text blocks"
   ]
  },
  {
   "cell_type": "code",
   "execution_count": null,
   "id": "0ea0752c",
   "metadata": {},
   "outputs": [
    {
     "name": "stdout",
     "output_type": "stream",
     "text": [
      "0:: if exercise and/or the interaction with alcoho\n",
      "\n",
      "23:: i wish i workout 6 days a week hard and when \n",
      "\n",
      "... \n",
      "\n",
      "81:: as a recovering alcoholic, damn sign me up fo\n",
      "\n",
      "103:: i have to force myself, both to do exercise \n",
      "\n"
     ]
    }
   ],
   "source": [
    "for o in blocks[:2]: print(o[:50]);print()\n",
    "print('... ');print();\n",
    "for o in blocks[-2:]: print(o[:50]); print()"
   ]
  },
  {
   "cell_type": "markdown",
   "id": "2facc485",
   "metadata": {},
   "source": [
    "## Query BERN one block at a time"
   ]
  },
  {
   "cell_type": "code",
   "execution_count": null,
   "id": "ca82bdf4",
   "metadata": {},
   "outputs": [
    {
     "name": "stdout",
     "output_type": "stream",
     "text": [
      "4868\n",
      "4080\n",
      "4853\n",
      "3668\n",
      "4868\n",
      "2046\n"
     ]
    },
    {
     "data": {
      "text/html": [
       "<div>\n",
       "<style scoped>\n",
       "    .dataframe tbody tr th:only-of-type {\n",
       "        vertical-align: middle;\n",
       "    }\n",
       "\n",
       "    .dataframe tbody tr th {\n",
       "        vertical-align: top;\n",
       "    }\n",
       "\n",
       "    .dataframe thead th {\n",
       "        text-align: right;\n",
       "    }\n",
       "</style>\n",
       "<table border=\"1\" class=\"dataframe\">\n",
       "  <thead>\n",
       "    <tr style=\"text-align: right;\">\n",
       "      <th></th>\n",
       "      <th>block</th>\n",
       "      <th>out</th>\n",
       "    </tr>\n",
       "  </thead>\n",
       "  <tbody>\n",
       "    <tr>\n",
       "      <th>4</th>\n",
       "      <td>81:: as a recovering alcoholic, damn sign me u...</td>\n",
       "      <td>{'annotations': [{'id': ['mesh:D000437', 'mim:...</td>\n",
       "    </tr>\n",
       "    <tr>\n",
       "      <th>5</th>\n",
       "      <td>103:: i have to force myself, both to do exerc...</td>\n",
       "      <td>{'annotations': [{'id': ['CHEBI:16236'], 'is_n...</td>\n",
       "    </tr>\n",
       "  </tbody>\n",
       "</table>\n",
       "</div>"
      ],
      "text/plain": [
       "                                               block  \\\n",
       "4  81:: as a recovering alcoholic, damn sign me u...   \n",
       "5  103:: i have to force myself, both to do exerc...   \n",
       "\n",
       "                                                 out  \n",
       "4  {'annotations': [{'id': ['mesh:D000437', 'mim:...  \n",
       "5  {'annotations': [{'id': ['CHEBI:16236'], 'is_n...  "
      ]
     },
     "execution_count": null,
     "metadata": {},
     "output_type": "execute_result"
    }
   ],
   "source": [
    "dfo = pd.DataFrame()\n",
    "for o in blocks:\n",
    "    print(len(o))\n",
    "    out = query_plain(text=o)\n",
    "    dfo = dfo.append({'block':o, 'out':out},ignore_index=True)\n",
    "dfo.tail(2)"
   ]
  },
  {
   "cell_type": "markdown",
   "id": "66fb81da",
   "metadata": {},
   "source": [
    "# Concat All Text Blocks into a nice labeled df"
   ]
  },
  {
   "cell_type": "code",
   "execution_count": null,
   "id": "d05a01b6",
   "metadata": {},
   "outputs": [],
   "source": [
    "def merge_annotations_with_textblock_idx(dfa,#daframe containing 'span' column with the text locations of each \n",
    "                                         dfi): #dataframe containing the comment index to reference later\n",
    "    # create str_end col as type str\n",
    "    dfa.span = dfa.span.astype(str)\n",
    "    dfa ['str_end'] = dfa.span.str.replace(r\".*'end': (\\d+)}\",r\"\\1\",regex=True)\n",
    "    dfa.str_end = dfa.str_end.astype(int)  # make str end as type str\n",
    "\n",
    "    #add dfi_idx col\n",
    "    dfi.reset_index(inplace=True)\n",
    "    dfi.rename(columns={'index':'dfi_bloc_idx'},inplace=True)\n",
    "    dfi.dfi_bloc_idx = dfi.dfi_bloc_idx.astype(int)\n",
    "    # create com_idx pulling it from the text via regex\n",
    "    dfi['comidx'] = dfi.text.replace(r\"((\\d+)?::.*)\",r\"\\2\",regex=True)\n",
    "    dfi.comidx = dfi.comidx.astype(int)\n",
    "    print(type(dfi.comidx[0]))\n",
    "    dfi.comidx = dfi.comidx.astype(int)\n",
    "\n",
    "    for o,m in zip(dfi.index,dfi.span):  #add dfi_idx col to dfa \n",
    "        x,y = m #open span tuple\n",
    "        #write conditions for specific df rows\n",
    "        conds = (dfa.str_end > x) & (dfa.str_end < y)\n",
    "        dfa['dfi_bloc_idx'] = ''\n",
    "        dfa.loc[conds,'dfi_bloc_idx'] = o #save the index of the dfi span that fits to dfa\n",
    "        dfa.dfi_bloc_idx = dfa.dfi_bloc_idx.astype(str)\n",
    "    # dfa.merge(dfi, left_on='dfi_idx',right_index=True)\n",
    "    df = dfa.merge(dfi, left_on='dfi_bloc_idx',right_on='dfi_bloc_idx');\n",
    "    \n",
    "    return df"
   ]
  },
  {
   "cell_type": "code",
   "execution_count": null,
   "id": "da500ce2",
   "metadata": {},
   "outputs": [],
   "source": [
    "def dfi_dfa_prep(dfa,dfi):\n",
    "    '''Prepares dfi and dfa to both have dfi_bloc_idx'''\n",
    "    dfi.reset_index(drop=True,inplace=True)\n",
    "    dfi['dfi_bloc_idx'] = dfi.index\n",
    "    # dfi.rename(columns={'index':'dfi_bloc_idx'},inplace=True)\n",
    "    dfi.dfi_bloc_idx = dfi.dfi_bloc_idx.astype(int)\n",
    "    # create com_idx pulling it from the text via regex\n",
    "    dfi['comidx'] = dfi.text.replace(r\"((\\d+)?::.*)\",r\"\\2\",regex=True)\n",
    "    dfi.comidx = dfi.comidx.astype(int)\n",
    "\n",
    "    # create str_end col as type str\n",
    "    dfa.span = dfa.span.astype(str)\n",
    "    dfa ['str_end'] = dfa.span.str.replace(r\".*'end': (\\d+)}\",r\"\\1\",regex=True)\n",
    "    dfa.str_end = dfa.str_end.astype(int)  # make str end as type str\n",
    "    dfa['dfi_bloc_idx'] = ''\n",
    "    return dfa,dfi"
   ]
  },
  {
   "cell_type": "code",
   "execution_count": null,
   "id": "9b1a31e3",
   "metadata": {},
   "outputs": [],
   "source": [
    "def merge_annotations_with_dfi_bloc_idx(dfa,#daframe containing 'span' column with the text locations of each \n",
    "                                         dfi):\n",
    "    '''Merges dfa with dfi so that all 'mentions' and 'obj' have a comidx(comemnt index) and a dfi_bloc_idx(dfi textbock index). This way we can track how different people have comented on each biomedical word('mention')'''\n",
    "    #prep dfi and dfa\n",
    "    dfa,dfi = dfi_dfa_prep(dfa,dfi)\n",
    "    \n",
    "    #add dfi_bloc_idx col\n",
    "    for o,m in zip(dfi.index,dfi.span):  #add dfi_idx col to dfa \n",
    "        x,y = m #open span tuple\n",
    "        #write conditions for specific df rows\n",
    "        conds = (dfa.str_end > x) & (dfa.str_end <= y)\n",
    "        dfa.loc[conds,'dfi_bloc_idx'] = o #save the index of the dfi span that fits to dfa\n",
    "\n",
    "    dfa.dfi_bloc_idx = dfa.dfi_bloc_idx.astype(int) #make column np.64\n",
    "    # merge it all\n",
    "\n",
    "    df = dfa.merge(dfi, left_on='dfi_bloc_idx',right_on='dfi_bloc_idx')\n",
    "    return df"
   ]
  },
  {
   "cell_type": "markdown",
   "id": "34ba5115",
   "metadata": {},
   "source": [
    "#### Merge all annotation onto one df"
   ]
  },
  {
   "cell_type": "code",
   "execution_count": null,
   "id": "9e878fd1",
   "metadata": {},
   "outputs": [],
   "source": [
    "df = pd.DataFrame()\n",
    "for o in dfo.index:\n",
    "    dfa  =pd.DataFrame(dfo.out[o]['annotations'])\n",
    "    dfi = get_comment_spans_textblock(dfo.block[o])\n",
    "    dfmerg = merge_annotations_with_dfi_bloc_idx(dfa,dfi)\n",
    "    df = pd.concat([df,dfmerg])\n",
    "df = df.reset_index(drop=True)"
   ]
  },
  {
   "cell_type": "markdown",
   "id": "67823684",
   "metadata": {},
   "source": [
    "#### Merge authorChannelId's onto df with annotations"
   ]
  },
  {
   "cell_type": "code",
   "execution_count": null,
   "id": "e00d9503",
   "metadata": {},
   "outputs": [],
   "source": [
    "df_authorId = coms[['idx','authorChannelId']] #simplify coms\n",
    "df_authorId = df_authorId.rename(columns={'idx':'comidx'}) #rename idx to match\n",
    "df_authorId.comidx = df_authorId.comidx.astype(int) #make comidx integer\n",
    "\n",
    "df = df.merge(df_authorId,how='left') #left merge author Id's onto main df"
   ]
  },
  {
   "cell_type": "markdown",
   "id": "b8adb914",
   "metadata": {},
   "source": [
    "# use some regex to consolidate some terms or 'mentions'"
   ]
  },
  {
   "cell_type": "markdown",
   "id": "5d469ddc",
   "metadata": {},
   "source": [
    "#### Check for any bio terms that can be counted as the same"
   ]
  },
  {
   "cell_type": "code",
   "execution_count": null,
   "id": "bd7bb14c",
   "metadata": {},
   "outputs": [
    {
     "data": {
      "text/plain": [
       "array(['alcohol', 'rhonda', 'ayahuasca', 'psylocybin', 'patients',\n",
       "       'fgf21', 'indole 3-carbinol', 'brussels sprouts', 'testosterone',\n",
       "       'dy-hydro testosterone', 'estrogen', 'estradiol', 'participants',\n",
       "       'nicotinamide riboside', 'cancer', 'chick', 'fgf-21',\n",
       "       'alcohol craving', 'fgf', 'alcohol abuse disorder', 'alcoholic',\n",
       "       'man', 'alcoholism', 'people', 'recumbent', 'amphetamine',\n",
       "       'alcoholics', 'naltrexone', 'acamprosate', 'ketosis', 'ketones',\n",
       "       'medical professionals', 'silver', 'adhd',\n",
       "       'non-alcoholic fatty liver disease', 'fatty liver', 'women',\n",
       "       'fg21', 'humans', 'human', 'disulfiram', 'anxiety disorders',\n",
       "       'pregabalin', 'benzos', 'carbohydrates', 'snails', 'sugar',\n",
       "       'metabolic syndrome', 'alcohol use disorder', 'munchies'],\n",
       "      dtype=object)"
      ]
     },
     "execution_count": null,
     "metadata": {},
     "output_type": "execute_result"
    }
   ],
   "source": [
    "df.mention.unique()"
   ]
  },
  {
   "cell_type": "markdown",
   "id": "c676b669",
   "metadata": {},
   "source": [
    "#### Looks like alcoholism and alcoholic are the same so we'll combine those "
   ]
  },
  {
   "cell_type": "code",
   "execution_count": null,
   "id": "632ded05",
   "metadata": {},
   "outputs": [],
   "source": [
    "df['bio_term'] = df.mention.str.replace(r'alcoholi.*',r'alcoholism',regex=True)\n",
    "df['bio_term'] = df.bio_term.str.replace(r'alcohol.*disorder',r'alcoholism',regex=True)\n",
    "df['bio_term'] = df.bio_term.str.replace(r'fg.*21',r'fgf21',regex=True)\n",
    "df['bio_term'] = df.bio_term.str.replace('people','humans',regex=False)"
   ]
  },
  {
   "cell_type": "markdown",
   "id": "32a3175b",
   "metadata": {},
   "source": [
    "#### create bio_term column that contains both 'mention' and 'obj' columns for bar graph clarity"
   ]
  },
  {
   "cell_type": "code",
   "execution_count": null,
   "id": "6a8b72f4",
   "metadata": {},
   "outputs": [],
   "source": [
    "df['bio_term'] = df.bio_term +' ('+df.obj +')'"
   ]
  },
  {
   "cell_type": "markdown",
   "id": "60450e24",
   "metadata": {},
   "source": [
    "# Graph the Bio Terms\n",
    "First we'll create some functions to group the terms"
   ]
  },
  {
   "cell_type": "code",
   "execution_count": null,
   "id": "0fbffb9d",
   "metadata": {},
   "outputs": [],
   "source": [
    "def group_bio_words_author_count(df,word_col, mention_min=2):\n",
    "    dfwords = df\n",
    "    dfwords = df.groupby([word_col,'obj']).authorChannelId.nunique().reset_index().sort_values('authorChannelId',ascending=False)\n",
    "    dfwords = dfwords.loc[dfwords.authorChannelId >=mention_min]\n",
    "    dfwords.reset_index(drop=True,inplace=True)\n",
    "    return dfwords"
   ]
  },
  {
   "cell_type": "code",
   "execution_count": null,
   "id": "40c3a447",
   "metadata": {},
   "outputs": [],
   "source": [
    "def group_bio_words_com_count(df,word_col, mention_min=2):\n",
    "    dfwords = df\n",
    "    dfwords = df.groupby([word_col,'obj']).comidx.nunique().reset_index().sort_values('comidx',ascending=False)\n",
    "    dfwords = dfwords.loc[dfwords.comidx >=mention_min]\n",
    "    dfwords.reset_index(drop=True,inplace=True)\n",
    "    return dfwords"
   ]
  },
  {
   "cell_type": "markdown",
   "id": "17ec11af",
   "metadata": {},
   "source": [
    "### Here we'll create a function to plot what we've grouped"
   ]
  },
  {
   "cell_type": "code",
   "execution_count": null,
   "id": "61b8190f",
   "metadata": {},
   "outputs": [],
   "source": [
    "def plot_bio_terms(x,y,xlabel):\n",
    "    # Set the width and height of the figure\n",
    "    plt.figure(figsize=(8,6))\n",
    "    ax = sns.barplot(x, y)\n",
    "    #title\n",
    "    ax.set_title(f'Biomedical Terms in Comments')\n",
    "    # Add label for  axis\n",
    "    ax.set(xlabel=xlabel)\n",
    "    plt.show()"
   ]
  },
  {
   "cell_type": "markdown",
   "id": "2110271e",
   "metadata": {},
   "source": [
    "## Unique Users Who Mention a Term\n",
    "(for some reasone I have to comment this graph out for it to run with nbdev)"
   ]
  },
  {
   "cell_type": "code",
   "execution_count": null,
   "id": "5b7e1d8c",
   "metadata": {},
   "outputs": [
    {
     "name": "stderr",
     "output_type": "stream",
     "text": [
      "/opt/anaconda3/lib/python3.7/site-packages/seaborn/_decorators.py:43: FutureWarning: Pass the following variables as keyword args: x, y. From version 0.12, the only valid positional argument will be `data`, and passing other arguments without an explicit keyword will result in an error or misinterpretation.\n",
      "  FutureWarning\n"
     ]
    },
    {
     "data": {
      "image/png": "[encoded data removed]",
      "text/plain": [
       "<Figure size 576x432 with 1 Axes>"
      ]
     },
     "metadata": {
      "needs_background": "light"
     },
     "output_type": "display_data"
    },
    {
     "data": {
      "text/html": [
       "<div>\n",
       "<style scoped>\n",
       "    .dataframe tbody tr th:only-of-type {\n",
       "        vertical-align: middle;\n",
       "    }\n",
       "\n",
       "    .dataframe tbody tr th {\n",
       "        vertical-align: top;\n",
       "    }\n",
       "\n",
       "    .dataframe thead th {\n",
       "        text-align: right;\n",
       "    }\n",
       "</style>\n",
       "<table border=\"1\" class=\"dataframe\">\n",
       "  <thead>\n",
       "    <tr style=\"text-align: right;\">\n",
       "      <th></th>\n",
       "      <th>bio_term</th>\n",
       "      <th>obj</th>\n",
       "      <th>authorChannelId</th>\n",
       "    </tr>\n",
       "  </thead>\n",
       "  <tbody>\n",
       "    <tr>\n",
       "      <th>0</th>\n",
       "      <td>alcohol (drug)</td>\n",
       "      <td>drug</td>\n",
       "      <td>17</td>\n",
       "    </tr>\n",
       "    <tr>\n",
       "      <th>1</th>\n",
       "      <td>fgf21 (gene)</td>\n",
       "      <td>gene</td>\n",
       "      <td>9</td>\n",
       "    </tr>\n",
       "    <tr>\n",
       "      <th>2</th>\n",
       "      <td>alcoholism (disease)</td>\n",
       "      <td>disease</td>\n",
       "      <td>8</td>\n",
       "    </tr>\n",
       "    <tr>\n",
       "      <th>3</th>\n",
       "      <td>humans (species)</td>\n",
       "      <td>species</td>\n",
       "      <td>7</td>\n",
       "    </tr>\n",
       "    <tr>\n",
       "      <th>4</th>\n",
       "      <td>naltrexone (drug)</td>\n",
       "      <td>drug</td>\n",
       "      <td>2</td>\n",
       "    </tr>\n",
       "  </tbody>\n",
       "</table>\n",
       "</div>"
      ],
      "text/plain": [
       "               bio_term      obj  authorChannelId\n",
       "0        alcohol (drug)     drug               17\n",
       "1          fgf21 (gene)     gene                9\n",
       "2  alcoholism (disease)  disease                8\n",
       "3      humans (species)  species                7\n",
       "4     naltrexone (drug)     drug                2"
      ]
     },
     "execution_count": null,
     "metadata": {},
     "output_type": "execute_result"
    }
   ],
   "source": [
    "# dfwords = group_bio_words_author_count(df, 'bio_term',mention_min=2)\n",
    "# plot_bio_terms(x=dfwords.authorChannelId ,y=dfwords.bio_term, xlabel='Total Users Using a Term')\n",
    "# dfwords"
   ]
  },
  {
   "cell_type": "markdown",
   "id": "f320605a",
   "metadata": {},
   "source": [
    "# Unique Comments that mention a term\n",
    "> In this case we see that they are the nearly the same but it appears one user commented 2x using the term 'alcohol'\n",
    "(for some reasone I have to comment this graph out for it to run with nbdev)"
   ]
  },
  {
   "cell_type": "code",
   "execution_count": null,
   "id": "8812d960",
   "metadata": {},
   "outputs": [
    {
     "name": "stderr",
     "output_type": "stream",
     "text": [
      "/opt/anaconda3/lib/python3.7/site-packages/seaborn/_decorators.py:43: FutureWarning: Pass the following variables as keyword args: x, y. From version 0.12, the only valid positional argument will be `data`, and passing other arguments without an explicit keyword will result in an error or misinterpretation.\n",
      "  FutureWarning\n"
     ]
    },
    {
     "data": {
      "image/png": "[encoded data removed]",
      "text/plain": [
       "<Figure size 576x432 with 1 Axes>"
      ]
     },
     "metadata": {
      "needs_background": "light"
     },
     "output_type": "display_data"
    },
    {
     "data": {
      "text/html": [
       "<div>\n",
       "<style scoped>\n",
       "    .dataframe tbody tr th:only-of-type {\n",
       "        vertical-align: middle;\n",
       "    }\n",
       "\n",
       "    .dataframe tbody tr th {\n",
       "        vertical-align: top;\n",
       "    }\n",
       "\n",
       "    .dataframe thead th {\n",
       "        text-align: right;\n",
       "    }\n",
       "</style>\n",
       "<table border=\"1\" class=\"dataframe\">\n",
       "  <thead>\n",
       "    <tr style=\"text-align: right;\">\n",
       "      <th></th>\n",
       "      <th>bio_term</th>\n",
       "      <th>obj</th>\n",
       "      <th>comidx</th>\n",
       "    </tr>\n",
       "  </thead>\n",
       "  <tbody>\n",
       "    <tr>\n",
       "      <th>0</th>\n",
       "      <td>alcohol (drug)</td>\n",
       "      <td>drug</td>\n",
       "      <td>18</td>\n",
       "    </tr>\n",
       "    <tr>\n",
       "      <th>1</th>\n",
       "      <td>fgf21 (gene)</td>\n",
       "      <td>gene</td>\n",
       "      <td>9</td>\n",
       "    </tr>\n",
       "    <tr>\n",
       "      <th>2</th>\n",
       "      <td>alcoholism (disease)</td>\n",
       "      <td>disease</td>\n",
       "      <td>8</td>\n",
       "    </tr>\n",
       "    <tr>\n",
       "      <th>3</th>\n",
       "      <td>humans (species)</td>\n",
       "      <td>species</td>\n",
       "      <td>7</td>\n",
       "    </tr>\n",
       "    <tr>\n",
       "      <th>4</th>\n",
       "      <td>naltrexone (drug)</td>\n",
       "      <td>drug</td>\n",
       "      <td>2</td>\n",
       "    </tr>\n",
       "  </tbody>\n",
       "</table>\n",
       "</div>"
      ],
      "text/plain": [
       "               bio_term      obj  comidx\n",
       "0        alcohol (drug)     drug      18\n",
       "1          fgf21 (gene)     gene       9\n",
       "2  alcoholism (disease)  disease       8\n",
       "3      humans (species)  species       7\n",
       "4     naltrexone (drug)     drug       2"
      ]
     },
     "execution_count": null,
     "metadata": {},
     "output_type": "execute_result"
    }
   ],
   "source": [
    "# dfwords = group_bio_words_com_count(df, 'bio_term',mention_min=2)\n",
    "# plot_bio_terms(x=dfwords.comidx ,y=dfwords.bio_term, xlabel='Unique Comments that Mention Term')\n",
    "# dfwords"
   ]
  },
  {
   "cell_type": "markdown",
   "id": "78f73ab5",
   "metadata": {},
   "source": [
    "### Terms Mentioned Infrequently"
   ]
  },
  {
   "cell_type": "code",
   "execution_count": null,
   "id": "33100823",
   "metadata": {},
   "outputs": [
    {
     "data": {
      "text/html": [
       "<div>\n",
       "<style scoped>\n",
       "    .dataframe tbody tr th:only-of-type {\n",
       "        vertical-align: middle;\n",
       "    }\n",
       "\n",
       "    .dataframe tbody tr th {\n",
       "        vertical-align: top;\n",
       "    }\n",
       "\n",
       "    .dataframe thead th {\n",
       "        text-align: right;\n",
       "    }\n",
       "</style>\n",
       "<table border=\"1\" class=\"dataframe\">\n",
       "  <thead>\n",
       "    <tr style=\"text-align: right;\">\n",
       "      <th></th>\n",
       "      <th>bio_term</th>\n",
       "      <th>obj</th>\n",
       "      <th>authorChannelId</th>\n",
       "    </tr>\n",
       "  </thead>\n",
       "  <tbody>\n",
       "    <tr>\n",
       "      <th>5</th>\n",
       "      <td>acamprosate (drug)</td>\n",
       "      <td>drug</td>\n",
       "      <td>1</td>\n",
       "    </tr>\n",
       "    <tr>\n",
       "      <th>6</th>\n",
       "      <td>patients (species)</td>\n",
       "      <td>species</td>\n",
       "      <td>1</td>\n",
       "    </tr>\n",
       "    <tr>\n",
       "      <th>7</th>\n",
       "      <td>medical professionals (cell_type)</td>\n",
       "      <td>cell_type</td>\n",
       "      <td>1</td>\n",
       "    </tr>\n",
       "    <tr>\n",
       "      <th>8</th>\n",
       "      <td>metabolic syndrome (disease)</td>\n",
       "      <td>disease</td>\n",
       "      <td>1</td>\n",
       "    </tr>\n",
       "    <tr>\n",
       "      <th>9</th>\n",
       "      <td>munchies (species)</td>\n",
       "      <td>species</td>\n",
       "      <td>1</td>\n",
       "    </tr>\n",
       "    <tr>\n",
       "      <th>10</th>\n",
       "      <td>nicotinamide riboside (drug)</td>\n",
       "      <td>drug</td>\n",
       "      <td>1</td>\n",
       "    </tr>\n",
       "    <tr>\n",
       "      <th>11</th>\n",
       "      <td>non-alcoholism (disease)</td>\n",
       "      <td>disease</td>\n",
       "      <td>1</td>\n",
       "    </tr>\n",
       "    <tr>\n",
       "      <th>12</th>\n",
       "      <td>participants (species)</td>\n",
       "      <td>species</td>\n",
       "      <td>1</td>\n",
       "    </tr>\n",
       "    <tr>\n",
       "      <th>13</th>\n",
       "      <td>pregabalin (drug)</td>\n",
       "      <td>drug</td>\n",
       "      <td>1</td>\n",
       "    </tr>\n",
       "    <tr>\n",
       "      <th>14</th>\n",
       "      <td>ketosis (disease)</td>\n",
       "      <td>disease</td>\n",
       "      <td>1</td>\n",
       "    </tr>\n",
       "    <tr>\n",
       "      <th>15</th>\n",
       "      <td>psylocybin (drug)</td>\n",
       "      <td>drug</td>\n",
       "      <td>1</td>\n",
       "    </tr>\n",
       "    <tr>\n",
       "      <th>16</th>\n",
       "      <td>recumbent (DNA)</td>\n",
       "      <td>DNA</td>\n",
       "      <td>1</td>\n",
       "    </tr>\n",
       "    <tr>\n",
       "      <th>17</th>\n",
       "      <td>rhonda (DNA)</td>\n",
       "      <td>DNA</td>\n",
       "      <td>1</td>\n",
       "    </tr>\n",
       "    <tr>\n",
       "      <th>18</th>\n",
       "      <td>rhonda (species)</td>\n",
       "      <td>species</td>\n",
       "      <td>1</td>\n",
       "    </tr>\n",
       "    <tr>\n",
       "      <th>19</th>\n",
       "      <td>silver (drug)</td>\n",
       "      <td>drug</td>\n",
       "      <td>1</td>\n",
       "    </tr>\n",
       "    <tr>\n",
       "      <th>20</th>\n",
       "      <td>snails (cell_type)</td>\n",
       "      <td>cell_type</td>\n",
       "      <td>1</td>\n",
       "    </tr>\n",
       "    <tr>\n",
       "      <th>21</th>\n",
       "      <td>sugar (drug)</td>\n",
       "      <td>drug</td>\n",
       "      <td>1</td>\n",
       "    </tr>\n",
       "    <tr>\n",
       "      <th>22</th>\n",
       "      <td>testosterone (drug)</td>\n",
       "      <td>drug</td>\n",
       "      <td>1</td>\n",
       "    </tr>\n",
       "    <tr>\n",
       "      <th>23</th>\n",
       "      <td>man (species)</td>\n",
       "      <td>species</td>\n",
       "      <td>1</td>\n",
       "    </tr>\n",
       "    <tr>\n",
       "      <th>24</th>\n",
       "      <td>indole 3-carbinol (drug)</td>\n",
       "      <td>drug</td>\n",
       "      <td>1</td>\n",
       "    </tr>\n",
       "    <tr>\n",
       "      <th>25</th>\n",
       "      <td>ketones (drug)</td>\n",
       "      <td>drug</td>\n",
       "      <td>1</td>\n",
       "    </tr>\n",
       "    <tr>\n",
       "      <th>26</th>\n",
       "      <td>carbohydrates (drug)</td>\n",
       "      <td>drug</td>\n",
       "      <td>1</td>\n",
       "    </tr>\n",
       "    <tr>\n",
       "      <th>27</th>\n",
       "      <td>alcohol craving (disease)</td>\n",
       "      <td>disease</td>\n",
       "      <td>1</td>\n",
       "    </tr>\n",
       "    <tr>\n",
       "      <th>28</th>\n",
       "      <td>amphetamine (drug)</td>\n",
       "      <td>drug</td>\n",
       "      <td>1</td>\n",
       "    </tr>\n",
       "    <tr>\n",
       "      <th>29</th>\n",
       "      <td>anxiety disorders (disease)</td>\n",
       "      <td>disease</td>\n",
       "      <td>1</td>\n",
       "    </tr>\n",
       "    <tr>\n",
       "      <th>30</th>\n",
       "      <td>ayahuasca (species)</td>\n",
       "      <td>species</td>\n",
       "      <td>1</td>\n",
       "    </tr>\n",
       "    <tr>\n",
       "      <th>31</th>\n",
       "      <td>benzos (drug)</td>\n",
       "      <td>drug</td>\n",
       "      <td>1</td>\n",
       "    </tr>\n",
       "    <tr>\n",
       "      <th>32</th>\n",
       "      <td>brussels sprouts (species)</td>\n",
       "      <td>species</td>\n",
       "      <td>1</td>\n",
       "    </tr>\n",
       "    <tr>\n",
       "      <th>33</th>\n",
       "      <td>cancer (disease)</td>\n",
       "      <td>disease</td>\n",
       "      <td>1</td>\n",
       "    </tr>\n",
       "    <tr>\n",
       "      <th>34</th>\n",
       "      <td>chick (species)</td>\n",
       "      <td>species</td>\n",
       "      <td>1</td>\n",
       "    </tr>\n",
       "    <tr>\n",
       "      <th>35</th>\n",
       "      <td>adhd (disease)</td>\n",
       "      <td>disease</td>\n",
       "      <td>1</td>\n",
       "    </tr>\n",
       "    <tr>\n",
       "      <th>36</th>\n",
       "      <td>disulfiram (drug)</td>\n",
       "      <td>drug</td>\n",
       "      <td>1</td>\n",
       "    </tr>\n",
       "    <tr>\n",
       "      <th>37</th>\n",
       "      <td>dy-hydro testosterone (drug)</td>\n",
       "      <td>drug</td>\n",
       "      <td>1</td>\n",
       "    </tr>\n",
       "    <tr>\n",
       "      <th>38</th>\n",
       "      <td>estradiol (drug)</td>\n",
       "      <td>drug</td>\n",
       "      <td>1</td>\n",
       "    </tr>\n",
       "    <tr>\n",
       "      <th>39</th>\n",
       "      <td>estrogen (drug)</td>\n",
       "      <td>drug</td>\n",
       "      <td>1</td>\n",
       "    </tr>\n",
       "    <tr>\n",
       "      <th>40</th>\n",
       "      <td>fatty liver (disease)</td>\n",
       "      <td>disease</td>\n",
       "      <td>1</td>\n",
       "    </tr>\n",
       "    <tr>\n",
       "      <th>41</th>\n",
       "      <td>fgf (DNA)</td>\n",
       "      <td>DNA</td>\n",
       "      <td>1</td>\n",
       "    </tr>\n",
       "    <tr>\n",
       "      <th>42</th>\n",
       "      <td>human (species)</td>\n",
       "      <td>species</td>\n",
       "      <td>1</td>\n",
       "    </tr>\n",
       "    <tr>\n",
       "      <th>43</th>\n",
       "      <td>women (species)</td>\n",
       "      <td>species</td>\n",
       "      <td>1</td>\n",
       "    </tr>\n",
       "  </tbody>\n",
       "</table>\n",
       "</div>"
      ],
      "text/plain": [
       "                             bio_term        obj  authorChannelId\n",
       "5                  acamprosate (drug)       drug                1\n",
       "6                  patients (species)    species                1\n",
       "7   medical professionals (cell_type)  cell_type                1\n",
       "8        metabolic syndrome (disease)    disease                1\n",
       "9                  munchies (species)    species                1\n",
       "10       nicotinamide riboside (drug)       drug                1\n",
       "11           non-alcoholism (disease)    disease                1\n",
       "12             participants (species)    species                1\n",
       "13                  pregabalin (drug)       drug                1\n",
       "14                  ketosis (disease)    disease                1\n",
       "15                  psylocybin (drug)       drug                1\n",
       "16                    recumbent (DNA)        DNA                1\n",
       "17                       rhonda (DNA)        DNA                1\n",
       "18                   rhonda (species)    species                1\n",
       "19                      silver (drug)       drug                1\n",
       "20                 snails (cell_type)  cell_type                1\n",
       "21                       sugar (drug)       drug                1\n",
       "22                testosterone (drug)       drug                1\n",
       "23                      man (species)    species                1\n",
       "24           indole 3-carbinol (drug)       drug                1\n",
       "25                     ketones (drug)       drug                1\n",
       "26               carbohydrates (drug)       drug                1\n",
       "27          alcohol craving (disease)    disease                1\n",
       "28                 amphetamine (drug)       drug                1\n",
       "29        anxiety disorders (disease)    disease                1\n",
       "30                ayahuasca (species)    species                1\n",
       "31                      benzos (drug)       drug                1\n",
       "32         brussels sprouts (species)    species                1\n",
       "33                   cancer (disease)    disease                1\n",
       "34                    chick (species)    species                1\n",
       "35                     adhd (disease)    disease                1\n",
       "36                  disulfiram (drug)       drug                1\n",
       "37       dy-hydro testosterone (drug)       drug                1\n",
       "38                   estradiol (drug)       drug                1\n",
       "39                    estrogen (drug)       drug                1\n",
       "40              fatty liver (disease)    disease                1\n",
       "41                          fgf (DNA)        DNA                1\n",
       "42                    human (species)    species                1\n",
       "43                    women (species)    species                1"
      ]
     },
     "execution_count": null,
     "metadata": {},
     "output_type": "execute_result"
    }
   ],
   "source": [
    "dfwords = group_bio_words_author_count(df, 'bio_term',mention_min=1)\n",
    "dfwords[dfwords.authorChannelId< 2]"
   ]
  }
 ],
 "metadata": {
  "kernelspec": {
   "display_name": "Python 3",
   "language": "python",
   "name": "python3"
  }
 },
 "nbformat": 4,
 "nbformat_minor": 5
}
