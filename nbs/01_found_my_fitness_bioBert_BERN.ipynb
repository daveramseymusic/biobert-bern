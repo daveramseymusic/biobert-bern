{
 "cells": [
  {
   "cell_type": "code",
   "execution_count": 1,
   "id": "2d162388",
   "metadata": {},
   "outputs": [],
   "source": [
    "#| default_exp fmf_biobert"
   ]
  },
  {
   "cell_type": "markdown",
   "id": "866d284d",
   "metadata": {},
   "source": [
    "# Found My Fitness Example\n",
    ">\"Here we'll try using elements from the biobertApi module to label biomedical terms in the comments section of a Found My Fitness Youtube video\""
   ]
  },
  {
   "cell_type": "code",
   "execution_count": 2,
   "id": "265ef6d2",
   "metadata": {},
   "outputs": [],
   "source": [
    "#|hide\n",
    "# import biobert-bern \n",
    "from biobert_bern.biobertApi import *"
   ]
  },
  {
   "cell_type": "code",
   "execution_count": 3,
   "id": "2bb78320",
   "metadata": {},
   "outputs": [
    {
     "name": "stdout",
     "output_type": "stream",
     "text": [
      "Requirement already satisfied: pathlib in /opt/conda/lib/python3.7/site-packages (1.0.1)\r\n"
     ]
    }
   ],
   "source": [
    "!pip install pathlib"
   ]
  },
  {
   "cell_type": "code",
   "execution_count": 4,
   "id": "1b32be43",
   "metadata": {},
   "outputs": [],
   "source": [
    "import requests\n",
    "import re\n",
    "import pandas as pd\n",
    "from nbdev.showdoc import *\n",
    "import fastai\n",
    "from pathlib import *\n",
    "import numpy as np     "
   ]
  },
  {
   "cell_type": "code",
   "execution_count": 5,
   "id": "a2c5f916",
   "metadata": {},
   "outputs": [],
   "source": [
    "path = Path('../..')\n",
    "comment_csv= 'found_my_fitness_UCWF8SqJVNlx-ctXbLswcTcA_youtube_comments_only_122rows.csv'"
   ]
  },
  {
   "cell_type": "code",
   "execution_count": 6,
   "id": "130386d7",
   "metadata": {},
   "outputs": [],
   "source": [
    "coms = pd.read_csv(path/comment_csv)"
   ]
  },
  {
   "cell_type": "code",
   "execution_count": 7,
   "id": "3900cc62",
   "metadata": {},
   "outputs": [],
   "source": [
    "coms.rename(columns = {'comment': 'comments'},inplace=True)"
   ]
  },
  {
   "cell_type": "code",
   "execution_count": 8,
   "id": "f184e738",
   "metadata": {},
   "outputs": [
    {
     "data": {
      "text/html": [
       "<div>\n",
       "<style scoped>\n",
       "    .dataframe tbody tr th:only-of-type {\n",
       "        vertical-align: middle;\n",
       "    }\n",
       "\n",
       "    .dataframe tbody tr th {\n",
       "        vertical-align: top;\n",
       "    }\n",
       "\n",
       "    .dataframe thead th {\n",
       "        text-align: right;\n",
       "    }\n",
       "</style>\n",
       "<table border=\"1\" class=\"dataframe\">\n",
       "  <thead>\n",
       "    <tr style=\"text-align: right;\">\n",
       "      <th></th>\n",
       "      <th>vid_id</th>\n",
       "      <th>vid_channel_id</th>\n",
       "      <th>vid_deets</th>\n",
       "      <th>vid_response</th>\n",
       "      <th>title</th>\n",
       "      <th>publishedAt</th>\n",
       "      <th>tcomment_id</th>\n",
       "      <th>tcresponse</th>\n",
       "      <th>textDisplay</th>\n",
       "      <th>textOriginal</th>\n",
       "      <th>totalReplyCount</th>\n",
       "      <th>rep_comment</th>\n",
       "      <th>reply_id</th>\n",
       "      <th>comments</th>\n",
       "    </tr>\n",
       "  </thead>\n",
       "  <tbody>\n",
       "    <tr>\n",
       "      <th>117</th>\n",
       "      <td>g4QqJoox8tc</td>\n",
       "      <td>NaN</td>\n",
       "      <td>NaN</td>\n",
       "      <td>NaN</td>\n",
       "      <td>NaN</td>\n",
       "      <td>2022-11-02T03:21:53Z</td>\n",
       "      <td>Ugy2ZO2t370rDO-eWoZ4AaABAg</td>\n",
       "      <td>{'kind': 'youtube#commentThread', 'etag': '4vV...</td>\n",
       "      <td>How to combat increased food intake after quit...</td>\n",
       "      <td>How to combat increased food intake after quit...</td>\n",
       "      <td>3.0</td>\n",
       "      <td>NaN</td>\n",
       "      <td>NaN</td>\n",
       "      <td>How to combat increased food intake after quit...</td>\n",
       "    </tr>\n",
       "    <tr>\n",
       "      <th>118</th>\n",
       "      <td>g4QqJoox8tc</td>\n",
       "      <td>NaN</td>\n",
       "      <td>NaN</td>\n",
       "      <td>NaN</td>\n",
       "      <td>NaN</td>\n",
       "      <td>2022-11-02T15:43:40Z</td>\n",
       "      <td>NaN</td>\n",
       "      <td>{'kind': 'youtube#comment', 'etag': 'GB9aSyxEx...</td>\n",
       "      <td>It's brutal. Get the garbage food out of your ...</td>\n",
       "      <td>It's brutal. Get the garbage food out of your ...</td>\n",
       "      <td>NaN</td>\n",
       "      <td>{'kind': 'youtube#comment', 'etag': 'GB9aSyxEx...</td>\n",
       "      <td>Ugy2ZO2t370rDO-eWoZ4AaABAg.9husbe2WJcN9hwCVh8KBNj</td>\n",
       "      <td>It's brutal. Get the garbage food out of your ...</td>\n",
       "    </tr>\n",
       "    <tr>\n",
       "      <th>119</th>\n",
       "      <td>g4QqJoox8tc</td>\n",
       "      <td>NaN</td>\n",
       "      <td>NaN</td>\n",
       "      <td>NaN</td>\n",
       "      <td>NaN</td>\n",
       "      <td>2022-11-02T14:04:02Z</td>\n",
       "      <td>NaN</td>\n",
       "      <td>{'kind': 'youtube#comment', 'etag': 'bs6xBMC7h...</td>\n",
       "      <td>go animal based</td>\n",
       "      <td>go animal based</td>\n",
       "      <td>NaN</td>\n",
       "      <td>{'kind': 'youtube#comment', 'etag': 'bs6xBMC7h...</td>\n",
       "      <td>Ugy2ZO2t370rDO-eWoZ4AaABAg.9husbe2WJcN9hw15tjmPLT</td>\n",
       "      <td>go animal based</td>\n",
       "    </tr>\n",
       "    <tr>\n",
       "      <th>120</th>\n",
       "      <td>g4QqJoox8tc</td>\n",
       "      <td>NaN</td>\n",
       "      <td>NaN</td>\n",
       "      <td>NaN</td>\n",
       "      <td>NaN</td>\n",
       "      <td>2022-11-02T11:20:13Z</td>\n",
       "      <td>NaN</td>\n",
       "      <td>{'kind': 'youtube#comment', 'etag': 'yd5KSzb3_...</td>\n",
       "      <td>... and they said it gives you the munchies.</td>\n",
       "      <td>... and they said it gives you the munchies.</td>\n",
       "      <td>NaN</td>\n",
       "      <td>{'kind': 'youtube#comment', 'etag': 'yd5KSzb3_...</td>\n",
       "      <td>Ugy2ZO2t370rDO-eWoZ4AaABAg.9husbe2WJcN9hvjM9rBbfr</td>\n",
       "      <td>... and they said it gives you the munchies.</td>\n",
       "    </tr>\n",
       "    <tr>\n",
       "      <th>121</th>\n",
       "      <td>g4QqJoox8tc</td>\n",
       "      <td>NaN</td>\n",
       "      <td>NaN</td>\n",
       "      <td>NaN</td>\n",
       "      <td>NaN</td>\n",
       "      <td>2022-11-02T03:07:55Z</td>\n",
       "      <td>Ugx3lPLxH7NyOIZxzEl4AaABAg</td>\n",
       "      <td>{'kind': 'youtube#commentThread', 'etag': 'Gzv...</td>\n",
       "      <td>My first thought was Rich Roll</td>\n",
       "      <td>My first thought was Rich Roll</td>\n",
       "      <td>0.0</td>\n",
       "      <td>NaN</td>\n",
       "      <td>NaN</td>\n",
       "      <td>My first thought was Rich Roll</td>\n",
       "    </tr>\n",
       "  </tbody>\n",
       "</table>\n",
       "</div>"
      ],
      "text/plain": [
       "          vid_id  vid_channel_id  vid_deets  vid_response  title  \\\n",
       "117  g4QqJoox8tc             NaN        NaN           NaN    NaN   \n",
       "118  g4QqJoox8tc             NaN        NaN           NaN    NaN   \n",
       "119  g4QqJoox8tc             NaN        NaN           NaN    NaN   \n",
       "120  g4QqJoox8tc             NaN        NaN           NaN    NaN   \n",
       "121  g4QqJoox8tc             NaN        NaN           NaN    NaN   \n",
       "\n",
       "              publishedAt                 tcomment_id  \\\n",
       "117  2022-11-02T03:21:53Z  Ugy2ZO2t370rDO-eWoZ4AaABAg   \n",
       "118  2022-11-02T15:43:40Z                         NaN   \n",
       "119  2022-11-02T14:04:02Z                         NaN   \n",
       "120  2022-11-02T11:20:13Z                         NaN   \n",
       "121  2022-11-02T03:07:55Z  Ugx3lPLxH7NyOIZxzEl4AaABAg   \n",
       "\n",
       "                                            tcresponse  \\\n",
       "117  {'kind': 'youtube#commentThread', 'etag': '4vV...   \n",
       "118  {'kind': 'youtube#comment', 'etag': 'GB9aSyxEx...   \n",
       "119  {'kind': 'youtube#comment', 'etag': 'bs6xBMC7h...   \n",
       "120  {'kind': 'youtube#comment', 'etag': 'yd5KSzb3_...   \n",
       "121  {'kind': 'youtube#commentThread', 'etag': 'Gzv...   \n",
       "\n",
       "                                           textDisplay  \\\n",
       "117  How to combat increased food intake after quit...   \n",
       "118  It's brutal. Get the garbage food out of your ...   \n",
       "119                                    go animal based   \n",
       "120       ... and they said it gives you the munchies.   \n",
       "121                     My first thought was Rich Roll   \n",
       "\n",
       "                                          textOriginal  totalReplyCount  \\\n",
       "117  How to combat increased food intake after quit...              3.0   \n",
       "118  It's brutal. Get the garbage food out of your ...              NaN   \n",
       "119                                    go animal based              NaN   \n",
       "120       ... and they said it gives you the munchies.              NaN   \n",
       "121                     My first thought was Rich Roll              0.0   \n",
       "\n",
       "                                           rep_comment  \\\n",
       "117                                                NaN   \n",
       "118  {'kind': 'youtube#comment', 'etag': 'GB9aSyxEx...   \n",
       "119  {'kind': 'youtube#comment', 'etag': 'bs6xBMC7h...   \n",
       "120  {'kind': 'youtube#comment', 'etag': 'yd5KSzb3_...   \n",
       "121                                                NaN   \n",
       "\n",
       "                                              reply_id  \\\n",
       "117                                                NaN   \n",
       "118  Ugy2ZO2t370rDO-eWoZ4AaABAg.9husbe2WJcN9hwCVh8KBNj   \n",
       "119  Ugy2ZO2t370rDO-eWoZ4AaABAg.9husbe2WJcN9hw15tjmPLT   \n",
       "120  Ugy2ZO2t370rDO-eWoZ4AaABAg.9husbe2WJcN9hvjM9rBbfr   \n",
       "121                                                NaN   \n",
       "\n",
       "                                              comments  \n",
       "117  How to combat increased food intake after quit...  \n",
       "118  It's brutal. Get the garbage food out of your ...  \n",
       "119                                    go animal based  \n",
       "120       ... and they said it gives you the munchies.  \n",
       "121                     My first thought was Rich Roll  "
      ]
     },
     "execution_count": 8,
     "metadata": {},
     "output_type": "execute_result"
    }
   ],
   "source": [
    "coms.tail()"
   ]
  },
  {
   "cell_type": "markdown",
   "id": "7ede0187",
   "metadata": {},
   "source": [
    "# Create Text Block\n",
    "> Here we'll put all the text together"
   ]
  },
  {
   "cell_type": "code",
   "execution_count": 9,
   "id": "633b9d14",
   "metadata": {},
   "outputs": [],
   "source": [
    "# text_block = create_text_block(coms);# text_block"
   ]
  },
  {
   "cell_type": "code",
   "execution_count": 10,
   "id": "d178451b",
   "metadata": {},
   "outputs": [],
   "source": [
    "# text_block[:5000]"
   ]
  },
  {
   "cell_type": "markdown",
   "id": "0a476c84",
   "metadata": {},
   "source": [
    "### Get Comment Spans"
   ]
  },
  {
   "cell_type": "code",
   "execution_count": 11,
   "id": "7081e3b1",
   "metadata": {},
   "outputs": [],
   "source": [
    "# dfi = get_comment_spans_textblock(text_block); dfi.tail(3)"
   ]
  },
  {
   "cell_type": "code",
   "execution_count": 12,
   "id": "f7ad2b6c",
   "metadata": {},
   "outputs": [
    {
     "ename": "NameError",
     "evalue": "name 'text_block' is not defined",
     "output_type": "error",
     "traceback": [
      "\u001b[0;31m---------------------------------------------------------------------------\u001b[0m",
      "\u001b[0;31mNameError\u001b[0m                                 Traceback (most recent call last)",
      "\u001b[0;32m/tmp/ipykernel_4258/3274308771.py\u001b[0m in \u001b[0;36m<module>\u001b[0;34m\u001b[0m\n\u001b[0;32m----> 1\u001b[0;31m \u001b[0mlen\u001b[0m\u001b[0;34m(\u001b[0m\u001b[0mtext_block\u001b[0m\u001b[0;34m)\u001b[0m\u001b[0;34m\u001b[0m\u001b[0;34m\u001b[0m\u001b[0m\n\u001b[0m",
      "\u001b[0;31mNameError\u001b[0m: name 'text_block' is not defined"
     ]
    }
   ],
   "source": [
    "len(text_block)"
   ]
  },
  {
   "cell_type": "code",
   "execution_count": null,
   "id": "5f2810db",
   "metadata": {},
   "outputs": [],
   "source": [
    "range(len(text_block))"
   ]
  },
  {
   "cell_type": "code",
   "execution_count": null,
   "id": "68278949",
   "metadata": {},
   "outputs": [],
   "source": [
    "for i in range(5000, len(text_block), 5000):\n",
    "    quotient = i / 5000\n",
    "    print(f\"{i} divided by 5000 is {int(quotient)}.\")\n",
    "    "
   ]
  },
  {
   "cell_type": "markdown",
   "id": "7c3a018b",
   "metadata": {},
   "source": [
    "### Create Section Labels"
   ]
  },
  {
   "cell_type": "code",
   "execution_count": 14,
   "id": "5b5eb32d",
   "metadata": {},
   "outputs": [],
   "source": [
    "coms['textLen'] = coms.comments.apply(lambda row: len(row))\n",
    "coms['cumTxtLen'] = coms.textLen.cumsum()\n",
    "coms['section'] = np.ceil(coms.cumTxtLen/5000) # round all values up \n",
    "coms.section = coms.section.astype(int)"
   ]
  },
  {
   "cell_type": "code",
   "execution_count": 17,
   "id": "e14fd995",
   "metadata": {},
   "outputs": [
    {
     "name": "stdout",
     "output_type": "stream",
     "text": [
      "1\n",
      "2\n",
      "3\n",
      "4\n",
      "5\n"
     ]
    }
   ],
   "source": [
    "blocks = pd.DataFrame()\n",
    "for o in range(1,int(coms.section.max()+1)):\n",
    "    print(o)\n",
    "    df = coms.loc[coms.section == o]\n",
    "#     print(df.head(1))\n",
    "    df = df[['comments']]\n",
    "    text_block = create_text_block(df);# text_block    \n",
    "    \n",
    "    blocks = blocks.append({'text_block':text_block,'section':o},ignore_index=True)"
   ]
  },
  {
   "cell_type": "code",
   "execution_count": 19,
   "id": "c5388a90",
   "metadata": {},
   "outputs": [
    {
     "data": {
      "text/html": [
       "<div>\n",
       "<style scoped>\n",
       "    .dataframe tbody tr th:only-of-type {\n",
       "        vertical-align: middle;\n",
       "    }\n",
       "\n",
       "    .dataframe tbody tr th {\n",
       "        vertical-align: top;\n",
       "    }\n",
       "\n",
       "    .dataframe thead th {\n",
       "        text-align: right;\n",
       "    }\n",
       "</style>\n",
       "<table border=\"1\" class=\"dataframe\">\n",
       "  <thead>\n",
       "    <tr style=\"text-align: right;\">\n",
       "      <th></th>\n",
       "      <th>idx</th>\n",
       "      <th>comments</th>\n",
       "      <th>comidx</th>\n",
       "    </tr>\n",
       "  </thead>\n",
       "  <tbody>\n",
       "    <tr>\n",
       "      <th>0</th>\n",
       "      <td>94</td>\n",
       "      <td>Hello, \\u200bbone broth help a lot with alcool...</td>\n",
       "      <td>0      94\\n1      95\\n2      96\\n3      97\\n4 ...</td>\n",
       "    </tr>\n",
       "    <tr>\n",
       "      <th>1</th>\n",
       "      <td>95</td>\n",
       "      <td>The next time you have low level anxiety and a...</td>\n",
       "      <td>0      94\\n1      95\\n2      96\\n3      97\\n4 ...</td>\n",
       "    </tr>\n",
       "    <tr>\n",
       "      <th>2</th>\n",
       "      <td>96</td>\n",
       "      <td>People in the military will prove you wrong😂</td>\n",
       "      <td>0      94\\n1      95\\n2      96\\n3      97\\n4 ...</td>\n",
       "    </tr>\n",
       "    <tr>\n",
       "      <th>3</th>\n",
       "      <td>97</td>\n",
       "      <td>People in the military exercise about as vigor...</td>\n",
       "      <td>0      94\\n1      95\\n2      96\\n3      97\\n4 ...</td>\n",
       "    </tr>\n",
       "    <tr>\n",
       "      <th>4</th>\n",
       "      <td>98</td>\n",
       "      <td>Thank you for this presentation.</td>\n",
       "      <td>0      94\\n1      95\\n2      96\\n3      97\\n4 ...</td>\n",
       "    </tr>\n",
       "    <tr>\n",
       "      <th>5</th>\n",
       "      <td>99</td>\n",
       "      <td>I have to force myself, both to do exercise an...</td>\n",
       "      <td>0      94\\n1      95\\n2      96\\n3      97\\n4 ...</td>\n",
       "    </tr>\n",
       "    <tr>\n",
       "      <th>6</th>\n",
       "      <td>100</td>\n",
       "      <td>Rhonda Patrick instant like crew checking in. ...</td>\n",
       "      <td>0      94\\n1      95\\n2      96\\n3      97\\n4 ...</td>\n",
       "    </tr>\n",
       "    <tr>\n",
       "      <th>7</th>\n",
       "      <td>101</td>\n",
       "      <td>Thanks, Grant!</td>\n",
       "      <td>0      94\\n1      95\\n2      96\\n3      97\\n4 ...</td>\n",
       "    </tr>\n",
       "    <tr>\n",
       "      <th>8</th>\n",
       "      <td>102</td>\n",
       "      <td>Watching while working thru a hangover……… good...</td>\n",
       "      <td>0      94\\n1      95\\n2      96\\n3      97\\n4 ...</td>\n",
       "    </tr>\n",
       "    <tr>\n",
       "      <th>9</th>\n",
       "      <td>103</td>\n",
       "      <td>I haven't had a (hardly) sip since last Christ...</td>\n",
       "      <td>0      94\\n1      95\\n2      96\\n3      97\\n4 ...</td>\n",
       "    </tr>\n",
       "    <tr>\n",
       "      <th>10</th>\n",
       "      <td>104</td>\n",
       "      <td>I know a guy who needs this like a fish that s...</td>\n",
       "      <td>0      94\\n1      95\\n2      96\\n3      97\\n4 ...</td>\n",
       "    </tr>\n",
       "    <tr>\n",
       "      <th>11</th>\n",
       "      <td>105</td>\n",
       "      <td>it doesnt.</td>\n",
       "      <td>0      94\\n1      95\\n2      96\\n3      97\\n4 ...</td>\n",
       "    </tr>\n",
       "    <tr>\n",
       "      <th>12</th>\n",
       "      <td>106</td>\n",
       "      <td>Funny, when I was drinking we were young and w...</td>\n",
       "      <td>0      94\\n1      95\\n2      96\\n3      97\\n4 ...</td>\n",
       "    </tr>\n",
       "    <tr>\n",
       "      <th>13</th>\n",
       "      <td>107</td>\n",
       "      <td>Are you sure? All I want to do after a long ru...</td>\n",
       "      <td>0      94\\n1      95\\n2      96\\n3      97\\n4 ...</td>\n",
       "    </tr>\n",
       "    <tr>\n",
       "      <th>14</th>\n",
       "      <td>108</td>\n",
       "      <td>Probably dehydrated and just wanna drink somet...</td>\n",
       "      <td>0      94\\n1      95\\n2      96\\n3      97\\n4 ...</td>\n",
       "    </tr>\n",
       "    <tr>\n",
       "      <th>15</th>\n",
       "      <td>109</td>\n",
       "      <td>On-on, my brother</td>\n",
       "      <td>0      94\\n1      95\\n2      96\\n3      97\\n4 ...</td>\n",
       "    </tr>\n",
       "    <tr>\n",
       "      <th>16</th>\n",
       "      <td>110</td>\n",
       "      <td>This is a known behavior specifically called o...</td>\n",
       "      <td>0      94\\n1      95\\n2      96\\n3      97\\n4 ...</td>\n",
       "    </tr>\n",
       "    <tr>\n",
       "      <th>17</th>\n",
       "      <td>111</td>\n",
       "      <td>Could it be maybe from a reward based habit?  ...</td>\n",
       "      <td>0      94\\n1      95\\n2      96\\n3      97\\n4 ...</td>\n",
       "    </tr>\n",
       "    <tr>\n",
       "      <th>18</th>\n",
       "      <td>112</td>\n",
       "      <td>I live in Marin County, CA. Back around 2000 t...</td>\n",
       "      <td>0      94\\n1      95\\n2      96\\n3      97\\n4 ...</td>\n",
       "    </tr>\n",
       "    <tr>\n",
       "      <th>19</th>\n",
       "      <td>113</td>\n",
       "      <td>He had a heart operation that might have exace...</td>\n",
       "      <td>0      94\\n1      95\\n2      96\\n3      97\\n4 ...</td>\n",
       "    </tr>\n",
       "    <tr>\n",
       "      <th>20</th>\n",
       "      <td>114</td>\n",
       "      <td>yeah Robin Williams was a serious cyclist. he ...</td>\n",
       "      <td>0      94\\n1      95\\n2      96\\n3      97\\n4 ...</td>\n",
       "    </tr>\n",
       "    <tr>\n",
       "      <th>21</th>\n",
       "      <td>115</td>\n",
       "      <td>You live in the one of the best places in the ...</td>\n",
       "      <td>0      94\\n1      95\\n2      96\\n3      97\\n4 ...</td>\n",
       "    </tr>\n",
       "    <tr>\n",
       "      <th>22</th>\n",
       "      <td>116</td>\n",
       "      <td>4 hrs per day seems like its barking on profes...</td>\n",
       "      <td>0      94\\n1      95\\n2      96\\n3      97\\n4 ...</td>\n",
       "    </tr>\n",
       "    <tr>\n",
       "      <th>23</th>\n",
       "      <td>117</td>\n",
       "      <td>How to combat increased food intake after quit...</td>\n",
       "      <td>0      94\\n1      95\\n2      96\\n3      97\\n4 ...</td>\n",
       "    </tr>\n",
       "    <tr>\n",
       "      <th>24</th>\n",
       "      <td>118</td>\n",
       "      <td>It's brutal. Get the garbage food out of your ...</td>\n",
       "      <td>0      94\\n1      95\\n2      96\\n3      97\\n4 ...</td>\n",
       "    </tr>\n",
       "    <tr>\n",
       "      <th>25</th>\n",
       "      <td>119</td>\n",
       "      <td>go animal based</td>\n",
       "      <td>0      94\\n1      95\\n2      96\\n3      97\\n4 ...</td>\n",
       "    </tr>\n",
       "    <tr>\n",
       "      <th>26</th>\n",
       "      <td>120</td>\n",
       "      <td>... and they said it gives you the munchies.</td>\n",
       "      <td>0      94\\n1      95\\n2      96\\n3      97\\n4 ...</td>\n",
       "    </tr>\n",
       "    <tr>\n",
       "      <th>27</th>\n",
       "      <td>121</td>\n",
       "      <td>My first thought was Rich Roll</td>\n",
       "      <td>0      94\\n1      95\\n2      96\\n3      97\\n4 ...</td>\n",
       "    </tr>\n",
       "  </tbody>\n",
       "</table>\n",
       "</div>"
      ],
      "text/plain": [
       "    idx                                           comments  \\\n",
       "0    94  Hello, \\u200bbone broth help a lot with alcool...   \n",
       "1    95  The next time you have low level anxiety and a...   \n",
       "2    96       People in the military will prove you wrong😂   \n",
       "3    97  People in the military exercise about as vigor...   \n",
       "4    98                   Thank you for this presentation.   \n",
       "5    99  I have to force myself, both to do exercise an...   \n",
       "6   100  Rhonda Patrick instant like crew checking in. ...   \n",
       "7   101                                     Thanks, Grant!   \n",
       "8   102  Watching while working thru a hangover……… good...   \n",
       "9   103  I haven't had a (hardly) sip since last Christ...   \n",
       "10  104  I know a guy who needs this like a fish that s...   \n",
       "11  105                                         it doesnt.   \n",
       "12  106  Funny, when I was drinking we were young and w...   \n",
       "13  107  Are you sure? All I want to do after a long ru...   \n",
       "14  108  Probably dehydrated and just wanna drink somet...   \n",
       "15  109                                  On-on, my brother   \n",
       "16  110  This is a known behavior specifically called o...   \n",
       "17  111  Could it be maybe from a reward based habit?  ...   \n",
       "18  112  I live in Marin County, CA. Back around 2000 t...   \n",
       "19  113  He had a heart operation that might have exace...   \n",
       "20  114  yeah Robin Williams was a serious cyclist. he ...   \n",
       "21  115  You live in the one of the best places in the ...   \n",
       "22  116  4 hrs per day seems like its barking on profes...   \n",
       "23  117  How to combat increased food intake after quit...   \n",
       "24  118  It's brutal. Get the garbage food out of your ...   \n",
       "25  119                                    go animal based   \n",
       "26  120       ... and they said it gives you the munchies.   \n",
       "27  121                     My first thought was Rich Roll   \n",
       "\n",
       "                                               comidx  \n",
       "0   0      94\\n1      95\\n2      96\\n3      97\\n4 ...  \n",
       "1   0      94\\n1      95\\n2      96\\n3      97\\n4 ...  \n",
       "2   0      94\\n1      95\\n2      96\\n3      97\\n4 ...  \n",
       "3   0      94\\n1      95\\n2      96\\n3      97\\n4 ...  \n",
       "4   0      94\\n1      95\\n2      96\\n3      97\\n4 ...  \n",
       "5   0      94\\n1      95\\n2      96\\n3      97\\n4 ...  \n",
       "6   0      94\\n1      95\\n2      96\\n3      97\\n4 ...  \n",
       "7   0      94\\n1      95\\n2      96\\n3      97\\n4 ...  \n",
       "8   0      94\\n1      95\\n2      96\\n3      97\\n4 ...  \n",
       "9   0      94\\n1      95\\n2      96\\n3      97\\n4 ...  \n",
       "10  0      94\\n1      95\\n2      96\\n3      97\\n4 ...  \n",
       "11  0      94\\n1      95\\n2      96\\n3      97\\n4 ...  \n",
       "12  0      94\\n1      95\\n2      96\\n3      97\\n4 ...  \n",
       "13  0      94\\n1      95\\n2      96\\n3      97\\n4 ...  \n",
       "14  0      94\\n1      95\\n2      96\\n3      97\\n4 ...  \n",
       "15  0      94\\n1      95\\n2      96\\n3      97\\n4 ...  \n",
       "16  0      94\\n1      95\\n2      96\\n3      97\\n4 ...  \n",
       "17  0      94\\n1      95\\n2      96\\n3      97\\n4 ...  \n",
       "18  0      94\\n1      95\\n2      96\\n3      97\\n4 ...  \n",
       "19  0      94\\n1      95\\n2      96\\n3      97\\n4 ...  \n",
       "20  0      94\\n1      95\\n2      96\\n3      97\\n4 ...  \n",
       "21  0      94\\n1      95\\n2      96\\n3      97\\n4 ...  \n",
       "22  0      94\\n1      95\\n2      96\\n3      97\\n4 ...  \n",
       "23  0      94\\n1      95\\n2      96\\n3      97\\n4 ...  \n",
       "24  0      94\\n1      95\\n2      96\\n3      97\\n4 ...  \n",
       "25  0      94\\n1      95\\n2      96\\n3      97\\n4 ...  \n",
       "26  0      94\\n1      95\\n2      96\\n3      97\\n4 ...  \n",
       "27  0      94\\n1      95\\n2      96\\n3      97\\n4 ...  "
      ]
     },
     "execution_count": 19,
     "metadata": {},
     "output_type": "execute_result"
    }
   ],
   "source": [
    "df"
   ]
  },
  {
   "cell_type": "code",
   "execution_count": 18,
   "id": "a7bcc870",
   "metadata": {},
   "outputs": [
    {
     "data": {
      "text/plain": [
       "'0      0\\n1      1\\n2      2\\n3      3\\n4      4\\n5      5\\n6      6\\n7      7\\n8      8\\n9      9\\n10    10\\n11    11\\n12    12\\n13    13\\n14    14\\n15    15\\n16    16\\n17    17\\n18    18\\n19    19\\n20    20\\n21    21\\n22    22\\n23    23\\n24    24\\n25    25\\n26    26\\n27    27\\nname: idx, dtype: object:: if exercise and/or the interaction with alcohol behaviors has really piqued your interest, make sure to check out my recent \"sober october\" post series found on my instagram: https://www.instagram.com/foundmyfitness support the show as a premium member: https://www.foundmyfitness.com/crowdsponsor\\\\n\\\\nthanks for watching! :: 0      0\\n1      1\\n2      2\\n3      3\\n4      4\\n5      5\\n6      6\\n7      7\\n8      8\\n9      9\\n10    10\\n11    11\\n12    12\\n13    13\\n14    14\\n15    15\\n16    16\\n17    17\\n18    18\\n19    19\\n20    20\\n21    21\\n22    22\\n23    23\\n24    24\\n25    25\\n26    26\\n27    27\\nname: idx, dtype: object:: hi rhonda, could this mean that \"one time\" phsychedelic treatments with e.g.: ayahuasca or psylocybin that show significant reduction in alcohol intake in patients could actually alter and \"clear\" fgf21 pathways? :: 0      0\\n1      1\\n2      2\\n3      3\\n4      4\\n5      5\\n6      6\\n7      7\\n8      8\\n9      9\\n10    10\\n11    11\\n12    12\\n13    13\\n14    14\\n15    15\\n16    16\\n17    17\\n18    18\\n19    19\\n20    20\\n21    21\\n22    22\\n23    23\\n24    24\\n25    25\\n26    26\\n27    27\\nname: idx, dtype: object:: it’s a great series! highly suggest 💪👏💓 :: 0      0\\n1      1\\n2      2\\n3      3\\n4      4\\n5      5\\n6      6\\n7      7\\n8      8\\n9      9\\n10    10\\n11    11\\n12    12\\n13    13\\n14    14\\n15    15\\n16    16\\n17    17\\n18    18\\n19    19\\n20    20\\n21    21\\n22    22\\n23    23\\n24    24\\n25    25\\n26    26\\n27    27\\nname: idx, dtype: object:: thank you so much for researching, organizing, and presenting this fantastic data.  i wonder if the fgf21 circuit can be also implied to other addictive behaviors, such as pornography, binge watching tv, gambling, etc.  is fgf21\\'s benefit only applicable to alcohol or just that the data/research was done with alcohol.  or does it effect that dopagenic systems and increase activity in  prefrontal cortex during addictive behaviors in a way where we can make better/wiser decisions.  i would also love to learn the suggested amount of exercise.  for example the cycle/weight train study didn\\'t specify how long the research participants biked for.  i heard dr. huberman mention in his recent happiness podcast, i think it was in that one, that 150-180 min of level 2,70% +- vo2 max, workout is beneficial.  again thank you so much for your work!!  you are changing the world!   💙 :: 0      0\\n1      1\\n2      2\\n3      3\\n4      4\\n5      5\\n6      6\\n7      7\\n8      8\\n9      9\\n10    10\\n11    11\\n12    12\\n13    13\\n14    14\\n15    15\\n16    16\\n17    17\\n18    18\\n19    19\\n20    20\\n21    21\\n22    22\\n23    23\\n24    24\\n25    25\\n26    26\\n27    27\\nname: idx, dtype: object:: didn\\'t know about this, but i\\'m a living anecdote :: 0      0\\n1      1\\n2      2\\n3      3\\n4      4\\n5      5\\n6      6\\n7      7\\n8      8\\n9      9\\n10    10\\n11    11\\n12    12\\n13    13\\n14    14\\n15    15\\n16    16\\n17    17\\n18    18\\n19    19\\n20    20\\n21    21\\n22    22\\n23    23\\n24    24\\n25    25\\n26    26\\n27    27\\nname: idx, dtype: object:: when i was in my 20\\'s and early 30\\'s, i would binge drink during some get together with friends. sometimes i even craved a beer or wine, during weekends, however i did notice that the times that i would be in the gym ,on and off during those years,, my craving for alcohol just wasn\\'t there. :: 0      0\\n1      1\\n2      2\\n3      3\\n4      4\\n5      5\\n6      6\\n7      7\\n8      8\\n9      9\\n10    10\\n11    11\\n12    12\\n13    13\\n14    14\\n15    15\\n16    16\\n17    17\\n18    18\\n19    19\\n20    20\\n21    21\\n22    22\\n23    23\\n24    24\\n25    25\\n26    26\\n27    27\\nname: idx, dtype: object:: nicotinamide riboside please dr rhonda break it down for us layman\\'s on the new study that it causes cancer. how do we avoid it scary stuff. :: 0      0\\n1      1\\n2      2\\n3      3\\n4      4\\n5      5\\n6      6\\n7      7\\n8      8\\n9      9\\n10    10\\n11    11\\n12    12\\n13    13\\n14    14\\n15    15\\n16    16\\n17    17\\n18    18\\n19    19\\n20    20\\n21    21\\n22    22\\n23    23\\n24    24\\n25    25\\n26    26\\n27    27\\nname: idx, dtype: object:: catching a bear, this time or next,...\\\\nalso qualifies as vigorous exercise ! :, :: 0      0\\n1      1\\n2      2\\n3      3\\n4      4\\n5      5\\n6      6\\n7      7\\n8      8\\n9      9\\n10    10\\n11    11\\n12    12\\n13    13\\n14    14\\n15    15\\n16    16\\n17    17\\n18    18\\n19    19\\n20    20\\n21    21\\n22    22\\n23    23\\n24    24\\n25    25\\n26    26\\n27    27\\nname: idx, dtype: object:: i am addicted.  to dr.rp ! :: 0      0\\n1      1\\n2      2\\n3      3\\n4      4\\n5      5\\n6      6\\n7      7\\n8      8\\n9      9\\n10    10\\n11    11\\n12    12\\n13    13\\n14    14\\n15    15\\n16    16\\n17    17\\n18    18\\n19    19\\n20    20\\n21    21\\n22    22\\n23    23\\n24    24\\n25    25\\n26    26\\n27    27\\nname: idx, dtype: object:: last friday i was at the fitness center and my friend jim nasium, lol, had a shirt on that said weights before dates, so i told him but in the dictionary dates come before weights. he then invites me and a group of workout buddies to the happy hour for drinks. i suppose to reward themselves from the hard fitness workout they accomplished? what do you think? :: 0      0\\n1      1\\n2      2\\n3      3\\n4      4\\n5      5\\n6      6\\n7      7\\n8      8\\n9      9\\n10    10\\n11    11\\n12    12\\n13    13\\n14    14\\n15    15\\n16    16\\n17    17\\n18    18\\n19    19\\n20    20\\n21    21\\n22    22\\n23    23\\n24    24\\n25    25\\n26    26\\n27    27\\nname: idx, dtype: object:: ... as a german biologist - total non sense!\\\\nwhen i did marathon and tri athlon endurance training - \\\\ni was stunned meeting many high performers\\\\naddicted to smoking and drinking\\\\nabsurdly many.\\\\neven worse - training may be the justification and excuse to self abuse - \\\\nas you train so well and eliminate the toxxins you take in.\\\\nself destructive\\\\nself titanic :: 0      0\\n1      1\\n2      2\\n3      3\\n4      4\\n5      5\\n6      6\\n7      7\\n8      8\\n9      9\\n10    10\\n11    11\\n12    12\\n13    13\\n14    14\\n15    15\\n16    16\\n17    17\\n18    18\\n19    19\\n20    20\\n21    21\\n22    22\\n23    23\\n24    24\\n25    25\\n26    26\\n27    27\\nname: idx, dtype: object:: i drink after exercise. exercise helps my drinking. it’s my homeostatic cycle. 🎉 :: 0      0\\n1      1\\n2      2\\n3      3\\n4      4\\n5      5\\n6      6\\n7      7\\n8      8\\n9      9\\n10    10\\n11    11\\n12    12\\n13    13\\n14    14\\n15    15\\n16    16\\n17    17\\n18    18\\n19    19\\n20    20\\n21    21\\n22    22\\n23    23\\n24    24\\n25    25\\n26    26\\n27    27\\nname: idx, dtype: object:: you should buy a mirror to watch your drinking. :: 0      0\\n1      1\\n2      2\\n3      3\\n4      4\\n5      5\\n6      6\\n7      7\\n8      8\\n9      9\\n10    10\\n11    11\\n12    12\\n13    13\\n14    14\\n15    15\\n16    16\\n17    17\\n18    18\\n19    19\\n20    20\\n21    21\\n22    22\\n23    23\\n24    24\\n25    25\\n26    26\\n27    27\\nname: idx, dtype: object:: thank you for this dr patrick. :: 0      0\\n1      1\\n2      2\\n3      3\\n4      4\\n5      5\\n6      6\\n7      7\\n8      8\\n9      9\\n10    10\\n11    11\\n12    12\\n13    13\\n14    14\\n15    15\\n16    16\\n17    17\\n18    18\\n19    19\\n20    20\\n21    21\\n22    22\\n23    23\\n24    24\\n25    25\\n26    26\\n27    27\\nname: idx, dtype: object:: kudzu! :: 0      0\\n1      1\\n2      2\\n3      3\\n4      4\\n5      5\\n6      6\\n7      7\\n8      8\\n9      9\\n10    10\\n11    11\\n12    12\\n13    13\\n14    14\\n15    15\\n16    16\\n17    17\\n18    18\\n19    19\\n20    20\\n21    21\\n22    22\\n23    23\\n24    24\\n25    25\\n26    26\\n27    27\\nname: idx, dtype: object:: i dig this chick she is smart and hot! :: 0      0\\n1      1\\n2      2\\n3      3\\n4      4\\n5      5\\n6      6\\n7      7\\n8      8\\n9      9\\n10    10\\n11    11\\n12    12\\n13    13\\n14    14\\n15    15\\n16    16\\n17    17\\n18    18\\n19    19\\n20    20\\n21    21\\n22    22\\n23    23\\n24    24\\n25    25\\n26    26\\n27    27\\nname: idx, dtype: object:: does regular vigorous exercise not also reward/increase the sex drive? regular visits to orange theory seems to have that effect, it\\'s seems, and my friends agree with this. or is it just a guy thing? 🤔 :: 0      0\\n1      1\\n2      2\\n3      3\\n4      4\\n5      5\\n6      6\\n7      7\\n8      8\\n9      9\\n10    10\\n11    11\\n12    12\\n13    13\\n14    14\\n15    15\\n16    16\\n17    17\\n18    18\\n19    19\\n20    20\\n21    21\\n22    22\\n23    23\\n24    24\\n25    25\\n26    26\\n27    27\\nname: idx, dtype: object:: worth a note that fgf-21 was lower three hours after exercise than before the exercise.  i\\'d like to see what happens in the hours after that 3rd hour.   if lower concentrations ,assuming they exist e.g. are easy to replicate, remain for hours after that 3rd hour, this is important to know up or down, because we don\\'t want to inadvertently cause an alcohol craving downstream. :: 0      0\\n1      1\\n2      2\\n3      3\\n4      4\\n5      5\\n6      6\\n7      7\\n8      8\\n9      9\\n10    10\\n11    11\\n12    12\\n13    13\\n14    14\\n15    15\\n16    16\\n17    17\\n18    18\\n19    19\\n20    20\\n21    21\\n22    22\\n23    23\\n24    24\\n25    25\\n26    26\\n27    27\\nname: idx, dtype: object:: after injuring my ankle 6 weeks ago i was unable to run, and i found myself drinking more.\\\\nvery pertinent video for me! :: 0      0\\n1      1\\n2      2\\n3      3\\n4      4\\n5      5\\n6      6\\n7      7\\n8      8\\n9      9\\n10    10\\n11    11\\n12    12\\n13    13\\n14    14\\n15    15\\n16    16\\n17    17\\n18    18\\n19    19\\n20    20\\n21    21\\n22    22\\n23    23\\n24    24\\n25    25\\n26    26\\n27    27\\nname: idx, dtype: object:: i wish i workout 6 days a week hard and when i’m done i drink a martini or a beer or a tequila on ice. i’m 53 trying to to cut down but it’s hard but i’m trying. :: 0      0\\n1      1\\n2      2\\n3      3\\n4      4\\n5      5\\n6      6\\n7      7\\n8      8\\n9      9\\n10    10\\n11    11\\n12    12\\n13    13\\n14    14\\n15    15\\n16    16\\n17    17\\n18    18\\n19    19\\n20    20\\n21    21\\n22    22\\n23    23\\n24    24\\n25    25\\n26    26\\n27    27\\nname: idx, dtype: object:: very interesting! thanks doc rhonda! :, :: 0      0\\n1      1\\n2      2\\n3      3\\n4      4\\n5      5\\n6      6\\n7      7\\n8      8\\n9      9\\n10    10\\n11    11\\n12    12\\n13    13\\n14    14\\n15    15\\n16    16\\n17    17\\n18    18\\n19    19\\n20    20\\n21    21\\n22    22\\n23    23\\n24    24\\n25    25\\n26    26\\n27    27\\nname: idx, dtype: object:: also a low-protein vegan diet increases fgf-21 :: 0      0\\n1      1\\n2      2\\n3      3\\n4      4\\n5      5\\n6      6\\n7      7\\n8      8\\n9      9\\n10    10\\n11    11\\n12    12\\n13    13\\n14    14\\n15    15\\n16    16\\n17    17\\n18    18\\n19    19\\n20    20\\n21    21\\n22    22\\n23    23\\n24    24\\n25    25\\n26    26\\n27    27\\nname: idx, dtype: object:: \"real difficulties can be overcome; it is only the imaginary ones that are unconquerable.\" -theodore n. vail :: 0      0\\n1      1\\n2      2\\n3      3\\n4      4\\n5      5\\n6      6\\n7      7\\n8      8\\n9      9\\n10    10\\n11    11\\n12    12\\n13    13\\n14    14\\n15    15\\n16    16\\n17    17\\n18    18\\n19    19\\n20    20\\n21    21\\n22    22\\n23    23\\n24    24\\n25    25\\n26    26\\n27    27\\nname: idx, dtype: object:: interesting!  fgf21\\'s return to baseline levels three hours after exercise suggests that exercise timing might be an important part of targeting fgf21 for alcohol abuse disorder.  does that sound right? :: 0      0\\n1      1\\n2      2\\n3      3\\n4      4\\n5      5\\n6      6\\n7      7\\n8      8\\n9      9\\n10    10\\n11    11\\n12    12\\n13    13\\n14    14\\n15    15\\n16    16\\n17    17\\n18    18\\n19    19\\n20    20\\n21    21\\n22    22\\n23    23\\n24    24\\n25    25\\n26    26\\n27    27\\nname: idx, dtype: object:: excellent information. thank you!! :: 0      0\\n1      1\\n2      2\\n3      3\\n4      4\\n5      5\\n6      6\\n7      7\\n8      8\\n9      9\\n10    10\\n11    11\\n12    12\\n13    13\\n14    14\\n15    15\\n16    16\\n17    17\\n18    18\\n19    19\\n20    20\\n21    21\\n22    22\\n23    23\\n24    24\\n25    25\\n26    26\\n27    27\\nname: idx, dtype: object:: great video 🙏\\\\nplease specify if there a specific time to do the vigorous exercises? :: 0      0\\n1      1\\n2      2\\n3      3\\n4      4\\n5      5\\n6      6\\n7      7\\n8      8\\n9      9\\n10    10\\n11    11\\n12    12\\n13    13\\n14    14\\n15    15\\n16    16\\n17    17\\n18    18\\n19    19\\n20    20\\n21    21\\n22    22\\n23    23\\n24    24\\n25    25\\n26    26\\n27    27\\nname: idx, dtype: object:: i can’t thank you enough for your informative videos and website.  just utmost respect and gratitude. :: 0      0\\n1      1\\n2      2\\n3      3\\n4      4\\n5      5\\n6      6\\n7      7\\n8      8\\n9      9\\n10    10\\n11    11\\n12    12\\n13    13\\n14    14\\n15    15\\n16    16\\n17    17\\n18    18\\n19    19\\n20    20\\n21    21\\n22    22\\n23    23\\n24    24\\n25    25\\n26    26\\n27    27\\nname: idx, dtype: object:: you’ve literally changed my life, girl. and it trickles down to all of my poor friends and family. thank you❤️\\\\nwe want more content ::'"
      ]
     },
     "execution_count": 18,
     "metadata": {},
     "output_type": "execute_result"
    }
   ],
   "source": [
    "blocks.text_block[0]"
   ]
  },
  {
   "cell_type": "code",
   "execution_count": null,
   "id": "3201984d",
   "metadata": {},
   "outputs": [],
   "source": [
    "blocks.text_block[0]"
   ]
  },
  {
   "cell_type": "code",
   "execution_count": null,
   "id": "5e7d9fcf",
   "metadata": {},
   "outputs": [],
   "source": [
    "blocks[0][0][0]"
   ]
  },
  {
   "cell_type": "code",
   "execution_count": null,
   "id": "bdd5858e",
   "metadata": {},
   "outputs": [],
   "source": [
    "totalLen = 0\n",
    "for row in dfit.iterrows():\n",
    "    totalLen = totalLen + len(b[0])\n",
    "    print(b[0])\n",
    "    print()\n",
    "    print(len(b[0]))\n",
    "    print(totalLen)\n",
    "    \n",
    "    \n",
    "    "
   ]
  },
  {
   "cell_type": "code",
   "execution_count": null,
   "id": "769a0919",
   "metadata": {},
   "outputs": [],
   "source": []
  },
  {
   "cell_type": "code",
   "execution_count": null,
   "id": "8645b8e9",
   "metadata": {},
   "outputs": [],
   "source": [
    "i = 0\n",
    "for index, row in df.iterrows():\n",
    "    if i>len(df.col):\n",
    "        break\n",
    "    else:\n",
    "        f = open( str(i) + '.txt', 'w', encoding='utf-8')\n",
    "        f.write(row[0])\n",
    "        f.close()\n",
    "        i+=1\n"
   ]
  },
  {
   "cell_type": "code",
   "execution_count": null,
   "id": "8272f672",
   "metadata": {},
   "outputs": [],
   "source": [
    "# Send it all to Bern2\n",
    "output = query_plain(text=text_block);  "
   ]
  },
  {
   "cell_type": "code",
   "execution_count": null,
   "id": "d517b823",
   "metadata": {},
   "outputs": [],
   "source": [
    "output"
   ]
  },
  {
   "cell_type": "markdown",
   "id": "2facc485",
   "metadata": {},
   "source": [
    "## Try by comment"
   ]
  },
  {
   "cell_type": "code",
   "execution_count": null,
   "id": "b9acbd81",
   "metadata": {},
   "outputs": [],
   "source": [
    "coms.comments"
   ]
  },
  {
   "cell_type": "code",
   "execution_count": null,
   "id": "ca82bdf4",
   "metadata": {},
   "outputs": [],
   "source": [
    "df = pd.DataFrame()\n",
    "for o in coms.comments[:1]:\n",
    "    out = query_plain(text=o)\n",
    "    df = df.append({'out':out},ignore_index=True)\n",
    "df.tail()"
   ]
  },
  {
   "cell_type": "code",
   "execution_count": null,
   "id": "28431e99",
   "metadata": {},
   "outputs": [],
   "source": [
    "df2 = pd.DataFrame()\n",
    "for p,o in zip(df.index, df.out):\n",
    "    dft = pd.DataFrame(o['annotations'])\n",
    "    dft['comidx'] = p\n",
    "    df2 = df2.append(dft)\n",
    "df2\n",
    "    "
   ]
  },
  {
   "cell_type": "code",
   "execution_count": null,
   "id": "ed47c90c",
   "metadata": {},
   "outputs": [],
   "source": [
    "pd.DataFrame(df['annotations'])"
   ]
  },
  {
   "cell_type": "code",
   "execution_count": null,
   "id": "05276ed3",
   "metadata": {},
   "outputs": [],
   "source": []
  }
 ],
 "metadata": {
  "kernelspec": {
   "display_name": "Python 3 (ipykernel)",
   "language": "python",
   "name": "python3"
  },
  "language_info": {
   "codemirror_mode": {
    "name": "ipython",
    "version": 3
   },
   "file_extension": ".py",
   "mimetype": "text/x-python",
   "name": "python",
   "nbconvert_exporter": "python",
   "pygments_lexer": "ipython3",
   "version": "3.7.11"
  }
 },
 "nbformat": 4,
 "nbformat_minor": 5
}
