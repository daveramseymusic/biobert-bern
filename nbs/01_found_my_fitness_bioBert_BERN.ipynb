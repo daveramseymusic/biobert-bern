{
 "cells": [
  {
   "cell_type": "code",
   "execution_count": 1,
   "id": "2d162388",
   "metadata": {},
   "outputs": [],
   "source": [
    "#| default_exp fmf_biobert"
   ]
  },
  {
   "cell_type": "markdown",
   "id": "866d284d",
   "metadata": {},
   "source": [
    "# Found My Fitness Example\n",
    ">\"Here we'll try using elements from the biobertApi module to label biomedical terms in the comments section of a Found My Fitness Youtube video\""
   ]
  },
  {
   "cell_type": "code",
   "execution_count": 2,
   "id": "265ef6d2",
   "metadata": {},
   "outputs": [
    {
     "name": "stdout",
     "output_type": "stream",
     "text": [
      "Less than 5k characters. Only 1 block necessary.\n"
     ]
    }
   ],
   "source": [
    "#|hide\n",
    "# import biobert-bern \n",
    "from biobert_bern.biobertApi import *"
   ]
  },
  {
   "cell_type": "code",
   "execution_count": 3,
   "id": "2bb78320",
   "metadata": {},
   "outputs": [],
   "source": [
    "# !pip install pathlib"
   ]
  },
  {
   "cell_type": "code",
   "execution_count": 4,
   "id": "1b32be43",
   "metadata": {},
   "outputs": [],
   "source": [
    "import requests\n",
    "import re\n",
    "import pandas as pd\n",
    "from nbdev.showdoc import *\n",
    "import fastai\n",
    "from pathlib import *\n",
    "import numpy as np     "
   ]
  },
  {
   "cell_type": "code",
   "execution_count": 5,
   "id": "a2c5f916",
   "metadata": {},
   "outputs": [],
   "source": [
    "path = Path('../..')\n",
    "comment_csv= 'found_my_fitness_UCWF8SqJVNlx-ctXbLswcTcA_youtube_comments_only_122rows.csv'"
   ]
  },
  {
   "cell_type": "code",
   "execution_count": 6,
   "id": "130386d7",
   "metadata": {},
   "outputs": [],
   "source": [
    "coms = pd.read_csv(path/comment_csv)"
   ]
  },
  {
   "cell_type": "code",
   "execution_count": 7,
   "id": "3900cc62",
   "metadata": {},
   "outputs": [],
   "source": [
    "coms.rename(columns = {'comment': 'comments'},inplace=True)"
   ]
  },
  {
   "cell_type": "code",
   "execution_count": 8,
   "id": "f184e738",
   "metadata": {},
   "outputs": [
    {
     "data": {
      "text/html": [
       "<div>\n",
       "<style scoped>\n",
       "    .dataframe tbody tr th:only-of-type {\n",
       "        vertical-align: middle;\n",
       "    }\n",
       "\n",
       "    .dataframe tbody tr th {\n",
       "        vertical-align: top;\n",
       "    }\n",
       "\n",
       "    .dataframe thead th {\n",
       "        text-align: right;\n",
       "    }\n",
       "</style>\n",
       "<table border=\"1\" class=\"dataframe\">\n",
       "  <thead>\n",
       "    <tr style=\"text-align: right;\">\n",
       "      <th></th>\n",
       "      <th>vid_id</th>\n",
       "      <th>vid_channel_id</th>\n",
       "      <th>vid_deets</th>\n",
       "      <th>vid_response</th>\n",
       "      <th>title</th>\n",
       "      <th>publishedAt</th>\n",
       "      <th>tcomment_id</th>\n",
       "      <th>tcresponse</th>\n",
       "      <th>textDisplay</th>\n",
       "      <th>textOriginal</th>\n",
       "      <th>totalReplyCount</th>\n",
       "      <th>rep_comment</th>\n",
       "      <th>reply_id</th>\n",
       "      <th>comments</th>\n",
       "    </tr>\n",
       "  </thead>\n",
       "  <tbody>\n",
       "    <tr>\n",
       "      <th>120</th>\n",
       "      <td>g4QqJoox8tc</td>\n",
       "      <td>NaN</td>\n",
       "      <td>NaN</td>\n",
       "      <td>NaN</td>\n",
       "      <td>NaN</td>\n",
       "      <td>2022-11-02T11:20:13Z</td>\n",
       "      <td>NaN</td>\n",
       "      <td>{'kind': 'youtube#comment', 'etag': 'yd5KSzb3_...</td>\n",
       "      <td>... and they said it gives you the munchies.</td>\n",
       "      <td>... and they said it gives you the munchies.</td>\n",
       "      <td>NaN</td>\n",
       "      <td>{'kind': 'youtube#comment', 'etag': 'yd5KSzb3_...</td>\n",
       "      <td>Ugy2ZO2t370rDO-eWoZ4AaABAg.9husbe2WJcN9hvjM9rBbfr</td>\n",
       "      <td>... and they said it gives you the munchies.</td>\n",
       "    </tr>\n",
       "    <tr>\n",
       "      <th>121</th>\n",
       "      <td>g4QqJoox8tc</td>\n",
       "      <td>NaN</td>\n",
       "      <td>NaN</td>\n",
       "      <td>NaN</td>\n",
       "      <td>NaN</td>\n",
       "      <td>2022-11-02T03:07:55Z</td>\n",
       "      <td>Ugx3lPLxH7NyOIZxzEl4AaABAg</td>\n",
       "      <td>{'kind': 'youtube#commentThread', 'etag': 'Gzv...</td>\n",
       "      <td>My first thought was Rich Roll</td>\n",
       "      <td>My first thought was Rich Roll</td>\n",
       "      <td>0.0</td>\n",
       "      <td>NaN</td>\n",
       "      <td>NaN</td>\n",
       "      <td>My first thought was Rich Roll</td>\n",
       "    </tr>\n",
       "  </tbody>\n",
       "</table>\n",
       "</div>"
      ],
      "text/plain": [
       "          vid_id  vid_channel_id  vid_deets  vid_response  title  \\\n",
       "120  g4QqJoox8tc             NaN        NaN           NaN    NaN   \n",
       "121  g4QqJoox8tc             NaN        NaN           NaN    NaN   \n",
       "\n",
       "              publishedAt                 tcomment_id  \\\n",
       "120  2022-11-02T11:20:13Z                         NaN   \n",
       "121  2022-11-02T03:07:55Z  Ugx3lPLxH7NyOIZxzEl4AaABAg   \n",
       "\n",
       "                                            tcresponse  \\\n",
       "120  {'kind': 'youtube#comment', 'etag': 'yd5KSzb3_...   \n",
       "121  {'kind': 'youtube#commentThread', 'etag': 'Gzv...   \n",
       "\n",
       "                                      textDisplay  \\\n",
       "120  ... and they said it gives you the munchies.   \n",
       "121                My first thought was Rich Roll   \n",
       "\n",
       "                                     textOriginal  totalReplyCount  \\\n",
       "120  ... and they said it gives you the munchies.              NaN   \n",
       "121                My first thought was Rich Roll              0.0   \n",
       "\n",
       "                                           rep_comment  \\\n",
       "120  {'kind': 'youtube#comment', 'etag': 'yd5KSzb3_...   \n",
       "121                                                NaN   \n",
       "\n",
       "                                              reply_id  \\\n",
       "120  Ugy2ZO2t370rDO-eWoZ4AaABAg.9husbe2WJcN9hvjM9rBbfr   \n",
       "121                                                NaN   \n",
       "\n",
       "                                         comments  \n",
       "120  ... and they said it gives you the munchies.  \n",
       "121                My first thought was Rich Roll  "
      ]
     },
     "execution_count": 8,
     "metadata": {},
     "output_type": "execute_result"
    }
   ],
   "source": [
    "coms.tail(2)"
   ]
  },
  {
   "cell_type": "markdown",
   "id": "2ccb6eed",
   "metadata": {},
   "source": [
    "## Now start splitting off all the cumsums <5000 and stack them back together."
   ]
  },
  {
   "cell_type": "markdown",
   "id": "3f4eb400",
   "metadata": {},
   "source": [
    "### Create Section Labels"
   ]
  },
  {
   "cell_type": "code",
   "execution_count": 9,
   "id": "ff503318",
   "metadata": {},
   "outputs": [],
   "source": [
    "coms = create_com_with_idx(coms)"
   ]
  },
  {
   "cell_type": "code",
   "execution_count": null,
   "id": "d2370ac9",
   "metadata": {},
   "outputs": [],
   "source": []
  },
  {
   "cell_type": "markdown",
   "id": "7ede0187",
   "metadata": {},
   "source": [
    "# Create Text Block\n",
    "> Here we'll put all the text together"
   ]
  },
  {
   "cell_type": "code",
   "execution_count": 10,
   "id": "86261de2",
   "metadata": {},
   "outputs": [],
   "source": [
    "# coms = coms[['textDisplay']]\n",
    "# coms.rename(columns={'textDisplay':'comments'},inplace=True)"
   ]
  },
  {
   "cell_type": "code",
   "execution_count": 11,
   "id": "d62fe379",
   "metadata": {},
   "outputs": [],
   "source": [
    "# df =coms\n",
    "# df = make_5k_sections(df)\n",
    "# blocks = []\n",
    "# for o in df.section.unique():\n",
    "#     dfbl = df.loc[df.section == o]\n",
    "#     text_block = ' '.join(dfbl.comidx.tolist())\n",
    "#     blocks.append(text_block)"
   ]
  },
  {
   "cell_type": "code",
   "execution_count": 15,
   "id": "633b9d14",
   "metadata": {},
   "outputs": [
    {
     "name": "stderr",
     "output_type": "stream",
     "text": [
      "/notebooks/git/biobertapi1/biobert-bern/biobert_bern/biobertApi.py:54: SettingWithCopyWarning: \n",
      "A value is trying to be set on a copy of a slice from a DataFrame.\n",
      "Try using .loc[row_indexer,col_indexer] = value instead\n",
      "\n",
      "See the caveats in the documentation: https://pandas.pydata.org/pandas-docs/stable/user_guide/indexing.html#returning-a-view-versus-a-copy\n",
      "  dffk['section'] = counter\n",
      "/notebooks/git/biobertapi1/biobert-bern/biobert_bern/biobertApi.py:58: SettingWithCopyWarning: \n",
      "A value is trying to be set on a copy of a slice from a DataFrame.\n",
      "Try using .loc[row_indexer,col_indexer] = value instead\n",
      "\n",
      "See the caveats in the documentation: https://pandas.pydata.org/pandas-docs/stable/user_guide/indexing.html#returning-a-view-versus-a-copy\n",
      "  df['cumTxtLen'] = df.textLen.cumsum()\n"
     ]
    }
   ],
   "source": [
    "\n",
    "# text_block = create_text_block(df=coms);# text_block\n",
    "blocks = create_all_text_blocks(df=coms)"
   ]
  },
  {
   "cell_type": "code",
   "execution_count": 16,
   "id": "4623de16",
   "metadata": {},
   "outputs": [
    {
     "data": {
      "text/plain": [
       "list"
      ]
     },
     "execution_count": 16,
     "metadata": {},
     "output_type": "execute_result"
    }
   ],
   "source": [
    "type(blocks)"
   ]
  },
  {
   "cell_type": "code",
   "execution_count": 17,
   "id": "0ea0752c",
   "metadata": {},
   "outputs": [
    {
     "name": "stdout",
     "output_type": "stream",
     "text": [
      "0:: if exercise and/or the interaction with alcoho\n",
      "\n",
      "28:: that's hilarious. my alcoholic triathlete bro\n",
      "\n",
      "43:: as one of the most severe alcoholics ever bor\n",
      "\n",
      "60:: i really really really appreciate this concis\n",
      "\n",
      "77:: as a recovering alcoholic, damn sign me up fo\n",
      "\n",
      "99:: i have to force myself, both to do exercise a\n",
      "\n"
     ]
    }
   ],
   "source": [
    "for o in blocks: print(o[:50]); print()"
   ]
  },
  {
   "cell_type": "code",
   "execution_count": null,
   "id": "d178451b",
   "metadata": {},
   "outputs": [],
   "source": [
    "# text_block[:500]"
   ]
  },
  {
   "cell_type": "markdown",
   "id": "0a476c84",
   "metadata": {},
   "source": [
    "### Get Comment Spans"
   ]
  },
  {
   "cell_type": "code",
   "execution_count": null,
   "id": "7081e3b1",
   "metadata": {},
   "outputs": [],
   "source": [
    "# dfi = get_comment_spans_textblock(text_block); dfi.tail(3)"
   ]
  },
  {
   "cell_type": "code",
   "execution_count": null,
   "id": "f7ad2b6c",
   "metadata": {},
   "outputs": [],
   "source": [
    "len(text_block)"
   ]
  },
  {
   "cell_type": "code",
   "execution_count": null,
   "id": "8272f672",
   "metadata": {},
   "outputs": [],
   "source": [
    "# # Send it all to Bern2\n",
    "# output = query_plain(text=text_block);  "
   ]
  },
  {
   "cell_type": "markdown",
   "id": "2facc485",
   "metadata": {},
   "source": [
    "## Try by comment"
   ]
  },
  {
   "cell_type": "code",
   "execution_count": null,
   "id": "ca82bdf4",
   "metadata": {},
   "outputs": [],
   "source": [
    "df = pd.DataFrame()\n",
    "for o in blocks.text_block[:2]:\n",
    "    print( len(o))\n",
    "#     out = query_plain(text=o)\n",
    "#     df = df.append({'out':out},ignore_index=True)\n",
    "# df.tail()"
   ]
  },
  {
   "cell_type": "code",
   "execution_count": null,
   "id": "913f4230",
   "metadata": {},
   "outputs": [],
   "source": [
    "df.out[0]['annotations']"
   ]
  },
  {
   "cell_type": "code",
   "execution_count": null,
   "id": "28431e99",
   "metadata": {},
   "outputs": [],
   "source": [
    "df2 = pd.DataFrame()\n",
    "for p,o in zip(df.index, df.out):    \n",
    "    dft = pd.DataFrame(o['annotations'])\n",
    "    dft['comidx'] = p\n",
    "    df2 = df2.append(dft)\n",
    "df2"
   ]
  },
  {
   "cell_type": "code",
   "execution_count": null,
   "id": "aa3bc075",
   "metadata": {},
   "outputs": [],
   "source": [
    "df2"
   ]
  },
  {
   "cell_type": "code",
   "execution_count": null,
   "id": "ed47c90c",
   "metadata": {},
   "outputs": [],
   "source": [
    "pd.DataFrame(df['annotations'])"
   ]
  },
  {
   "cell_type": "code",
   "execution_count": null,
   "id": "05276ed3",
   "metadata": {},
   "outputs": [],
   "source": []
  }
 ],
 "metadata": {
  "kernelspec": {
   "display_name": "Python 3 (ipykernel)",
   "language": "python",
   "name": "python3"
  },
  "language_info": {
   "codemirror_mode": {
    "name": "ipython",
    "version": 3
   },
   "file_extension": ".py",
   "mimetype": "text/x-python",
   "name": "python",
   "nbconvert_exporter": "python",
   "pygments_lexer": "ipython3",
   "version": "3.7.11"
  }
 },
 "nbformat": 4,
 "nbformat_minor": 5
}
