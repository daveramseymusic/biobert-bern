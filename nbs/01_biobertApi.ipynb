{
 "cells": [
  {
   "cell_type": "code",
   "execution_count": 1,
   "metadata": {
    "id": "5DHAB5PH0nIz"
   },
   "outputs": [],
   "source": [
    "import requests\n",
    "import re\n",
    "import pandas as pd"
   ]
  },
  {
   "cell_type": "code",
   "execution_count": 2,
   "metadata": {
    "id": "lQL8-Q0oLl-l"
   },
   "outputs": [],
   "source": [
    "def term_extraction(text,out,type):\n",
    "\n",
    "  denotations=out['denotations']\n",
    "  relavent_terms=[]\n",
    "  \n",
    "  if type=='drug':\n",
    "    drug_terms=[]\n",
    "    for i in denotations:\n",
    "      if i['obj']== 'drug':\n",
    "        drug_terms.append((i['span']['begin'],i['span']['end']))\n",
    "   \n",
    "    for i in drug_terms:\n",
    "      start=i[0]\n",
    "      end=i[1]\n",
    "      relavent_terms.append(text[start:end])\n",
    "\n",
    "  if type=='disease':\n",
    "    species_terms=[]\n",
    "    for i in denotations:\n",
    "      if i['obj']== 'disease':\n",
    "        species_terms.append((i['span']['begin'],i['span']['end']))\n",
    "    \n",
    "    for i in species_terms:\n",
    "      start=i[0]\n",
    "      end=i[1]\n",
    "      relavent_terms.append(text[start:end])\n",
    "\n",
    "\n",
    "  if type=='species':\n",
    "    species_terms=[]\n",
    "    for i in denotations:\n",
    "      if i['obj']== 'species':\n",
    "        species_terms.append((i['span']['begin'],i['span']['end']))\n",
    "    \n",
    "    for i in species_terms:\n",
    "      start=i[0]\n",
    "      end=i[1]\n",
    "      relavent_terms.append(text[start:end])\n",
    "\n",
    "  return(relavent_terms)\n"
   ]
  },
  {
   "cell_type": "code",
   "execution_count": 3,
   "metadata": {
    "id": "OfnvWQqpUIBL"
   },
   "outputs": [],
   "source": [
    "def query_raw(text, url=\"https://bern.korea.ac.kr/plain\"):\n",
    "  return requests.post(url, data={'sample_text': text}).json()\n"
   ]
  },
  {
   "cell_type": "code",
   "execution_count": 4,
   "metadata": {
    "colab": {
     "base_uri": "https://localhost:8080/"
    },
    "id": "ITnD2KY9ecdf",
    "outputId": "9f42e386-18b5-443a-8768-940d7a028b47"
   },
   "outputs": [],
   "source": [
    "text = \"X-rays were negative and physical assessment determined soft tissue damage to the lateral aspect of her ankle. She was initially treated with ice, an ace wrap, crutches and mild pain medications (Tylenol with codeine)\"\n",
    "text2 = \"It is a skin disease causing much itchiness. Scratching leads to redness, swelling, cracking, weeping clear fluid, crusting, and scaling.\"\n",
    "# out=query_raw(text)\n",
    "# print(out)\n",
    "# print(term_extraction(text,out,'drug'))\n",
    "# print(term_extraction(text,out,'disease'))\n",
    "# print(term_extraction(text,out,'species'))"
   ]
  },
  {
   "cell_type": "markdown",
   "metadata": {},
   "source": [
    "### Query Function:\n",
    ">This function will send our text to bern2 using their API to get the text labeled"
   ]
  },
  {
   "cell_type": "code",
   "execution_count": 5,
   "metadata": {
    "collapsed": true,
    "id": "47kKVkIeX7A-"
   },
   "outputs": [
    {
     "ename": "KeyboardInterrupt",
     "evalue": "",
     "output_type": "error",
     "traceback": [
      "\u001b[0;31m---------------------------------------------------------------------------\u001b[0m",
      "\u001b[0;31mKeyboardInterrupt\u001b[0m                         Traceback (most recent call last)",
      "\u001b[0;32m/tmp/ipykernel_45/638778417.py\u001b[0m in \u001b[0;36m<module>\u001b[0;34m\u001b[0m\n\u001b[1;32m      6\u001b[0m \u001b[0;32mif\u001b[0m \u001b[0m__name__\u001b[0m \u001b[0;34m==\u001b[0m \u001b[0;34m'__main__'\u001b[0m\u001b[0;34m:\u001b[0m\u001b[0;34m\u001b[0m\u001b[0;34m\u001b[0m\u001b[0m\n\u001b[1;32m      7\u001b[0m     \u001b[0mtext\u001b[0m \u001b[0;34m=\u001b[0m \u001b[0;34m\"Autophagy maintains tumour growth through circulating arginine.\"\u001b[0m\u001b[0;34m\u001b[0m\u001b[0;34m\u001b[0m\u001b[0m\n\u001b[0;32m----> 8\u001b[0;31m     \u001b[0mprint\u001b[0m\u001b[0;34m(\u001b[0m\u001b[0mquery_plain\u001b[0m\u001b[0;34m(\u001b[0m\u001b[0mtext\u001b[0m\u001b[0;34m)\u001b[0m\u001b[0;34m)\u001b[0m\u001b[0;34m\u001b[0m\u001b[0;34m\u001b[0m\u001b[0m\n\u001b[0m",
      "\u001b[0;32m/tmp/ipykernel_45/638778417.py\u001b[0m in \u001b[0;36mquery_plain\u001b[0;34m(text, url)\u001b[0m\n\u001b[1;32m      2\u001b[0m \u001b[0;34m\u001b[0m\u001b[0m\n\u001b[1;32m      3\u001b[0m \u001b[0;32mdef\u001b[0m \u001b[0mquery_plain\u001b[0m\u001b[0;34m(\u001b[0m\u001b[0mtext\u001b[0m\u001b[0;34m,\u001b[0m \u001b[0murl\u001b[0m\u001b[0;34m=\u001b[0m\u001b[0;34m\"http://bern2.korea.ac.kr/plain\"\u001b[0m\u001b[0;34m)\u001b[0m\u001b[0;34m:\u001b[0m\u001b[0;34m\u001b[0m\u001b[0;34m\u001b[0m\u001b[0m\n\u001b[0;32m----> 4\u001b[0;31m     \u001b[0;32mreturn\u001b[0m \u001b[0mrequests\u001b[0m\u001b[0;34m.\u001b[0m\u001b[0mpost\u001b[0m\u001b[0;34m(\u001b[0m\u001b[0murl\u001b[0m\u001b[0;34m,\u001b[0m \u001b[0mjson\u001b[0m\u001b[0;34m=\u001b[0m\u001b[0;34m{\u001b[0m\u001b[0;34m'text'\u001b[0m\u001b[0;34m:\u001b[0m \u001b[0mtext\u001b[0m\u001b[0;34m}\u001b[0m\u001b[0;34m)\u001b[0m\u001b[0;34m.\u001b[0m\u001b[0mjson\u001b[0m\u001b[0;34m(\u001b[0m\u001b[0;34m)\u001b[0m\u001b[0;34m\u001b[0m\u001b[0;34m\u001b[0m\u001b[0m\n\u001b[0m\u001b[1;32m      5\u001b[0m \u001b[0;34m\u001b[0m\u001b[0m\n\u001b[1;32m      6\u001b[0m \u001b[0;32mif\u001b[0m \u001b[0m__name__\u001b[0m \u001b[0;34m==\u001b[0m \u001b[0;34m'__main__'\u001b[0m\u001b[0;34m:\u001b[0m\u001b[0;34m\u001b[0m\u001b[0;34m\u001b[0m\u001b[0m\n",
      "\u001b[0;32m/opt/conda/lib/python3.7/site-packages/requests/api.py\u001b[0m in \u001b[0;36mpost\u001b[0;34m(url, data, json, **kwargs)\u001b[0m\n\u001b[1;32m    117\u001b[0m     \"\"\"\n\u001b[1;32m    118\u001b[0m \u001b[0;34m\u001b[0m\u001b[0m\n\u001b[0;32m--> 119\u001b[0;31m     \u001b[0;32mreturn\u001b[0m \u001b[0mrequest\u001b[0m\u001b[0;34m(\u001b[0m\u001b[0;34m'post'\u001b[0m\u001b[0;34m,\u001b[0m \u001b[0murl\u001b[0m\u001b[0;34m,\u001b[0m \u001b[0mdata\u001b[0m\u001b[0;34m=\u001b[0m\u001b[0mdata\u001b[0m\u001b[0;34m,\u001b[0m \u001b[0mjson\u001b[0m\u001b[0;34m=\u001b[0m\u001b[0mjson\u001b[0m\u001b[0;34m,\u001b[0m \u001b[0;34m**\u001b[0m\u001b[0mkwargs\u001b[0m\u001b[0;34m)\u001b[0m\u001b[0;34m\u001b[0m\u001b[0;34m\u001b[0m\u001b[0m\n\u001b[0m\u001b[1;32m    120\u001b[0m \u001b[0;34m\u001b[0m\u001b[0m\n\u001b[1;32m    121\u001b[0m \u001b[0;34m\u001b[0m\u001b[0m\n",
      "\u001b[0;32m/opt/conda/lib/python3.7/site-packages/requests/api.py\u001b[0m in \u001b[0;36mrequest\u001b[0;34m(method, url, **kwargs)\u001b[0m\n\u001b[1;32m     59\u001b[0m     \u001b[0;31m# cases, and look like a memory leak in others.\u001b[0m\u001b[0;34m\u001b[0m\u001b[0;34m\u001b[0m\u001b[0;34m\u001b[0m\u001b[0m\n\u001b[1;32m     60\u001b[0m     \u001b[0;32mwith\u001b[0m \u001b[0msessions\u001b[0m\u001b[0;34m.\u001b[0m\u001b[0mSession\u001b[0m\u001b[0;34m(\u001b[0m\u001b[0;34m)\u001b[0m \u001b[0;32mas\u001b[0m \u001b[0msession\u001b[0m\u001b[0;34m:\u001b[0m\u001b[0;34m\u001b[0m\u001b[0;34m\u001b[0m\u001b[0m\n\u001b[0;32m---> 61\u001b[0;31m         \u001b[0;32mreturn\u001b[0m \u001b[0msession\u001b[0m\u001b[0;34m.\u001b[0m\u001b[0mrequest\u001b[0m\u001b[0;34m(\u001b[0m\u001b[0mmethod\u001b[0m\u001b[0;34m=\u001b[0m\u001b[0mmethod\u001b[0m\u001b[0;34m,\u001b[0m \u001b[0murl\u001b[0m\u001b[0;34m=\u001b[0m\u001b[0murl\u001b[0m\u001b[0;34m,\u001b[0m \u001b[0;34m**\u001b[0m\u001b[0mkwargs\u001b[0m\u001b[0;34m)\u001b[0m\u001b[0;34m\u001b[0m\u001b[0;34m\u001b[0m\u001b[0m\n\u001b[0m\u001b[1;32m     62\u001b[0m \u001b[0;34m\u001b[0m\u001b[0m\n\u001b[1;32m     63\u001b[0m \u001b[0;34m\u001b[0m\u001b[0m\n",
      "\u001b[0;32m/opt/conda/lib/python3.7/site-packages/requests/sessions.py\u001b[0m in \u001b[0;36mrequest\u001b[0;34m(self, method, url, params, data, headers, cookies, files, auth, timeout, allow_redirects, proxies, hooks, stream, verify, cert, json)\u001b[0m\n\u001b[1;32m    540\u001b[0m         }\n\u001b[1;32m    541\u001b[0m         \u001b[0msend_kwargs\u001b[0m\u001b[0;34m.\u001b[0m\u001b[0mupdate\u001b[0m\u001b[0;34m(\u001b[0m\u001b[0msettings\u001b[0m\u001b[0;34m)\u001b[0m\u001b[0;34m\u001b[0m\u001b[0;34m\u001b[0m\u001b[0m\n\u001b[0;32m--> 542\u001b[0;31m         \u001b[0mresp\u001b[0m \u001b[0;34m=\u001b[0m \u001b[0mself\u001b[0m\u001b[0;34m.\u001b[0m\u001b[0msend\u001b[0m\u001b[0;34m(\u001b[0m\u001b[0mprep\u001b[0m\u001b[0;34m,\u001b[0m \u001b[0;34m**\u001b[0m\u001b[0msend_kwargs\u001b[0m\u001b[0;34m)\u001b[0m\u001b[0;34m\u001b[0m\u001b[0;34m\u001b[0m\u001b[0m\n\u001b[0m\u001b[1;32m    543\u001b[0m \u001b[0;34m\u001b[0m\u001b[0m\n\u001b[1;32m    544\u001b[0m         \u001b[0;32mreturn\u001b[0m \u001b[0mresp\u001b[0m\u001b[0;34m\u001b[0m\u001b[0;34m\u001b[0m\u001b[0m\n",
      "\u001b[0;32m/opt/conda/lib/python3.7/site-packages/requests/sessions.py\u001b[0m in \u001b[0;36msend\u001b[0;34m(self, request, **kwargs)\u001b[0m\n\u001b[1;32m    653\u001b[0m \u001b[0;34m\u001b[0m\u001b[0m\n\u001b[1;32m    654\u001b[0m         \u001b[0;31m# Send the request\u001b[0m\u001b[0;34m\u001b[0m\u001b[0;34m\u001b[0m\u001b[0;34m\u001b[0m\u001b[0m\n\u001b[0;32m--> 655\u001b[0;31m         \u001b[0mr\u001b[0m \u001b[0;34m=\u001b[0m \u001b[0madapter\u001b[0m\u001b[0;34m.\u001b[0m\u001b[0msend\u001b[0m\u001b[0;34m(\u001b[0m\u001b[0mrequest\u001b[0m\u001b[0;34m,\u001b[0m \u001b[0;34m**\u001b[0m\u001b[0mkwargs\u001b[0m\u001b[0;34m)\u001b[0m\u001b[0;34m\u001b[0m\u001b[0;34m\u001b[0m\u001b[0m\n\u001b[0m\u001b[1;32m    656\u001b[0m \u001b[0;34m\u001b[0m\u001b[0m\n\u001b[1;32m    657\u001b[0m         \u001b[0;31m# Total elapsed time of the request (approximately)\u001b[0m\u001b[0;34m\u001b[0m\u001b[0;34m\u001b[0m\u001b[0;34m\u001b[0m\u001b[0m\n",
      "\u001b[0;32m/opt/conda/lib/python3.7/site-packages/requests/adapters.py\u001b[0m in \u001b[0;36msend\u001b[0;34m(self, request, stream, timeout, verify, cert, proxies)\u001b[0m\n\u001b[1;32m    447\u001b[0m                     \u001b[0mdecode_content\u001b[0m\u001b[0;34m=\u001b[0m\u001b[0;32mFalse\u001b[0m\u001b[0;34m,\u001b[0m\u001b[0;34m\u001b[0m\u001b[0;34m\u001b[0m\u001b[0m\n\u001b[1;32m    448\u001b[0m                     \u001b[0mretries\u001b[0m\u001b[0;34m=\u001b[0m\u001b[0mself\u001b[0m\u001b[0;34m.\u001b[0m\u001b[0mmax_retries\u001b[0m\u001b[0;34m,\u001b[0m\u001b[0;34m\u001b[0m\u001b[0;34m\u001b[0m\u001b[0m\n\u001b[0;32m--> 449\u001b[0;31m                     \u001b[0mtimeout\u001b[0m\u001b[0;34m=\u001b[0m\u001b[0mtimeout\u001b[0m\u001b[0;34m\u001b[0m\u001b[0;34m\u001b[0m\u001b[0m\n\u001b[0m\u001b[1;32m    450\u001b[0m                 )\n\u001b[1;32m    451\u001b[0m \u001b[0;34m\u001b[0m\u001b[0m\n",
      "\u001b[0;32m/opt/conda/lib/python3.7/site-packages/urllib3/connectionpool.py\u001b[0m in \u001b[0;36murlopen\u001b[0;34m(self, method, url, body, headers, retries, redirect, assert_same_host, timeout, pool_timeout, release_conn, chunked, body_pos, **response_kw)\u001b[0m\n\u001b[1;32m    704\u001b[0m                 \u001b[0mbody\u001b[0m\u001b[0;34m=\u001b[0m\u001b[0mbody\u001b[0m\u001b[0;34m,\u001b[0m\u001b[0;34m\u001b[0m\u001b[0;34m\u001b[0m\u001b[0m\n\u001b[1;32m    705\u001b[0m                 \u001b[0mheaders\u001b[0m\u001b[0;34m=\u001b[0m\u001b[0mheaders\u001b[0m\u001b[0;34m,\u001b[0m\u001b[0;34m\u001b[0m\u001b[0;34m\u001b[0m\u001b[0m\n\u001b[0;32m--> 706\u001b[0;31m                 \u001b[0mchunked\u001b[0m\u001b[0;34m=\u001b[0m\u001b[0mchunked\u001b[0m\u001b[0;34m,\u001b[0m\u001b[0;34m\u001b[0m\u001b[0;34m\u001b[0m\u001b[0m\n\u001b[0m\u001b[1;32m    707\u001b[0m             )\n\u001b[1;32m    708\u001b[0m \u001b[0;34m\u001b[0m\u001b[0m\n",
      "\u001b[0;32m/opt/conda/lib/python3.7/site-packages/urllib3/connectionpool.py\u001b[0m in \u001b[0;36m_make_request\u001b[0;34m(self, conn, method, url, timeout, chunked, **httplib_request_kw)\u001b[0m\n\u001b[1;32m    443\u001b[0m                     \u001b[0;31m# Python 3 (including for exceptions like SystemExit).\u001b[0m\u001b[0;34m\u001b[0m\u001b[0;34m\u001b[0m\u001b[0;34m\u001b[0m\u001b[0m\n\u001b[1;32m    444\u001b[0m                     \u001b[0;31m# Otherwise it looks like a bug in the code.\u001b[0m\u001b[0;34m\u001b[0m\u001b[0;34m\u001b[0m\u001b[0;34m\u001b[0m\u001b[0m\n\u001b[0;32m--> 445\u001b[0;31m                     \u001b[0msix\u001b[0m\u001b[0;34m.\u001b[0m\u001b[0mraise_from\u001b[0m\u001b[0;34m(\u001b[0m\u001b[0me\u001b[0m\u001b[0;34m,\u001b[0m \u001b[0;32mNone\u001b[0m\u001b[0;34m)\u001b[0m\u001b[0;34m\u001b[0m\u001b[0;34m\u001b[0m\u001b[0m\n\u001b[0m\u001b[1;32m    446\u001b[0m         \u001b[0;32mexcept\u001b[0m \u001b[0;34m(\u001b[0m\u001b[0mSocketTimeout\u001b[0m\u001b[0;34m,\u001b[0m \u001b[0mBaseSSLError\u001b[0m\u001b[0;34m,\u001b[0m \u001b[0mSocketError\u001b[0m\u001b[0;34m)\u001b[0m \u001b[0;32mas\u001b[0m \u001b[0me\u001b[0m\u001b[0;34m:\u001b[0m\u001b[0;34m\u001b[0m\u001b[0;34m\u001b[0m\u001b[0m\n\u001b[1;32m    447\u001b[0m             \u001b[0mself\u001b[0m\u001b[0;34m.\u001b[0m\u001b[0m_raise_timeout\u001b[0m\u001b[0;34m(\u001b[0m\u001b[0merr\u001b[0m\u001b[0;34m=\u001b[0m\u001b[0me\u001b[0m\u001b[0;34m,\u001b[0m \u001b[0murl\u001b[0m\u001b[0;34m=\u001b[0m\u001b[0murl\u001b[0m\u001b[0;34m,\u001b[0m \u001b[0mtimeout_value\u001b[0m\u001b[0;34m=\u001b[0m\u001b[0mread_timeout\u001b[0m\u001b[0;34m)\u001b[0m\u001b[0;34m\u001b[0m\u001b[0;34m\u001b[0m\u001b[0m\n",
      "\u001b[0;32m/opt/conda/lib/python3.7/site-packages/urllib3/packages/six.py\u001b[0m in \u001b[0;36mraise_from\u001b[0;34m(value, from_value)\u001b[0m\n",
      "\u001b[0;32m/opt/conda/lib/python3.7/site-packages/urllib3/connectionpool.py\u001b[0m in \u001b[0;36m_make_request\u001b[0;34m(self, conn, method, url, timeout, chunked, **httplib_request_kw)\u001b[0m\n\u001b[1;32m    438\u001b[0m                 \u001b[0;31m# Python 3\u001b[0m\u001b[0;34m\u001b[0m\u001b[0;34m\u001b[0m\u001b[0;34m\u001b[0m\u001b[0m\n\u001b[1;32m    439\u001b[0m                 \u001b[0;32mtry\u001b[0m\u001b[0;34m:\u001b[0m\u001b[0;34m\u001b[0m\u001b[0;34m\u001b[0m\u001b[0m\n\u001b[0;32m--> 440\u001b[0;31m                     \u001b[0mhttplib_response\u001b[0m \u001b[0;34m=\u001b[0m \u001b[0mconn\u001b[0m\u001b[0;34m.\u001b[0m\u001b[0mgetresponse\u001b[0m\u001b[0;34m(\u001b[0m\u001b[0;34m)\u001b[0m\u001b[0;34m\u001b[0m\u001b[0;34m\u001b[0m\u001b[0m\n\u001b[0m\u001b[1;32m    441\u001b[0m                 \u001b[0;32mexcept\u001b[0m \u001b[0mBaseException\u001b[0m \u001b[0;32mas\u001b[0m \u001b[0me\u001b[0m\u001b[0;34m:\u001b[0m\u001b[0;34m\u001b[0m\u001b[0;34m\u001b[0m\u001b[0m\n\u001b[1;32m    442\u001b[0m                     \u001b[0;31m# Remove the TypeError from the exception chain in\u001b[0m\u001b[0;34m\u001b[0m\u001b[0;34m\u001b[0m\u001b[0;34m\u001b[0m\u001b[0m\n",
      "\u001b[0;32m/opt/conda/lib/python3.7/http/client.py\u001b[0m in \u001b[0;36mgetresponse\u001b[0;34m(self)\u001b[0m\n\u001b[1;32m   1371\u001b[0m         \u001b[0;32mtry\u001b[0m\u001b[0;34m:\u001b[0m\u001b[0;34m\u001b[0m\u001b[0;34m\u001b[0m\u001b[0m\n\u001b[1;32m   1372\u001b[0m             \u001b[0;32mtry\u001b[0m\u001b[0;34m:\u001b[0m\u001b[0;34m\u001b[0m\u001b[0;34m\u001b[0m\u001b[0m\n\u001b[0;32m-> 1373\u001b[0;31m                 \u001b[0mresponse\u001b[0m\u001b[0;34m.\u001b[0m\u001b[0mbegin\u001b[0m\u001b[0;34m(\u001b[0m\u001b[0;34m)\u001b[0m\u001b[0;34m\u001b[0m\u001b[0;34m\u001b[0m\u001b[0m\n\u001b[0m\u001b[1;32m   1374\u001b[0m             \u001b[0;32mexcept\u001b[0m \u001b[0mConnectionError\u001b[0m\u001b[0;34m:\u001b[0m\u001b[0;34m\u001b[0m\u001b[0;34m\u001b[0m\u001b[0m\n\u001b[1;32m   1375\u001b[0m                 \u001b[0mself\u001b[0m\u001b[0;34m.\u001b[0m\u001b[0mclose\u001b[0m\u001b[0;34m(\u001b[0m\u001b[0;34m)\u001b[0m\u001b[0;34m\u001b[0m\u001b[0;34m\u001b[0m\u001b[0m\n",
      "\u001b[0;32m/opt/conda/lib/python3.7/http/client.py\u001b[0m in \u001b[0;36mbegin\u001b[0;34m(self)\u001b[0m\n\u001b[1;32m    317\u001b[0m         \u001b[0;31m# read until we get a non-100 response\u001b[0m\u001b[0;34m\u001b[0m\u001b[0;34m\u001b[0m\u001b[0;34m\u001b[0m\u001b[0m\n\u001b[1;32m    318\u001b[0m         \u001b[0;32mwhile\u001b[0m \u001b[0;32mTrue\u001b[0m\u001b[0;34m:\u001b[0m\u001b[0;34m\u001b[0m\u001b[0;34m\u001b[0m\u001b[0m\n\u001b[0;32m--> 319\u001b[0;31m             \u001b[0mversion\u001b[0m\u001b[0;34m,\u001b[0m \u001b[0mstatus\u001b[0m\u001b[0;34m,\u001b[0m \u001b[0mreason\u001b[0m \u001b[0;34m=\u001b[0m \u001b[0mself\u001b[0m\u001b[0;34m.\u001b[0m\u001b[0m_read_status\u001b[0m\u001b[0;34m(\u001b[0m\u001b[0;34m)\u001b[0m\u001b[0;34m\u001b[0m\u001b[0;34m\u001b[0m\u001b[0m\n\u001b[0m\u001b[1;32m    320\u001b[0m             \u001b[0;32mif\u001b[0m \u001b[0mstatus\u001b[0m \u001b[0;34m!=\u001b[0m \u001b[0mCONTINUE\u001b[0m\u001b[0;34m:\u001b[0m\u001b[0;34m\u001b[0m\u001b[0;34m\u001b[0m\u001b[0m\n\u001b[1;32m    321\u001b[0m                 \u001b[0;32mbreak\u001b[0m\u001b[0;34m\u001b[0m\u001b[0;34m\u001b[0m\u001b[0m\n",
      "\u001b[0;32m/opt/conda/lib/python3.7/http/client.py\u001b[0m in \u001b[0;36m_read_status\u001b[0;34m(self)\u001b[0m\n\u001b[1;32m    278\u001b[0m \u001b[0;34m\u001b[0m\u001b[0m\n\u001b[1;32m    279\u001b[0m     \u001b[0;32mdef\u001b[0m \u001b[0m_read_status\u001b[0m\u001b[0;34m(\u001b[0m\u001b[0mself\u001b[0m\u001b[0;34m)\u001b[0m\u001b[0;34m:\u001b[0m\u001b[0;34m\u001b[0m\u001b[0;34m\u001b[0m\u001b[0m\n\u001b[0;32m--> 280\u001b[0;31m         \u001b[0mline\u001b[0m \u001b[0;34m=\u001b[0m \u001b[0mstr\u001b[0m\u001b[0;34m(\u001b[0m\u001b[0mself\u001b[0m\u001b[0;34m.\u001b[0m\u001b[0mfp\u001b[0m\u001b[0;34m.\u001b[0m\u001b[0mreadline\u001b[0m\u001b[0;34m(\u001b[0m\u001b[0m_MAXLINE\u001b[0m \u001b[0;34m+\u001b[0m \u001b[0;36m1\u001b[0m\u001b[0;34m)\u001b[0m\u001b[0;34m,\u001b[0m \u001b[0;34m\"iso-8859-1\"\u001b[0m\u001b[0;34m)\u001b[0m\u001b[0;34m\u001b[0m\u001b[0;34m\u001b[0m\u001b[0m\n\u001b[0m\u001b[1;32m    281\u001b[0m         \u001b[0;32mif\u001b[0m \u001b[0mlen\u001b[0m\u001b[0;34m(\u001b[0m\u001b[0mline\u001b[0m\u001b[0;34m)\u001b[0m \u001b[0;34m>\u001b[0m \u001b[0m_MAXLINE\u001b[0m\u001b[0;34m:\u001b[0m\u001b[0;34m\u001b[0m\u001b[0;34m\u001b[0m\u001b[0m\n\u001b[1;32m    282\u001b[0m             \u001b[0;32mraise\u001b[0m \u001b[0mLineTooLong\u001b[0m\u001b[0;34m(\u001b[0m\u001b[0;34m\"status line\"\u001b[0m\u001b[0;34m)\u001b[0m\u001b[0;34m\u001b[0m\u001b[0;34m\u001b[0m\u001b[0m\n",
      "\u001b[0;32m/opt/conda/lib/python3.7/socket.py\u001b[0m in \u001b[0;36mreadinto\u001b[0;34m(self, b)\u001b[0m\n\u001b[1;32m    587\u001b[0m         \u001b[0;32mwhile\u001b[0m \u001b[0;32mTrue\u001b[0m\u001b[0;34m:\u001b[0m\u001b[0;34m\u001b[0m\u001b[0;34m\u001b[0m\u001b[0m\n\u001b[1;32m    588\u001b[0m             \u001b[0;32mtry\u001b[0m\u001b[0;34m:\u001b[0m\u001b[0;34m\u001b[0m\u001b[0;34m\u001b[0m\u001b[0m\n\u001b[0;32m--> 589\u001b[0;31m                 \u001b[0;32mreturn\u001b[0m \u001b[0mself\u001b[0m\u001b[0;34m.\u001b[0m\u001b[0m_sock\u001b[0m\u001b[0;34m.\u001b[0m\u001b[0mrecv_into\u001b[0m\u001b[0;34m(\u001b[0m\u001b[0mb\u001b[0m\u001b[0;34m)\u001b[0m\u001b[0;34m\u001b[0m\u001b[0;34m\u001b[0m\u001b[0m\n\u001b[0m\u001b[1;32m    590\u001b[0m             \u001b[0;32mexcept\u001b[0m \u001b[0mtimeout\u001b[0m\u001b[0;34m:\u001b[0m\u001b[0;34m\u001b[0m\u001b[0;34m\u001b[0m\u001b[0m\n\u001b[1;32m    591\u001b[0m                 \u001b[0mself\u001b[0m\u001b[0;34m.\u001b[0m\u001b[0m_timeout_occurred\u001b[0m \u001b[0;34m=\u001b[0m \u001b[0;32mTrue\u001b[0m\u001b[0;34m\u001b[0m\u001b[0;34m\u001b[0m\u001b[0m\n",
      "\u001b[0;31mKeyboardInterrupt\u001b[0m: "
     ]
    }
   ],
   "source": [
    "def query_plain(text, url=\"http://bern2.korea.ac.kr/plain\"):\n",
    "    return requests.post(url, json={'text': text}).json()\n",
    "\n",
    "if __name__ == '__main__':\n",
    "    text = \"Autophagy maintains tumour growth through circulating arginine.\"\n",
    "    print(query_plain(text))"
   ]
  },
  {
   "cell_type": "code",
   "execution_count": 13,
   "metadata": {},
   "outputs": [],
   "source": [
    "texty = ''\n",
    "text = 'Autophagy maintains tumour growth through circulating arginine'\n",
    "\n",
    "for o in range(2):\n",
    "\n",
    "    texty= texty+f'{o}: '+text+f' :{o} '"
   ]
  },
  {
   "cell_type": "code",
   "execution_count": 14,
   "metadata": {
    "scrolled": true
   },
   "outputs": [
    {
     "data": {
      "text/plain": [
       "'0: Autophagy maintains tumour growth through circulating arginine :0 1: Autophagy maintains tumour growth through circulating arginine :1 '"
      ]
     },
     "execution_count": 14,
     "metadata": {},
     "output_type": "execute_result"
    }
   ],
   "source": [
    "texty"
   ]
  },
  {
   "cell_type": "code",
   "execution_count": null,
   "metadata": {
    "id": "47kKVkIeX7A-"
   },
   "outputs": [],
   "source": [
    "def query_plain(text, url=\"http://bern2.korea.ac.kr/plain\"):\n",
    "    return requests.post(url, json={'text': text}).json()\n",
    "\n",
    "if __name__ == '__main__':\n",
    "    text = \"Autophagy maintains tumour growth through circulating arginine\"\n",
    "#     print(query_plain(text))"
   ]
  },
  {
   "cell_type": "code",
   "execution_count": null,
   "metadata": {},
   "outputs": [],
   "source": [
    "text = \"Autophagy maintains tumour growth through circulating arginine.\"\n",
    "output = query_plain(texty)"
   ]
  },
  {
   "cell_type": "code",
   "execution_count": null,
   "metadata": {},
   "outputs": [],
   "source": [
    "type(output)"
   ]
  },
  {
   "cell_type": "code",
   "execution_count": null,
   "metadata": {},
   "outputs": [],
   "source": [
    "[ print(o) for o in output]"
   ]
  },
  {
   "cell_type": "code",
   "execution_count": null,
   "metadata": {},
   "outputs": [],
   "source": [
    "output['annotations'][0]\n"
   ]
  },
  {
   "cell_type": "code",
   "execution_count": null,
   "metadata": {},
   "outputs": [],
   "source": [
    "for o in output['annotations'][0]:\n",
    "    print(o)"
   ]
  },
  {
   "cell_type": "code",
   "execution_count": null,
   "metadata": {},
   "outputs": [],
   "source": [
    "df = pd.DataFrame.from_dict(output['annotations'])"
   ]
  },
  {
   "cell_type": "code",
   "execution_count": null,
   "metadata": {},
   "outputs": [],
   "source": [
    "df.columns"
   ]
  },
  {
   "cell_type": "code",
   "execution_count": null,
   "metadata": {},
   "outputs": [],
   "source": [
    "texty"
   ]
  },
  {
   "cell_type": "code",
   "execution_count": 15,
   "metadata": {},
   "outputs": [
    {
     "name": "stdout",
     "output_type": "stream",
     "text": [
      "starting index 0\n",
      "start and end index (0, 68)\n"
     ]
    }
   ],
   "source": [
    "string = texty\n",
    "pattern = '(\\d:.*?):\\d'\n",
    "\n",
    "\n",
    "match=(re.search(pattern, string))\n",
    "\n",
    "#getting the starting index using match.start()\n",
    "print (\"starting index\", match.start())\n",
    "\n",
    "#Getting the start and end index in tuple format using match.span()\n",
    "print (\"start and end index\", match.span())\n"
   ]
  },
  {
   "cell_type": "markdown",
   "metadata": {},
   "source": [
    "#### Get Start and end index of each entry"
   ]
  },
  {
   "cell_type": "code",
   "execution_count": 71,
   "metadata": {},
   "outputs": [
    {
     "name": "stdout",
     "output_type": "stream",
     "text": [
      "start and end index (0, 66)\n",
      "start and end index (69, 135)\n"
     ]
    },
    {
     "data": {
      "text/html": [
       "<div>\n",
       "<style scoped>\n",
       "    .dataframe tbody tr th:only-of-type {\n",
       "        vertical-align: middle;\n",
       "    }\n",
       "\n",
       "    .dataframe tbody tr th {\n",
       "        vertical-align: top;\n",
       "    }\n",
       "\n",
       "    .dataframe thead th {\n",
       "        text-align: right;\n",
       "    }\n",
       "</style>\n",
       "<table border=\"1\" class=\"dataframe\">\n",
       "  <thead>\n",
       "    <tr style=\"text-align: right;\">\n",
       "      <th></th>\n",
       "      <th>text</th>\n",
       "      <th>start</th>\n",
       "      <th>end</th>\n",
       "      <th>span</th>\n",
       "    </tr>\n",
       "  </thead>\n",
       "  <tbody>\n",
       "    <tr>\n",
       "      <th>0</th>\n",
       "      <td>0: Autophagy maintains tumour growth through c...</td>\n",
       "      <td>0.0</td>\n",
       "      <td>66.0</td>\n",
       "      <td>(0, 66)</td>\n",
       "    </tr>\n",
       "    <tr>\n",
       "      <th>1</th>\n",
       "      <td>1: Autophagy maintains tumour growth through c...</td>\n",
       "      <td>69.0</td>\n",
       "      <td>135.0</td>\n",
       "      <td>(69, 135)</td>\n",
       "    </tr>\n",
       "  </tbody>\n",
       "</table>\n",
       "</div>"
      ],
      "text/plain": [
       "                                                text  start    end       span\n",
       "0  0: Autophagy maintains tumour growth through c...    0.0   66.0    (0, 66)\n",
       "1  1: Autophagy maintains tumour growth through c...   69.0  135.0  (69, 135)"
      ]
     },
     "execution_count": 71,
     "metadata": {},
     "output_type": "execute_result"
    }
   ],
   "source": [
    "string = texty\n",
    "pattern = '(\\d:.*?):\\d'\n",
    "dfi = pd.DataFrame()\n",
    "for o in re.findall('(\\d:.*?):\\d',output['text']):\n",
    "    match=(re.search(o, string))\n",
    "    #Getting the start and end index in tuple format using match.span()\n",
    "    text = o\n",
    "    start = match.start()\n",
    "    end = match.end()\n",
    "    span = match.span()\n",
    "    dfi = dfi.append({'text':text,'start':start,'end':end,'span':span},ignore_index=True)\n",
    "    print (\"start and end index\", match.span())\n",
    "dfi   "
   ]
  },
  {
   "cell_type": "code",
   "execution_count": 36,
   "metadata": {},
   "outputs": [],
   "source": [
    "x = output"
   ]
  },
  {
   "cell_type": "code",
   "execution_count": 79,
   "metadata": {},
   "outputs": [],
   "source": [
    "dfa = pd.DataFrame(x['annotations'])"
   ]
  },
  {
   "cell_type": "code",
   "execution_count": 80,
   "metadata": {},
   "outputs": [
    {
     "data": {
      "text/plain": [
       "Index(['id', 'is_neural_normalized', 'mention', 'obj', 'prob', 'span'], dtype='object')"
      ]
     },
     "execution_count": 80,
     "metadata": {},
     "output_type": "execute_result"
    }
   ],
   "source": [
    "dfa.columns"
   ]
  },
  {
   "cell_type": "code",
   "execution_count": 81,
   "metadata": {},
   "outputs": [],
   "source": [
    "# dfa['endsp']  = dfa[dfa.span['end']]\n",
    "\n",
    "dfa.span = dfa.span.astype(str)\n",
    "dfa ['str_end'] = dfa.span.str.replace(r\".*'end': (\\d+)}\",r\"\\1\",regex=True)\n",
    "# dfa.span.str.replace(r\" \",r\"?\",regex=True)\n",
    "# dfa.span[0]"
   ]
  },
  {
   "cell_type": "code",
   "execution_count": null,
   "metadata": {},
   "outputs": [],
   "source": []
  },
  {
   "cell_type": "code",
   "execution_count": 82,
   "metadata": {},
   "outputs": [
    {
     "ename": "NameError",
     "evalue": "name 'str_end' is not defined",
     "output_type": "error",
     "traceback": [
      "\u001b[0;31m---------------------------------------------------------------------------\u001b[0m",
      "\u001b[0;31mNameError\u001b[0m                                 Traceback (most recent call last)",
      "\u001b[0;32m/tmp/ipykernel_45/475774568.py\u001b[0m in \u001b[0;36m<module>\u001b[0;34m\u001b[0m\n\u001b[0;32m----> 1\u001b[0;31m \u001b[0;32mif\u001b[0m \u001b[0mstr_end\u001b[0m \u001b[0;34m>\u001b[0m \u001b[0mx\u001b[0m \u001b[0;34m<\u001b[0m \u001b[0my\u001b[0m\u001b[0;34m:\u001b[0m\u001b[0;34m\u001b[0m\u001b[0;34m\u001b[0m\u001b[0m\n\u001b[0m\u001b[1;32m      2\u001b[0m     \u001b[0mz\u001b[0m\u001b[0;34m\u001b[0m\u001b[0;34m\u001b[0m\u001b[0m\n",
      "\u001b[0;31mNameError\u001b[0m: name 'str_end' is not defined"
     ]
    }
   ],
   "source": [
    "if str_end > x < y:\n",
    "    z"
   ]
  },
  {
   "cell_type": "code",
   "execution_count": 83,
   "metadata": {},
   "outputs": [
    {
     "ename": "NameError",
     "evalue": "name 'other_idx' is not defined",
     "output_type": "error",
     "traceback": [
      "\u001b[0;31m---------------------------------------------------------------------------\u001b[0m",
      "\u001b[0;31mNameError\u001b[0m                                 Traceback (most recent call last)",
      "\u001b[0;32m/tmp/ipykernel_45/584761661.py\u001b[0m in \u001b[0;36m<module>\u001b[0;34m\u001b[0m\n\u001b[0;32m----> 1\u001b[0;31m \u001b[0mother_idx\u001b[0m\u001b[0;34m\u001b[0m\u001b[0;34m\u001b[0m\u001b[0m\n\u001b[0m",
      "\u001b[0;31mNameError\u001b[0m: name 'other_idx' is not defined"
     ]
    }
   ],
   "source": [
    "other_idx"
   ]
  },
  {
   "cell_type": "code",
   "execution_count": 84,
   "metadata": {},
   "outputs": [
    {
     "data": {
      "text/html": [
       "<div>\n",
       "<style scoped>\n",
       "    .dataframe tbody tr th:only-of-type {\n",
       "        vertical-align: middle;\n",
       "    }\n",
       "\n",
       "    .dataframe tbody tr th {\n",
       "        vertical-align: top;\n",
       "    }\n",
       "\n",
       "    .dataframe thead th {\n",
       "        text-align: right;\n",
       "    }\n",
       "</style>\n",
       "<table border=\"1\" class=\"dataframe\">\n",
       "  <thead>\n",
       "    <tr style=\"text-align: right;\">\n",
       "      <th></th>\n",
       "      <th>text</th>\n",
       "      <th>start</th>\n",
       "      <th>end</th>\n",
       "      <th>span</th>\n",
       "    </tr>\n",
       "  </thead>\n",
       "  <tbody>\n",
       "    <tr>\n",
       "      <th>0</th>\n",
       "      <td>0: Autophagy maintains tumour growth through c...</td>\n",
       "      <td>0.0</td>\n",
       "      <td>66.0</td>\n",
       "      <td>(0, 66)</td>\n",
       "    </tr>\n",
       "    <tr>\n",
       "      <th>1</th>\n",
       "      <td>1: Autophagy maintains tumour growth through c...</td>\n",
       "      <td>69.0</td>\n",
       "      <td>135.0</td>\n",
       "      <td>(69, 135)</td>\n",
       "    </tr>\n",
       "  </tbody>\n",
       "</table>\n",
       "</div>"
      ],
      "text/plain": [
       "                                                text  start    end       span\n",
       "0  0: Autophagy maintains tumour growth through c...    0.0   66.0    (0, 66)\n",
       "1  1: Autophagy maintains tumour growth through c...   69.0  135.0  (69, 135)"
      ]
     },
     "execution_count": 84,
     "metadata": {},
     "output_type": "execute_result"
    }
   ],
   "source": [
    "dfi"
   ]
  },
  {
   "cell_type": "code",
   "execution_count": 95,
   "metadata": {},
   "outputs": [],
   "source": [
    "dfa.str_end = dfa.str_end.astype(int)"
   ]
  },
  {
   "cell_type": "code",
   "execution_count": 143,
   "metadata": {},
   "outputs": [],
   "source": [
    "dfi.reset_index(inplace=True)\n",
    "dfi.rename(columns={'index':'dfi_idx'},inplace=True)"
   ]
  },
  {
   "cell_type": "code",
   "execution_count": 157,
   "metadata": {},
   "outputs": [],
   "source": [
    "for o,m in zip(dfi.index,dfi.span):\n",
    "    x,y = m #open span tuple\n",
    "    #write conditions for specific df rows\n",
    "    conds = (dfa.str_end > x) & (dfa.str_end < y)\n",
    "    dfa.loc[conds,'dfi_idx'] = o #save the index of the dfi span that fits to dfa"
   ]
  },
  {
   "cell_type": "code",
   "execution_count": 158,
   "metadata": {},
   "outputs": [
    {
     "data": {
      "text/html": [
       "<div>\n",
       "<style scoped>\n",
       "    .dataframe tbody tr th:only-of-type {\n",
       "        vertical-align: middle;\n",
       "    }\n",
       "\n",
       "    .dataframe tbody tr th {\n",
       "        vertical-align: top;\n",
       "    }\n",
       "\n",
       "    .dataframe thead th {\n",
       "        text-align: right;\n",
       "    }\n",
       "</style>\n",
       "<table border=\"1\" class=\"dataframe\">\n",
       "  <thead>\n",
       "    <tr style=\"text-align: right;\">\n",
       "      <th></th>\n",
       "      <th>dfi_idx</th>\n",
       "      <th>text</th>\n",
       "      <th>start</th>\n",
       "      <th>end</th>\n",
       "      <th>span</th>\n",
       "    </tr>\n",
       "  </thead>\n",
       "  <tbody>\n",
       "    <tr>\n",
       "      <th>0</th>\n",
       "      <td>0</td>\n",
       "      <td>0: Autophagy maintains tumour growth through c...</td>\n",
       "      <td>0.0</td>\n",
       "      <td>66.0</td>\n",
       "      <td>(0, 66)</td>\n",
       "    </tr>\n",
       "    <tr>\n",
       "      <th>1</th>\n",
       "      <td>1</td>\n",
       "      <td>1: Autophagy maintains tumour growth through c...</td>\n",
       "      <td>69.0</td>\n",
       "      <td>135.0</td>\n",
       "      <td>(69, 135)</td>\n",
       "    </tr>\n",
       "  </tbody>\n",
       "</table>\n",
       "</div>"
      ],
      "text/plain": [
       "   dfi_idx                                               text  start    end  \\\n",
       "0        0  0: Autophagy maintains tumour growth through c...    0.0   66.0   \n",
       "1        1  1: Autophagy maintains tumour growth through c...   69.0  135.0   \n",
       "\n",
       "        span  \n",
       "0    (0, 66)  \n",
       "1  (69, 135)  "
      ]
     },
     "execution_count": 158,
     "metadata": {},
     "output_type": "execute_result"
    }
   ],
   "source": [
    "dfi"
   ]
  },
  {
   "cell_type": "code",
   "execution_count": 159,
   "metadata": {},
   "outputs": [
    {
     "data": {
      "text/html": [
       "<div>\n",
       "<style scoped>\n",
       "    .dataframe tbody tr th:only-of-type {\n",
       "        vertical-align: middle;\n",
       "    }\n",
       "\n",
       "    .dataframe tbody tr th {\n",
       "        vertical-align: top;\n",
       "    }\n",
       "\n",
       "    .dataframe thead th {\n",
       "        text-align: right;\n",
       "    }\n",
       "</style>\n",
       "<table border=\"1\" class=\"dataframe\">\n",
       "  <thead>\n",
       "    <tr style=\"text-align: right;\">\n",
       "      <th></th>\n",
       "      <th>id</th>\n",
       "      <th>is_neural_normalized</th>\n",
       "      <th>mention</th>\n",
       "      <th>obj</th>\n",
       "      <th>prob</th>\n",
       "      <th>span</th>\n",
       "      <th>str_end</th>\n",
       "      <th>dfi_idx</th>\n",
       "    </tr>\n",
       "  </thead>\n",
       "  <tbody>\n",
       "    <tr>\n",
       "      <th>0</th>\n",
       "      <td>[mesh:D009369]</td>\n",
       "      <td>False</td>\n",
       "      <td>tumour</td>\n",
       "      <td>disease</td>\n",
       "      <td>0.999992</td>\n",
       "      <td>{'begin': 23, 'end': 29}</td>\n",
       "      <td>29</td>\n",
       "      <td>0</td>\n",
       "    </tr>\n",
       "    <tr>\n",
       "      <th>1</th>\n",
       "      <td>[mesh:D001120]</td>\n",
       "      <td>False</td>\n",
       "      <td>arginine</td>\n",
       "      <td>drug</td>\n",
       "      <td>0.997611</td>\n",
       "      <td>{'begin': 57, 'end': 65}</td>\n",
       "      <td>65</td>\n",
       "      <td>0</td>\n",
       "    </tr>\n",
       "    <tr>\n",
       "      <th>2</th>\n",
       "      <td>[mesh:D009369]</td>\n",
       "      <td>False</td>\n",
       "      <td>tumour</td>\n",
       "      <td>disease</td>\n",
       "      <td>0.999989</td>\n",
       "      <td>{'begin': 92, 'end': 98}</td>\n",
       "      <td>98</td>\n",
       "      <td>1</td>\n",
       "    </tr>\n",
       "    <tr>\n",
       "      <th>3</th>\n",
       "      <td>[mesh:D001120]</td>\n",
       "      <td>False</td>\n",
       "      <td>arginine</td>\n",
       "      <td>drug</td>\n",
       "      <td>0.997834</td>\n",
       "      <td>{'begin': 126, 'end': 134}</td>\n",
       "      <td>134</td>\n",
       "      <td>1</td>\n",
       "    </tr>\n",
       "  </tbody>\n",
       "</table>\n",
       "</div>"
      ],
      "text/plain": [
       "               id  is_neural_normalized   mention      obj      prob  \\\n",
       "0  [mesh:D009369]                 False    tumour  disease  0.999992   \n",
       "1  [mesh:D001120]                 False  arginine     drug  0.997611   \n",
       "2  [mesh:D009369]                 False    tumour  disease  0.999989   \n",
       "3  [mesh:D001120]                 False  arginine     drug  0.997834   \n",
       "\n",
       "                         span  str_end dfi_idx  \n",
       "0    {'begin': 23, 'end': 29}       29       0  \n",
       "1    {'begin': 57, 'end': 65}       65       0  \n",
       "2    {'begin': 92, 'end': 98}       98       1  \n",
       "3  {'begin': 126, 'end': 134}      134       1  "
      ]
     },
     "execution_count": 159,
     "metadata": {},
     "output_type": "execute_result"
    }
   ],
   "source": [
    "dfa"
   ]
  },
  {
   "cell_type": "code",
   "execution_count": 160,
   "metadata": {},
   "outputs": [],
   "source": [
    "# dfa.merge(dfi, left_on='dfi_idx',right_index=True)\n",
    "df = dfa.merge(dfi, left_on='dfi_idx',right_on='dfi_idx')"
   ]
  },
  {
   "cell_type": "code",
   "execution_count": 162,
   "metadata": {},
   "outputs": [
    {
     "data": {
      "text/html": [
       "<div>\n",
       "<style scoped>\n",
       "    .dataframe tbody tr th:only-of-type {\n",
       "        vertical-align: middle;\n",
       "    }\n",
       "\n",
       "    .dataframe tbody tr th {\n",
       "        vertical-align: top;\n",
       "    }\n",
       "\n",
       "    .dataframe thead th {\n",
       "        text-align: right;\n",
       "    }\n",
       "</style>\n",
       "<table border=\"1\" class=\"dataframe\">\n",
       "  <thead>\n",
       "    <tr style=\"text-align: right;\">\n",
       "      <th></th>\n",
       "      <th>id</th>\n",
       "      <th>is_neural_normalized</th>\n",
       "      <th>mention</th>\n",
       "      <th>obj</th>\n",
       "      <th>prob</th>\n",
       "      <th>span_x</th>\n",
       "      <th>str_end</th>\n",
       "      <th>dfi_idx</th>\n",
       "      <th>text</th>\n",
       "      <th>start</th>\n",
       "      <th>end</th>\n",
       "      <th>span_y</th>\n",
       "    </tr>\n",
       "  </thead>\n",
       "  <tbody>\n",
       "    <tr>\n",
       "      <th>0</th>\n",
       "      <td>[mesh:D009369]</td>\n",
       "      <td>False</td>\n",
       "      <td>tumour</td>\n",
       "      <td>disease</td>\n",
       "      <td>0.999992</td>\n",
       "      <td>{'begin': 23, 'end': 29}</td>\n",
       "      <td>29</td>\n",
       "      <td>0</td>\n",
       "      <td>0: Autophagy maintains tumour growth through c...</td>\n",
       "      <td>0.0</td>\n",
       "      <td>66.0</td>\n",
       "      <td>(0, 66)</td>\n",
       "    </tr>\n",
       "    <tr>\n",
       "      <th>1</th>\n",
       "      <td>[mesh:D001120]</td>\n",
       "      <td>False</td>\n",
       "      <td>arginine</td>\n",
       "      <td>drug</td>\n",
       "      <td>0.997611</td>\n",
       "      <td>{'begin': 57, 'end': 65}</td>\n",
       "      <td>65</td>\n",
       "      <td>0</td>\n",
       "      <td>0: Autophagy maintains tumour growth through c...</td>\n",
       "      <td>0.0</td>\n",
       "      <td>66.0</td>\n",
       "      <td>(0, 66)</td>\n",
       "    </tr>\n",
       "    <tr>\n",
       "      <th>2</th>\n",
       "      <td>[mesh:D009369]</td>\n",
       "      <td>False</td>\n",
       "      <td>tumour</td>\n",
       "      <td>disease</td>\n",
       "      <td>0.999989</td>\n",
       "      <td>{'begin': 92, 'end': 98}</td>\n",
       "      <td>98</td>\n",
       "      <td>1</td>\n",
       "      <td>1: Autophagy maintains tumour growth through c...</td>\n",
       "      <td>69.0</td>\n",
       "      <td>135.0</td>\n",
       "      <td>(69, 135)</td>\n",
       "    </tr>\n",
       "    <tr>\n",
       "      <th>3</th>\n",
       "      <td>[mesh:D001120]</td>\n",
       "      <td>False</td>\n",
       "      <td>arginine</td>\n",
       "      <td>drug</td>\n",
       "      <td>0.997834</td>\n",
       "      <td>{'begin': 126, 'end': 134}</td>\n",
       "      <td>134</td>\n",
       "      <td>1</td>\n",
       "      <td>1: Autophagy maintains tumour growth through c...</td>\n",
       "      <td>69.0</td>\n",
       "      <td>135.0</td>\n",
       "      <td>(69, 135)</td>\n",
       "    </tr>\n",
       "  </tbody>\n",
       "</table>\n",
       "</div>"
      ],
      "text/plain": [
       "               id  is_neural_normalized   mention      obj      prob  \\\n",
       "0  [mesh:D009369]                 False    tumour  disease  0.999992   \n",
       "1  [mesh:D001120]                 False  arginine     drug  0.997611   \n",
       "2  [mesh:D009369]                 False    tumour  disease  0.999989   \n",
       "3  [mesh:D001120]                 False  arginine     drug  0.997834   \n",
       "\n",
       "                       span_x  str_end dfi_idx  \\\n",
       "0    {'begin': 23, 'end': 29}       29       0   \n",
       "1    {'begin': 57, 'end': 65}       65       0   \n",
       "2    {'begin': 92, 'end': 98}       98       1   \n",
       "3  {'begin': 126, 'end': 134}      134       1   \n",
       "\n",
       "                                                text  start    end     span_y  \n",
       "0  0: Autophagy maintains tumour growth through c...    0.0   66.0    (0, 66)  \n",
       "1  0: Autophagy maintains tumour growth through c...    0.0   66.0    (0, 66)  \n",
       "2  1: Autophagy maintains tumour growth through c...   69.0  135.0  (69, 135)  \n",
       "3  1: Autophagy maintains tumour growth through c...   69.0  135.0  (69, 135)  "
      ]
     },
     "execution_count": 162,
     "metadata": {},
     "output_type": "execute_result"
    }
   ],
   "source": [
    "df"
   ]
  },
  {
   "cell_type": "code",
   "execution_count": 118,
   "metadata": {},
   "outputs": [
    {
     "data": {
      "text/plain": [
       "Index(['id', 'is_neural_normalized', 'mention', 'obj', 'prob', 'span',\n",
       "       'str_end'],\n",
       "      dtype='object')"
      ]
     },
     "execution_count": 118,
     "metadata": {},
     "output_type": "execute_result"
    }
   ],
   "source": [
    "dfa.columns"
   ]
  },
  {
   "cell_type": "code",
   "execution_count": 119,
   "metadata": {},
   "outputs": [],
   "source": [
    "dfa['dfi_idx'] = ''"
   ]
  },
  {
   "cell_type": "code",
   "execution_count": 120,
   "metadata": {},
   "outputs": [
    {
     "data": {
      "text/plain": [
       "Index(['id', 'is_neural_normalized', 'mention', 'obj', 'prob', 'span',\n",
       "       'str_end', 'dfi_idx'],\n",
       "      dtype='object')"
      ]
     },
     "execution_count": 120,
     "metadata": {},
     "output_type": "execute_result"
    }
   ],
   "source": [
    "dfa.columns"
   ]
  },
  {
   "cell_type": "code",
   "execution_count": 132,
   "metadata": {},
   "outputs": [
    {
     "data": {
      "text/html": [
       "<div>\n",
       "<style scoped>\n",
       "    .dataframe tbody tr th:only-of-type {\n",
       "        vertical-align: middle;\n",
       "    }\n",
       "\n",
       "    .dataframe tbody tr th {\n",
       "        vertical-align: top;\n",
       "    }\n",
       "\n",
       "    .dataframe thead th {\n",
       "        text-align: right;\n",
       "    }\n",
       "</style>\n",
       "<table border=\"1\" class=\"dataframe\">\n",
       "  <thead>\n",
       "    <tr style=\"text-align: right;\">\n",
       "      <th></th>\n",
       "      <th>id</th>\n",
       "      <th>is_neural_normalized</th>\n",
       "      <th>mention</th>\n",
       "      <th>obj</th>\n",
       "      <th>prob</th>\n",
       "      <th>span</th>\n",
       "      <th>str_end</th>\n",
       "      <th>dfi_idx</th>\n",
       "    </tr>\n",
       "  </thead>\n",
       "  <tbody>\n",
       "    <tr>\n",
       "      <th>0</th>\n",
       "      <td>[mesh:D009369]</td>\n",
       "      <td>False</td>\n",
       "      <td>tumour</td>\n",
       "      <td>disease</td>\n",
       "      <td>0.999992</td>\n",
       "      <td>{'begin': 23, 'end': 29}</td>\n",
       "      <td>29</td>\n",
       "      <td>0</td>\n",
       "    </tr>\n",
       "    <tr>\n",
       "      <th>1</th>\n",
       "      <td>[mesh:D001120]</td>\n",
       "      <td>False</td>\n",
       "      <td>arginine</td>\n",
       "      <td>drug</td>\n",
       "      <td>0.997611</td>\n",
       "      <td>{'begin': 57, 'end': 65}</td>\n",
       "      <td>65</td>\n",
       "      <td>0</td>\n",
       "    </tr>\n",
       "    <tr>\n",
       "      <th>2</th>\n",
       "      <td>[mesh:D009369]</td>\n",
       "      <td>False</td>\n",
       "      <td>tumour</td>\n",
       "      <td>disease</td>\n",
       "      <td>0.999989</td>\n",
       "      <td>{'begin': 92, 'end': 98}</td>\n",
       "      <td>98</td>\n",
       "      <td></td>\n",
       "    </tr>\n",
       "    <tr>\n",
       "      <th>3</th>\n",
       "      <td>[mesh:D001120]</td>\n",
       "      <td>False</td>\n",
       "      <td>arginine</td>\n",
       "      <td>drug</td>\n",
       "      <td>0.997834</td>\n",
       "      <td>{'begin': 126, 'end': 134}</td>\n",
       "      <td>134</td>\n",
       "      <td></td>\n",
       "    </tr>\n",
       "  </tbody>\n",
       "</table>\n",
       "</div>"
      ],
      "text/plain": [
       "               id  is_neural_normalized   mention      obj      prob  \\\n",
       "0  [mesh:D009369]                 False    tumour  disease  0.999992   \n",
       "1  [mesh:D001120]                 False  arginine     drug  0.997611   \n",
       "2  [mesh:D009369]                 False    tumour  disease  0.999989   \n",
       "3  [mesh:D001120]                 False  arginine     drug  0.997834   \n",
       "\n",
       "                         span  str_end dfi_idx  \n",
       "0    {'begin': 23, 'end': 29}       29       0  \n",
       "1    {'begin': 57, 'end': 65}       65       0  \n",
       "2    {'begin': 92, 'end': 98}       98          \n",
       "3  {'begin': 126, 'end': 134}      134          "
      ]
     },
     "execution_count": 132,
     "metadata": {},
     "output_type": "execute_result"
    }
   ],
   "source": [
    "dfa.loc[(dfa.str_end < 66)&(dfa.str_end > 0),'dfi_idx'] = '0'\n",
    "dfa"
   ]
  },
  {
   "cell_type": "code",
   "execution_count": null,
   "metadata": {},
   "outputs": [],
   "source": []
  },
  {
   "cell_type": "code",
   "execution_count": 78,
   "metadata": {},
   "outputs": [
    {
     "data": {
      "text/html": [
       "<div>\n",
       "<style scoped>\n",
       "    .dataframe tbody tr th:only-of-type {\n",
       "        vertical-align: middle;\n",
       "    }\n",
       "\n",
       "    .dataframe tbody tr th {\n",
       "        vertical-align: top;\n",
       "    }\n",
       "\n",
       "    .dataframe thead th {\n",
       "        text-align: right;\n",
       "    }\n",
       "</style>\n",
       "<table border=\"1\" class=\"dataframe\">\n",
       "  <thead>\n",
       "    <tr style=\"text-align: right;\">\n",
       "      <th></th>\n",
       "      <th>id</th>\n",
       "      <th>is_neural_normalized</th>\n",
       "      <th>mention</th>\n",
       "      <th>obj</th>\n",
       "      <th>prob</th>\n",
       "      <th>span</th>\n",
       "      <th>str_end</th>\n",
       "      <th>dfi_idx</th>\n",
       "    </tr>\n",
       "  </thead>\n",
       "  <tbody>\n",
       "    <tr>\n",
       "      <th>0</th>\n",
       "      <td>[mesh:D009369]</td>\n",
       "      <td>0.0</td>\n",
       "      <td>tumour</td>\n",
       "      <td>disease</td>\n",
       "      <td>0.999992</td>\n",
       "      <td>{'begin': 23, 'end': 29}</td>\n",
       "      <td>29</td>\n",
       "      <td></td>\n",
       "    </tr>\n",
       "    <tr>\n",
       "      <th>1</th>\n",
       "      <td>[mesh:D001120]</td>\n",
       "      <td>0.0</td>\n",
       "      <td>arginine</td>\n",
       "      <td>drug</td>\n",
       "      <td>0.997611</td>\n",
       "      <td>{'begin': 57, 'end': 65}</td>\n",
       "      <td>65</td>\n",
       "      <td></td>\n",
       "    </tr>\n",
       "    <tr>\n",
       "      <th>2</th>\n",
       "      <td>[mesh:D009369]</td>\n",
       "      <td>0.0</td>\n",
       "      <td>tumour</td>\n",
       "      <td>disease</td>\n",
       "      <td>0.999989</td>\n",
       "      <td>{'begin': 92, 'end': 98}</td>\n",
       "      <td>98</td>\n",
       "      <td></td>\n",
       "    </tr>\n",
       "    <tr>\n",
       "      <th>3</th>\n",
       "      <td>[mesh:D001120]</td>\n",
       "      <td>0.0</td>\n",
       "      <td>arginine</td>\n",
       "      <td>drug</td>\n",
       "      <td>0.997834</td>\n",
       "      <td>{'begin': 126, 'end': 134}</td>\n",
       "      <td>134</td>\n",
       "      <td></td>\n",
       "    </tr>\n",
       "    <tr>\n",
       "      <th>4</th>\n",
       "      <td>NaN</td>\n",
       "      <td>NaN</td>\n",
       "      <td>NaN</td>\n",
       "      <td>NaN</td>\n",
       "      <td>NaN</td>\n",
       "      <td>NaN</td>\n",
       "      <td>NaN</td>\n",
       "      <td></td>\n",
       "    </tr>\n",
       "    <tr>\n",
       "      <th>5</th>\n",
       "      <td>NaN</td>\n",
       "      <td>NaN</td>\n",
       "      <td>NaN</td>\n",
       "      <td>NaN</td>\n",
       "      <td>NaN</td>\n",
       "      <td>NaN</td>\n",
       "      <td>NaN</td>\n",
       "      <td></td>\n",
       "    </tr>\n",
       "    <tr>\n",
       "      <th>6</th>\n",
       "      <td>NaN</td>\n",
       "      <td>NaN</td>\n",
       "      <td>NaN</td>\n",
       "      <td>NaN</td>\n",
       "      <td>NaN</td>\n",
       "      <td>NaN</td>\n",
       "      <td>NaN</td>\n",
       "      <td></td>\n",
       "    </tr>\n",
       "    <tr>\n",
       "      <th>7</th>\n",
       "      <td>NaN</td>\n",
       "      <td>NaN</td>\n",
       "      <td>NaN</td>\n",
       "      <td>NaN</td>\n",
       "      <td>NaN</td>\n",
       "      <td>NaN</td>\n",
       "      <td>NaN</td>\n",
       "      <td></td>\n",
       "    </tr>\n",
       "    <tr>\n",
       "      <th>8</th>\n",
       "      <td>NaN</td>\n",
       "      <td>NaN</td>\n",
       "      <td>NaN</td>\n",
       "      <td>NaN</td>\n",
       "      <td>NaN</td>\n",
       "      <td>NaN</td>\n",
       "      <td>NaN</td>\n",
       "      <td>29</td>\n",
       "    </tr>\n",
       "    <tr>\n",
       "      <th>9</th>\n",
       "      <td>NaN</td>\n",
       "      <td>NaN</td>\n",
       "      <td>NaN</td>\n",
       "      <td>NaN</td>\n",
       "      <td>NaN</td>\n",
       "      <td>NaN</td>\n",
       "      <td>NaN</td>\n",
       "      <td>65</td>\n",
       "    </tr>\n",
       "    <tr>\n",
       "      <th>10</th>\n",
       "      <td>NaN</td>\n",
       "      <td>NaN</td>\n",
       "      <td>NaN</td>\n",
       "      <td>NaN</td>\n",
       "      <td>NaN</td>\n",
       "      <td>NaN</td>\n",
       "      <td>NaN</td>\n",
       "      <td>98</td>\n",
       "    </tr>\n",
       "    <tr>\n",
       "      <th>11</th>\n",
       "      <td>NaN</td>\n",
       "      <td>NaN</td>\n",
       "      <td>NaN</td>\n",
       "      <td>NaN</td>\n",
       "      <td>NaN</td>\n",
       "      <td>NaN</td>\n",
       "      <td>NaN</td>\n",
       "      <td>134</td>\n",
       "    </tr>\n",
       "    <tr>\n",
       "      <th>12</th>\n",
       "      <td>NaN</td>\n",
       "      <td>NaN</td>\n",
       "      <td>NaN</td>\n",
       "      <td>NaN</td>\n",
       "      <td>NaN</td>\n",
       "      <td>NaN</td>\n",
       "      <td>NaN</td>\n",
       "      <td>NaN</td>\n",
       "    </tr>\n",
       "    <tr>\n",
       "      <th>13</th>\n",
       "      <td>NaN</td>\n",
       "      <td>NaN</td>\n",
       "      <td>NaN</td>\n",
       "      <td>NaN</td>\n",
       "      <td>NaN</td>\n",
       "      <td>NaN</td>\n",
       "      <td>NaN</td>\n",
       "      <td>NaN</td>\n",
       "    </tr>\n",
       "    <tr>\n",
       "      <th>14</th>\n",
       "      <td>NaN</td>\n",
       "      <td>NaN</td>\n",
       "      <td>NaN</td>\n",
       "      <td>NaN</td>\n",
       "      <td>NaN</td>\n",
       "      <td>NaN</td>\n",
       "      <td>NaN</td>\n",
       "      <td>NaN</td>\n",
       "    </tr>\n",
       "    <tr>\n",
       "      <th>15</th>\n",
       "      <td>NaN</td>\n",
       "      <td>NaN</td>\n",
       "      <td>NaN</td>\n",
       "      <td>NaN</td>\n",
       "      <td>NaN</td>\n",
       "      <td>NaN</td>\n",
       "      <td>NaN</td>\n",
       "      <td>NaN</td>\n",
       "    </tr>\n",
       "  </tbody>\n",
       "</table>\n",
       "</div>"
      ],
      "text/plain": [
       "                id  is_neural_normalized   mention      obj      prob  \\\n",
       "0   [mesh:D009369]                   0.0    tumour  disease  0.999992   \n",
       "1   [mesh:D001120]                   0.0  arginine     drug  0.997611   \n",
       "2   [mesh:D009369]                   0.0    tumour  disease  0.999989   \n",
       "3   [mesh:D001120]                   0.0  arginine     drug  0.997834   \n",
       "4              NaN                   NaN       NaN      NaN       NaN   \n",
       "5              NaN                   NaN       NaN      NaN       NaN   \n",
       "6              NaN                   NaN       NaN      NaN       NaN   \n",
       "7              NaN                   NaN       NaN      NaN       NaN   \n",
       "8              NaN                   NaN       NaN      NaN       NaN   \n",
       "9              NaN                   NaN       NaN      NaN       NaN   \n",
       "10             NaN                   NaN       NaN      NaN       NaN   \n",
       "11             NaN                   NaN       NaN      NaN       NaN   \n",
       "12             NaN                   NaN       NaN      NaN       NaN   \n",
       "13             NaN                   NaN       NaN      NaN       NaN   \n",
       "14             NaN                   NaN       NaN      NaN       NaN   \n",
       "15             NaN                   NaN       NaN      NaN       NaN   \n",
       "\n",
       "                          span str_end dfi_idx  \n",
       "0     {'begin': 23, 'end': 29}      29          \n",
       "1     {'begin': 57, 'end': 65}      65          \n",
       "2     {'begin': 92, 'end': 98}      98          \n",
       "3   {'begin': 126, 'end': 134}     134          \n",
       "4                          NaN     NaN          \n",
       "5                          NaN     NaN          \n",
       "6                          NaN     NaN          \n",
       "7                          NaN     NaN          \n",
       "8                          NaN     NaN      29  \n",
       "9                          NaN     NaN      65  \n",
       "10                         NaN     NaN      98  \n",
       "11                         NaN     NaN     134  \n",
       "12                         NaN     NaN     NaN  \n",
       "13                         NaN     NaN     NaN  \n",
       "14                         NaN     NaN     NaN  \n",
       "15                         NaN     NaN     NaN  "
      ]
     },
     "execution_count": 78,
     "metadata": {},
     "output_type": "execute_result"
    }
   ],
   "source": [
    "dfa['dfi_idx'] = ''\n",
    "for o in dfa.str_end:\n",
    "    dfi_idx = o\n",
    "dfa"
   ]
  },
  {
   "cell_type": "code",
   "execution_count": null,
   "metadata": {},
   "outputs": [],
   "source": []
  },
  {
   "cell_type": "code",
   "execution_count": 38,
   "metadata": {},
   "outputs": [
    {
     "data": {
      "text/plain": [
       "{'annotations': [{'id': ['mesh:D009369'],\n",
       "   'is_neural_normalized': False,\n",
       "   'mention': 'tumour',\n",
       "   'obj': 'disease',\n",
       "   'prob': 0.9999921321868896,\n",
       "   'span': {'begin': 23, 'end': 29}},\n",
       "  {'id': ['mesh:D001120'],\n",
       "   'is_neural_normalized': False,\n",
       "   'mention': 'arginine',\n",
       "   'obj': 'drug',\n",
       "   'prob': 0.9976105690002441,\n",
       "   'span': {'begin': 57, 'end': 65}},\n",
       "  {'id': ['mesh:D009369'],\n",
       "   'is_neural_normalized': False,\n",
       "   'mention': 'tumour',\n",
       "   'obj': 'disease',\n",
       "   'prob': 0.9999886751174927,\n",
       "   'span': {'begin': 92, 'end': 98}},\n",
       "  {'id': ['mesh:D001120'],\n",
       "   'is_neural_normalized': False,\n",
       "   'mention': 'arginine',\n",
       "   'obj': 'drug',\n",
       "   'prob': 0.9978335499763489,\n",
       "   'span': {'begin': 126, 'end': 134}}],\n",
       " 'text': '0: Autophagy maintains tumour growth through circulating arginine :0 1: Autophagy maintains tumour growth through circulating arginine :1',\n",
       " 'timestamp': 'Thu Nov 10 23:35:56 +0000 2022'}"
      ]
     },
     "execution_count": 38,
     "metadata": {},
     "output_type": "execute_result"
    }
   ],
   "source": [
    "x"
   ]
  },
  {
   "cell_type": "code",
   "execution_count": 6,
   "metadata": {},
   "outputs": [],
   "source": [
    "output = {'annotations': [{'id': ['mesh:D009369'],\n",
    "   'is_neural_normalized': False,\n",
    "   'mention': 'tumour',\n",
    "   'obj': 'disease',\n",
    "   'prob': 0.9999921321868896,\n",
    "   'span': {'begin': 23, 'end': 29}},\n",
    "  {'id': ['mesh:D001120'],\n",
    "   'is_neural_normalized': False,\n",
    "   'mention': 'arginine',\n",
    "   'obj': 'drug',\n",
    "   'prob': 0.9976105690002441,\n",
    "   'span': {'begin': 57, 'end': 65}},\n",
    "  {'id': ['mesh:D009369'],\n",
    "   'is_neural_normalized': False,\n",
    "   'mention': 'tumour',\n",
    "   'obj': 'disease',\n",
    "   'prob': 0.9999886751174927,\n",
    "   'span': {'begin': 92, 'end': 98}},\n",
    "  {'id': ['mesh:D001120'],\n",
    "   'is_neural_normalized': False,\n",
    "   'mention': 'arginine',\n",
    "   'obj': 'drug',\n",
    "   'prob': 0.9978335499763489,\n",
    "   'span': {'begin': 126, 'end': 134}}],\n",
    " 'text': '0: Autophagy maintains tumour growth through circulating arginine :0 1: Autophagy maintains tumour growth through circulating arginine :1',\n",
    " 'timestamp': 'Thu Nov 10 23:35:56 +0000 2022'}"
   ]
  },
  {
   "cell_type": "code",
   "execution_count": 8,
   "metadata": {},
   "outputs": [],
   "source": [
    "x = output"
   ]
  },
  {
   "cell_type": "code",
   "execution_count": 9,
   "metadata": {},
   "outputs": [
    {
     "data": {
      "text/plain": [
       "{'annotations': [{'id': ['mesh:D009369'],\n",
       "   'is_neural_normalized': False,\n",
       "   'mention': 'tumour',\n",
       "   'obj': 'disease',\n",
       "   'prob': 0.9999921321868896,\n",
       "   'span': {'begin': 23, 'end': 29}},\n",
       "  {'id': ['mesh:D001120'],\n",
       "   'is_neural_normalized': False,\n",
       "   'mention': 'arginine',\n",
       "   'obj': 'drug',\n",
       "   'prob': 0.9976105690002441,\n",
       "   'span': {'begin': 57, 'end': 65}},\n",
       "  {'id': ['mesh:D009369'],\n",
       "   'is_neural_normalized': False,\n",
       "   'mention': 'tumour',\n",
       "   'obj': 'disease',\n",
       "   'prob': 0.9999886751174927,\n",
       "   'span': {'begin': 92, 'end': 98}},\n",
       "  {'id': ['mesh:D001120'],\n",
       "   'is_neural_normalized': False,\n",
       "   'mention': 'arginine',\n",
       "   'obj': 'drug',\n",
       "   'prob': 0.9978335499763489,\n",
       "   'span': {'begin': 126, 'end': 134}}],\n",
       " 'text': '0: Autophagy maintains tumour growth through circulating arginine :0 1: Autophagy maintains tumour growth through circulating arginine :1',\n",
       " 'timestamp': 'Thu Nov 10 23:35:56 +0000 2022'}"
      ]
     },
     "execution_count": 9,
     "metadata": {},
     "output_type": "execute_result"
    }
   ],
   "source": [
    "output"
   ]
  },
  {
   "cell_type": "code",
   "execution_count": 12,
   "metadata": {},
   "outputs": [],
   "source": [
    "dfa = pd.DataFrame(output['annotations'])"
   ]
  },
  {
   "cell_type": "code",
   "execution_count": null,
   "metadata": {},
   "outputs": [],
   "source": []
  },
  {
   "cell_type": "code",
   "execution_count": null,
   "metadata": {},
   "outputs": [],
   "source": []
  },
  {
   "cell_type": "code",
   "execution_count": null,
   "metadata": {},
   "outputs": [],
   "source": []
  },
  {
   "cell_type": "code",
   "execution_count": null,
   "metadata": {},
   "outputs": [],
   "source": []
  },
  {
   "cell_type": "code",
   "execution_count": null,
   "metadata": {},
   "outputs": [],
   "source": []
  },
  {
   "cell_type": "code",
   "execution_count": null,
   "metadata": {},
   "outputs": [],
   "source": []
  },
  {
   "cell_type": "code",
   "execution_count": 16,
   "metadata": {},
   "outputs": [
    {
     "data": {
      "text/plain": [
       "{'annotations': [{'id': ['mesh:D009369'],\n",
       "   'is_neural_normalized': False,\n",
       "   'mention': 'tumour',\n",
       "   'obj': 'disease',\n",
       "   'prob': 0.9999921321868896,\n",
       "   'span': {'begin': 23, 'end': 29}},\n",
       "  {'id': ['mesh:D001120'],\n",
       "   'is_neural_normalized': False,\n",
       "   'mention': 'arginine',\n",
       "   'obj': 'drug',\n",
       "   'prob': 0.9976105690002441,\n",
       "   'span': {'begin': 57, 'end': 65}},\n",
       "  {'id': ['mesh:D009369'],\n",
       "   'is_neural_normalized': False,\n",
       "   'mention': 'tumour',\n",
       "   'obj': 'disease',\n",
       "   'prob': 0.9999886751174927,\n",
       "   'span': {'begin': 92, 'end': 98}},\n",
       "  {'id': ['mesh:D001120'],\n",
       "   'is_neural_normalized': False,\n",
       "   'mention': 'arginine',\n",
       "   'obj': 'drug',\n",
       "   'prob': 0.9978335499763489,\n",
       "   'span': {'begin': 126, 'end': 134}}],\n",
       " 'text': '0: Autophagy maintains tumour growth through circulating arginine :0 1: Autophagy maintains tumour growth through circulating arginine :1',\n",
       " 'timestamp': 'Thu Nov 10 23:28:15 +0000 2022'}"
      ]
     },
     "execution_count": 16,
     "metadata": {},
     "output_type": "execute_result"
    }
   ],
   "source": [
    "output"
   ]
  },
  {
   "cell_type": "code",
   "execution_count": 17,
   "metadata": {},
   "outputs": [
    {
     "data": {
      "text/html": [
       "<div>\n",
       "<style scoped>\n",
       "    .dataframe tbody tr th:only-of-type {\n",
       "        vertical-align: middle;\n",
       "    }\n",
       "\n",
       "    .dataframe tbody tr th {\n",
       "        vertical-align: top;\n",
       "    }\n",
       "\n",
       "    .dataframe thead th {\n",
       "        text-align: right;\n",
       "    }\n",
       "</style>\n",
       "<table border=\"1\" class=\"dataframe\">\n",
       "  <thead>\n",
       "    <tr style=\"text-align: right;\">\n",
       "      <th></th>\n",
       "      <th>id</th>\n",
       "      <th>is_neural_normalized</th>\n",
       "      <th>mention</th>\n",
       "      <th>obj</th>\n",
       "      <th>prob</th>\n",
       "      <th>span</th>\n",
       "    </tr>\n",
       "  </thead>\n",
       "  <tbody>\n",
       "    <tr>\n",
       "      <th>0</th>\n",
       "      <td>[mesh:D009369]</td>\n",
       "      <td>False</td>\n",
       "      <td>tumour</td>\n",
       "      <td>disease</td>\n",
       "      <td>0.999992</td>\n",
       "      <td>{'begin': 23, 'end': 29}</td>\n",
       "    </tr>\n",
       "    <tr>\n",
       "      <th>1</th>\n",
       "      <td>[mesh:D001120]</td>\n",
       "      <td>False</td>\n",
       "      <td>arginine</td>\n",
       "      <td>drug</td>\n",
       "      <td>0.997611</td>\n",
       "      <td>{'begin': 57, 'end': 65}</td>\n",
       "    </tr>\n",
       "    <tr>\n",
       "      <th>2</th>\n",
       "      <td>[mesh:D009369]</td>\n",
       "      <td>False</td>\n",
       "      <td>tumour</td>\n",
       "      <td>disease</td>\n",
       "      <td>0.999989</td>\n",
       "      <td>{'begin': 92, 'end': 98}</td>\n",
       "    </tr>\n",
       "    <tr>\n",
       "      <th>3</th>\n",
       "      <td>[mesh:D001120]</td>\n",
       "      <td>False</td>\n",
       "      <td>arginine</td>\n",
       "      <td>drug</td>\n",
       "      <td>0.997834</td>\n",
       "      <td>{'begin': 126, 'end': 134}</td>\n",
       "    </tr>\n",
       "  </tbody>\n",
       "</table>\n",
       "</div>"
      ],
      "text/plain": [
       "               id  is_neural_normalized   mention      obj      prob  \\\n",
       "0  [mesh:D009369]                 False    tumour  disease  0.999992   \n",
       "1  [mesh:D001120]                 False  arginine     drug  0.997611   \n",
       "2  [mesh:D009369]                 False    tumour  disease  0.999989   \n",
       "3  [mesh:D001120]                 False  arginine     drug  0.997834   \n",
       "\n",
       "                         span  \n",
       "0    {'begin': 23, 'end': 29}  \n",
       "1    {'begin': 57, 'end': 65}  \n",
       "2    {'begin': 92, 'end': 98}  \n",
       "3  {'begin': 126, 'end': 134}  "
      ]
     },
     "execution_count": 17,
     "metadata": {},
     "output_type": "execute_result"
    }
   ],
   "source": [
    "df"
   ]
  },
  {
   "cell_type": "code",
   "execution_count": null,
   "metadata": {},
   "outputs": [],
   "source": []
  }
 ],
 "metadata": {
  "accelerator": "GPU",
  "colab": {
   "name": "biobertApi.ipynb",
   "provenance": []
  },
  "kernelspec": {
   "display_name": "Python 3 (ipykernel)",
   "language": "python",
   "name": "python3"
  },
  "language_info": {
   "codemirror_mode": {
    "name": "ipython",
    "version": 3
   },
   "file_extension": ".py",
   "mimetype": "text/x-python",
   "name": "python",
   "nbconvert_exporter": "python",
   "pygments_lexer": "ipython3",
   "version": "3.7.11"
  }
 },
 "nbformat": 4,
 "nbformat_minor": 1
}
