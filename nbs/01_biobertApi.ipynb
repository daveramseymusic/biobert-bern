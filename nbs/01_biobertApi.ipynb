{
 "cells": [
  {
   "cell_type": "code",
   "execution_count": 1,
   "metadata": {
    "id": "5DHAB5PH0nIz"
   },
   "outputs": [],
   "source": [
    "import requests\n",
    "import re\n",
    "import pandas as pd"
   ]
  },
  {
   "cell_type": "code",
   "execution_count": 2,
   "metadata": {},
   "outputs": [],
   "source": [
    "from nbdev.showdoc import *"
   ]
  },
  {
   "cell_type": "markdown",
   "metadata": {},
   "source": [
    "### Example Texts"
   ]
  },
  {
   "cell_type": "code",
   "execution_count": 106,
   "metadata": {},
   "outputs": [],
   "source": [
    "text = \"Autophagy maintains tumour growth through circulating the great arginine.\"\n",
    "text1 = \"X-rays were negative and physical assessment determined soft tissue damage to the lateral aspect of her ankle. She was initially treated with ice, an ace wrap, crutches and mild pain medications (Tylenol with codeine)\"\n",
    "text2 = \"It is a skin disease causing much itchiness. Scratching leads to redness, swelling, cracking, weeping clear fluid, crusting, and scaling.\"\n",
    "text3 = \"Maybe its a tumour. Maybe take some tylenol. Don't worry I'm not a doctor. I'm Dave\"\n",
    "texts = [text,text1,text2,text3]"
   ]
  },
  {
   "cell_type": "markdown",
   "metadata": {},
   "source": [
    "### Create Single Text Block from Text That is easily re-separated"
   ]
  },
  {
   "cell_type": "code",
   "execution_count": 107,
   "metadata": {},
   "outputs": [],
   "source": [
    "coms = pd.DataFrame({'comments':texts}) #create comments df"
   ]
  },
  {
   "cell_type": "code",
   "execution_count": 108,
   "metadata": {},
   "outputs": [],
   "source": [
    "#| export\n",
    "def create_text_block(df:pd.DataFrame, #pandas DataFrame containg a column, titled \"comments,\" of text elements.  In this case these are Youtube comments.\n",
    "                     ):\n",
    "    '''This function takes a pandas DataFrame with a column titled \"comments\" that is filled with text strings, ie. from comments.  It adds an index number to each text string and adds '::' at the end for later parsing.  Finally, it returns all text elements combined into a single text block'''\n",
    "    df.reset_index(inplace=True)\n",
    "    df.rename(columns = {\"index\":\"idx\"},inplace=True)\n",
    "    df.idx = df.idx.astype(str)\n",
    "    df['comidx'] = df.idx +': '+df.comments+'::'\n",
    "    df.comidx = df.comidx.str.lower().str.replace(r'\\(|\\)',',',regex=True)\n",
    "    return ' '.join(df.comidx.tolist())"
   ]
  },
  {
   "cell_type": "markdown",
   "metadata": {},
   "source": [
    "### create_text_block example"
   ]
  },
  {
   "cell_type": "code",
   "execution_count": 109,
   "metadata": {},
   "outputs": [
    {
     "data": {
      "text/plain": [
       "\"0: autophagy maintains tumour growth through circulating the great arginine.:: 1: x-rays were negative and physical assessment determined soft tissue damage to the lateral aspect of her ankle. she was initially treated with ice, an ace wrap, crutches and mild pain medications ,tylenol with codeine,:: 2: it is a skin disease causing much itchiness. scratching leads to redness, swelling, cracking, weeping clear fluid, crusting, and scaling.:: 3: maybe its a tumour. maybe take some tylenol. don't worry i'm not a doctor. i'm dave::\""
      ]
     },
     "execution_count": 109,
     "metadata": {},
     "output_type": "execute_result"
    }
   ],
   "source": [
    "text_block = create_text_block(coms); text_block"
   ]
  },
  {
   "cell_type": "code",
   "execution_count": 110,
   "metadata": {},
   "outputs": [
    {
     "data": {
      "text/markdown": [
       "---\n",
       "\n",
       "### create_text_block\n",
       "\n",
       ">      create_text_block (df:pandas.core.frame.DataFrame)\n",
       "\n",
       "This function takes a pandas DataFrame with a column titled \"comments\" that is filled with text strings, ie. from comments.  It adds an index number to each text string and adds '::' at the end for later parsing.  Finally, it returns all text elements combined into a single text block\n",
       "\n",
       "|    | **Type** | **Details** |\n",
       "| -- | -------- | ----------- |\n",
       "| df | DataFrame | pandas DataFrame containg a column, titled \"comments,\" of text elements.  In this case these are Youtube comments. |"
      ],
      "text/plain": [
       "---\n",
       "\n",
       "### create_text_block\n",
       "\n",
       ">      create_text_block (df:pandas.core.frame.DataFrame)\n",
       "\n",
       "This function takes a pandas DataFrame with a column titled \"comments\" that is filled with text strings, ie. from comments.  It adds an index number to each text string and adds '::' at the end for later parsing.  Finally, it returns all text elements combined into a single text block\n",
       "\n",
       "|    | **Type** | **Details** |\n",
       "| -- | -------- | ----------- |\n",
       "| df | DataFrame | pandas DataFrame containg a column, titled \"comments,\" of text elements.  In this case these are Youtube comments. |"
      ]
     },
     "execution_count": 110,
     "metadata": {},
     "output_type": "execute_result"
    }
   ],
   "source": [
    "show_doc(create_text_block)"
   ]
  },
  {
   "cell_type": "markdown",
   "metadata": {},
   "source": [
    "#### Get Start and End Doc Indecies\n",
    "> Here we'll use regex to find the text indecies of each doc or comment.  This will tell us which doc or comment is teh parent of each biomedical term returned from BERN2"
   ]
  },
  {
   "cell_type": "code",
   "execution_count": 111,
   "metadata": {},
   "outputs": [],
   "source": [
    "# get \"comment\" spans\n",
    "def get_comment_spans_textblock(text_block:str # single block of text in this structure: `'07 textt ext text. ::'`\n",
    "                               ):\n",
    "    '''This function returns a dataframe full of the start, end and span of each text comment/doc in the text_block'''    \n",
    "    string = text_block\n",
    "    pattern = r'(\\d:.*?)::'\n",
    "    dfi = pd.DataFrame()\n",
    "    for o in re.findall(pattern,string):\n",
    "            match=(re.search(o, string))\n",
    "            #Getting the start and end index in tuple format using match.span()\n",
    "            text = o\n",
    "            start = match.start()\n",
    "            end = match.end()\n",
    "            span = match.span()\n",
    "            dfi = dfi.append({'text':text,'start':start,'end':end,'span':span},ignore_index=True)\n",
    "    return dfi"
   ]
  },
  {
   "cell_type": "code",
   "execution_count": 112,
   "metadata": {},
   "outputs": [
    {
     "data": {
      "text/markdown": [
       "---\n",
       "\n",
       "### get_comment_spans_textblock\n",
       "\n",
       ">      get_comment_spans_textblock (text_block:str)\n",
       "\n",
       "This function returns a dataframe full of the start, end and span of each text comment/doc in the text_block\n",
       "\n",
       "|    | **Type** | **Details** |\n",
       "| -- | -------- | ----------- |\n",
       "| text_block | str | single block of text in this structure: `'07 textt ext text. ::'` |"
      ],
      "text/plain": [
       "---\n",
       "\n",
       "### get_comment_spans_textblock\n",
       "\n",
       ">      get_comment_spans_textblock (text_block:str)\n",
       "\n",
       "This function returns a dataframe full of the start, end and span of each text comment/doc in the text_block\n",
       "\n",
       "|    | **Type** | **Details** |\n",
       "| -- | -------- | ----------- |\n",
       "| text_block | str | single block of text in this structure: `'07 textt ext text. ::'` |"
      ]
     },
     "execution_count": 112,
     "metadata": {},
     "output_type": "execute_result"
    }
   ],
   "source": [
    "show_doc(get_comment_spans_textblock)"
   ]
  },
  {
   "cell_type": "code",
   "execution_count": 113,
   "metadata": {},
   "outputs": [
    {
     "data": {
      "text/html": [
       "<div>\n",
       "<style scoped>\n",
       "    .dataframe tbody tr th:only-of-type {\n",
       "        vertical-align: middle;\n",
       "    }\n",
       "\n",
       "    .dataframe tbody tr th {\n",
       "        vertical-align: top;\n",
       "    }\n",
       "\n",
       "    .dataframe thead th {\n",
       "        text-align: right;\n",
       "    }\n",
       "</style>\n",
       "<table border=\"1\" class=\"dataframe\">\n",
       "  <thead>\n",
       "    <tr style=\"text-align: right;\">\n",
       "      <th></th>\n",
       "      <th>text</th>\n",
       "      <th>start</th>\n",
       "      <th>end</th>\n",
       "      <th>span</th>\n",
       "    </tr>\n",
       "  </thead>\n",
       "  <tbody>\n",
       "    <tr>\n",
       "      <th>0</th>\n",
       "      <td>0: autophagy maintains tumour growth through c...</td>\n",
       "      <td>0.0</td>\n",
       "      <td>76.0</td>\n",
       "      <td>(0, 76)</td>\n",
       "    </tr>\n",
       "    <tr>\n",
       "      <th>1</th>\n",
       "      <td>1: x-rays were negative and physical assessmen...</td>\n",
       "      <td>79.0</td>\n",
       "      <td>299.0</td>\n",
       "      <td>(79, 299)</td>\n",
       "    </tr>\n",
       "    <tr>\n",
       "      <th>2</th>\n",
       "      <td>2: it is a skin disease causing much itchiness...</td>\n",
       "      <td>302.0</td>\n",
       "      <td>442.0</td>\n",
       "      <td>(302, 442)</td>\n",
       "    </tr>\n",
       "    <tr>\n",
       "      <th>3</th>\n",
       "      <td>3: maybe its a tumour. maybe take some tylenol...</td>\n",
       "      <td>445.0</td>\n",
       "      <td>531.0</td>\n",
       "      <td>(445, 531)</td>\n",
       "    </tr>\n",
       "  </tbody>\n",
       "</table>\n",
       "</div>"
      ],
      "text/plain": [
       "                                                text  start    end        span\n",
       "0  0: autophagy maintains tumour growth through c...    0.0   76.0     (0, 76)\n",
       "1  1: x-rays were negative and physical assessmen...   79.0  299.0   (79, 299)\n",
       "2  2: it is a skin disease causing much itchiness...  302.0  442.0  (302, 442)\n",
       "3  3: maybe its a tumour. maybe take some tylenol...  445.0  531.0  (445, 531)"
      ]
     },
     "execution_count": 113,
     "metadata": {},
     "output_type": "execute_result"
    }
   ],
   "source": [
    "dfi = get_comment_spans_textblock(text_block); dfi"
   ]
  },
  {
   "cell_type": "markdown",
   "metadata": {},
   "source": [
    "# Send combined text to bern2"
   ]
  },
  {
   "cell_type": "markdown",
   "metadata": {},
   "source": [
    "### Query Function:\n",
    ">This function will send our text to bern2 using their API to get the text labeled"
   ]
  },
  {
   "cell_type": "code",
   "execution_count": 114,
   "metadata": {},
   "outputs": [
    {
     "data": {
      "text/plain": [
       "\"0: autophagy maintains tumour growth through circulating the great arginine.:: 1: x-rays were negative and physical assessment determined soft tissue damage to the lateral aspect of her ankle. she was initially treated with ice, an ace wrap, crutches and mild pain medications ,tylenol with codeine,:: 2: it is a skin disease causing much itchiness. scratching leads to redness, swelling, cracking, weeping clear fluid, crusting, and scaling.:: 3: maybe its a tumour. maybe take some tylenol. don't worry i'm not a doctor. i'm dave::\""
      ]
     },
     "execution_count": 114,
     "metadata": {},
     "output_type": "execute_result"
    }
   ],
   "source": [
    "text_block"
   ]
  },
  {
   "cell_type": "code",
   "execution_count": 115,
   "metadata": {
    "id": "47kKVkIeX7A-"
   },
   "outputs": [],
   "source": [
    "def query_plain(text_block:str, #single block of bioMedical text\n",
    "                url=\"http://bern2.korea.ac.kr/plain\"): # the api address\n",
    "    '''This function sends your `text_block` to the bern2 API and returns a json of labled biomedical terms from `text_block` with thier indecies.'''\n",
    "    return requests.post(url, json={'text': text}).json()\n",
    "\n",
    "# if __name__ == '__main__':\n",
    "#     text = \"Autophagy maintains tumour growth through circulating arginine\"\n",
    "#     print(query_plain(text))"
   ]
  },
  {
   "cell_type": "code",
   "execution_count": 116,
   "metadata": {},
   "outputs": [
    {
     "data": {
      "text/markdown": [
       "---\n",
       "\n",
       "### query_plain\n",
       "\n",
       ">      query_plain (text_block:str, url='http://bern2.korea.ac.kr/plain')\n",
       "\n",
       "This function sends your `text_block` to the bern2 API and returns a json of labled biomedical terms from `text_block` with thier indecies.\n",
       "\n",
       "|    | **Type** | **Default** | **Details** |\n",
       "| -- | -------- | ----------- | ----------- |\n",
       "| text_block | str |  | single block of bioMedical text |\n",
       "| url | str | http://bern2.korea.ac.kr/plain | the api address |"
      ],
      "text/plain": [
       "---\n",
       "\n",
       "### query_plain\n",
       "\n",
       ">      query_plain (text_block:str, url='http://bern2.korea.ac.kr/plain')\n",
       "\n",
       "This function sends your `text_block` to the bern2 API and returns a json of labled biomedical terms from `text_block` with thier indecies.\n",
       "\n",
       "|    | **Type** | **Default** | **Details** |\n",
       "| -- | -------- | ----------- | ----------- |\n",
       "| text_block | str |  | single block of bioMedical text |\n",
       "| url | str | http://bern2.korea.ac.kr/plain | the api address |"
      ]
     },
     "execution_count": 116,
     "metadata": {},
     "output_type": "execute_result"
    }
   ],
   "source": [
    "show_doc(query_plain)"
   ]
  },
  {
   "cell_type": "markdown",
   "metadata": {},
   "source": [
    "### Example of query_plain Output"
   ]
  },
  {
   "cell_type": "code",
   "execution_count": 117,
   "metadata": {},
   "outputs": [
    {
     "data": {
      "text/plain": [
       "str"
      ]
     },
     "execution_count": 117,
     "metadata": {},
     "output_type": "execute_result"
    }
   ],
   "source": [
    "type(text_block)"
   ]
  },
  {
   "cell_type": "code",
   "execution_count": 118,
   "metadata": {},
   "outputs": [
    {
     "data": {
      "text/plain": [
       "\"0: autophagy maintains tumour growth through circulating the great arginine.:: 1: x-rays were negative and physical assessment determined soft tissue damage to the lateral aspect of her ankle. she was initially treated with ice, an ace wrap, crutches and mild pain medications ,tylenol with codeine,:: 2: it is a skin disease causing much itchiness. scratching leads to redness, swelling, cracking, weeping clear fluid, crusting, and scaling.:: 3: maybe its a tumour. maybe take some tylenol. don't worry i'm not a doctor. i'm dave::\""
      ]
     },
     "execution_count": 118,
     "metadata": {},
     "output_type": "execute_result"
    }
   ],
   "source": [
    "text_block"
   ]
  },
  {
   "cell_type": "code",
   "execution_count": 119,
   "metadata": {},
   "outputs": [],
   "source": [
    "# Send it all to Bern2\n",
    "output = query_plain(text_block);  "
   ]
  },
  {
   "cell_type": "markdown",
   "metadata": {},
   "source": [
    "Example of overall df"
   ]
  },
  {
   "cell_type": "code",
   "execution_count": 120,
   "metadata": {},
   "outputs": [
    {
     "data": {
      "text/plain": [
       "[{'id': ['mesh:D009369'],\n",
       "  'is_neural_normalized': False,\n",
       "  'mention': 'tumour',\n",
       "  'obj': 'disease',\n",
       "  'prob': 0.9999945163726807,\n",
       "  'span': {'begin': 20, 'end': 26}},\n",
       " {'id': ['mesh:D001120'],\n",
       "  'is_neural_normalized': False,\n",
       "  'mention': 'arginine',\n",
       "  'obj': 'drug',\n",
       "  'prob': 0.9939508438110352,\n",
       "  'span': {'begin': 64, 'end': 72}}]"
      ]
     },
     "execution_count": 120,
     "metadata": {},
     "output_type": "execute_result"
    }
   ],
   "source": [
    "[o for o in output['annotations']]"
   ]
  },
  {
   "cell_type": "code",
   "execution_count": 121,
   "metadata": {},
   "outputs": [
    {
     "data": {
      "text/html": [
       "<div>\n",
       "<style scoped>\n",
       "    .dataframe tbody tr th:only-of-type {\n",
       "        vertical-align: middle;\n",
       "    }\n",
       "\n",
       "    .dataframe tbody tr th {\n",
       "        vertical-align: top;\n",
       "    }\n",
       "\n",
       "    .dataframe thead th {\n",
       "        text-align: right;\n",
       "    }\n",
       "</style>\n",
       "<table border=\"1\" class=\"dataframe\">\n",
       "  <thead>\n",
       "    <tr style=\"text-align: right;\">\n",
       "      <th></th>\n",
       "      <th>annotations</th>\n",
       "      <th>text</th>\n",
       "      <th>timestamp</th>\n",
       "    </tr>\n",
       "  </thead>\n",
       "  <tbody>\n",
       "    <tr>\n",
       "      <th>0</th>\n",
       "      <td>{'id': ['mesh:D009369'], 'is_neural_normalized...</td>\n",
       "      <td>Autophagy maintains tumour growth through circ...</td>\n",
       "      <td>Mon Nov 14 17:37:06 +0000 2022</td>\n",
       "    </tr>\n",
       "    <tr>\n",
       "      <th>1</th>\n",
       "      <td>{'id': ['mesh:D001120'], 'is_neural_normalized...</td>\n",
       "      <td>Autophagy maintains tumour growth through circ...</td>\n",
       "      <td>Mon Nov 14 17:37:06 +0000 2022</td>\n",
       "    </tr>\n",
       "  </tbody>\n",
       "</table>\n",
       "</div>"
      ],
      "text/plain": [
       "                                         annotations  \\\n",
       "0  {'id': ['mesh:D009369'], 'is_neural_normalized...   \n",
       "1  {'id': ['mesh:D001120'], 'is_neural_normalized...   \n",
       "\n",
       "                                                text  \\\n",
       "0  Autophagy maintains tumour growth through circ...   \n",
       "1  Autophagy maintains tumour growth through circ...   \n",
       "\n",
       "                        timestamp  \n",
       "0  Mon Nov 14 17:37:06 +0000 2022  \n",
       "1  Mon Nov 14 17:37:06 +0000 2022  "
      ]
     },
     "execution_count": 121,
     "metadata": {},
     "output_type": "execute_result"
    }
   ],
   "source": [
    "pd.DataFrame(output)"
   ]
  },
  {
   "cell_type": "markdown",
   "metadata": {},
   "source": [
    "Example of df from just the `annotations` column"
   ]
  },
  {
   "cell_type": "code",
   "execution_count": 122,
   "metadata": {},
   "outputs": [
    {
     "data": {
      "text/html": [
       "<div>\n",
       "<style scoped>\n",
       "    .dataframe tbody tr th:only-of-type {\n",
       "        vertical-align: middle;\n",
       "    }\n",
       "\n",
       "    .dataframe tbody tr th {\n",
       "        vertical-align: top;\n",
       "    }\n",
       "\n",
       "    .dataframe thead th {\n",
       "        text-align: right;\n",
       "    }\n",
       "</style>\n",
       "<table border=\"1\" class=\"dataframe\">\n",
       "  <thead>\n",
       "    <tr style=\"text-align: right;\">\n",
       "      <th></th>\n",
       "      <th>id</th>\n",
       "      <th>is_neural_normalized</th>\n",
       "      <th>mention</th>\n",
       "      <th>obj</th>\n",
       "      <th>prob</th>\n",
       "      <th>span</th>\n",
       "    </tr>\n",
       "  </thead>\n",
       "  <tbody>\n",
       "    <tr>\n",
       "      <th>0</th>\n",
       "      <td>[mesh:D009369]</td>\n",
       "      <td>False</td>\n",
       "      <td>tumour</td>\n",
       "      <td>disease</td>\n",
       "      <td>0.999995</td>\n",
       "      <td>{'begin': 20, 'end': 26}</td>\n",
       "    </tr>\n",
       "    <tr>\n",
       "      <th>1</th>\n",
       "      <td>[mesh:D001120]</td>\n",
       "      <td>False</td>\n",
       "      <td>arginine</td>\n",
       "      <td>drug</td>\n",
       "      <td>0.993951</td>\n",
       "      <td>{'begin': 64, 'end': 72}</td>\n",
       "    </tr>\n",
       "  </tbody>\n",
       "</table>\n",
       "</div>"
      ],
      "text/plain": [
       "               id  is_neural_normalized   mention      obj      prob  \\\n",
       "0  [mesh:D009369]                 False    tumour  disease  0.999995   \n",
       "1  [mesh:D001120]                 False  arginine     drug  0.993951   \n",
       "\n",
       "                       span  \n",
       "0  {'begin': 20, 'end': 26}  \n",
       "1  {'begin': 64, 'end': 72}  "
      ]
     },
     "execution_count": 122,
     "metadata": {},
     "output_type": "execute_result"
    }
   ],
   "source": [
    "pd.DataFrame(output['annotations'])"
   ]
  },
  {
   "cell_type": "markdown",
   "metadata": {},
   "source": [
    "## Add BERN2 Lables to Docs\n",
    "\n",
    ">We sent all separate text documents as one big text document to bern2.  Now we'll re-separate the labeled text to show which biomedical words were in which documents."
   ]
  },
  {
   "cell_type": "code",
   "execution_count": 74,
   "metadata": {},
   "outputs": [
    {
     "data": {
      "text/html": [
       "<div>\n",
       "<style scoped>\n",
       "    .dataframe tbody tr th:only-of-type {\n",
       "        vertical-align: middle;\n",
       "    }\n",
       "\n",
       "    .dataframe tbody tr th {\n",
       "        vertical-align: top;\n",
       "    }\n",
       "\n",
       "    .dataframe thead th {\n",
       "        text-align: right;\n",
       "    }\n",
       "</style>\n",
       "<table border=\"1\" class=\"dataframe\">\n",
       "  <thead>\n",
       "    <tr style=\"text-align: right;\">\n",
       "      <th></th>\n",
       "      <th>id</th>\n",
       "      <th>is_neural_normalized</th>\n",
       "      <th>mention</th>\n",
       "      <th>obj</th>\n",
       "      <th>prob</th>\n",
       "      <th>span_x</th>\n",
       "      <th>str_end</th>\n",
       "      <th>dfi_idx</th>\n",
       "      <th>text</th>\n",
       "      <th>start</th>\n",
       "      <th>end</th>\n",
       "      <th>span_y</th>\n",
       "    </tr>\n",
       "  </thead>\n",
       "  <tbody>\n",
       "    <tr>\n",
       "      <th>0</th>\n",
       "      <td>[mesh:D009369]</td>\n",
       "      <td>False</td>\n",
       "      <td>tumour</td>\n",
       "      <td>disease</td>\n",
       "      <td>0.999979</td>\n",
       "      <td>{'begin': 15, 'end': 21}</td>\n",
       "      <td>21</td>\n",
       "      <td>0.0</td>\n",
       "      <td>0: autophagy maintains tumour growth through c...</td>\n",
       "      <td>0.0</td>\n",
       "      <td>78.0</td>\n",
       "      <td>(0, 78)</td>\n",
       "    </tr>\n",
       "    <tr>\n",
       "      <th>1</th>\n",
       "      <td>[mesh:D000082]</td>\n",
       "      <td>False</td>\n",
       "      <td>tylenol</td>\n",
       "      <td>drug</td>\n",
       "      <td>0.968128</td>\n",
       "      <td>{'begin': 39, 'end': 46}</td>\n",
       "      <td>46</td>\n",
       "      <td>0.0</td>\n",
       "      <td>0: autophagy maintains tumour growth through c...</td>\n",
       "      <td>0.0</td>\n",
       "      <td>78.0</td>\n",
       "      <td>(0, 78)</td>\n",
       "    </tr>\n",
       "  </tbody>\n",
       "</table>\n",
       "</div>"
      ],
      "text/plain": [
       "               id  is_neural_normalized  mention      obj      prob  \\\n",
       "0  [mesh:D009369]                 False   tumour  disease  0.999979   \n",
       "1  [mesh:D000082]                 False  tylenol     drug  0.968128   \n",
       "\n",
       "                     span_x  str_end  dfi_idx  \\\n",
       "0  {'begin': 15, 'end': 21}       21      0.0   \n",
       "1  {'begin': 39, 'end': 46}       46      0.0   \n",
       "\n",
       "                                                text  start   end   span_y  \n",
       "0  0: autophagy maintains tumour growth through c...    0.0  78.0  (0, 78)  \n",
       "1  0: autophagy maintains tumour growth through c...    0.0  78.0  (0, 78)  "
      ]
     },
     "execution_count": 74,
     "metadata": {},
     "output_type": "execute_result"
    }
   ],
   "source": [
    "dfa = pd.DataFrame(output['annotations']) #crete dfa for dataframe of Annotaation\n",
    "\n",
    "# create str_end col as type str\n",
    "dfa.span = dfa.span.astype(str)\n",
    "dfa ['str_end'] = dfa.span.str.replace(r\".*'end': (\\d+)}\",r\"\\1\",regex=True)\n",
    "\n",
    "dfa.str_end = dfa.str_end.astype(int)  # make str end as type str\n",
    "\n",
    "#add dfi_idx col\n",
    "dfi.reset_index(inplace=True)\n",
    "dfi.rename(columns={'index':'dfi_idx'},inplace=True)\n",
    "\n",
    "for o,m in zip(dfi.index,dfi.span):  #add dfi_idx col to dfa \n",
    "    x,y = m #open span tuple\n",
    "    #write conditions for specific df rows\n",
    "    conds = (dfa.str_end > x) & (dfa.str_end < y)\n",
    "    dfa.loc[conds,'dfi_idx'] = o #save the index of the dfi span that fits to dfa\n",
    "\n",
    "# dfa.merge(dfi, left_on='dfi_idx',right_index=True)\n",
    "df = dfa.merge(dfi, left_on='dfi_idx',right_on='dfi_idx')\n",
    "df.head()"
   ]
  },
  {
   "cell_type": "markdown",
   "metadata": {},
   "source": [
    "## Output df"
   ]
  },
  {
   "cell_type": "code",
   "execution_count": 75,
   "metadata": {},
   "outputs": [
    {
     "data": {
      "text/html": [
       "<div>\n",
       "<style scoped>\n",
       "    .dataframe tbody tr th:only-of-type {\n",
       "        vertical-align: middle;\n",
       "    }\n",
       "\n",
       "    .dataframe tbody tr th {\n",
       "        vertical-align: top;\n",
       "    }\n",
       "\n",
       "    .dataframe thead th {\n",
       "        text-align: right;\n",
       "    }\n",
       "</style>\n",
       "<table border=\"1\" class=\"dataframe\">\n",
       "  <thead>\n",
       "    <tr style=\"text-align: right;\">\n",
       "      <th></th>\n",
       "      <th>dfi_idx</th>\n",
       "      <th>mention</th>\n",
       "      <th>obj</th>\n",
       "      <th>text</th>\n",
       "    </tr>\n",
       "  </thead>\n",
       "  <tbody>\n",
       "    <tr>\n",
       "      <th>0</th>\n",
       "      <td>0.0</td>\n",
       "      <td>tumour</td>\n",
       "      <td>disease</td>\n",
       "      <td>0: autophagy maintains tumour growth through c...</td>\n",
       "    </tr>\n",
       "    <tr>\n",
       "      <th>1</th>\n",
       "      <td>0.0</td>\n",
       "      <td>tylenol</td>\n",
       "      <td>drug</td>\n",
       "      <td>0: autophagy maintains tumour growth through c...</td>\n",
       "    </tr>\n",
       "  </tbody>\n",
       "</table>\n",
       "</div>"
      ],
      "text/plain": [
       "   dfi_idx  mention      obj  \\\n",
       "0      0.0   tumour  disease   \n",
       "1      0.0  tylenol     drug   \n",
       "\n",
       "                                                text  \n",
       "0  0: autophagy maintains tumour growth through c...  \n",
       "1  0: autophagy maintains tumour growth through c...  "
      ]
     },
     "execution_count": 75,
     "metadata": {},
     "output_type": "execute_result"
    }
   ],
   "source": [
    "df = df[['dfi_idx','mention','obj','text']]; df"
   ]
  },
  {
   "cell_type": "code",
   "execution_count": 76,
   "metadata": {},
   "outputs": [
    {
     "data": {
      "text/html": [
       "<div>\n",
       "<style scoped>\n",
       "    .dataframe tbody tr th:only-of-type {\n",
       "        vertical-align: middle;\n",
       "    }\n",
       "\n",
       "    .dataframe tbody tr th {\n",
       "        vertical-align: top;\n",
       "    }\n",
       "\n",
       "    .dataframe thead th {\n",
       "        text-align: right;\n",
       "    }\n",
       "</style>\n",
       "<table border=\"1\" class=\"dataframe\">\n",
       "  <thead>\n",
       "    <tr style=\"text-align: right;\">\n",
       "      <th></th>\n",
       "      <th>mention</th>\n",
       "      <th>dfi_idx</th>\n",
       "    </tr>\n",
       "  </thead>\n",
       "  <tbody>\n",
       "    <tr>\n",
       "      <th>0</th>\n",
       "      <td>tumour</td>\n",
       "      <td>1</td>\n",
       "    </tr>\n",
       "    <tr>\n",
       "      <th>1</th>\n",
       "      <td>tylenol</td>\n",
       "      <td>1</td>\n",
       "    </tr>\n",
       "  </tbody>\n",
       "</table>\n",
       "</div>"
      ],
      "text/plain": [
       "   mention  dfi_idx\n",
       "0   tumour        1\n",
       "1  tylenol        1"
      ]
     },
     "execution_count": 76,
     "metadata": {},
     "output_type": "execute_result"
    }
   ],
   "source": [
    "dfwords = df.groupby(['mention']).dfi_idx.count().reset_index().sort_values('dfi_idx',ascending=False); dfwords"
   ]
  },
  {
   "cell_type": "code",
   "execution_count": 77,
   "metadata": {},
   "outputs": [],
   "source": [
    "# !pip install seaborn"
   ]
  },
  {
   "cell_type": "code",
   "execution_count": 78,
   "metadata": {},
   "outputs": [
    {
     "data": {
      "text/plain": [
       "[Text(0.5, 0, 'Number of commenters mentioning the term')]"
      ]
     },
     "execution_count": 78,
     "metadata": {},
     "output_type": "execute_result"
    },
    {
     "data": {
      "image/png": "[encoded data removed]",
      "text/plain": [
       "<Figure size 576x432 with 1 Axes>"
      ]
     },
     "metadata": {
      "needs_background": "light"
     },
     "output_type": "display_data"
    }
   ],
   "source": [
    "import seaborn as sns\n",
    "import matplotlib.pyplot as plt\n",
    "\n",
    "# Set the width and height of the figure\n",
    "plt.figure(figsize=(8,6))\n",
    "\n",
    "ax = sns.barplot(x=dfwords.dfi_idx, y=dfwords.mention)\n",
    "\n",
    "#title\n",
    "ax.set_title(f'Biomedical Terms in Comments')\n",
    "\n",
    "# Add label for  axis\n",
    "ax.set(xlabel='Number of commenters mentioning the term')"
   ]
  },
  {
   "cell_type": "code",
   "execution_count": null,
   "metadata": {},
   "outputs": [],
   "source": []
  }
 ],
 "metadata": {
  "accelerator": "GPU",
  "colab": {
   "name": "biobertApi.ipynb",
   "provenance": []
  },
  "kernelspec": {
   "display_name": "Python 3 (ipykernel)",
   "language": "python",
   "name": "python3"
  },
  "language_info": {
   "codemirror_mode": {
    "name": "ipython",
    "version": 3
   },
   "file_extension": ".py",
   "mimetype": "text/x-python",
   "name": "python",
   "nbconvert_exporter": "python",
   "pygments_lexer": "ipython3",
   "version": "3.7.11"
  }
 },
 "nbformat": 4,
 "nbformat_minor": 1
}
