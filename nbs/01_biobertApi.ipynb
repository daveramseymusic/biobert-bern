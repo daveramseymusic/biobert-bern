{
 "cells": [
  {
   "cell_type": "code",
   "execution_count": 1,
   "metadata": {
    "id": "5DHAB5PH0nIz"
   },
   "outputs": [],
   "source": [
    "import requests\n",
    "import re\n",
    "import pandas as pd"
   ]
  },
  {
   "cell_type": "code",
   "execution_count": 4,
   "metadata": {
    "colab": {
     "base_uri": "https://localhost:8080/"
    },
    "id": "ITnD2KY9ecdf",
    "outputId": "9f42e386-18b5-443a-8768-940d7a028b47"
   },
   "outputs": [],
   "source": [
    "text = \"X-rays were negative and physical assessment determined soft tissue damage to the lateral aspect of her ankle. She was initially treated with ice, an ace wrap, crutches and mild pain medications (Tylenol with codeine)\"\n",
    "text2 = \"It is a skin disease causing much itchiness. Scratching leads to redness, swelling, cracking, weeping clear fluid, crusting, and scaling.\"\n",
    "# out=query_raw(text)\n",
    "# print(out)\n",
    "# print(term_extraction(text,out,'drug'))\n",
    "# print(term_extraction(text,out,'disease'))\n",
    "# print(term_extraction(text,out,'species'))"
   ]
  },
  {
   "cell_type": "markdown",
   "metadata": {},
   "source": [
    "### Query Function:\n",
    ">This function will send our text to bern2 using their API to get the text labeled"
   ]
  },
  {
   "cell_type": "code",
   "execution_count": 164,
   "metadata": {
    "id": "47kKVkIeX7A-"
   },
   "outputs": [
    {
     "name": "stdout",
     "output_type": "stream",
     "text": [
      "{'annotations': [{'id': ['mesh:D009369'], 'is_neural_normalized': False, 'mention': 'tumour', 'obj': 'disease', 'prob': 0.9999945163726807, 'span': {'begin': 20, 'end': 26}}, {'id': ['mesh:D001120'], 'is_neural_normalized': False, 'mention': 'arginine', 'obj': 'drug', 'prob': 0.9939508438110352, 'span': {'begin': 64, 'end': 72}}], 'text': 'Autophagy maintains tumour growth through circulating the great arginine.', 'timestamp': 'Fri Nov 11 19:00:41 +0000 2022'}\n"
     ]
    }
   ],
   "source": [
    "def query_plain(text, url=\"http://bern2.korea.ac.kr/plain\"):\n",
    "    return requests.post(url, json={'text': text}).json()\n",
    "\n",
    "if __name__ == '__main__':\n",
    "    text = \"Autophagy maintains tumour growth through circulating the great arginine.\"\n",
    "    print(query_plain(text))"
   ]
  },
  {
   "cell_type": "code",
   "execution_count": 265,
   "metadata": {},
   "outputs": [],
   "source": [
    "text = \"Autophagy maintains tumour growth through circulating the great arginine.\"\n",
    "text1 = \"X-rays were negative and physical assessment determined soft tissue damage to the lateral aspect of her ankle. She was initially treated with ice, an ace wrap, crutches and mild pain medications (Tylenol with codeine)\"\n",
    "text2 = \"It is a skin disease causing much itchiness. Scratching leads to redness, swelling, cracking, weeping clear fluid, crusting, and scaling.\"\n",
    "texts = [text,text1,text2]"
   ]
  },
  {
   "cell_type": "code",
   "execution_count": 295,
   "metadata": {},
   "outputs": [
    {
     "data": {
      "text/html": [
       "<div>\n",
       "<style scoped>\n",
       "    .dataframe tbody tr th:only-of-type {\n",
       "        vertical-align: middle;\n",
       "    }\n",
       "\n",
       "    .dataframe tbody tr th {\n",
       "        vertical-align: top;\n",
       "    }\n",
       "\n",
       "    .dataframe thead th {\n",
       "        text-align: right;\n",
       "    }\n",
       "</style>\n",
       "<table border=\"1\" class=\"dataframe\">\n",
       "  <thead>\n",
       "    <tr style=\"text-align: right;\">\n",
       "      <th></th>\n",
       "      <th>idx</th>\n",
       "      <th>comments</th>\n",
       "      <th>comidx</th>\n",
       "    </tr>\n",
       "  </thead>\n",
       "  <tbody>\n",
       "    <tr>\n",
       "      <th>0</th>\n",
       "      <td>0</td>\n",
       "      <td>Autophagy maintains tumour growth through circ...</td>\n",
       "      <td>0: autophagy maintains tumour growth through c...</td>\n",
       "    </tr>\n",
       "    <tr>\n",
       "      <th>1</th>\n",
       "      <td>1</td>\n",
       "      <td>X-rays were negative and physical assessment d...</td>\n",
       "      <td>1: x-rays were negative and physical assessmen...</td>\n",
       "    </tr>\n",
       "    <tr>\n",
       "      <th>2</th>\n",
       "      <td>2</td>\n",
       "      <td>It is a skin disease causing much itchiness. S...</td>\n",
       "      <td>2: it is a skin disease causing much itchiness...</td>\n",
       "    </tr>\n",
       "  </tbody>\n",
       "</table>\n",
       "</div>"
      ],
      "text/plain": [
       "  idx                                           comments  \\\n",
       "0   0  Autophagy maintains tumour growth through circ...   \n",
       "1   1  X-rays were negative and physical assessment d...   \n",
       "2   2  It is a skin disease causing much itchiness. S...   \n",
       "\n",
       "                                              comidx  \n",
       "0  0: autophagy maintains tumour growth through c...  \n",
       "1  1: x-rays were negative and physical assessmen...  \n",
       "2  2: it is a skin disease causing much itchiness...  "
      ]
     },
     "execution_count": 295,
     "metadata": {},
     "output_type": "execute_result"
    }
   ],
   "source": [
    "coms = pd.DataFrame({'comments':texts})\n",
    "coms.reset_index(inplace=True)\n",
    "coms.rename(columns = {\"index\":\"idx\"},inplace=True)\n",
    "coms.idx = coms.idx.astype(str)\n",
    "coms['comidx'] = coms.idx +': '+coms.comments+'. ::'\n",
    "coms.comidx = coms.comidx.str.lower().str.replace(r'\\(|\\)',',',regex=True)\n",
    "coms"
   ]
  },
  {
   "cell_type": "code",
   "execution_count": 296,
   "metadata": {},
   "outputs": [],
   "source": [
    "texty = ' '.join(coms.comidx.tolist())"
   ]
  },
  {
   "cell_type": "code",
   "execution_count": 13,
   "metadata": {},
   "outputs": [],
   "source": [
    "# texty = ''\n",
    "# text = 'Autophagy maintains tumour growth through circulating arginine'\n",
    "\n",
    "# for o in range(2):\n",
    "\n",
    "#     texty= texty+f'{o}: '+text+f' :{o} '"
   ]
  },
  {
   "cell_type": "code",
   "execution_count": 13,
   "metadata": {},
   "outputs": [],
   "source": [
    "# texty = ''\n",
    "# text = 'Autophagy maintains tumour growth through circulating arginine'\n",
    "\n",
    "# for o in range(2):\n",
    "\n",
    "#     texty= texty+f'{o}: '+text+f' :{o} '"
   ]
  },
  {
   "cell_type": "code",
   "execution_count": null,
   "metadata": {
    "id": "47kKVkIeX7A-"
   },
   "outputs": [],
   "source": [
    "def query_plain(text, url=\"http://bern2.korea.ac.kr/plain\"):\n",
    "    return requests.post(url, json={'text': text}).json()\n",
    "\n",
    "if __name__ == '__main__':\n",
    "#     text = \"Autophagy maintains tumour growth through circulating arginine\"\n",
    "#     print(query_plain(text))"
   ]
  },
  {
   "cell_type": "markdown",
   "metadata": {},
   "source": [
    "#### Get Start and end index of each entry"
   ]
  },
  {
   "cell_type": "code",
   "execution_count": 297,
   "metadata": {},
   "outputs": [
    {
     "data": {
      "text/plain": [
       "'0: autophagy maintains tumour growth through circulating the great arginine.. :: 1: x-rays were negative and physical assessment determined soft tissue damage to the lateral aspect of her ankle. she was initially treated with ice, an ace wrap, crutches and mild pain medications ,tylenol with codeine,. :: 2: it is a skin disease causing much itchiness. scratching leads to redness, swelling, cracking, weeping clear fluid, crusting, and scaling.. ::'"
      ]
     },
     "execution_count": 297,
     "metadata": {},
     "output_type": "execute_result"
    }
   ],
   "source": [
    "texty"
   ]
  },
  {
   "cell_type": "code",
   "execution_count": 301,
   "metadata": {},
   "outputs": [
    {
     "name": "stdout",
     "output_type": "stream",
     "text": [
      "0: autophagy maintains tumour growth through circulating the great arginine.. \n",
      "\n",
      "<re.Match object; span=(0, 78), match='0: autophagy maintains tumour growth through circ>\n",
      "start and end index (0, 78)\n",
      "1: x-rays were negative and physical assessment determined soft tissue damage to the lateral aspect of her ankle. she was initially treated with ice, an ace wrap, crutches and mild pain medications ,tylenol with codeine,. \n",
      "\n",
      "<re.Match object; span=(81, 303), match='1: x-rays were negative and physical assessment d>\n",
      "start and end index (81, 303)\n",
      "2: it is a skin disease causing much itchiness. scratching leads to redness, swelling, cracking, weeping clear fluid, crusting, and scaling.. \n",
      "\n",
      "<re.Match object; span=(306, 448), match='2: it is a skin disease causing much itchiness. s>\n",
      "start and end index (306, 448)\n"
     ]
    },
    {
     "data": {
      "text/html": [
       "<div>\n",
       "<style scoped>\n",
       "    .dataframe tbody tr th:only-of-type {\n",
       "        vertical-align: middle;\n",
       "    }\n",
       "\n",
       "    .dataframe tbody tr th {\n",
       "        vertical-align: top;\n",
       "    }\n",
       "\n",
       "    .dataframe thead th {\n",
       "        text-align: right;\n",
       "    }\n",
       "</style>\n",
       "<table border=\"1\" class=\"dataframe\">\n",
       "  <thead>\n",
       "    <tr style=\"text-align: right;\">\n",
       "      <th></th>\n",
       "      <th>text</th>\n",
       "      <th>start</th>\n",
       "      <th>end</th>\n",
       "      <th>span</th>\n",
       "    </tr>\n",
       "  </thead>\n",
       "  <tbody>\n",
       "    <tr>\n",
       "      <th>0</th>\n",
       "      <td>0: autophagy maintains tumour growth through c...</td>\n",
       "      <td>0.0</td>\n",
       "      <td>78.0</td>\n",
       "      <td>(0, 78)</td>\n",
       "    </tr>\n",
       "    <tr>\n",
       "      <th>1</th>\n",
       "      <td>1: x-rays were negative and physical assessmen...</td>\n",
       "      <td>81.0</td>\n",
       "      <td>303.0</td>\n",
       "      <td>(81, 303)</td>\n",
       "    </tr>\n",
       "    <tr>\n",
       "      <th>2</th>\n",
       "      <td>2: it is a skin disease causing much itchiness...</td>\n",
       "      <td>306.0</td>\n",
       "      <td>448.0</td>\n",
       "      <td>(306, 448)</td>\n",
       "    </tr>\n",
       "  </tbody>\n",
       "</table>\n",
       "</div>"
      ],
      "text/plain": [
       "                                                text  start    end        span\n",
       "0  0: autophagy maintains tumour growth through c...    0.0   78.0     (0, 78)\n",
       "1  1: x-rays were negative and physical assessmen...   81.0  303.0   (81, 303)\n",
       "2  2: it is a skin disease causing much itchiness...  306.0  448.0  (306, 448)"
      ]
     },
     "execution_count": 301,
     "metadata": {},
     "output_type": "execute_result"
    }
   ],
   "source": [
    "string = texty\n",
    "pattern = r'(\\d:.*?)::'\n",
    "dfi = pd.DataFrame()\n",
    "for o in re.findall(pattern,string):\n",
    "        print(o)\n",
    "        print()\n",
    "        match=(re.search(o, string))\n",
    "        print(match)\n",
    "                #Getting the start and end index in tuple format using match.span()\n",
    "        text = o\n",
    "        start = match.start()\n",
    "        end = match.end()\n",
    "        span = match.span()\n",
    "        dfi = dfi.append({'text':text,'start':start,'end':end,'span':span},ignore_index=True)\n",
    "        print (\"start and end index\", match.span())\n",
    "dfi   "
   ]
  },
  {
   "cell_type": "markdown",
   "metadata": {},
   "source": [
    "# Send combined text to bern2"
   ]
  },
  {
   "cell_type": "code",
   "execution_count": null,
   "metadata": {},
   "outputs": [],
   "source": [
    "output = query_plain(texty)"
   ]
  },
  {
   "cell_type": "code",
   "execution_count": null,
   "metadata": {},
   "outputs": [],
   "source": [
    "# [ print(o) for o in output]"
   ]
  },
  {
   "cell_type": "code",
   "execution_count": null,
   "metadata": {},
   "outputs": [],
   "source": [
    "# output['annotations'][0]\n"
   ]
  },
  {
   "cell_type": "code",
   "execution_count": null,
   "metadata": {},
   "outputs": [],
   "source": [
    "# for o in output['annotations'][0]:\n",
    "#     print(o)"
   ]
  },
  {
   "cell_type": "code",
   "execution_count": null,
   "metadata": {},
   "outputs": [],
   "source": [
    "x = output"
   ]
  },
  {
   "cell_type": "code",
   "execution_count": null,
   "metadata": {},
   "outputs": [],
   "source": [
    "dfa = pd.DataFrame(x['annotations'])"
   ]
  },
  {
   "cell_type": "code",
   "execution_count": null,
   "metadata": {},
   "outputs": [],
   "source": [
    "dfa.columns"
   ]
  },
  {
   "cell_type": "code",
   "execution_count": null,
   "metadata": {},
   "outputs": [],
   "source": [
    "dfa"
   ]
  },
  {
   "cell_type": "code",
   "execution_count": 81,
   "metadata": {},
   "outputs": [],
   "source": [
    "# dfa['endsp']  = dfa[dfa.span['end']]\n",
    "\n",
    "dfa.span = dfa.span.astype(str)\n",
    "dfa ['str_end'] = dfa.span.str.replace(r\".*'end': (\\d+)}\",r\"\\1\",regex=True)\n",
    "# dfa.span.str.replace(r\" \",r\"?\",regex=True)\n",
    "# dfa.span[0]"
   ]
  },
  {
   "cell_type": "code",
   "execution_count": null,
   "metadata": {},
   "outputs": [],
   "source": []
  },
  {
   "cell_type": "code",
   "execution_count": 82,
   "metadata": {},
   "outputs": [
    {
     "ename": "NameError",
     "evalue": "name 'str_end' is not defined",
     "output_type": "error",
     "traceback": [
      "\u001b[0;31m---------------------------------------------------------------------------\u001b[0m",
      "\u001b[0;31mNameError\u001b[0m                                 Traceback (most recent call last)",
      "\u001b[0;32m/tmp/ipykernel_45/475774568.py\u001b[0m in \u001b[0;36m<module>\u001b[0;34m\u001b[0m\n\u001b[0;32m----> 1\u001b[0;31m \u001b[0;32mif\u001b[0m \u001b[0mstr_end\u001b[0m \u001b[0;34m>\u001b[0m \u001b[0mx\u001b[0m \u001b[0;34m<\u001b[0m \u001b[0my\u001b[0m\u001b[0;34m:\u001b[0m\u001b[0;34m\u001b[0m\u001b[0;34m\u001b[0m\u001b[0m\n\u001b[0m\u001b[1;32m      2\u001b[0m     \u001b[0mz\u001b[0m\u001b[0;34m\u001b[0m\u001b[0;34m\u001b[0m\u001b[0m\n",
      "\u001b[0;31mNameError\u001b[0m: name 'str_end' is not defined"
     ]
    }
   ],
   "source": [
    "if str_end > x < y:\n",
    "    z"
   ]
  },
  {
   "cell_type": "code",
   "execution_count": 83,
   "metadata": {},
   "outputs": [
    {
     "ename": "NameError",
     "evalue": "name 'other_idx' is not defined",
     "output_type": "error",
     "traceback": [
      "\u001b[0;31m---------------------------------------------------------------------------\u001b[0m",
      "\u001b[0;31mNameError\u001b[0m                                 Traceback (most recent call last)",
      "\u001b[0;32m/tmp/ipykernel_45/584761661.py\u001b[0m in \u001b[0;36m<module>\u001b[0;34m\u001b[0m\n\u001b[0;32m----> 1\u001b[0;31m \u001b[0mother_idx\u001b[0m\u001b[0;34m\u001b[0m\u001b[0;34m\u001b[0m\u001b[0m\n\u001b[0m",
      "\u001b[0;31mNameError\u001b[0m: name 'other_idx' is not defined"
     ]
    }
   ],
   "source": [
    "other_idx"
   ]
  },
  {
   "cell_type": "code",
   "execution_count": 84,
   "metadata": {},
   "outputs": [
    {
     "data": {
      "text/html": [
       "<div>\n",
       "<style scoped>\n",
       "    .dataframe tbody tr th:only-of-type {\n",
       "        vertical-align: middle;\n",
       "    }\n",
       "\n",
       "    .dataframe tbody tr th {\n",
       "        vertical-align: top;\n",
       "    }\n",
       "\n",
       "    .dataframe thead th {\n",
       "        text-align: right;\n",
       "    }\n",
       "</style>\n",
       "<table border=\"1\" class=\"dataframe\">\n",
       "  <thead>\n",
       "    <tr style=\"text-align: right;\">\n",
       "      <th></th>\n",
       "      <th>text</th>\n",
       "      <th>start</th>\n",
       "      <th>end</th>\n",
       "      <th>span</th>\n",
       "    </tr>\n",
       "  </thead>\n",
       "  <tbody>\n",
       "    <tr>\n",
       "      <th>0</th>\n",
       "      <td>0: Autophagy maintains tumour growth through c...</td>\n",
       "      <td>0.0</td>\n",
       "      <td>66.0</td>\n",
       "      <td>(0, 66)</td>\n",
       "    </tr>\n",
       "    <tr>\n",
       "      <th>1</th>\n",
       "      <td>1: Autophagy maintains tumour growth through c...</td>\n",
       "      <td>69.0</td>\n",
       "      <td>135.0</td>\n",
       "      <td>(69, 135)</td>\n",
       "    </tr>\n",
       "  </tbody>\n",
       "</table>\n",
       "</div>"
      ],
      "text/plain": [
       "                                                text  start    end       span\n",
       "0  0: Autophagy maintains tumour growth through c...    0.0   66.0    (0, 66)\n",
       "1  1: Autophagy maintains tumour growth through c...   69.0  135.0  (69, 135)"
      ]
     },
     "execution_count": 84,
     "metadata": {},
     "output_type": "execute_result"
    }
   ],
   "source": [
    "dfi"
   ]
  },
  {
   "cell_type": "code",
   "execution_count": 95,
   "metadata": {},
   "outputs": [],
   "source": [
    "dfa.str_end = dfa.str_end.astype(int)"
   ]
  },
  {
   "cell_type": "code",
   "execution_count": 143,
   "metadata": {},
   "outputs": [],
   "source": [
    "dfi.reset_index(inplace=True)\n",
    "dfi.rename(columns={'index':'dfi_idx'},inplace=True)"
   ]
  },
  {
   "cell_type": "code",
   "execution_count": 157,
   "metadata": {},
   "outputs": [],
   "source": [
    "for o,m in zip(dfi.index,dfi.span):\n",
    "    x,y = m #open span tuple\n",
    "    #write conditions for specific df rows\n",
    "    conds = (dfa.str_end > x) & (dfa.str_end < y)\n",
    "    dfa.loc[conds,'dfi_idx'] = o #save the index of the dfi span that fits to dfa"
   ]
  },
  {
   "cell_type": "code",
   "execution_count": 158,
   "metadata": {},
   "outputs": [
    {
     "data": {
      "text/html": [
       "<div>\n",
       "<style scoped>\n",
       "    .dataframe tbody tr th:only-of-type {\n",
       "        vertical-align: middle;\n",
       "    }\n",
       "\n",
       "    .dataframe tbody tr th {\n",
       "        vertical-align: top;\n",
       "    }\n",
       "\n",
       "    .dataframe thead th {\n",
       "        text-align: right;\n",
       "    }\n",
       "</style>\n",
       "<table border=\"1\" class=\"dataframe\">\n",
       "  <thead>\n",
       "    <tr style=\"text-align: right;\">\n",
       "      <th></th>\n",
       "      <th>dfi_idx</th>\n",
       "      <th>text</th>\n",
       "      <th>start</th>\n",
       "      <th>end</th>\n",
       "      <th>span</th>\n",
       "    </tr>\n",
       "  </thead>\n",
       "  <tbody>\n",
       "    <tr>\n",
       "      <th>0</th>\n",
       "      <td>0</td>\n",
       "      <td>0: Autophagy maintains tumour growth through c...</td>\n",
       "      <td>0.0</td>\n",
       "      <td>66.0</td>\n",
       "      <td>(0, 66)</td>\n",
       "    </tr>\n",
       "    <tr>\n",
       "      <th>1</th>\n",
       "      <td>1</td>\n",
       "      <td>1: Autophagy maintains tumour growth through c...</td>\n",
       "      <td>69.0</td>\n",
       "      <td>135.0</td>\n",
       "      <td>(69, 135)</td>\n",
       "    </tr>\n",
       "  </tbody>\n",
       "</table>\n",
       "</div>"
      ],
      "text/plain": [
       "   dfi_idx                                               text  start    end  \\\n",
       "0        0  0: Autophagy maintains tumour growth through c...    0.0   66.0   \n",
       "1        1  1: Autophagy maintains tumour growth through c...   69.0  135.0   \n",
       "\n",
       "        span  \n",
       "0    (0, 66)  \n",
       "1  (69, 135)  "
      ]
     },
     "execution_count": 158,
     "metadata": {},
     "output_type": "execute_result"
    }
   ],
   "source": [
    "dfi"
   ]
  },
  {
   "cell_type": "code",
   "execution_count": 159,
   "metadata": {},
   "outputs": [
    {
     "data": {
      "text/html": [
       "<div>\n",
       "<style scoped>\n",
       "    .dataframe tbody tr th:only-of-type {\n",
       "        vertical-align: middle;\n",
       "    }\n",
       "\n",
       "    .dataframe tbody tr th {\n",
       "        vertical-align: top;\n",
       "    }\n",
       "\n",
       "    .dataframe thead th {\n",
       "        text-align: right;\n",
       "    }\n",
       "</style>\n",
       "<table border=\"1\" class=\"dataframe\">\n",
       "  <thead>\n",
       "    <tr style=\"text-align: right;\">\n",
       "      <th></th>\n",
       "      <th>id</th>\n",
       "      <th>is_neural_normalized</th>\n",
       "      <th>mention</th>\n",
       "      <th>obj</th>\n",
       "      <th>prob</th>\n",
       "      <th>span</th>\n",
       "      <th>str_end</th>\n",
       "      <th>dfi_idx</th>\n",
       "    </tr>\n",
       "  </thead>\n",
       "  <tbody>\n",
       "    <tr>\n",
       "      <th>0</th>\n",
       "      <td>[mesh:D009369]</td>\n",
       "      <td>False</td>\n",
       "      <td>tumour</td>\n",
       "      <td>disease</td>\n",
       "      <td>0.999992</td>\n",
       "      <td>{'begin': 23, 'end': 29}</td>\n",
       "      <td>29</td>\n",
       "      <td>0</td>\n",
       "    </tr>\n",
       "    <tr>\n",
       "      <th>1</th>\n",
       "      <td>[mesh:D001120]</td>\n",
       "      <td>False</td>\n",
       "      <td>arginine</td>\n",
       "      <td>drug</td>\n",
       "      <td>0.997611</td>\n",
       "      <td>{'begin': 57, 'end': 65}</td>\n",
       "      <td>65</td>\n",
       "      <td>0</td>\n",
       "    </tr>\n",
       "    <tr>\n",
       "      <th>2</th>\n",
       "      <td>[mesh:D009369]</td>\n",
       "      <td>False</td>\n",
       "      <td>tumour</td>\n",
       "      <td>disease</td>\n",
       "      <td>0.999989</td>\n",
       "      <td>{'begin': 92, 'end': 98}</td>\n",
       "      <td>98</td>\n",
       "      <td>1</td>\n",
       "    </tr>\n",
       "    <tr>\n",
       "      <th>3</th>\n",
       "      <td>[mesh:D001120]</td>\n",
       "      <td>False</td>\n",
       "      <td>arginine</td>\n",
       "      <td>drug</td>\n",
       "      <td>0.997834</td>\n",
       "      <td>{'begin': 126, 'end': 134}</td>\n",
       "      <td>134</td>\n",
       "      <td>1</td>\n",
       "    </tr>\n",
       "  </tbody>\n",
       "</table>\n",
       "</div>"
      ],
      "text/plain": [
       "               id  is_neural_normalized   mention      obj      prob  \\\n",
       "0  [mesh:D009369]                 False    tumour  disease  0.999992   \n",
       "1  [mesh:D001120]                 False  arginine     drug  0.997611   \n",
       "2  [mesh:D009369]                 False    tumour  disease  0.999989   \n",
       "3  [mesh:D001120]                 False  arginine     drug  0.997834   \n",
       "\n",
       "                         span  str_end dfi_idx  \n",
       "0    {'begin': 23, 'end': 29}       29       0  \n",
       "1    {'begin': 57, 'end': 65}       65       0  \n",
       "2    {'begin': 92, 'end': 98}       98       1  \n",
       "3  {'begin': 126, 'end': 134}      134       1  "
      ]
     },
     "execution_count": 159,
     "metadata": {},
     "output_type": "execute_result"
    }
   ],
   "source": [
    "dfa"
   ]
  },
  {
   "cell_type": "code",
   "execution_count": 160,
   "metadata": {},
   "outputs": [],
   "source": [
    "# dfa.merge(dfi, left_on='dfi_idx',right_index=True)\n",
    "df = dfa.merge(dfi, left_on='dfi_idx',right_on='dfi_idx')"
   ]
  },
  {
   "cell_type": "code",
   "execution_count": 162,
   "metadata": {},
   "outputs": [
    {
     "data": {
      "text/html": [
       "<div>\n",
       "<style scoped>\n",
       "    .dataframe tbody tr th:only-of-type {\n",
       "        vertical-align: middle;\n",
       "    }\n",
       "\n",
       "    .dataframe tbody tr th {\n",
       "        vertical-align: top;\n",
       "    }\n",
       "\n",
       "    .dataframe thead th {\n",
       "        text-align: right;\n",
       "    }\n",
       "</style>\n",
       "<table border=\"1\" class=\"dataframe\">\n",
       "  <thead>\n",
       "    <tr style=\"text-align: right;\">\n",
       "      <th></th>\n",
       "      <th>id</th>\n",
       "      <th>is_neural_normalized</th>\n",
       "      <th>mention</th>\n",
       "      <th>obj</th>\n",
       "      <th>prob</th>\n",
       "      <th>span_x</th>\n",
       "      <th>str_end</th>\n",
       "      <th>dfi_idx</th>\n",
       "      <th>text</th>\n",
       "      <th>start</th>\n",
       "      <th>end</th>\n",
       "      <th>span_y</th>\n",
       "    </tr>\n",
       "  </thead>\n",
       "  <tbody>\n",
       "    <tr>\n",
       "      <th>0</th>\n",
       "      <td>[mesh:D009369]</td>\n",
       "      <td>False</td>\n",
       "      <td>tumour</td>\n",
       "      <td>disease</td>\n",
       "      <td>0.999992</td>\n",
       "      <td>{'begin': 23, 'end': 29}</td>\n",
       "      <td>29</td>\n",
       "      <td>0</td>\n",
       "      <td>0: Autophagy maintains tumour growth through c...</td>\n",
       "      <td>0.0</td>\n",
       "      <td>66.0</td>\n",
       "      <td>(0, 66)</td>\n",
       "    </tr>\n",
       "    <tr>\n",
       "      <th>1</th>\n",
       "      <td>[mesh:D001120]</td>\n",
       "      <td>False</td>\n",
       "      <td>arginine</td>\n",
       "      <td>drug</td>\n",
       "      <td>0.997611</td>\n",
       "      <td>{'begin': 57, 'end': 65}</td>\n",
       "      <td>65</td>\n",
       "      <td>0</td>\n",
       "      <td>0: Autophagy maintains tumour growth through c...</td>\n",
       "      <td>0.0</td>\n",
       "      <td>66.0</td>\n",
       "      <td>(0, 66)</td>\n",
       "    </tr>\n",
       "    <tr>\n",
       "      <th>2</th>\n",
       "      <td>[mesh:D009369]</td>\n",
       "      <td>False</td>\n",
       "      <td>tumour</td>\n",
       "      <td>disease</td>\n",
       "      <td>0.999989</td>\n",
       "      <td>{'begin': 92, 'end': 98}</td>\n",
       "      <td>98</td>\n",
       "      <td>1</td>\n",
       "      <td>1: Autophagy maintains tumour growth through c...</td>\n",
       "      <td>69.0</td>\n",
       "      <td>135.0</td>\n",
       "      <td>(69, 135)</td>\n",
       "    </tr>\n",
       "    <tr>\n",
       "      <th>3</th>\n",
       "      <td>[mesh:D001120]</td>\n",
       "      <td>False</td>\n",
       "      <td>arginine</td>\n",
       "      <td>drug</td>\n",
       "      <td>0.997834</td>\n",
       "      <td>{'begin': 126, 'end': 134}</td>\n",
       "      <td>134</td>\n",
       "      <td>1</td>\n",
       "      <td>1: Autophagy maintains tumour growth through c...</td>\n",
       "      <td>69.0</td>\n",
       "      <td>135.0</td>\n",
       "      <td>(69, 135)</td>\n",
       "    </tr>\n",
       "  </tbody>\n",
       "</table>\n",
       "</div>"
      ],
      "text/plain": [
       "               id  is_neural_normalized   mention      obj      prob  \\\n",
       "0  [mesh:D009369]                 False    tumour  disease  0.999992   \n",
       "1  [mesh:D001120]                 False  arginine     drug  0.997611   \n",
       "2  [mesh:D009369]                 False    tumour  disease  0.999989   \n",
       "3  [mesh:D001120]                 False  arginine     drug  0.997834   \n",
       "\n",
       "                       span_x  str_end dfi_idx  \\\n",
       "0    {'begin': 23, 'end': 29}       29       0   \n",
       "1    {'begin': 57, 'end': 65}       65       0   \n",
       "2    {'begin': 92, 'end': 98}       98       1   \n",
       "3  {'begin': 126, 'end': 134}      134       1   \n",
       "\n",
       "                                                text  start    end     span_y  \n",
       "0  0: Autophagy maintains tumour growth through c...    0.0   66.0    (0, 66)  \n",
       "1  0: Autophagy maintains tumour growth through c...    0.0   66.0    (0, 66)  \n",
       "2  1: Autophagy maintains tumour growth through c...   69.0  135.0  (69, 135)  \n",
       "3  1: Autophagy maintains tumour growth through c...   69.0  135.0  (69, 135)  "
      ]
     },
     "execution_count": 162,
     "metadata": {},
     "output_type": "execute_result"
    }
   ],
   "source": [
    "df"
   ]
  },
  {
   "cell_type": "code",
   "execution_count": 118,
   "metadata": {},
   "outputs": [
    {
     "data": {
      "text/plain": [
       "Index(['id', 'is_neural_normalized', 'mention', 'obj', 'prob', 'span',\n",
       "       'str_end'],\n",
       "      dtype='object')"
      ]
     },
     "execution_count": 118,
     "metadata": {},
     "output_type": "execute_result"
    }
   ],
   "source": [
    "dfa.columns"
   ]
  },
  {
   "cell_type": "code",
   "execution_count": 119,
   "metadata": {},
   "outputs": [],
   "source": [
    "dfa['dfi_idx'] = ''"
   ]
  },
  {
   "cell_type": "code",
   "execution_count": 120,
   "metadata": {},
   "outputs": [
    {
     "data": {
      "text/plain": [
       "Index(['id', 'is_neural_normalized', 'mention', 'obj', 'prob', 'span',\n",
       "       'str_end', 'dfi_idx'],\n",
       "      dtype='object')"
      ]
     },
     "execution_count": 120,
     "metadata": {},
     "output_type": "execute_result"
    }
   ],
   "source": [
    "dfa.columns"
   ]
  },
  {
   "cell_type": "code",
   "execution_count": 132,
   "metadata": {},
   "outputs": [
    {
     "data": {
      "text/html": [
       "<div>\n",
       "<style scoped>\n",
       "    .dataframe tbody tr th:only-of-type {\n",
       "        vertical-align: middle;\n",
       "    }\n",
       "\n",
       "    .dataframe tbody tr th {\n",
       "        vertical-align: top;\n",
       "    }\n",
       "\n",
       "    .dataframe thead th {\n",
       "        text-align: right;\n",
       "    }\n",
       "</style>\n",
       "<table border=\"1\" class=\"dataframe\">\n",
       "  <thead>\n",
       "    <tr style=\"text-align: right;\">\n",
       "      <th></th>\n",
       "      <th>id</th>\n",
       "      <th>is_neural_normalized</th>\n",
       "      <th>mention</th>\n",
       "      <th>obj</th>\n",
       "      <th>prob</th>\n",
       "      <th>span</th>\n",
       "      <th>str_end</th>\n",
       "      <th>dfi_idx</th>\n",
       "    </tr>\n",
       "  </thead>\n",
       "  <tbody>\n",
       "    <tr>\n",
       "      <th>0</th>\n",
       "      <td>[mesh:D009369]</td>\n",
       "      <td>False</td>\n",
       "      <td>tumour</td>\n",
       "      <td>disease</td>\n",
       "      <td>0.999992</td>\n",
       "      <td>{'begin': 23, 'end': 29}</td>\n",
       "      <td>29</td>\n",
       "      <td>0</td>\n",
       "    </tr>\n",
       "    <tr>\n",
       "      <th>1</th>\n",
       "      <td>[mesh:D001120]</td>\n",
       "      <td>False</td>\n",
       "      <td>arginine</td>\n",
       "      <td>drug</td>\n",
       "      <td>0.997611</td>\n",
       "      <td>{'begin': 57, 'end': 65}</td>\n",
       "      <td>65</td>\n",
       "      <td>0</td>\n",
       "    </tr>\n",
       "    <tr>\n",
       "      <th>2</th>\n",
       "      <td>[mesh:D009369]</td>\n",
       "      <td>False</td>\n",
       "      <td>tumour</td>\n",
       "      <td>disease</td>\n",
       "      <td>0.999989</td>\n",
       "      <td>{'begin': 92, 'end': 98}</td>\n",
       "      <td>98</td>\n",
       "      <td></td>\n",
       "    </tr>\n",
       "    <tr>\n",
       "      <th>3</th>\n",
       "      <td>[mesh:D001120]</td>\n",
       "      <td>False</td>\n",
       "      <td>arginine</td>\n",
       "      <td>drug</td>\n",
       "      <td>0.997834</td>\n",
       "      <td>{'begin': 126, 'end': 134}</td>\n",
       "      <td>134</td>\n",
       "      <td></td>\n",
       "    </tr>\n",
       "  </tbody>\n",
       "</table>\n",
       "</div>"
      ],
      "text/plain": [
       "               id  is_neural_normalized   mention      obj      prob  \\\n",
       "0  [mesh:D009369]                 False    tumour  disease  0.999992   \n",
       "1  [mesh:D001120]                 False  arginine     drug  0.997611   \n",
       "2  [mesh:D009369]                 False    tumour  disease  0.999989   \n",
       "3  [mesh:D001120]                 False  arginine     drug  0.997834   \n",
       "\n",
       "                         span  str_end dfi_idx  \n",
       "0    {'begin': 23, 'end': 29}       29       0  \n",
       "1    {'begin': 57, 'end': 65}       65       0  \n",
       "2    {'begin': 92, 'end': 98}       98          \n",
       "3  {'begin': 126, 'end': 134}      134          "
      ]
     },
     "execution_count": 132,
     "metadata": {},
     "output_type": "execute_result"
    }
   ],
   "source": [
    "dfa.loc[(dfa.str_end < 66)&(dfa.str_end > 0),'dfi_idx'] = '0'\n",
    "dfa"
   ]
  },
  {
   "cell_type": "code",
   "execution_count": null,
   "metadata": {},
   "outputs": [],
   "source": []
  },
  {
   "cell_type": "code",
   "execution_count": 78,
   "metadata": {},
   "outputs": [
    {
     "data": {
      "text/html": [
       "<div>\n",
       "<style scoped>\n",
       "    .dataframe tbody tr th:only-of-type {\n",
       "        vertical-align: middle;\n",
       "    }\n",
       "\n",
       "    .dataframe tbody tr th {\n",
       "        vertical-align: top;\n",
       "    }\n",
       "\n",
       "    .dataframe thead th {\n",
       "        text-align: right;\n",
       "    }\n",
       "</style>\n",
       "<table border=\"1\" class=\"dataframe\">\n",
       "  <thead>\n",
       "    <tr style=\"text-align: right;\">\n",
       "      <th></th>\n",
       "      <th>id</th>\n",
       "      <th>is_neural_normalized</th>\n",
       "      <th>mention</th>\n",
       "      <th>obj</th>\n",
       "      <th>prob</th>\n",
       "      <th>span</th>\n",
       "      <th>str_end</th>\n",
       "      <th>dfi_idx</th>\n",
       "    </tr>\n",
       "  </thead>\n",
       "  <tbody>\n",
       "    <tr>\n",
       "      <th>0</th>\n",
       "      <td>[mesh:D009369]</td>\n",
       "      <td>0.0</td>\n",
       "      <td>tumour</td>\n",
       "      <td>disease</td>\n",
       "      <td>0.999992</td>\n",
       "      <td>{'begin': 23, 'end': 29}</td>\n",
       "      <td>29</td>\n",
       "      <td></td>\n",
       "    </tr>\n",
       "    <tr>\n",
       "      <th>1</th>\n",
       "      <td>[mesh:D001120]</td>\n",
       "      <td>0.0</td>\n",
       "      <td>arginine</td>\n",
       "      <td>drug</td>\n",
       "      <td>0.997611</td>\n",
       "      <td>{'begin': 57, 'end': 65}</td>\n",
       "      <td>65</td>\n",
       "      <td></td>\n",
       "    </tr>\n",
       "    <tr>\n",
       "      <th>2</th>\n",
       "      <td>[mesh:D009369]</td>\n",
       "      <td>0.0</td>\n",
       "      <td>tumour</td>\n",
       "      <td>disease</td>\n",
       "      <td>0.999989</td>\n",
       "      <td>{'begin': 92, 'end': 98}</td>\n",
       "      <td>98</td>\n",
       "      <td></td>\n",
       "    </tr>\n",
       "    <tr>\n",
       "      <th>3</th>\n",
       "      <td>[mesh:D001120]</td>\n",
       "      <td>0.0</td>\n",
       "      <td>arginine</td>\n",
       "      <td>drug</td>\n",
       "      <td>0.997834</td>\n",
       "      <td>{'begin': 126, 'end': 134}</td>\n",
       "      <td>134</td>\n",
       "      <td></td>\n",
       "    </tr>\n",
       "    <tr>\n",
       "      <th>4</th>\n",
       "      <td>NaN</td>\n",
       "      <td>NaN</td>\n",
       "      <td>NaN</td>\n",
       "      <td>NaN</td>\n",
       "      <td>NaN</td>\n",
       "      <td>NaN</td>\n",
       "      <td>NaN</td>\n",
       "      <td></td>\n",
       "    </tr>\n",
       "    <tr>\n",
       "      <th>5</th>\n",
       "      <td>NaN</td>\n",
       "      <td>NaN</td>\n",
       "      <td>NaN</td>\n",
       "      <td>NaN</td>\n",
       "      <td>NaN</td>\n",
       "      <td>NaN</td>\n",
       "      <td>NaN</td>\n",
       "      <td></td>\n",
       "    </tr>\n",
       "    <tr>\n",
       "      <th>6</th>\n",
       "      <td>NaN</td>\n",
       "      <td>NaN</td>\n",
       "      <td>NaN</td>\n",
       "      <td>NaN</td>\n",
       "      <td>NaN</td>\n",
       "      <td>NaN</td>\n",
       "      <td>NaN</td>\n",
       "      <td></td>\n",
       "    </tr>\n",
       "    <tr>\n",
       "      <th>7</th>\n",
       "      <td>NaN</td>\n",
       "      <td>NaN</td>\n",
       "      <td>NaN</td>\n",
       "      <td>NaN</td>\n",
       "      <td>NaN</td>\n",
       "      <td>NaN</td>\n",
       "      <td>NaN</td>\n",
       "      <td></td>\n",
       "    </tr>\n",
       "    <tr>\n",
       "      <th>8</th>\n",
       "      <td>NaN</td>\n",
       "      <td>NaN</td>\n",
       "      <td>NaN</td>\n",
       "      <td>NaN</td>\n",
       "      <td>NaN</td>\n",
       "      <td>NaN</td>\n",
       "      <td>NaN</td>\n",
       "      <td>29</td>\n",
       "    </tr>\n",
       "    <tr>\n",
       "      <th>9</th>\n",
       "      <td>NaN</td>\n",
       "      <td>NaN</td>\n",
       "      <td>NaN</td>\n",
       "      <td>NaN</td>\n",
       "      <td>NaN</td>\n",
       "      <td>NaN</td>\n",
       "      <td>NaN</td>\n",
       "      <td>65</td>\n",
       "    </tr>\n",
       "    <tr>\n",
       "      <th>10</th>\n",
       "      <td>NaN</td>\n",
       "      <td>NaN</td>\n",
       "      <td>NaN</td>\n",
       "      <td>NaN</td>\n",
       "      <td>NaN</td>\n",
       "      <td>NaN</td>\n",
       "      <td>NaN</td>\n",
       "      <td>98</td>\n",
       "    </tr>\n",
       "    <tr>\n",
       "      <th>11</th>\n",
       "      <td>NaN</td>\n",
       "      <td>NaN</td>\n",
       "      <td>NaN</td>\n",
       "      <td>NaN</td>\n",
       "      <td>NaN</td>\n",
       "      <td>NaN</td>\n",
       "      <td>NaN</td>\n",
       "      <td>134</td>\n",
       "    </tr>\n",
       "    <tr>\n",
       "      <th>12</th>\n",
       "      <td>NaN</td>\n",
       "      <td>NaN</td>\n",
       "      <td>NaN</td>\n",
       "      <td>NaN</td>\n",
       "      <td>NaN</td>\n",
       "      <td>NaN</td>\n",
       "      <td>NaN</td>\n",
       "      <td>NaN</td>\n",
       "    </tr>\n",
       "    <tr>\n",
       "      <th>13</th>\n",
       "      <td>NaN</td>\n",
       "      <td>NaN</td>\n",
       "      <td>NaN</td>\n",
       "      <td>NaN</td>\n",
       "      <td>NaN</td>\n",
       "      <td>NaN</td>\n",
       "      <td>NaN</td>\n",
       "      <td>NaN</td>\n",
       "    </tr>\n",
       "    <tr>\n",
       "      <th>14</th>\n",
       "      <td>NaN</td>\n",
       "      <td>NaN</td>\n",
       "      <td>NaN</td>\n",
       "      <td>NaN</td>\n",
       "      <td>NaN</td>\n",
       "      <td>NaN</td>\n",
       "      <td>NaN</td>\n",
       "      <td>NaN</td>\n",
       "    </tr>\n",
       "    <tr>\n",
       "      <th>15</th>\n",
       "      <td>NaN</td>\n",
       "      <td>NaN</td>\n",
       "      <td>NaN</td>\n",
       "      <td>NaN</td>\n",
       "      <td>NaN</td>\n",
       "      <td>NaN</td>\n",
       "      <td>NaN</td>\n",
       "      <td>NaN</td>\n",
       "    </tr>\n",
       "  </tbody>\n",
       "</table>\n",
       "</div>"
      ],
      "text/plain": [
       "                id  is_neural_normalized   mention      obj      prob  \\\n",
       "0   [mesh:D009369]                   0.0    tumour  disease  0.999992   \n",
       "1   [mesh:D001120]                   0.0  arginine     drug  0.997611   \n",
       "2   [mesh:D009369]                   0.0    tumour  disease  0.999989   \n",
       "3   [mesh:D001120]                   0.0  arginine     drug  0.997834   \n",
       "4              NaN                   NaN       NaN      NaN       NaN   \n",
       "5              NaN                   NaN       NaN      NaN       NaN   \n",
       "6              NaN                   NaN       NaN      NaN       NaN   \n",
       "7              NaN                   NaN       NaN      NaN       NaN   \n",
       "8              NaN                   NaN       NaN      NaN       NaN   \n",
       "9              NaN                   NaN       NaN      NaN       NaN   \n",
       "10             NaN                   NaN       NaN      NaN       NaN   \n",
       "11             NaN                   NaN       NaN      NaN       NaN   \n",
       "12             NaN                   NaN       NaN      NaN       NaN   \n",
       "13             NaN                   NaN       NaN      NaN       NaN   \n",
       "14             NaN                   NaN       NaN      NaN       NaN   \n",
       "15             NaN                   NaN       NaN      NaN       NaN   \n",
       "\n",
       "                          span str_end dfi_idx  \n",
       "0     {'begin': 23, 'end': 29}      29          \n",
       "1     {'begin': 57, 'end': 65}      65          \n",
       "2     {'begin': 92, 'end': 98}      98          \n",
       "3   {'begin': 126, 'end': 134}     134          \n",
       "4                          NaN     NaN          \n",
       "5                          NaN     NaN          \n",
       "6                          NaN     NaN          \n",
       "7                          NaN     NaN          \n",
       "8                          NaN     NaN      29  \n",
       "9                          NaN     NaN      65  \n",
       "10                         NaN     NaN      98  \n",
       "11                         NaN     NaN     134  \n",
       "12                         NaN     NaN     NaN  \n",
       "13                         NaN     NaN     NaN  \n",
       "14                         NaN     NaN     NaN  \n",
       "15                         NaN     NaN     NaN  "
      ]
     },
     "execution_count": 78,
     "metadata": {},
     "output_type": "execute_result"
    }
   ],
   "source": [
    "dfa['dfi_idx'] = ''\n",
    "for o in dfa.str_end:\n",
    "    dfi_idx = o\n",
    "dfa"
   ]
  },
  {
   "cell_type": "code",
   "execution_count": null,
   "metadata": {},
   "outputs": [],
   "source": []
  },
  {
   "cell_type": "code",
   "execution_count": 38,
   "metadata": {},
   "outputs": [
    {
     "data": {
      "text/plain": [
       "{'annotations': [{'id': ['mesh:D009369'],\n",
       "   'is_neural_normalized': False,\n",
       "   'mention': 'tumour',\n",
       "   'obj': 'disease',\n",
       "   'prob': 0.9999921321868896,\n",
       "   'span': {'begin': 23, 'end': 29}},\n",
       "  {'id': ['mesh:D001120'],\n",
       "   'is_neural_normalized': False,\n",
       "   'mention': 'arginine',\n",
       "   'obj': 'drug',\n",
       "   'prob': 0.9976105690002441,\n",
       "   'span': {'begin': 57, 'end': 65}},\n",
       "  {'id': ['mesh:D009369'],\n",
       "   'is_neural_normalized': False,\n",
       "   'mention': 'tumour',\n",
       "   'obj': 'disease',\n",
       "   'prob': 0.9999886751174927,\n",
       "   'span': {'begin': 92, 'end': 98}},\n",
       "  {'id': ['mesh:D001120'],\n",
       "   'is_neural_normalized': False,\n",
       "   'mention': 'arginine',\n",
       "   'obj': 'drug',\n",
       "   'prob': 0.9978335499763489,\n",
       "   'span': {'begin': 126, 'end': 134}}],\n",
       " 'text': '0: Autophagy maintains tumour growth through circulating arginine :0 1: Autophagy maintains tumour growth through circulating arginine :1',\n",
       " 'timestamp': 'Thu Nov 10 23:35:56 +0000 2022'}"
      ]
     },
     "execution_count": 38,
     "metadata": {},
     "output_type": "execute_result"
    }
   ],
   "source": [
    "x"
   ]
  },
  {
   "cell_type": "code",
   "execution_count": 6,
   "metadata": {},
   "outputs": [],
   "source": [
    "output = {'annotations': [{'id': ['mesh:D009369'],\n",
    "   'is_neural_normalized': False,\n",
    "   'mention': 'tumour',\n",
    "   'obj': 'disease',\n",
    "   'prob': 0.9999921321868896,\n",
    "   'span': {'begin': 23, 'end': 29}},\n",
    "  {'id': ['mesh:D001120'],\n",
    "   'is_neural_normalized': False,\n",
    "   'mention': 'arginine',\n",
    "   'obj': 'drug',\n",
    "   'prob': 0.9976105690002441,\n",
    "   'span': {'begin': 57, 'end': 65}},\n",
    "  {'id': ['mesh:D009369'],\n",
    "   'is_neural_normalized': False,\n",
    "   'mention': 'tumour',\n",
    "   'obj': 'disease',\n",
    "   'prob': 0.9999886751174927,\n",
    "   'span': {'begin': 92, 'end': 98}},\n",
    "  {'id': ['mesh:D001120'],\n",
    "   'is_neural_normalized': False,\n",
    "   'mention': 'arginine',\n",
    "   'obj': 'drug',\n",
    "   'prob': 0.9978335499763489,\n",
    "   'span': {'begin': 126, 'end': 134}}],\n",
    " 'text': '0: Autophagy maintains tumour growth through circulating arginine :0 1: Autophagy maintains tumour growth through circulating arginine :1',\n",
    " 'timestamp': 'Thu Nov 10 23:35:56 +0000 2022'}"
   ]
  },
  {
   "cell_type": "code",
   "execution_count": 8,
   "metadata": {},
   "outputs": [],
   "source": [
    "x = output"
   ]
  },
  {
   "cell_type": "code",
   "execution_count": 9,
   "metadata": {},
   "outputs": [
    {
     "data": {
      "text/plain": [
       "{'annotations': [{'id': ['mesh:D009369'],\n",
       "   'is_neural_normalized': False,\n",
       "   'mention': 'tumour',\n",
       "   'obj': 'disease',\n",
       "   'prob': 0.9999921321868896,\n",
       "   'span': {'begin': 23, 'end': 29}},\n",
       "  {'id': ['mesh:D001120'],\n",
       "   'is_neural_normalized': False,\n",
       "   'mention': 'arginine',\n",
       "   'obj': 'drug',\n",
       "   'prob': 0.9976105690002441,\n",
       "   'span': {'begin': 57, 'end': 65}},\n",
       "  {'id': ['mesh:D009369'],\n",
       "   'is_neural_normalized': False,\n",
       "   'mention': 'tumour',\n",
       "   'obj': 'disease',\n",
       "   'prob': 0.9999886751174927,\n",
       "   'span': {'begin': 92, 'end': 98}},\n",
       "  {'id': ['mesh:D001120'],\n",
       "   'is_neural_normalized': False,\n",
       "   'mention': 'arginine',\n",
       "   'obj': 'drug',\n",
       "   'prob': 0.9978335499763489,\n",
       "   'span': {'begin': 126, 'end': 134}}],\n",
       " 'text': '0: Autophagy maintains tumour growth through circulating arginine :0 1: Autophagy maintains tumour growth through circulating arginine :1',\n",
       " 'timestamp': 'Thu Nov 10 23:35:56 +0000 2022'}"
      ]
     },
     "execution_count": 9,
     "metadata": {},
     "output_type": "execute_result"
    }
   ],
   "source": [
    "output"
   ]
  },
  {
   "cell_type": "code",
   "execution_count": 12,
   "metadata": {},
   "outputs": [],
   "source": [
    "dfa = pd.DataFrame(output['annotations'])"
   ]
  },
  {
   "cell_type": "code",
   "execution_count": null,
   "metadata": {},
   "outputs": [],
   "source": []
  },
  {
   "cell_type": "code",
   "execution_count": null,
   "metadata": {},
   "outputs": [],
   "source": []
  },
  {
   "cell_type": "code",
   "execution_count": null,
   "metadata": {},
   "outputs": [],
   "source": []
  },
  {
   "cell_type": "code",
   "execution_count": null,
   "metadata": {},
   "outputs": [],
   "source": []
  },
  {
   "cell_type": "code",
   "execution_count": null,
   "metadata": {},
   "outputs": [],
   "source": []
  },
  {
   "cell_type": "code",
   "execution_count": null,
   "metadata": {},
   "outputs": [],
   "source": []
  },
  {
   "cell_type": "code",
   "execution_count": 16,
   "metadata": {},
   "outputs": [
    {
     "data": {
      "text/plain": [
       "{'annotations': [{'id': ['mesh:D009369'],\n",
       "   'is_neural_normalized': False,\n",
       "   'mention': 'tumour',\n",
       "   'obj': 'disease',\n",
       "   'prob': 0.9999921321868896,\n",
       "   'span': {'begin': 23, 'end': 29}},\n",
       "  {'id': ['mesh:D001120'],\n",
       "   'is_neural_normalized': False,\n",
       "   'mention': 'arginine',\n",
       "   'obj': 'drug',\n",
       "   'prob': 0.9976105690002441,\n",
       "   'span': {'begin': 57, 'end': 65}},\n",
       "  {'id': ['mesh:D009369'],\n",
       "   'is_neural_normalized': False,\n",
       "   'mention': 'tumour',\n",
       "   'obj': 'disease',\n",
       "   'prob': 0.9999886751174927,\n",
       "   'span': {'begin': 92, 'end': 98}},\n",
       "  {'id': ['mesh:D001120'],\n",
       "   'is_neural_normalized': False,\n",
       "   'mention': 'arginine',\n",
       "   'obj': 'drug',\n",
       "   'prob': 0.9978335499763489,\n",
       "   'span': {'begin': 126, 'end': 134}}],\n",
       " 'text': '0: Autophagy maintains tumour growth through circulating arginine :0 1: Autophagy maintains tumour growth through circulating arginine :1',\n",
       " 'timestamp': 'Thu Nov 10 23:28:15 +0000 2022'}"
      ]
     },
     "execution_count": 16,
     "metadata": {},
     "output_type": "execute_result"
    }
   ],
   "source": [
    "output"
   ]
  },
  {
   "cell_type": "code",
   "execution_count": 17,
   "metadata": {},
   "outputs": [
    {
     "data": {
      "text/html": [
       "<div>\n",
       "<style scoped>\n",
       "    .dataframe tbody tr th:only-of-type {\n",
       "        vertical-align: middle;\n",
       "    }\n",
       "\n",
       "    .dataframe tbody tr th {\n",
       "        vertical-align: top;\n",
       "    }\n",
       "\n",
       "    .dataframe thead th {\n",
       "        text-align: right;\n",
       "    }\n",
       "</style>\n",
       "<table border=\"1\" class=\"dataframe\">\n",
       "  <thead>\n",
       "    <tr style=\"text-align: right;\">\n",
       "      <th></th>\n",
       "      <th>id</th>\n",
       "      <th>is_neural_normalized</th>\n",
       "      <th>mention</th>\n",
       "      <th>obj</th>\n",
       "      <th>prob</th>\n",
       "      <th>span</th>\n",
       "    </tr>\n",
       "  </thead>\n",
       "  <tbody>\n",
       "    <tr>\n",
       "      <th>0</th>\n",
       "      <td>[mesh:D009369]</td>\n",
       "      <td>False</td>\n",
       "      <td>tumour</td>\n",
       "      <td>disease</td>\n",
       "      <td>0.999992</td>\n",
       "      <td>{'begin': 23, 'end': 29}</td>\n",
       "    </tr>\n",
       "    <tr>\n",
       "      <th>1</th>\n",
       "      <td>[mesh:D001120]</td>\n",
       "      <td>False</td>\n",
       "      <td>arginine</td>\n",
       "      <td>drug</td>\n",
       "      <td>0.997611</td>\n",
       "      <td>{'begin': 57, 'end': 65}</td>\n",
       "    </tr>\n",
       "    <tr>\n",
       "      <th>2</th>\n",
       "      <td>[mesh:D009369]</td>\n",
       "      <td>False</td>\n",
       "      <td>tumour</td>\n",
       "      <td>disease</td>\n",
       "      <td>0.999989</td>\n",
       "      <td>{'begin': 92, 'end': 98}</td>\n",
       "    </tr>\n",
       "    <tr>\n",
       "      <th>3</th>\n",
       "      <td>[mesh:D001120]</td>\n",
       "      <td>False</td>\n",
       "      <td>arginine</td>\n",
       "      <td>drug</td>\n",
       "      <td>0.997834</td>\n",
       "      <td>{'begin': 126, 'end': 134}</td>\n",
       "    </tr>\n",
       "  </tbody>\n",
       "</table>\n",
       "</div>"
      ],
      "text/plain": [
       "               id  is_neural_normalized   mention      obj      prob  \\\n",
       "0  [mesh:D009369]                 False    tumour  disease  0.999992   \n",
       "1  [mesh:D001120]                 False  arginine     drug  0.997611   \n",
       "2  [mesh:D009369]                 False    tumour  disease  0.999989   \n",
       "3  [mesh:D001120]                 False  arginine     drug  0.997834   \n",
       "\n",
       "                         span  \n",
       "0    {'begin': 23, 'end': 29}  \n",
       "1    {'begin': 57, 'end': 65}  \n",
       "2    {'begin': 92, 'end': 98}  \n",
       "3  {'begin': 126, 'end': 134}  "
      ]
     },
     "execution_count": 17,
     "metadata": {},
     "output_type": "execute_result"
    }
   ],
   "source": [
    "df"
   ]
  },
  {
   "cell_type": "code",
   "execution_count": null,
   "metadata": {},
   "outputs": [],
   "source": []
  }
 ],
 "metadata": {
  "accelerator": "GPU",
  "colab": {
   "name": "biobertApi.ipynb",
   "provenance": []
  },
  "kernelspec": {
   "display_name": "Python 3 (ipykernel)",
   "language": "python",
   "name": "python3"
  },
  "language_info": {
   "codemirror_mode": {
    "name": "ipython",
    "version": 3
   },
   "file_extension": ".py",
   "mimetype": "text/x-python",
   "name": "python",
   "nbconvert_exporter": "python",
   "pygments_lexer": "ipython3",
   "version": "3.7.11"
  }
 },
 "nbformat": 4,
 "nbformat_minor": 1
}
