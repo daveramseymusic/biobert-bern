{
 "cells": [
  {
   "cell_type": "code",
   "execution_count": 30,
   "metadata": {
    "id": "5DHAB5PH0nIz"
   },
   "outputs": [],
   "source": [
    "import requests"
   ]
  },
  {
   "cell_type": "code",
   "execution_count": 31,
   "metadata": {
    "id": "lQL8-Q0oLl-l"
   },
   "outputs": [],
   "source": [
    "def term_extraction(text,out,type):\n",
    "\n",
    "  denotations=out['denotations']\n",
    "  relavent_terms=[]\n",
    "  \n",
    "  if type=='drug':\n",
    "    drug_terms=[]\n",
    "    for i in denotations:\n",
    "      if i['obj']== 'drug':\n",
    "        drug_terms.append((i['span']['begin'],i['span']['end']))\n",
    "   \n",
    "    for i in drug_terms:\n",
    "      start=i[0]\n",
    "      end=i[1]\n",
    "      relavent_terms.append(text[start:end])\n",
    "\n",
    "  if type=='disease':\n",
    "    species_terms=[]\n",
    "    for i in denotations:\n",
    "      if i['obj']== 'disease':\n",
    "        species_terms.append((i['span']['begin'],i['span']['end']))\n",
    "    \n",
    "    for i in species_terms:\n",
    "      start=i[0]\n",
    "      end=i[1]\n",
    "      relavent_terms.append(text[start:end])\n",
    "\n",
    "\n",
    "  if type=='species':\n",
    "    species_terms=[]\n",
    "    for i in denotations:\n",
    "      if i['obj']== 'species':\n",
    "        species_terms.append((i['span']['begin'],i['span']['end']))\n",
    "    \n",
    "    for i in species_terms:\n",
    "      start=i[0]\n",
    "      end=i[1]\n",
    "      relavent_terms.append(text[start:end])\n",
    "\n",
    "  return(relavent_terms)\n"
   ]
  },
  {
   "cell_type": "code",
   "execution_count": 32,
   "metadata": {
    "id": "OfnvWQqpUIBL"
   },
   "outputs": [],
   "source": [
    "def query_raw(text, url=\"https://bern.korea.ac.kr/plain\"):\n",
    "  return requests.post(url, data={'sample_text': text}).json()\n"
   ]
  },
  {
   "cell_type": "code",
   "execution_count": 33,
   "metadata": {
    "colab": {
     "base_uri": "https://localhost:8080/"
    },
    "id": "ITnD2KY9ecdf",
    "outputId": "9f42e386-18b5-443a-8768-940d7a028b47"
   },
   "outputs": [],
   "source": [
    "text = \"X-rays were negative and physical assessment determined soft tissue damage to the lateral aspect of her ankle. She was initially treated with ice, an ace wrap, crutches and mild pain medications (Tylenol with codeine)\"\n",
    "text2 = \"It is a skin disease causing much itchiness. Scratching leads to redness, swelling, cracking, weeping clear fluid, crusting, and scaling.\"\n",
    "# out=query_raw(text)\n",
    "# print(out)\n",
    "# print(term_extraction(text,out,'drug'))\n",
    "# print(term_extraction(text,out,'disease'))\n",
    "# print(term_extraction(text,out,'species'))"
   ]
  },
  {
   "cell_type": "code",
   "execution_count": 34,
   "metadata": {
    "id": "47kKVkIeX7A-",
    "scrolled": false
   },
   "outputs": [
    {
     "name": "stdout",
     "output_type": "stream",
     "text": [
      "{'annotations': [{'id': ['mesh:D009369'], 'is_neural_normalized': False, 'mention': 'tumour', 'obj': 'disease', 'prob': 0.9999922513961792, 'span': {'begin': 20, 'end': 26}}, {'id': ['mesh:D001120'], 'is_neural_normalized': False, 'mention': 'arginine', 'obj': 'drug', 'prob': 0.9819279909133911, 'span': {'begin': 54, 'end': 62}}], 'text': 'Autophagy maintains tumour growth through circulating arginine.', 'timestamp': 'Thu Nov 10 17:07:42 +0000 2022'}\n"
     ]
    }
   ],
   "source": [
    "import requests\n",
    "\n",
    "def query_plain(text, url=\"http://bern2.korea.ac.kr/plain\"):\n",
    "    return requests.post(url, json={'text': text}).json()\n",
    "\n",
    "if __name__ == '__main__':\n",
    "    text = \"Autophagy maintains tumour growth through circulating arginine.\"\n",
    "    print(query_plain(text))"
   ]
  },
  {
   "cell_type": "code",
   "execution_count": 99,
   "metadata": {},
   "outputs": [],
   "source": [
    "texty = ''\n",
    "text = 'Autophagy maintains tumour growth through circulating arginine'\n",
    "\n",
    "for o in range(2):\n",
    "\n",
    "    texty= texty+f'{o}: '+text+f' :{o} '"
   ]
  },
  {
   "cell_type": "code",
   "execution_count": 100,
   "metadata": {
    "scrolled": true
   },
   "outputs": [
    {
     "data": {
      "text/plain": [
       "'0: Autophagy maintains tumour growth through circulating arginine :0 1: Autophagy maintains tumour growth through circulating arginine :1 '"
      ]
     },
     "execution_count": 100,
     "metadata": {},
     "output_type": "execute_result"
    }
   ],
   "source": [
    "texty"
   ]
  },
  {
   "cell_type": "code",
   "execution_count": 39,
   "metadata": {
    "id": "47kKVkIeX7A-"
   },
   "outputs": [],
   "source": [
    "import requests\n",
    "\n",
    "def query_plain(text, url=\"http://bern2.korea.ac.kr/plain\"):\n",
    "    return requests.post(url, json={'text': text}).json()\n",
    "\n",
    "if __name__ == '__main__':\n",
    "    text = \"Autophagy maintains tumour growth through circulating arginine\"\n",
    "#     print(query_plain(text))"
   ]
  },
  {
   "cell_type": "code",
   "execution_count": 50,
   "metadata": {},
   "outputs": [],
   "source": [
    "text = \"Autophagy maintains tumour growth through circulating arginine.\"\n",
    "output = query_plain(texty)"
   ]
  },
  {
   "cell_type": "code",
   "execution_count": 51,
   "metadata": {},
   "outputs": [],
   "source": [
    "import pandas as pd"
   ]
  },
  {
   "cell_type": "code",
   "execution_count": 64,
   "metadata": {},
   "outputs": [],
   "source": [
    "df = pd.DataFrame(output['annotations'])"
   ]
  },
  {
   "cell_type": "code",
   "execution_count": 65,
   "metadata": {},
   "outputs": [
    {
     "data": {
      "text/plain": [
       "Index(['id', 'is_neural_normalized', 'mention', 'obj', 'prob', 'span'], dtype='object')"
      ]
     },
     "execution_count": 65,
     "metadata": {},
     "output_type": "execute_result"
    }
   ],
   "source": [
    "df.columns"
   ]
  },
  {
   "cell_type": "code",
   "execution_count": 70,
   "metadata": {},
   "outputs": [
    {
     "data": {
      "text/plain": [
       "' 0: Autophagy maintains tumour growth through circulating arginine 1: Autophagy maintains tumour growth through circulating arginine'"
      ]
     },
     "execution_count": 70,
     "metadata": {},
     "output_type": "execute_result"
    }
   ],
   "source": [
    "texty"
   ]
  },
  {
   "cell_type": "code",
   "execution_count": 73,
   "metadata": {},
   "outputs": [],
   "source": [
    "numbers = re.findall('(\\d:)',texty)"
   ]
  },
  {
   "cell_type": "code",
   "execution_count": null,
   "metadata": {},
   "outputs": [],
   "source": [
    "import re\n",
    "string = 'Geeksforgeeks'\n",
    "pattern = 'for'\n",
    "match=(re.search(pattern, string))\n",
    "\n",
    "#getting the starting index using match.start()\n",
    "print (\"starting index\", match.start())\n",
    "\n",
    "#Getting the start and end index in tuple format using match.span()\n",
    "print (\"start and end index\", match.span())\n"
   ]
  },
  {
   "cell_type": "code",
   "execution_count": 101,
   "metadata": {},
   "outputs": [
    {
     "name": "stdout",
     "output_type": "stream",
     "text": [
      "starting index 0\n",
      "start and end index (0, 68)\n"
     ]
    }
   ],
   "source": [
    "import re\n",
    "string = texty\n",
    "pattern = '(\\d:.*?):\\d'\n",
    "match=(re.search(pattern, string))\n",
    "\n",
    "#getting the starting index using match.start()\n",
    "print (\"starting index\", match.start())\n",
    "\n",
    "#Getting the start and end index in tuple format using match.span()\n",
    "print (\"start and end index\", match.span())\n"
   ]
  },
  {
   "cell_type": "code",
   "execution_count": null,
   "metadata": {},
   "outputs": [],
   "source": []
  },
  {
   "cell_type": "code",
   "execution_count": 69,
   "metadata": {},
   "outputs": [
    {
     "data": {
      "text/plain": [
       "{'annotations': [{'id': ['mesh:D009369'],\n",
       "   'is_neural_normalized': False,\n",
       "   'mention': 'tumour',\n",
       "   'obj': 'disease',\n",
       "   'prob': 0.9999939203262329,\n",
       "   'span': {'begin': 23, 'end': 29}},\n",
       "  {'id': ['mesh:D001120'],\n",
       "   'is_neural_normalized': False,\n",
       "   'mention': 'arginine',\n",
       "   'obj': 'drug',\n",
       "   'prob': 0.9979538917541504,\n",
       "   'span': {'begin': 57, 'end': 65}},\n",
       "  {'id': ['mesh:D009369'],\n",
       "   'is_neural_normalized': False,\n",
       "   'mention': 'tumour',\n",
       "   'obj': 'disease',\n",
       "   'prob': 0.9999915361404419,\n",
       "   'span': {'begin': 89, 'end': 95}},\n",
       "  {'id': ['mesh:D001120'],\n",
       "   'is_neural_normalized': False,\n",
       "   'mention': 'arginine',\n",
       "   'obj': 'drug',\n",
       "   'prob': 0.9987154006958008,\n",
       "   'span': {'begin': 123, 'end': 131}}],\n",
       " 'text': '0: Autophagy maintains tumour growth through circulating arginine 1: Autophagy maintains tumour growth through circulating arginine',\n",
       " 'timestamp': 'Thu Nov 10 17:37:59 +0000 2022'}"
      ]
     },
     "execution_count": 69,
     "metadata": {},
     "output_type": "execute_result"
    }
   ],
   "source": [
    "output"
   ]
  },
  {
   "cell_type": "code",
   "execution_count": 67,
   "metadata": {},
   "outputs": [
    {
     "data": {
      "text/html": [
       "<div>\n",
       "<style scoped>\n",
       "    .dataframe tbody tr th:only-of-type {\n",
       "        vertical-align: middle;\n",
       "    }\n",
       "\n",
       "    .dataframe tbody tr th {\n",
       "        vertical-align: top;\n",
       "    }\n",
       "\n",
       "    .dataframe thead th {\n",
       "        text-align: right;\n",
       "    }\n",
       "</style>\n",
       "<table border=\"1\" class=\"dataframe\">\n",
       "  <thead>\n",
       "    <tr style=\"text-align: right;\">\n",
       "      <th></th>\n",
       "      <th>id</th>\n",
       "      <th>is_neural_normalized</th>\n",
       "      <th>mention</th>\n",
       "      <th>obj</th>\n",
       "      <th>prob</th>\n",
       "      <th>span</th>\n",
       "    </tr>\n",
       "  </thead>\n",
       "  <tbody>\n",
       "    <tr>\n",
       "      <th>0</th>\n",
       "      <td>[mesh:D009369]</td>\n",
       "      <td>False</td>\n",
       "      <td>tumour</td>\n",
       "      <td>disease</td>\n",
       "      <td>0.999994</td>\n",
       "      <td>{'begin': 23, 'end': 29}</td>\n",
       "    </tr>\n",
       "    <tr>\n",
       "      <th>1</th>\n",
       "      <td>[mesh:D001120]</td>\n",
       "      <td>False</td>\n",
       "      <td>arginine</td>\n",
       "      <td>drug</td>\n",
       "      <td>0.997954</td>\n",
       "      <td>{'begin': 57, 'end': 65}</td>\n",
       "    </tr>\n",
       "    <tr>\n",
       "      <th>2</th>\n",
       "      <td>[mesh:D009369]</td>\n",
       "      <td>False</td>\n",
       "      <td>tumour</td>\n",
       "      <td>disease</td>\n",
       "      <td>0.999992</td>\n",
       "      <td>{'begin': 89, 'end': 95}</td>\n",
       "    </tr>\n",
       "    <tr>\n",
       "      <th>3</th>\n",
       "      <td>[mesh:D001120]</td>\n",
       "      <td>False</td>\n",
       "      <td>arginine</td>\n",
       "      <td>drug</td>\n",
       "      <td>0.998715</td>\n",
       "      <td>{'begin': 123, 'end': 131}</td>\n",
       "    </tr>\n",
       "  </tbody>\n",
       "</table>\n",
       "</div>"
      ],
      "text/plain": [
       "               id  is_neural_normalized   mention      obj      prob  \\\n",
       "0  [mesh:D009369]                 False    tumour  disease  0.999994   \n",
       "1  [mesh:D001120]                 False  arginine     drug  0.997954   \n",
       "2  [mesh:D009369]                 False    tumour  disease  0.999992   \n",
       "3  [mesh:D001120]                 False  arginine     drug  0.998715   \n",
       "\n",
       "                         span  \n",
       "0    {'begin': 23, 'end': 29}  \n",
       "1    {'begin': 57, 'end': 65}  \n",
       "2    {'begin': 89, 'end': 95}  \n",
       "3  {'begin': 123, 'end': 131}  "
      ]
     },
     "execution_count": 67,
     "metadata": {},
     "output_type": "execute_result"
    }
   ],
   "source": [
    "df"
   ]
  },
  {
   "cell_type": "code",
   "execution_count": 66,
   "metadata": {},
   "outputs": [
    {
     "ename": "AttributeError",
     "evalue": "'DataFrame' object has no attribute 'annotations'",
     "output_type": "error",
     "traceback": [
      "\u001b[0;31m---------------------------------------------------------------------------\u001b[0m",
      "\u001b[0;31mAttributeError\u001b[0m                            Traceback (most recent call last)",
      "\u001b[0;32m/tmp/ipykernel_66/2499584527.py\u001b[0m in \u001b[0;36m<module>\u001b[0;34m\u001b[0m\n\u001b[0;32m----> 1\u001b[0;31m \u001b[0mx\u001b[0m \u001b[0;34m=\u001b[0m \u001b[0mdf\u001b[0m\u001b[0;34m.\u001b[0m\u001b[0mannotations\u001b[0m\u001b[0;34m\u001b[0m\u001b[0;34m\u001b[0m\u001b[0m\n\u001b[0m",
      "\u001b[0;32m/opt/conda/lib/python3.7/site-packages/pandas/core/generic.py\u001b[0m in \u001b[0;36m__getattr__\u001b[0;34m(self, name)\u001b[0m\n\u001b[1;32m   5485\u001b[0m         ):\n\u001b[1;32m   5486\u001b[0m             \u001b[0;32mreturn\u001b[0m \u001b[0mself\u001b[0m\u001b[0;34m[\u001b[0m\u001b[0mname\u001b[0m\u001b[0;34m]\u001b[0m\u001b[0;34m\u001b[0m\u001b[0;34m\u001b[0m\u001b[0m\n\u001b[0;32m-> 5487\u001b[0;31m         \u001b[0;32mreturn\u001b[0m \u001b[0mobject\u001b[0m\u001b[0;34m.\u001b[0m\u001b[0m__getattribute__\u001b[0m\u001b[0;34m(\u001b[0m\u001b[0mself\u001b[0m\u001b[0;34m,\u001b[0m \u001b[0mname\u001b[0m\u001b[0;34m)\u001b[0m\u001b[0;34m\u001b[0m\u001b[0;34m\u001b[0m\u001b[0m\n\u001b[0m\u001b[1;32m   5488\u001b[0m \u001b[0;34m\u001b[0m\u001b[0m\n\u001b[1;32m   5489\u001b[0m     \u001b[0;32mdef\u001b[0m \u001b[0m__setattr__\u001b[0m\u001b[0;34m(\u001b[0m\u001b[0mself\u001b[0m\u001b[0;34m,\u001b[0m \u001b[0mname\u001b[0m\u001b[0;34m:\u001b[0m \u001b[0mstr\u001b[0m\u001b[0;34m,\u001b[0m \u001b[0mvalue\u001b[0m\u001b[0;34m)\u001b[0m \u001b[0;34m->\u001b[0m \u001b[0;32mNone\u001b[0m\u001b[0;34m:\u001b[0m\u001b[0;34m\u001b[0m\u001b[0;34m\u001b[0m\u001b[0m\n",
      "\u001b[0;31mAttributeError\u001b[0m: 'DataFrame' object has no attribute 'annotations'"
     ]
    }
   ],
   "source": [
    "x = df.annotations"
   ]
  },
  {
   "cell_type": "code",
   "execution_count": 63,
   "metadata": {},
   "outputs": [
    {
     "data": {
      "text/plain": [
       "0    {'id': ['mesh:D009369'], 'is_neural_normalized...\n",
       "1    {'id': ['mesh:D001120'], 'is_neural_normalized...\n",
       "2    {'id': ['mesh:D009369'], 'is_neural_normalized...\n",
       "3    {'id': ['mesh:D001120'], 'is_neural_normalized...\n",
       "Name: annotations, dtype: object"
      ]
     },
     "execution_count": 63,
     "metadata": {},
     "output_type": "execute_result"
    }
   ],
   "source": [
    "x"
   ]
  },
  {
   "cell_type": "code",
   "execution_count": 60,
   "metadata": {},
   "outputs": [
    {
     "data": {
      "text/plain": [
       "'arginine'"
      ]
     },
     "execution_count": 60,
     "metadata": {},
     "output_type": "execute_result"
    }
   ],
   "source": [
    "x['mention']"
   ]
  },
  {
   "cell_type": "code",
   "execution_count": 61,
   "metadata": {},
   "outputs": [
    {
     "data": {
      "text/plain": [
       "'drug'"
      ]
     },
     "execution_count": 61,
     "metadata": {},
     "output_type": "execute_result"
    }
   ],
   "source": [
    "x['obj']"
   ]
  },
  {
   "cell_type": "code",
   "execution_count": null,
   "metadata": {},
   "outputs": [],
   "source": []
  }
 ],
 "metadata": {
  "accelerator": "GPU",
  "colab": {
   "name": "biobertApi.ipynb",
   "provenance": []
  },
  "kernelspec": {
   "display_name": "Python 3 (ipykernel)",
   "language": "python",
   "name": "python3"
  },
  "language_info": {
   "codemirror_mode": {
    "name": "ipython",
    "version": 3
   },
   "file_extension": ".py",
   "mimetype": "text/x-python",
   "name": "python",
   "nbconvert_exporter": "python",
   "pygments_lexer": "ipython3",
   "version": "3.7.11"
  }
 },
 "nbformat": 4,
 "nbformat_minor": 1
}
